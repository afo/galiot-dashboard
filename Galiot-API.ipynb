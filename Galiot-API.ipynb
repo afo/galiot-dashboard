{
 "cells": [
  {
   "cell_type": "code",
   "execution_count": 1,
   "metadata": {},
   "outputs": [],
   "source": [
    "API = 'https://api.helium.io/'"
   ]
  },
  {
   "cell_type": "code",
   "execution_count": 2,
   "metadata": {},
   "outputs": [],
   "source": [
    "import requests"
   ]
  },
  {
   "cell_type": "code",
   "execution_count": 3,
   "metadata": {},
   "outputs": [],
   "source": [
    "r = requests.get('https://api.helium.io/v1/locations/8c08866198e4bff')"
   ]
  },
  {
   "cell_type": "code",
   "execution_count": 4,
   "metadata": {},
   "outputs": [
    {
     "data": {
      "text/plain": [
       "{'data': {'short_street': 'Skeppargatan',\n",
       "  'short_state': 'Stockholms län',\n",
       "  'short_country': 'SE',\n",
       "  'short_city': 'Östermalm',\n",
       "  'long_street': 'Skeppargatan',\n",
       "  'long_state': 'Stockholms län',\n",
       "  'long_country': 'Sweden',\n",
       "  'long_city': 'Östermalm',\n",
       "  'location': '8c08866198e4bff',\n",
       "  'city_id': 'w7ZzdGVybWFsbXN0b2NraG9sbXMgbMOkbnN3ZWRlbg'}}"
      ]
     },
     "execution_count": 4,
     "metadata": {},
     "output_type": "execute_result"
    }
   ],
   "source": [
    "r.json()"
   ]
  },
  {
   "cell_type": "code",
   "execution_count": 5,
   "metadata": {},
   "outputs": [],
   "source": [
    "r = requests.get('https://api.helium.io/v1/stats')"
   ]
  },
  {
   "cell_type": "code",
   "execution_count": 6,
   "metadata": {},
   "outputs": [
    {
     "data": {
      "text/plain": [
       "{'data': {'token_supply': 84287207.33596148,\n",
       "  'state_channel_counts': {'last_week': {'num_packets': 6629451,\n",
       "    'num_dcs': 11205292},\n",
       "   'last_month': {'num_packets': 24152867, 'num_dcs': 53099841},\n",
       "   'last_day': {'num_packets': 659751, 'num_dcs': 810623}},\n",
       "  'fees': {'last_week': {'transaction': 461550000, 'staking': 7323000000},\n",
       "   'last_month': {'transaction': 1959060000, 'staking': 26757000000},\n",
       "   'last_day': {'transaction': 63860000, 'staking': 603000000}},\n",
       "  'election_times': {'last_week': {'stddev': 2744.826041131556,\n",
       "    'avg': 3123.139175257732},\n",
       "   'last_month': {'stddev': 1972.673567579115, 'avg': 2708.5511651469096},\n",
       "   'last_hour': {'stddev': None, 'avg': 3171.0},\n",
       "   'last_day': {'stddev': 1734.903321364842, 'avg': 2996.9655172413795}},\n",
       "  'counts': {'transactions': 54401352,\n",
       "   'hotspots': 28695,\n",
       "   'countries': 68,\n",
       "   'consensus_groups': 21088,\n",
       "   'cities': 3977,\n",
       "   'challenges': 20357842,\n",
       "   'blocks': 819630},\n",
       "  'challenge_counts': {'last_day': 56239, 'active': 0},\n",
       "  'block_times': {'last_week': {'stddev': 52.562838041569115,\n",
       "    'avg': 66.07090571397356},\n",
       "   'last_month': {'stddev': 47.22319661685883, 'avg': 61.95091598815692},\n",
       "   'last_hour': {'stddev': 34.56306171804264, 'avg': 56.596774193548384},\n",
       "   'last_day': {'stddev': 45.937014968374214, 'avg': 69.01598721023181}}}}"
      ]
     },
     "execution_count": 6,
     "metadata": {},
     "output_type": "execute_result"
    }
   ],
   "source": [
    "r.json()"
   ]
  },
  {
   "cell_type": "code",
   "execution_count": 7,
   "metadata": {},
   "outputs": [],
   "source": [
    "r = requests.get('https://api.helium.io/v1/hotspots/name/small-leather-nuthatch')"
   ]
  },
  {
   "cell_type": "code",
   "execution_count": 8,
   "metadata": {},
   "outputs": [
    {
     "data": {
      "text/plain": [
       "{'data': [{'lng': 18.09012557886758,\n",
       "   'lat': 59.34257271627216,\n",
       "   'timestamp_added': '2020-10-02T10:32:05.000000Z',\n",
       "   'status': {'online': 'online',\n",
       "    'listen_addrs': ['/p2p/11erMRX9WunK67MVwGLkDDhTdLC9wEriEvYQffWQ392BSWS8AVy/p2p-circuit/p2p/112ZdtYTRoSQrXm3XthtUqQMP7BfmMzpMncKdUZxGxkPLJYCWrfg'],\n",
       "    'height': 819615},\n",
       "   'reward_scale': 0.625,\n",
       "   'owner': '14Rqw67Er4T4mDitRR5hkvDbefXUhVQGiaVV4yzgSF3sVtu6PfU',\n",
       "   'nonce': 1,\n",
       "   'name': 'small-leather-nuthatch',\n",
       "   'location': '8c08866198e4bff',\n",
       "   'last_poc_challenge': 819621,\n",
       "   'last_change_block': 819621,\n",
       "   'geocode': {'short_street': 'Skeppargatan',\n",
       "    'short_state': 'Stockholms län',\n",
       "    'short_country': 'SE',\n",
       "    'short_city': 'Östermalm',\n",
       "    'long_street': 'Skeppargatan',\n",
       "    'long_state': 'Stockholms län',\n",
       "    'long_country': 'Sweden',\n",
       "    'long_city': 'Östermalm',\n",
       "    'city_id': 'w7ZzdGVybWFsbXN0b2NraG9sbXMgbMOkbnN3ZWRlbg'},\n",
       "   'gain': 12,\n",
       "   'elevation': 0,\n",
       "   'block_added': 526389,\n",
       "   'block': 819634,\n",
       "   'address': '112ZdtYTRoSQrXm3XthtUqQMP7BfmMzpMncKdUZxGxkPLJYCWrfg'}]}"
      ]
     },
     "execution_count": 8,
     "metadata": {},
     "output_type": "execute_result"
    }
   ],
   "source": [
    "r.json()"
   ]
  },
  {
   "cell_type": "code",
   "execution_count": 11,
   "metadata": {},
   "outputs": [],
   "source": [
    "results = []\n",
    "cursor=''"
   ]
  },
  {
   "cell_type": "code",
   "execution_count": 12,
   "metadata": {},
   "outputs": [
    {
     "ename": "KeyError",
     "evalue": "'cursor'",
     "output_type": "error",
     "traceback": [
      "\u001b[0;31m---------------------------------------------------------------------------\u001b[0m",
      "\u001b[0;31mKeyError\u001b[0m                                  Traceback (most recent call last)",
      "\u001b[0;32m<ipython-input-12-e0612379bd4f>\u001b[0m in \u001b[0;36m<module>\u001b[0;34m\u001b[0m\n\u001b[1;32m      1\u001b[0m \u001b[0;32mwhile\u001b[0m \u001b[0mcursor\u001b[0m \u001b[0;32mis\u001b[0m \u001b[0;32mnot\u001b[0m \u001b[0;32mNone\u001b[0m\u001b[0;34m:\u001b[0m\u001b[0;34m\u001b[0m\u001b[0;34m\u001b[0m\u001b[0m\n\u001b[1;32m      2\u001b[0m     \u001b[0mr\u001b[0m \u001b[0;34m=\u001b[0m \u001b[0mrequests\u001b[0m\u001b[0;34m.\u001b[0m\u001b[0mget\u001b[0m\u001b[0;34m(\u001b[0m\u001b[0;34m'https://api.helium.wtf/v1/cities?cursor={}'\u001b[0m\u001b[0;34m.\u001b[0m\u001b[0mformat\u001b[0m\u001b[0;34m(\u001b[0m\u001b[0mcursor\u001b[0m\u001b[0;34m)\u001b[0m\u001b[0;34m)\u001b[0m\u001b[0;34m\u001b[0m\u001b[0;34m\u001b[0m\u001b[0m\n\u001b[0;32m----> 3\u001b[0;31m     \u001b[0mcursor\u001b[0m \u001b[0;34m=\u001b[0m \u001b[0mr\u001b[0m\u001b[0;34m.\u001b[0m\u001b[0mjson\u001b[0m\u001b[0;34m(\u001b[0m\u001b[0;34m)\u001b[0m\u001b[0;34m[\u001b[0m\u001b[0;34m'cursor'\u001b[0m\u001b[0;34m]\u001b[0m\u001b[0;34m\u001b[0m\u001b[0;34m\u001b[0m\u001b[0m\n\u001b[0m\u001b[1;32m      4\u001b[0m     \u001b[0mresults\u001b[0m\u001b[0;34m.\u001b[0m\u001b[0mappend\u001b[0m\u001b[0;34m(\u001b[0m\u001b[0mr\u001b[0m\u001b[0;34m.\u001b[0m\u001b[0mjson\u001b[0m\u001b[0;34m(\u001b[0m\u001b[0;34m)\u001b[0m\u001b[0;34m)\u001b[0m\u001b[0;34m\u001b[0m\u001b[0;34m\u001b[0m\u001b[0m\n",
      "\u001b[0;31mKeyError\u001b[0m: 'cursor'"
     ]
    }
   ],
   "source": [
    "while cursor is not None:\n",
    "    r = requests.get('https://api.helium.wtf/v1/cities?cursor={}'.format(cursor))\n",
    "    cursor = r.json()['cursor']\n",
    "    results.append(r.json())"
   ]
  },
  {
   "cell_type": "code",
   "execution_count": 15,
   "metadata": {},
   "outputs": [
    {
     "data": {
      "text/plain": [
       "43"
      ]
     },
     "execution_count": 15,
     "metadata": {},
     "output_type": "execute_result"
    }
   ],
   "source": [
    "len(results)"
   ]
  },
  {
   "cell_type": "code",
   "execution_count": 16,
   "metadata": {},
   "outputs": [
    {
     "data": {
      "text/plain": [
       "dict_keys(['short_state', 'short_country', 'short_city', 'online_count', 'offline_count', 'long_state', 'long_country', 'long_city', 'hotspot_count', 'city_id'])"
      ]
     },
     "execution_count": 16,
     "metadata": {},
     "output_type": "execute_result"
    }
   ],
   "source": [
    "results[0]['data'][1].keys()"
   ]
  },
  {
   "cell_type": "code",
   "execution_count": 17,
   "metadata": {},
   "outputs": [],
   "source": [
    "import pandas as pd"
   ]
  },
  {
   "cell_type": "code",
   "execution_count": 18,
   "metadata": {},
   "outputs": [],
   "source": [
    "df = pd.DataFrame(columns=results[0]['data'][1].keys())"
   ]
  },
  {
   "cell_type": "code",
   "execution_count": 19,
   "metadata": {},
   "outputs": [
    {
     "data": {
      "text/html": [
       "<div>\n",
       "<style scoped>\n",
       "    .dataframe tbody tr th:only-of-type {\n",
       "        vertical-align: middle;\n",
       "    }\n",
       "\n",
       "    .dataframe tbody tr th {\n",
       "        vertical-align: top;\n",
       "    }\n",
       "\n",
       "    .dataframe thead th {\n",
       "        text-align: right;\n",
       "    }\n",
       "</style>\n",
       "<table border=\"1\" class=\"dataframe\">\n",
       "  <thead>\n",
       "    <tr style=\"text-align: right;\">\n",
       "      <th></th>\n",
       "      <th>short_state</th>\n",
       "      <th>short_country</th>\n",
       "      <th>short_city</th>\n",
       "      <th>online_count</th>\n",
       "      <th>offline_count</th>\n",
       "      <th>long_state</th>\n",
       "      <th>long_country</th>\n",
       "      <th>long_city</th>\n",
       "      <th>hotspot_count</th>\n",
       "      <th>city_id</th>\n",
       "    </tr>\n",
       "  </thead>\n",
       "  <tbody>\n",
       "  </tbody>\n",
       "</table>\n",
       "</div>"
      ],
      "text/plain": [
       "Empty DataFrame\n",
       "Columns: [short_state, short_country, short_city, online_count, offline_count, long_state, long_country, long_city, hotspot_count, city_id]\n",
       "Index: []"
      ]
     },
     "execution_count": 19,
     "metadata": {},
     "output_type": "execute_result"
    }
   ],
   "source": [
    "df"
   ]
  },
  {
   "cell_type": "code",
   "execution_count": 20,
   "metadata": {},
   "outputs": [],
   "source": [
    "d2 = {}"
   ]
  },
  {
   "cell_type": "code",
   "execution_count": 21,
   "metadata": {},
   "outputs": [],
   "source": [
    "i=0"
   ]
  },
  {
   "cell_type": "code",
   "execution_count": 22,
   "metadata": {},
   "outputs": [],
   "source": [
    "\n",
    "for res in results:\n",
    "    for x in res['data']:\n",
    "        i=i+1\n",
    "        d2[i] = x"
   ]
  },
  {
   "cell_type": "code",
   "execution_count": 23,
   "metadata": {},
   "outputs": [],
   "source": [
    "df = pd.DataFrame.from_dict(d2, orient='index')"
   ]
  },
  {
   "cell_type": "code",
   "execution_count": 24,
   "metadata": {},
   "outputs": [],
   "source": [
    "df.to_csv('hotspot_count_city')"
   ]
  },
  {
   "cell_type": "code",
   "execution_count": 25,
   "metadata": {},
   "outputs": [],
   "source": [
    "import pandas as pd\n",
    "df = pd.read_csv('hotspot_count_city')"
   ]
  },
  {
   "cell_type": "code",
   "execution_count": 26,
   "metadata": {},
   "outputs": [
    {
     "data": {
      "text/plain": [
       "190"
      ]
     },
     "execution_count": 26,
     "metadata": {},
     "output_type": "execute_result"
    }
   ],
   "source": [
    "df[df['short_country']=='SE']['hotspot_count'].sum()"
   ]
  },
  {
   "cell_type": "code",
   "execution_count": 27,
   "metadata": {},
   "outputs": [
    {
     "data": {
      "text/plain": [
       "Stockholms län          25\n",
       "Västra Götalands län    23\n",
       "Uppsala län             12\n",
       "Skåne län               11\n",
       "Kalmar län               3\n",
       "Värmlands län            1\n",
       "Östergötlands län        1\n",
       "Gävleborgs län           1\n",
       "Västerbottens län        1\n",
       "Norrbottens län          1\n",
       "Södermanlands län        1\n",
       "Name: long_state, dtype: int64"
      ]
     },
     "execution_count": 27,
     "metadata": {},
     "output_type": "execute_result"
    }
   ],
   "source": [
    "df[df['short_country']=='SE']['long_state'].value_counts()"
   ]
  },
  {
   "cell_type": "code",
   "execution_count": 28,
   "metadata": {},
   "outputs": [],
   "source": [
    "df_swe = df[df['short_country']=='SE']"
   ]
  },
  {
   "cell_type": "code",
   "execution_count": 29,
   "metadata": {},
   "outputs": [
    {
     "data": {
      "text/plain": [
       "ZW5za2VkZS3DpXJzdGEtdmFudMO2cnN0b2NraG9sbXMgbMOkbnN3ZWRlbg     1\n",
       "c8O2ZGVybWFsbXN0b2NraG9sbXMgbMOkbnN3ZWRlbg                     1\n",
       "aMOkZ2Vyc3Rlbi1saWxqZWhvbG1lbnN0b2NraG9sbXMgbMOkbnN3ZWRlbg     1\n",
       "aHV2dWRzdGFzdG9ja2hvbG1zIGzDpG5zd2VkZW4                        1\n",
       "bm9ycmEgbnluw6RzaGFtbnN0b2NraG9sbXMgbMOkbnN3ZWRlbg             1\n",
       "                                                              ..\n",
       "YnLDpG1hcmVnw6VyZGVudsOkc3RyYSBnw7Z0YWxhbmRzIGzDpG5zd2VkZW4    1\n",
       "Z3LDpG5ieXVwcHNhbGEgbMOkbnN3ZWRlbg                             1\n",
       "a3VuZ3PDpG5nZW51cHBzYWxhIGzDpG5zd2VkZW4                        1\n",
       "YmrDtnJraGFnZW5zdG9ja2hvbG1zIGzDpG5zd2VkZW4                    1\n",
       "dXBwbGFuZHMgdsOkc2J5IHbDpHN0cmFzdG9ja2hvbG1zIGzDpG5zd2VkZW4    1\n",
       "Name: city_id, Length: 80, dtype: int64"
      ]
     },
     "execution_count": 29,
     "metadata": {},
     "output_type": "execute_result"
    }
   ],
   "source": [
    "df_swe['city_id'].value_counts()"
   ]
  },
  {
   "cell_type": "code",
   "execution_count": 30,
   "metadata": {},
   "outputs": [
    {
     "data": {
      "text/plain": [
       "[{'lng': 20.299032256700443,\n",
       "  'lat': 63.81342045715797,\n",
       "  'timestamp_added': '2020-10-30T07:29:20.000000Z',\n",
       "  'status': {'online': 'online',\n",
       "   'listen_addrs': ['/ip4/87.96.151.71/tcp/56801'],\n",
       "   'height': 819614},\n",
       "  'reward_scale': 1.0,\n",
       "  'owner': '132F1Ad16kiwoBQ77kw3yMCUdnyTBi3xxgEyC1nXxNsbpRxuZ1K',\n",
       "  'nonce': 2,\n",
       "  'name': 'mysterious-iron-crab',\n",
       "  'location': '8c08f62cec451ff',\n",
       "  'last_poc_challenge': 819434,\n",
       "  'last_change_block': 819484,\n",
       "  'geocode': {'short_street': 'Gluntens väg',\n",
       "   'short_state': 'Västerbottens län',\n",
       "   'short_country': 'SE',\n",
       "   'short_city': 'Ålidhem',\n",
       "   'long_street': 'Gluntens väg',\n",
       "   'long_state': 'Västerbottens län',\n",
       "   'long_country': 'Sweden',\n",
       "   'long_city': 'Ålidhem',\n",
       "   'city_id': 'w6VsaWRoZW12w6RzdGVyYm90dGVucyBsw6Ruc3dlZGVu'},\n",
       "  'gain': 12,\n",
       "  'elevation': 0,\n",
       "  'block_added': 565975,\n",
       "  'block': 819636,\n",
       "  'address': '11B3w7ixQEEPdyhuJDLtceEXg4qUzcJCLv5PVzBSQJUkn3Y7hjH'},\n",
       " {'lng': 20.293265545068234,\n",
       "  'lat': 63.81450108785943,\n",
       "  'timestamp_added': '2020-10-29T17:21:22.000000Z',\n",
       "  'status': {'online': 'online',\n",
       "   'listen_addrs': ['/p2p/112sqRJxsiieQ4paGtidaGoNtEyZHSxK9vUQprzMZFQcobipUTuA/p2p-circuit/p2p/11phhLEBkrehUWTzJ2F9SNVxTaGLvg9fpwKwAsSs6wBEhZrMjZb'],\n",
       "   'height': 819614},\n",
       "  'reward_scale': 1.0,\n",
       "  'owner': '132rjofoPRZ86KxfvhasuDjNFcej7Lm1oGq8x4oRviJUCkwAuzA',\n",
       "  'nonce': 1,\n",
       "  'name': 'wild-paisley-corgi',\n",
       "  'location': '8c08f62ce99bdff',\n",
       "  'last_poc_challenge': 819423,\n",
       "  'last_change_block': 819476,\n",
       "  'geocode': {'short_street': 'Hoppets gränd',\n",
       "   'short_state': 'Västerbottens län',\n",
       "   'short_country': 'SE',\n",
       "   'short_city': 'Ålidhem',\n",
       "   'long_street': 'Hoppets gränd',\n",
       "   'long_state': 'Västerbottens län',\n",
       "   'long_country': 'Sweden',\n",
       "   'long_city': 'Ålidhem',\n",
       "   'city_id': 'w6VsaWRoZW12w6RzdGVyYm90dGVucyBsw6Ruc3dlZGVu'},\n",
       "  'gain': 12,\n",
       "  'elevation': 0,\n",
       "  'block_added': 565055,\n",
       "  'block': 819636,\n",
       "  'address': '11phhLEBkrehUWTzJ2F9SNVxTaGLvg9fpwKwAsSs6wBEhZrMjZb'},\n",
       " {'lng': 20.30675469136163,\n",
       "  'lat': 63.81193130052542,\n",
       "  'timestamp_added': '2020-10-02T10:54:34.000000Z',\n",
       "  'status': {'online': 'online',\n",
       "   'listen_addrs': ['/ip4/94.255.148.132/tcp/44158'],\n",
       "   'height': 819613},\n",
       "  'reward_scale': 1.0,\n",
       "  'owner': '132rjofoPRZ86KxfvhasuDjNFcej7Lm1oGq8x4oRviJUCkwAuzA',\n",
       "  'nonce': 4,\n",
       "  'name': 'refined-smoke-bobcat',\n",
       "  'location': '8c08f62ce5615ff',\n",
       "  'last_poc_challenge': 819342,\n",
       "  'last_change_block': 819392,\n",
       "  'geocode': {'short_street': 'Fysikgränd',\n",
       "   'short_state': 'Västerbottens län',\n",
       "   'short_country': 'SE',\n",
       "   'short_city': 'Ålidhem',\n",
       "   'long_street': 'Fysikgränd',\n",
       "   'long_state': 'Västerbottens län',\n",
       "   'long_country': 'Sweden',\n",
       "   'long_city': 'Ålidhem',\n",
       "   'city_id': 'w6VsaWRoZW12w6RzdGVyYm90dGVucyBsw6Ruc3dlZGVu'},\n",
       "  'gain': 12,\n",
       "  'elevation': 0,\n",
       "  'block_added': 526413,\n",
       "  'block': 819636,\n",
       "  'address': '112G7JgWSG4Ch8tsCBrUtfc8vmPY1UWmAig3ahrHEE1FBGSAV2bE'}]"
      ]
     },
     "execution_count": 30,
     "metadata": {},
     "output_type": "execute_result"
    }
   ],
   "source": [
    "r = requests.get('https://api.helium.io/v1/cities/{}/hotspots'.format(df_swe['city_id'].iloc[0]))\n",
    "r.json()['data']"
   ]
  },
  {
   "cell_type": "code",
   "execution_count": 31,
   "metadata": {},
   "outputs": [],
   "source": [
    "for c in pd.unique(df_swe['city_id']):\n",
    "    r = requests.get('https://api.helium.io/v1/cities/{}/hotspots'.format(c))\n",
    "    r.json()['data']"
   ]
  },
  {
   "cell_type": "code",
   "execution_count": null,
   "metadata": {},
   "outputs": [],
   "source": []
  },
  {
   "cell_type": "code",
   "execution_count": null,
   "metadata": {},
   "outputs": [],
   "source": []
  },
  {
   "cell_type": "code",
   "execution_count": null,
   "metadata": {},
   "outputs": [],
   "source": []
  },
  {
   "cell_type": "code",
   "execution_count": 32,
   "metadata": {},
   "outputs": [],
   "source": [
    "r = requests.get('https://api.helium.io/v1/accounts/rich')\n",
    "g=0\n",
    "b=0\n",
    "for idx,i in enumerate(r.json()['data']):\n",
    "    if i['address'] == '14Rqw67Er4T4mDitRR5hkvDbefXUhVQGiaVV4yzgSF3sVtu6PfU':\n",
    "        g=idx\n",
    "        b=i['balance']"
   ]
  },
  {
   "cell_type": "code",
   "execution_count": 33,
   "metadata": {},
   "outputs": [
    {
     "data": {
      "text/plain": [
       "0"
      ]
     },
     "execution_count": 33,
     "metadata": {},
     "output_type": "execute_result"
    }
   ],
   "source": [
    "g"
   ]
  },
  {
   "cell_type": "code",
   "execution_count": 34,
   "metadata": {},
   "outputs": [
    {
     "data": {
      "text/plain": [
       "0"
      ]
     },
     "execution_count": 34,
     "metadata": {},
     "output_type": "execute_result"
    }
   ],
   "source": [
    "b"
   ]
  },
  {
   "cell_type": "code",
   "execution_count": 35,
   "metadata": {},
   "outputs": [
    {
     "data": {
      "text/plain": [
       "{'data': {'speculative_sec_nonce': 0,\n",
       "  'speculative_nonce': 42,\n",
       "  'sec_nonce': 0,\n",
       "  'sec_balance': 0,\n",
       "  'nonce': 42,\n",
       "  'dc_nonce': 0,\n",
       "  'dc_balance': 0,\n",
       "  'block': 819636,\n",
       "  'balance': 1216914540479,\n",
       "  'address': '14Rqw67Er4T4mDitRR5hkvDbefXUhVQGiaVV4yzgSF3sVtu6PfU'}}"
      ]
     },
     "execution_count": 35,
     "metadata": {},
     "output_type": "execute_result"
    }
   ],
   "source": [
    "r = requests.get('https://api.helium.io/v1/accounts/14Rqw67Er4T4mDitRR5hkvDbefXUhVQGiaVV4yzgSF3sVtu6PfU')\n",
    "r.json()"
   ]
  },
  {
   "cell_type": "code",
   "execution_count": 36,
   "metadata": {},
   "outputs": [],
   "source": [
    "def req(string):\n",
    "    r = requests.get(string)\n",
    "    return r.json()\n",
    "\n",
    "res = req('https://api.helium.io/v1/accounts/14Rqw67Er4T4mDitRR5hkvDbefXUhVQGiaVV4yzgSF3sVtu6PfU/hotspots')"
   ]
  },
  {
   "cell_type": "code",
   "execution_count": 37,
   "metadata": {},
   "outputs": [
    {
     "data": {
      "text/plain": [
       "73"
      ]
     },
     "execution_count": 37,
     "metadata": {},
     "output_type": "execute_result"
    }
   ],
   "source": [
    "len(res['data'])"
   ]
  },
  {
   "cell_type": "code",
   "execution_count": 38,
   "metadata": {},
   "outputs": [
    {
     "data": {
      "text/plain": [
       "'muscular-juniper-mongoose'"
      ]
     },
     "execution_count": 38,
     "metadata": {},
     "output_type": "execute_result"
    }
   ],
   "source": [
    "res['data'][0]['name']"
   ]
  },
  {
   "cell_type": "code",
   "execution_count": null,
   "metadata": {},
   "outputs": [],
   "source": []
  },
  {
   "cell_type": "code",
   "execution_count": 39,
   "metadata": {},
   "outputs": [],
   "source": [
    "relay = [res['data'][x]['status']['listen_addrs'] for x in range(len(res['data']))]"
   ]
  },
  {
   "cell_type": "code",
   "execution_count": 40,
   "metadata": {},
   "outputs": [],
   "source": [
    "l = []\n",
    "for r in res['data']:\n",
    "    if r['status']['listen_addrs']:\n",
    "        if 'p2p' in r['status']['listen_addrs'][0]:\n",
    "            l.append(r['name'])"
   ]
  },
  {
   "cell_type": "code",
   "execution_count": 41,
   "metadata": {},
   "outputs": [],
   "source": [
    "pd.DataFrame(l).to_csv('relayed.csv')"
   ]
  },
  {
   "cell_type": "code",
   "execution_count": 42,
   "metadata": {},
   "outputs": [
    {
     "data": {
      "text/plain": [
       "['muscular-juniper-mongoose',\n",
       " 'gentle-concrete-swallow',\n",
       " 'flat-taffy-squid',\n",
       " 'prehistoric-hazelnut-sheep',\n",
       " 'beautiful-berry-puma',\n",
       " 'shambolic-silver-capybara',\n",
       " 'micro-carob-narwhal',\n",
       " 'little-paisley-badger',\n",
       " 'hot-malachite-hawk',\n",
       " 'quick-zinc-seagull',\n",
       " 'expert-ultraviolet-huskie',\n",
       " 'round-lavender-millipede',\n",
       " 'sharp-leather-llama',\n",
       " 'silly-denim-barbel',\n",
       " 'dandy-maroon-moose',\n",
       " 'small-leather-nuthatch',\n",
       " 'plain-fuchsia-alligator',\n",
       " 'short-mulberry-mallard',\n",
       " 'itchy-merlot-porcupine']"
      ]
     },
     "execution_count": 42,
     "metadata": {},
     "output_type": "execute_result"
    }
   ],
   "source": [
    "l"
   ]
  },
  {
   "cell_type": "code",
   "execution_count": 43,
   "metadata": {},
   "outputs": [
    {
     "data": {
      "text/plain": [
       "['/p2p/112vnvaphpWiGe7cgqVB2PDC7fgfiS5vdQG2AmMZF9pBPxNbrNYg/p2p-circuit/p2p/112uMtzhUEfEV3z1SjuTSKLY1PXJY2tHhorFEPR2SeW9aCJgR2dM']"
      ]
     },
     "execution_count": 43,
     "metadata": {},
     "output_type": "execute_result"
    }
   ],
   "source": [
    "relay[2]"
   ]
  },
  {
   "cell_type": "code",
   "execution_count": 44,
   "metadata": {},
   "outputs": [],
   "source": [
    "i=0\n",
    "for r in relay:\n",
    "    if r:\n",
    "        if 'p2p' in r[0]:\n",
    "            i=i+1"
   ]
  },
  {
   "cell_type": "code",
   "execution_count": 45,
   "metadata": {},
   "outputs": [
    {
     "data": {
      "text/plain": [
       "19"
      ]
     },
     "execution_count": 45,
     "metadata": {},
     "output_type": "execute_result"
    }
   ],
   "source": [
    "i"
   ]
  },
  {
   "cell_type": "code",
   "execution_count": null,
   "metadata": {},
   "outputs": [],
   "source": []
  },
  {
   "cell_type": "code",
   "execution_count": 46,
   "metadata": {},
   "outputs": [
    {
     "data": {
      "text/plain": [
       "{'meta': {'min_time': '2020-05-16T19:05:01Z',\n",
       "  'max_time': '2021-03-16T19:05:01Z'},\n",
       " 'data': {'total': 86410.17565551,\n",
       "  'sum': 8641017565551,\n",
       "  'stddev': 1619.82019474,\n",
       "  'min': 0.07143702,\n",
       "  'median': 590.145778,\n",
       "  'max': 8004.94122185,\n",
       "  'avg': 1183.7010363768493}}"
      ]
     },
     "execution_count": 46,
     "metadata": {},
     "output_type": "execute_result"
    }
   ],
   "source": [
    "req('https://api.helium.io/v1/accounts/14Rqw67Er4T4mDitRR5hkvDbefXUhVQGiaVV4yzgSF3sVtu6PfU/rewards/sum?min_time=2020-05-16T19:05:01Z&max_time=2021-03-16T19:05:01Z')"
   ]
  },
  {
   "cell_type": "code",
   "execution_count": 47,
   "metadata": {},
   "outputs": [],
   "source": [
    "cursor = ''\n",
    "results = []\n",
    "while cursor is not None:\n",
    "    r = req('https://api.helium.io/v1/hotspots?cursor={}'.format(cursor))\n",
    "    results.append(r['data'])\n",
    "    try:\n",
    "        cursor = r['cursor']\n",
    "    except:\n",
    "        break\n"
   ]
  },
  {
   "cell_type": "code",
   "execution_count": 48,
   "metadata": {},
   "outputs": [],
   "source": [
    "results.append(r['data'])"
   ]
  },
  {
   "cell_type": "code",
   "execution_count": 49,
   "metadata": {},
   "outputs": [],
   "source": [
    "d3 = {}\n",
    "res = []\n",
    "for r in results:\n",
    "    res = res + r"
   ]
  },
  {
   "cell_type": "code",
   "execution_count": 50,
   "metadata": {},
   "outputs": [
    {
     "data": {
      "text/plain": [
       "29392"
      ]
     },
     "execution_count": 50,
     "metadata": {},
     "output_type": "execute_result"
    }
   ],
   "source": [
    "len(res)"
   ]
  },
  {
   "cell_type": "code",
   "execution_count": 51,
   "metadata": {},
   "outputs": [],
   "source": [
    "for idx,r in enumerate(res):\n",
    "    d3[idx] = r"
   ]
  },
  {
   "cell_type": "code",
   "execution_count": 52,
   "metadata": {},
   "outputs": [],
   "source": [
    "df3 = pd.DataFrame.from_dict(d3, orient='index')"
   ]
  },
  {
   "cell_type": "code",
   "execution_count": 53,
   "metadata": {},
   "outputs": [],
   "source": [
    "df3_geo = df3['geocode'].apply(pd.Series)"
   ]
  },
  {
   "cell_type": "code",
   "execution_count": 54,
   "metadata": {},
   "outputs": [],
   "source": [
    "df3_status = df3['status'].apply(pd.Series)"
   ]
  },
  {
   "cell_type": "code",
   "execution_count": 55,
   "metadata": {},
   "outputs": [],
   "source": [
    "df4 = df3.join(df3_geo).join(df3_status)"
   ]
  },
  {
   "cell_type": "code",
   "execution_count": 56,
   "metadata": {},
   "outputs": [
    {
     "data": {
      "text/plain": [
       "(29392, 29)"
      ]
     },
     "execution_count": 56,
     "metadata": {},
     "output_type": "execute_result"
    }
   ],
   "source": [
    "df4.shape"
   ]
  },
  {
   "cell_type": "code",
   "execution_count": 57,
   "metadata": {},
   "outputs": [],
   "source": [
    "df4 = df4.drop(['status','geocode'],axis=1)"
   ]
  },
  {
   "cell_type": "code",
   "execution_count": 58,
   "metadata": {},
   "outputs": [
    {
     "data": {
      "text/plain": [
       "Index(['timestamp_added', 'reward_scale', 'owner', 'nonce', 'name', 'location',\n",
       "       'last_poc_challenge', 'last_change_block', 'gain', 'elevation',\n",
       "       'block_added', 'block', 'address', 'lng', 'lat', 'short_street',\n",
       "       'short_state', 'short_country', 'short_city', 'long_street',\n",
       "       'long_state', 'long_country', 'long_city', 'city_id', 'online',\n",
       "       'listen_addrs', 'height'],\n",
       "      dtype='object')"
      ]
     },
     "execution_count": 58,
     "metadata": {},
     "output_type": "execute_result"
    }
   ],
   "source": [
    "df4.columns"
   ]
  },
  {
   "cell_type": "code",
   "execution_count": 59,
   "metadata": {},
   "outputs": [],
   "source": [
    "df4.to_csv('all_hotspots_april26-2021.csv')"
   ]
  },
  {
   "cell_type": "code",
   "execution_count": 60,
   "metadata": {},
   "outputs": [],
   "source": [
    "df4_swe = df4[df4['short_country']=='SE']"
   ]
  },
  {
   "cell_type": "code",
   "execution_count": 61,
   "metadata": {},
   "outputs": [],
   "source": [
    "import matplotlib.pyplot as plt\n",
    "\n",
    "%matplotlib inline"
   ]
  },
  {
   "cell_type": "code",
   "execution_count": 62,
   "metadata": {},
   "outputs": [
    {
     "data": {
      "text/plain": [
       "190"
      ]
     },
     "execution_count": 62,
     "metadata": {},
     "output_type": "execute_result"
    }
   ],
   "source": [
    "len(df4_swe)"
   ]
  },
  {
   "cell_type": "code",
   "execution_count": 81,
   "metadata": {},
   "outputs": [
    {
     "data": {
      "text/plain": [
       "189    2020-08-31T12:22:36.000000Z\n",
       "188    2020-09-22T19:44:07.000000Z\n",
       "180    2020-10-01T17:27:33.000000Z\n",
       "179    2020-10-01T18:05:55.000000Z\n",
       "178    2020-10-01T18:33:42.000000Z\n",
       "                  ...             \n",
       "65     2021-02-02T16:36:16.000000Z\n",
       "61     2021-02-03T08:07:22.000000Z\n",
       "60     2021-02-03T08:31:10.000000Z\n",
       "54     2021-02-04T22:55:02.000000Z\n",
       "41     2021-03-02T19:11:35.000000Z\n",
       "Name: timestamp_added, Length: 73, dtype: object"
      ]
     },
     "execution_count": 81,
     "metadata": {},
     "output_type": "execute_result"
    }
   ],
   "source": [
    "df4_swe[df4_swe['owner']=='14Rqw67Er4T4mDitRR5hkvDbefXUhVQGiaVV4yzgSF3sVtu6PfU']['timestamp_added'][::-1]"
   ]
  },
  {
   "cell_type": "code",
   "execution_count": 84,
   "metadata": {},
   "outputs": [
    {
     "data": {
      "text/plain": [
       "(189    2020-08-31T12:22:36.000000Z\n",
       " 188    2020-09-22T19:44:07.000000Z\n",
       " 187    2020-09-25T11:16:32.000000Z\n",
       " 186    2020-09-28T16:09:41.000000Z\n",
       " 185    2020-09-28T18:02:13.000000Z\n",
       "                   ...             \n",
       " 4      2021-04-16T17:13:13.000000Z\n",
       " 3      2021-04-21T17:13:42.000000Z\n",
       " 2      2021-04-21T18:48:02.000000Z\n",
       " 1      2021-04-22T16:34:03.000000Z\n",
       " 0      2021-04-23T19:01:52.000000Z\n",
       " Name: timestamp_added, Length: 190, dtype: object, 190)"
      ]
     },
     "execution_count": 84,
     "metadata": {},
     "output_type": "execute_result"
    }
   ],
   "source": []
  },
  {
   "cell_type": "code",
   "execution_count": 107,
   "metadata": {},
   "outputs": [],
   "source": [
    "dates_full = pd.to_datetime(df4_swe['timestamp_added'])[::-1]"
   ]
  },
  {
   "cell_type": "code",
   "execution_count": 108,
   "metadata": {},
   "outputs": [],
   "source": [
    "dates_galiot = pd.to_datetime(df4_swe[df4_swe['owner']=='14Rqw67Er4T4mDitRR5hkvDbefXUhVQGiaVV4yzgSF3sVtu6PfU']['timestamp_added'])[::-1]"
   ]
  },
  {
   "cell_type": "code",
   "execution_count": 115,
   "metadata": {},
   "outputs": [],
   "source": [
    "dates_galiot[0] = dates_full[0]"
   ]
  },
  {
   "cell_type": "code",
   "execution_count": 117,
   "metadata": {},
   "outputs": [],
   "source": [
    "values_galiot = list(range(1,len(df4_swe[df4_swe['owner']=='14Rqw67Er4T4mDitRR5hkvDbefXUhVQGiaVV4yzgSF3sVtu6PfU'])+1))"
   ]
  },
  {
   "cell_type": "code",
   "execution_count": 119,
   "metadata": {},
   "outputs": [],
   "source": [
    "values_galiot.append(values_galiot[-1])"
   ]
  },
  {
   "cell_type": "code",
   "execution_count": 120,
   "metadata": {},
   "outputs": [
    {
     "data": {
      "text/plain": [
       "[1,\n",
       " 2,\n",
       " 3,\n",
       " 4,\n",
       " 5,\n",
       " 6,\n",
       " 7,\n",
       " 8,\n",
       " 9,\n",
       " 10,\n",
       " 11,\n",
       " 12,\n",
       " 13,\n",
       " 14,\n",
       " 15,\n",
       " 16,\n",
       " 17,\n",
       " 18,\n",
       " 19,\n",
       " 20,\n",
       " 21,\n",
       " 22,\n",
       " 23,\n",
       " 24,\n",
       " 25,\n",
       " 26,\n",
       " 27,\n",
       " 28,\n",
       " 29,\n",
       " 30,\n",
       " 31,\n",
       " 32,\n",
       " 33,\n",
       " 34,\n",
       " 35,\n",
       " 36,\n",
       " 37,\n",
       " 38,\n",
       " 39,\n",
       " 40,\n",
       " 41,\n",
       " 42,\n",
       " 43,\n",
       " 44,\n",
       " 45,\n",
       " 46,\n",
       " 47,\n",
       " 48,\n",
       " 49,\n",
       " 50,\n",
       " 51,\n",
       " 52,\n",
       " 53,\n",
       " 54,\n",
       " 55,\n",
       " 56,\n",
       " 57,\n",
       " 58,\n",
       " 59,\n",
       " 60,\n",
       " 61,\n",
       " 62,\n",
       " 63,\n",
       " 64,\n",
       " 65,\n",
       " 66,\n",
       " 67,\n",
       " 68,\n",
       " 69,\n",
       " 70,\n",
       " 71,\n",
       " 72,\n",
       " 73,\n",
       " 73]"
      ]
     },
     "execution_count": 120,
     "metadata": {},
     "output_type": "execute_result"
    }
   ],
   "source": [
    "values_galiot"
   ]
  },
  {
   "cell_type": "code",
   "execution_count": 121,
   "metadata": {},
   "outputs": [
    {
     "data": {
      "text/plain": [
       "[<matplotlib.lines.Line2D at 0x1213c8750>]"
      ]
     },
     "execution_count": 121,
     "metadata": {},
     "output_type": "execute_result"
    },
    {
     "data": {
      "image/png": "[encoded data removed]",
      "text/plain": [
       "<Figure size 432x288 with 1 Axes>"
      ]
     },
     "metadata": {
      "needs_background": "light"
     },
     "output_type": "display_data"
    }
   ],
   "source": [
    "plt.plot(pd.to_datetime(df4_swe['timestamp_added'])[::-1],list(range(1,len(df4_swe)+1)))\n",
    "plt.plot(dates_galiot,values_galiot)"
   ]
  },
  {
   "cell_type": "code",
   "execution_count": 122,
   "metadata": {},
   "outputs": [
    {
     "data": {
      "text/plain": [
       "str"
      ]
     },
     "execution_count": 122,
     "metadata": {},
     "output_type": "execute_result"
    }
   ],
   "source": [
    "type(df4_swe['timestamp_added'].iloc[0])"
   ]
  },
  {
   "cell_type": "code",
   "execution_count": null,
   "metadata": {},
   "outputs": [],
   "source": []
  },
  {
   "cell_type": "code",
   "execution_count": 123,
   "metadata": {},
   "outputs": [
    {
     "data": {
      "text/plain": [
       "0      2021-04-23T19:01:52.000000Z\n",
       "1      2021-04-22T16:34:03.000000Z\n",
       "2      2021-04-21T18:48:02.000000Z\n",
       "3      2021-04-21T17:13:42.000000Z\n",
       "4      2021-04-16T17:13:13.000000Z\n",
       "                  ...             \n",
       "185    2020-09-28T18:02:13.000000Z\n",
       "186    2020-09-28T16:09:41.000000Z\n",
       "187    2020-09-25T11:16:32.000000Z\n",
       "188    2020-09-22T19:44:07.000000Z\n",
       "189    2020-08-31T12:22:36.000000Z\n",
       "Name: timestamp_added, Length: 190, dtype: object"
      ]
     },
     "execution_count": 123,
     "metadata": {},
     "output_type": "execute_result"
    }
   ],
   "source": [
    "df4_swe['timestamp_added']"
   ]
  },
  {
   "cell_type": "code",
   "execution_count": 124,
   "metadata": {},
   "outputs": [
    {
     "data": {
      "text/html": [
       "<div>\n",
       "<style scoped>\n",
       "    .dataframe tbody tr th:only-of-type {\n",
       "        vertical-align: middle;\n",
       "    }\n",
       "\n",
       "    .dataframe tbody tr th {\n",
       "        vertical-align: top;\n",
       "    }\n",
       "\n",
       "    .dataframe thead th {\n",
       "        text-align: right;\n",
       "    }\n",
       "</style>\n",
       "<table border=\"1\" class=\"dataframe\">\n",
       "  <thead>\n",
       "    <tr style=\"text-align: right;\">\n",
       "      <th></th>\n",
       "      <th>Unnamed: 0</th>\n",
       "      <th>timestamp_added</th>\n",
       "      <th>reward_scale</th>\n",
       "      <th>owner</th>\n",
       "      <th>nonce</th>\n",
       "      <th>name</th>\n",
       "      <th>location</th>\n",
       "      <th>last_poc_challenge</th>\n",
       "      <th>last_change_block</th>\n",
       "      <th>gain</th>\n",
       "      <th>...</th>\n",
       "      <th>short_country</th>\n",
       "      <th>short_city</th>\n",
       "      <th>long_street</th>\n",
       "      <th>long_state</th>\n",
       "      <th>long_country</th>\n",
       "      <th>long_city</th>\n",
       "      <th>city_id</th>\n",
       "      <th>online</th>\n",
       "      <th>listen_addrs</th>\n",
       "      <th>height</th>\n",
       "    </tr>\n",
       "  </thead>\n",
       "  <tbody>\n",
       "    <tr>\n",
       "      <th>41</th>\n",
       "      <td>9609</td>\n",
       "      <td>2021-03-02T19:11:35.000000Z</td>\n",
       "      <td>1.000000</td>\n",
       "      <td>14Rqw67Er4T4mDitRR5hkvDbefXUhVQGiaVV4yzgSF3sVt...</td>\n",
       "      <td>2</td>\n",
       "      <td>muscular-juniper-mongoose</td>\n",
       "      <td>8c0886602a08dff</td>\n",
       "      <td>819593.0</td>\n",
       "      <td>819636</td>\n",
       "      <td>12.0</td>\n",
       "      <td>...</td>\n",
       "      <td>SE</td>\n",
       "      <td>Kungsholmen</td>\n",
       "      <td>Orvar Odds väg</td>\n",
       "      <td>Stockholms län</td>\n",
       "      <td>Sweden</td>\n",
       "      <td>Kungsholmen</td>\n",
       "      <td>a3VuZ3Nob2xtZW5zdG9ja2hvbG1zIGzDpG5zd2VkZW4</td>\n",
       "      <td>online</td>\n",
       "      <td>['/p2p/11oNmxJFUmpA2ir3KUadbUWjCNU4UEuQD8fN5Wb...</td>\n",
       "      <td>819594.0</td>\n",
       "    </tr>\n",
       "    <tr>\n",
       "      <th>54</th>\n",
       "      <td>10921</td>\n",
       "      <td>2021-02-04T22:55:02.000000Z</td>\n",
       "      <td>1.000000</td>\n",
       "      <td>14Rqw67Er4T4mDitRR5hkvDbefXUhVQGiaVV4yzgSF3sVt...</td>\n",
       "      <td>1</td>\n",
       "      <td>basic-goldenrod-donkey</td>\n",
       "      <td>8c08862b1416dff</td>\n",
       "      <td>819594.0</td>\n",
       "      <td>819619</td>\n",
       "      <td>12.0</td>\n",
       "      <td>...</td>\n",
       "      <td>SE</td>\n",
       "      <td>Upplands Väsby Västra</td>\n",
       "      <td>Holmvägen</td>\n",
       "      <td>Stockholms län</td>\n",
       "      <td>Sweden</td>\n",
       "      <td>Upplands Väsby Västra</td>\n",
       "      <td>dXBwbGFuZHMgdsOkc2J5IHbDpHN0cmFzdG9ja2hvbG1zIG...</td>\n",
       "      <td>online</td>\n",
       "      <td>['/ip4/85.228.46.22/tcp/44158']</td>\n",
       "      <td>819604.0</td>\n",
       "    </tr>\n",
       "    <tr>\n",
       "      <th>60</th>\n",
       "      <td>11020</td>\n",
       "      <td>2021-02-03T08:31:10.000000Z</td>\n",
       "      <td>0.500000</td>\n",
       "      <td>14Rqw67Er4T4mDitRR5hkvDbefXUhVQGiaVV4yzgSF3sVt...</td>\n",
       "      <td>1</td>\n",
       "      <td>gentle-concrete-swallow</td>\n",
       "      <td>8c08b688ec091ff</td>\n",
       "      <td>819483.0</td>\n",
       "      <td>819533</td>\n",
       "      <td>12.0</td>\n",
       "      <td>...</td>\n",
       "      <td>SE</td>\n",
       "      <td>Brämhult</td>\n",
       "      <td>Aspgatan</td>\n",
       "      <td>Västra Götalands län</td>\n",
       "      <td>Sweden</td>\n",
       "      <td>Brämhult</td>\n",
       "      <td>YnLDpG1odWx0dsOkc3RyYSBnw7Z0YWxhbmRzIGzDpG5zd2...</td>\n",
       "      <td>online</td>\n",
       "      <td>['/p2p/112vnvaphpWiGe7cgqVB2PDC7fgfiS5vdQG2AmM...</td>\n",
       "      <td>819589.0</td>\n",
       "    </tr>\n",
       "    <tr>\n",
       "      <th>61</th>\n",
       "      <td>11021</td>\n",
       "      <td>2021-02-03T08:07:22.000000Z</td>\n",
       "      <td>0.625000</td>\n",
       "      <td>14Rqw67Er4T4mDitRR5hkvDbefXUhVQGiaVV4yzgSF3sVt...</td>\n",
       "      <td>2</td>\n",
       "      <td>flat-taffy-squid</td>\n",
       "      <td>8c088661dd8d5ff</td>\n",
       "      <td>819526.0</td>\n",
       "      <td>819633</td>\n",
       "      <td>12.0</td>\n",
       "      <td>...</td>\n",
       "      <td>SE</td>\n",
       "      <td>Kungsholmen</td>\n",
       "      <td>Pipersgatan</td>\n",
       "      <td>Stockholms län</td>\n",
       "      <td>Sweden</td>\n",
       "      <td>Kungsholmen</td>\n",
       "      <td>a3VuZ3Nob2xtZW5zdG9ja2hvbG1zIGzDpG5zd2VkZW4</td>\n",
       "      <td>online</td>\n",
       "      <td>['/p2p/112urckjdyBhA9yhCgQWMV8yEYk7BzZDRQgt3Be...</td>\n",
       "      <td>819615.0</td>\n",
       "    </tr>\n",
       "    <tr>\n",
       "      <th>65</th>\n",
       "      <td>11079</td>\n",
       "      <td>2021-02-02T16:36:16.000000Z</td>\n",
       "      <td>0.468750</td>\n",
       "      <td>14Rqw67Er4T4mDitRR5hkvDbefXUhVQGiaVV4yzgSF3sVt...</td>\n",
       "      <td>2</td>\n",
       "      <td>prehistoric-hazelnut-sheep</td>\n",
       "      <td>8c0886618422dff</td>\n",
       "      <td>819420.0</td>\n",
       "      <td>819633</td>\n",
       "      <td>12.0</td>\n",
       "      <td>...</td>\n",
       "      <td>SE</td>\n",
       "      <td>Södermalm</td>\n",
       "      <td>Renstiernas gata</td>\n",
       "      <td>Stockholms län</td>\n",
       "      <td>Sweden</td>\n",
       "      <td>Södermalm</td>\n",
       "      <td>c8O2ZGVybWFsbXN0b2NraG9sbXMgbMOkbnN3ZWRlbg</td>\n",
       "      <td>online</td>\n",
       "      <td>['/p2p/112ajjjFMciKi1RqR7Ax1PTapuK7cTuseVGVCZT...</td>\n",
       "      <td>819618.0</td>\n",
       "    </tr>\n",
       "    <tr>\n",
       "      <th>...</th>\n",
       "      <td>...</td>\n",
       "      <td>...</td>\n",
       "      <td>...</td>\n",
       "      <td>...</td>\n",
       "      <td>...</td>\n",
       "      <td>...</td>\n",
       "      <td>...</td>\n",
       "      <td>...</td>\n",
       "      <td>...</td>\n",
       "      <td>...</td>\n",
       "      <td>...</td>\n",
       "      <td>...</td>\n",
       "      <td>...</td>\n",
       "      <td>...</td>\n",
       "      <td>...</td>\n",
       "      <td>...</td>\n",
       "      <td>...</td>\n",
       "      <td>...</td>\n",
       "      <td>...</td>\n",
       "      <td>...</td>\n",
       "      <td>...</td>\n",
       "    </tr>\n",
       "    <tr>\n",
       "      <th>178</th>\n",
       "      <td>19461</td>\n",
       "      <td>2020-10-01T18:33:42.000000Z</td>\n",
       "      <td>1.000000</td>\n",
       "      <td>14Rqw67Er4T4mDitRR5hkvDbefXUhVQGiaVV4yzgSF3sVt...</td>\n",
       "      <td>1</td>\n",
       "      <td>deep-orchid-loris</td>\n",
       "      <td>8c088661136d7ff</td>\n",
       "      <td>819449.0</td>\n",
       "      <td>819560</td>\n",
       "      <td>12.0</td>\n",
       "      <td>...</td>\n",
       "      <td>SE</td>\n",
       "      <td>Södermalm</td>\n",
       "      <td>Bergsundsgatan</td>\n",
       "      <td>Stockholms län</td>\n",
       "      <td>Sweden</td>\n",
       "      <td>Södermalm</td>\n",
       "      <td>c8O2ZGVybWFsbXN0b2NraG9sbXMgbMOkbnN3ZWRlbg</td>\n",
       "      <td>online</td>\n",
       "      <td>['/ip4/188.151.184.92/tcp/18482']</td>\n",
       "      <td>819599.0</td>\n",
       "    </tr>\n",
       "    <tr>\n",
       "      <th>179</th>\n",
       "      <td>19464</td>\n",
       "      <td>2020-10-01T18:05:55.000000Z</td>\n",
       "      <td>0.625000</td>\n",
       "      <td>14Rqw67Er4T4mDitRR5hkvDbefXUhVQGiaVV4yzgSF3sVt...</td>\n",
       "      <td>1</td>\n",
       "      <td>sleepy-mahogany-alligator</td>\n",
       "      <td>8c0886618c9ddff</td>\n",
       "      <td>819392.0</td>\n",
       "      <td>819619</td>\n",
       "      <td>12.0</td>\n",
       "      <td>...</td>\n",
       "      <td>SE</td>\n",
       "      <td>Södermalm</td>\n",
       "      <td>Svartensgatan</td>\n",
       "      <td>Stockholms län</td>\n",
       "      <td>Sweden</td>\n",
       "      <td>Södermalm</td>\n",
       "      <td>c8O2ZGVybWFsbXN0b2NraG9sbXMgbMOkbnN3ZWRlbg</td>\n",
       "      <td>online</td>\n",
       "      <td>['/ip4/81.228.198.231/tcp/26014']</td>\n",
       "      <td>819618.0</td>\n",
       "    </tr>\n",
       "    <tr>\n",
       "      <th>180</th>\n",
       "      <td>19468</td>\n",
       "      <td>2020-10-01T17:27:33.000000Z</td>\n",
       "      <td>0.208328</td>\n",
       "      <td>14Rqw67Er4T4mDitRR5hkvDbefXUhVQGiaVV4yzgSF3sVt...</td>\n",
       "      <td>1</td>\n",
       "      <td>large-fuzzy-porcupine</td>\n",
       "      <td>8c088661e2165ff</td>\n",
       "      <td>819405.0</td>\n",
       "      <td>819619</td>\n",
       "      <td>12.0</td>\n",
       "      <td>...</td>\n",
       "      <td>SE</td>\n",
       "      <td>Södermalm</td>\n",
       "      <td>Vartoftagatan</td>\n",
       "      <td>Stockholms län</td>\n",
       "      <td>Sweden</td>\n",
       "      <td>Södermalm</td>\n",
       "      <td>c8O2ZGVybWFsbXN0b2NraG9sbXMgbMOkbnN3ZWRlbg</td>\n",
       "      <td>online</td>\n",
       "      <td>['/ip4/100.124.96.196/tcp/44158']</td>\n",
       "      <td>819617.0</td>\n",
       "    </tr>\n",
       "    <tr>\n",
       "      <th>188</th>\n",
       "      <td>20014</td>\n",
       "      <td>2020-09-22T19:44:07.000000Z</td>\n",
       "      <td>1.000000</td>\n",
       "      <td>14Rqw67Er4T4mDitRR5hkvDbefXUhVQGiaVV4yzgSF3sVt...</td>\n",
       "      <td>1</td>\n",
       "      <td>bubbly-parchment-moth</td>\n",
       "      <td>8c088660269b1ff</td>\n",
       "      <td>819608.0</td>\n",
       "      <td>819636</td>\n",
       "      <td>12.0</td>\n",
       "      <td>...</td>\n",
       "      <td>SE</td>\n",
       "      <td>Södermalm</td>\n",
       "      <td>Pokalvägen</td>\n",
       "      <td>Stockholms län</td>\n",
       "      <td>Sweden</td>\n",
       "      <td>Södermalm</td>\n",
       "      <td>c8O2ZGVybWFsbXN0b2NraG9sbXMgbMOkbnN3ZWRlbg</td>\n",
       "      <td>online</td>\n",
       "      <td>['/ip4/13.48.149.139/tcp/44158']</td>\n",
       "      <td>819612.0</td>\n",
       "    </tr>\n",
       "    <tr>\n",
       "      <th>189</th>\n",
       "      <td>21127</td>\n",
       "      <td>2020-08-31T12:22:36.000000Z</td>\n",
       "      <td>0.625000</td>\n",
       "      <td>14Rqw67Er4T4mDitRR5hkvDbefXUhVQGiaVV4yzgSF3sVt...</td>\n",
       "      <td>1</td>\n",
       "      <td>itchy-merlot-porcupine</td>\n",
       "      <td>8c088661e0ea5ff</td>\n",
       "      <td>819533.0</td>\n",
       "      <td>819619</td>\n",
       "      <td>12.0</td>\n",
       "      <td>...</td>\n",
       "      <td>SE</td>\n",
       "      <td>Södermalm</td>\n",
       "      <td>Blekingegatan</td>\n",
       "      <td>Stockholms län</td>\n",
       "      <td>Sweden</td>\n",
       "      <td>Södermalm</td>\n",
       "      <td>c8O2ZGVybWFsbXN0b2NraG9sbXMgbMOkbnN3ZWRlbg</td>\n",
       "      <td>online</td>\n",
       "      <td>['/p2p/11kEWiH9FPC9SKYV9xdfHcw5Kounc8gGtsf8NnJ...</td>\n",
       "      <td>819618.0</td>\n",
       "    </tr>\n",
       "  </tbody>\n",
       "</table>\n",
       "<p>73 rows × 28 columns</p>\n",
       "</div>"
      ],
      "text/plain": [
       "     Unnamed: 0              timestamp_added  reward_scale  \\\n",
       "41         9609  2021-03-02T19:11:35.000000Z      1.000000   \n",
       "54        10921  2021-02-04T22:55:02.000000Z      1.000000   \n",
       "60        11020  2021-02-03T08:31:10.000000Z      0.500000   \n",
       "61        11021  2021-02-03T08:07:22.000000Z      0.625000   \n",
       "65        11079  2021-02-02T16:36:16.000000Z      0.468750   \n",
       "..          ...                          ...           ...   \n",
       "178       19461  2020-10-01T18:33:42.000000Z      1.000000   \n",
       "179       19464  2020-10-01T18:05:55.000000Z      0.625000   \n",
       "180       19468  2020-10-01T17:27:33.000000Z      0.208328   \n",
       "188       20014  2020-09-22T19:44:07.000000Z      1.000000   \n",
       "189       21127  2020-08-31T12:22:36.000000Z      0.625000   \n",
       "\n",
       "                                                 owner  nonce  \\\n",
       "41   14Rqw67Er4T4mDitRR5hkvDbefXUhVQGiaVV4yzgSF3sVt...      2   \n",
       "54   14Rqw67Er4T4mDitRR5hkvDbefXUhVQGiaVV4yzgSF3sVt...      1   \n",
       "60   14Rqw67Er4T4mDitRR5hkvDbefXUhVQGiaVV4yzgSF3sVt...      1   \n",
       "61   14Rqw67Er4T4mDitRR5hkvDbefXUhVQGiaVV4yzgSF3sVt...      2   \n",
       "65   14Rqw67Er4T4mDitRR5hkvDbefXUhVQGiaVV4yzgSF3sVt...      2   \n",
       "..                                                 ...    ...   \n",
       "178  14Rqw67Er4T4mDitRR5hkvDbefXUhVQGiaVV4yzgSF3sVt...      1   \n",
       "179  14Rqw67Er4T4mDitRR5hkvDbefXUhVQGiaVV4yzgSF3sVt...      1   \n",
       "180  14Rqw67Er4T4mDitRR5hkvDbefXUhVQGiaVV4yzgSF3sVt...      1   \n",
       "188  14Rqw67Er4T4mDitRR5hkvDbefXUhVQGiaVV4yzgSF3sVt...      1   \n",
       "189  14Rqw67Er4T4mDitRR5hkvDbefXUhVQGiaVV4yzgSF3sVt...      1   \n",
       "\n",
       "                           name         location  last_poc_challenge  \\\n",
       "41    muscular-juniper-mongoose  8c0886602a08dff            819593.0   \n",
       "54       basic-goldenrod-donkey  8c08862b1416dff            819594.0   \n",
       "60      gentle-concrete-swallow  8c08b688ec091ff            819483.0   \n",
       "61             flat-taffy-squid  8c088661dd8d5ff            819526.0   \n",
       "65   prehistoric-hazelnut-sheep  8c0886618422dff            819420.0   \n",
       "..                          ...              ...                 ...   \n",
       "178           deep-orchid-loris  8c088661136d7ff            819449.0   \n",
       "179   sleepy-mahogany-alligator  8c0886618c9ddff            819392.0   \n",
       "180       large-fuzzy-porcupine  8c088661e2165ff            819405.0   \n",
       "188       bubbly-parchment-moth  8c088660269b1ff            819608.0   \n",
       "189      itchy-merlot-porcupine  8c088661e0ea5ff            819533.0   \n",
       "\n",
       "     last_change_block  gain  ...  short_country             short_city  \\\n",
       "41              819636  12.0  ...             SE            Kungsholmen   \n",
       "54              819619  12.0  ...             SE  Upplands Väsby Västra   \n",
       "60              819533  12.0  ...             SE               Brämhult   \n",
       "61              819633  12.0  ...             SE            Kungsholmen   \n",
       "65              819633  12.0  ...             SE              Södermalm   \n",
       "..                 ...   ...  ...            ...                    ...   \n",
       "178             819560  12.0  ...             SE              Södermalm   \n",
       "179             819619  12.0  ...             SE              Södermalm   \n",
       "180             819619  12.0  ...             SE              Södermalm   \n",
       "188             819636  12.0  ...             SE              Södermalm   \n",
       "189             819619  12.0  ...             SE              Södermalm   \n",
       "\n",
       "          long_street            long_state  long_country  \\\n",
       "41     Orvar Odds väg        Stockholms län        Sweden   \n",
       "54          Holmvägen        Stockholms län        Sweden   \n",
       "60           Aspgatan  Västra Götalands län        Sweden   \n",
       "61        Pipersgatan        Stockholms län        Sweden   \n",
       "65   Renstiernas gata        Stockholms län        Sweden   \n",
       "..                ...                   ...           ...   \n",
       "178    Bergsundsgatan        Stockholms län        Sweden   \n",
       "179     Svartensgatan        Stockholms län        Sweden   \n",
       "180     Vartoftagatan        Stockholms län        Sweden   \n",
       "188        Pokalvägen        Stockholms län        Sweden   \n",
       "189     Blekingegatan        Stockholms län        Sweden   \n",
       "\n",
       "                 long_city                                            city_id  \\\n",
       "41             Kungsholmen        a3VuZ3Nob2xtZW5zdG9ja2hvbG1zIGzDpG5zd2VkZW4   \n",
       "54   Upplands Väsby Västra  dXBwbGFuZHMgdsOkc2J5IHbDpHN0cmFzdG9ja2hvbG1zIG...   \n",
       "60                Brämhult  YnLDpG1odWx0dsOkc3RyYSBnw7Z0YWxhbmRzIGzDpG5zd2...   \n",
       "61             Kungsholmen        a3VuZ3Nob2xtZW5zdG9ja2hvbG1zIGzDpG5zd2VkZW4   \n",
       "65               Södermalm         c8O2ZGVybWFsbXN0b2NraG9sbXMgbMOkbnN3ZWRlbg   \n",
       "..                     ...                                                ...   \n",
       "178              Södermalm         c8O2ZGVybWFsbXN0b2NraG9sbXMgbMOkbnN3ZWRlbg   \n",
       "179              Södermalm         c8O2ZGVybWFsbXN0b2NraG9sbXMgbMOkbnN3ZWRlbg   \n",
       "180              Södermalm         c8O2ZGVybWFsbXN0b2NraG9sbXMgbMOkbnN3ZWRlbg   \n",
       "188              Södermalm         c8O2ZGVybWFsbXN0b2NraG9sbXMgbMOkbnN3ZWRlbg   \n",
       "189              Södermalm         c8O2ZGVybWFsbXN0b2NraG9sbXMgbMOkbnN3ZWRlbg   \n",
       "\n",
       "     online                                       listen_addrs    height  \n",
       "41   online  ['/p2p/11oNmxJFUmpA2ir3KUadbUWjCNU4UEuQD8fN5Wb...  819594.0  \n",
       "54   online                    ['/ip4/85.228.46.22/tcp/44158']  819604.0  \n",
       "60   online  ['/p2p/112vnvaphpWiGe7cgqVB2PDC7fgfiS5vdQG2AmM...  819589.0  \n",
       "61   online  ['/p2p/112urckjdyBhA9yhCgQWMV8yEYk7BzZDRQgt3Be...  819615.0  \n",
       "65   online  ['/p2p/112ajjjFMciKi1RqR7Ax1PTapuK7cTuseVGVCZT...  819618.0  \n",
       "..      ...                                                ...       ...  \n",
       "178  online                  ['/ip4/188.151.184.92/tcp/18482']  819599.0  \n",
       "179  online                  ['/ip4/81.228.198.231/tcp/26014']  819618.0  \n",
       "180  online                  ['/ip4/100.124.96.196/tcp/44158']  819617.0  \n",
       "188  online                   ['/ip4/13.48.149.139/tcp/44158']  819612.0  \n",
       "189  online  ['/p2p/11kEWiH9FPC9SKYV9xdfHcw5Kounc8gGtsf8NnJ...  819618.0  \n",
       "\n",
       "[73 rows x 28 columns]"
      ]
     },
     "execution_count": 124,
     "metadata": {},
     "output_type": "execute_result"
    }
   ],
   "source": [
    "df4_swe[df4_swe['owner']=='14Rqw67Er4T4mDitRR5hkvDbefXUhVQGiaVV4yzgSF3sVtu6PfU']"
   ]
  },
  {
   "cell_type": "code",
   "execution_count": 125,
   "metadata": {},
   "outputs": [
    {
     "data": {
      "text/html": [
       "<div>\n",
       "<style scoped>\n",
       "    .dataframe tbody tr th:only-of-type {\n",
       "        vertical-align: middle;\n",
       "    }\n",
       "\n",
       "    .dataframe tbody tr th {\n",
       "        vertical-align: top;\n",
       "    }\n",
       "\n",
       "    .dataframe thead th {\n",
       "        text-align: right;\n",
       "    }\n",
       "</style>\n",
       "<table border=\"1\" class=\"dataframe\">\n",
       "  <thead>\n",
       "    <tr style=\"text-align: right;\">\n",
       "      <th></th>\n",
       "      <th>Unnamed: 0</th>\n",
       "      <th>timestamp_added</th>\n",
       "      <th>reward_scale</th>\n",
       "      <th>owner</th>\n",
       "      <th>nonce</th>\n",
       "      <th>name</th>\n",
       "      <th>location</th>\n",
       "      <th>last_poc_challenge</th>\n",
       "      <th>last_change_block</th>\n",
       "      <th>gain</th>\n",
       "      <th>...</th>\n",
       "      <th>short_country</th>\n",
       "      <th>short_city</th>\n",
       "      <th>long_street</th>\n",
       "      <th>long_state</th>\n",
       "      <th>long_country</th>\n",
       "      <th>long_city</th>\n",
       "      <th>city_id</th>\n",
       "      <th>online</th>\n",
       "      <th>listen_addrs</th>\n",
       "      <th>height</th>\n",
       "    </tr>\n",
       "  </thead>\n",
       "  <tbody>\n",
       "    <tr>\n",
       "      <th>22</th>\n",
       "      <td>6528</td>\n",
       "      <td>2021-03-15T09:25:34.000000Z</td>\n",
       "      <td>1.000000</td>\n",
       "      <td>14a1EcchN6gaqHzSh9u2NMuNCSzqWhxU11TWbsJG8Sn9q9...</td>\n",
       "      <td>1</td>\n",
       "      <td>overt-cornflower-goblin</td>\n",
       "      <td>8c1f25068a629ff</td>\n",
       "      <td>819571.0</td>\n",
       "      <td>819621</td>\n",
       "      <td>12.0</td>\n",
       "      <td>...</td>\n",
       "      <td>SE</td>\n",
       "      <td>Guldheden</td>\n",
       "      <td>Doktor Allards Gata</td>\n",
       "      <td>Västra Götalands län</td>\n",
       "      <td>Sweden</td>\n",
       "      <td>Guldheden</td>\n",
       "      <td>Z3VsZGhlZGVudsOkc3RyYSBnw7Z0YWxhbmRzIGzDpG5zd2...</td>\n",
       "      <td>online</td>\n",
       "      <td>['/ip4/188.148.171.178/tcp/44158']</td>\n",
       "      <td>819614.0</td>\n",
       "    </tr>\n",
       "    <tr>\n",
       "      <th>32</th>\n",
       "      <td>9052</td>\n",
       "      <td>2021-03-05T16:52:46.000000Z</td>\n",
       "      <td>1.000000</td>\n",
       "      <td>14a1EcchN6gaqHzSh9u2NMuNCSzqWhxU11TWbsJG8Sn9q9...</td>\n",
       "      <td>1</td>\n",
       "      <td>proper-wintergreen-halibut</td>\n",
       "      <td>8c1f2506d729bff</td>\n",
       "      <td>819486.0</td>\n",
       "      <td>819536</td>\n",
       "      <td>12.0</td>\n",
       "      <td>...</td>\n",
       "      <td>SE</td>\n",
       "      <td>Johanneberg</td>\n",
       "      <td>Vidblicksgatan</td>\n",
       "      <td>Västra Götalands län</td>\n",
       "      <td>Sweden</td>\n",
       "      <td>Johanneberg</td>\n",
       "      <td>am9oYW5uZWJlcmd2w6RzdHJhIGfDtnRhbGFuZHMgbMOkbn...</td>\n",
       "      <td>online</td>\n",
       "      <td>['/ip4/188.149.41.135/tcp/44158']</td>\n",
       "      <td>819615.0</td>\n",
       "    </tr>\n",
       "    <tr>\n",
       "      <th>46</th>\n",
       "      <td>10672</td>\n",
       "      <td>2021-02-09T16:12:53.000000Z</td>\n",
       "      <td>1.000000</td>\n",
       "      <td>14a1EcchN6gaqHzSh9u2NMuNCSzqWhxU11TWbsJG8Sn9q9...</td>\n",
       "      <td>1</td>\n",
       "      <td>passive-zinc-panther</td>\n",
       "      <td>8c08b615dab2bff</td>\n",
       "      <td>819592.0</td>\n",
       "      <td>819592</td>\n",
       "      <td>12.0</td>\n",
       "      <td>...</td>\n",
       "      <td>SE</td>\n",
       "      <td>Timmele</td>\n",
       "      <td>Överstegränd</td>\n",
       "      <td>Västra Götalands län</td>\n",
       "      <td>Sweden</td>\n",
       "      <td>Timmele</td>\n",
       "      <td>dGltbWVsZXbDpHN0cmEgZ8O2dGFsYW5kcyBsw6Ruc3dlZGVu</td>\n",
       "      <td>online</td>\n",
       "      <td>['/p2p/112KW3WwX89B6yP7uqH4vjZ7dhq8EekjpoBNDDr...</td>\n",
       "      <td>819602.0</td>\n",
       "    </tr>\n",
       "    <tr>\n",
       "      <th>48</th>\n",
       "      <td>10743</td>\n",
       "      <td>2021-02-08T14:34:42.000000Z</td>\n",
       "      <td>1.000000</td>\n",
       "      <td>14a1EcchN6gaqHzSh9u2NMuNCSzqWhxU11TWbsJG8Sn9q9...</td>\n",
       "      <td>1</td>\n",
       "      <td>able-pear-horse</td>\n",
       "      <td>8c08b602cdb4dff</td>\n",
       "      <td>819562.0</td>\n",
       "      <td>819619</td>\n",
       "      <td>12.0</td>\n",
       "      <td>...</td>\n",
       "      <td>SE</td>\n",
       "      <td>Ulricehamn</td>\n",
       "      <td>Hasselvägen</td>\n",
       "      <td>Västra Götalands län</td>\n",
       "      <td>Sweden</td>\n",
       "      <td>Ulricehamn</td>\n",
       "      <td>dWxyaWNlaGFtbnbDpHN0cmEgZ8O2dGFsYW5kcyBsw6Ruc3...</td>\n",
       "      <td>online</td>\n",
       "      <td>['/p2p/112bpmtUsVEeqnnra66vRF8r5aBFzL7cGRVRq5N...</td>\n",
       "      <td>819597.0</td>\n",
       "    </tr>\n",
       "    <tr>\n",
       "      <th>50</th>\n",
       "      <td>10746</td>\n",
       "      <td>2021-02-08T13:11:56.000000Z</td>\n",
       "      <td>1.000000</td>\n",
       "      <td>14a1EcchN6gaqHzSh9u2NMuNCSzqWhxU11TWbsJG8Sn9q9...</td>\n",
       "      <td>1</td>\n",
       "      <td>damp-cloth-tapir</td>\n",
       "      <td>8c08b61526d83ff</td>\n",
       "      <td>819548.0</td>\n",
       "      <td>819619</td>\n",
       "      <td>12.0</td>\n",
       "      <td>...</td>\n",
       "      <td>SE</td>\n",
       "      <td>Ulricehamn</td>\n",
       "      <td>Sanatorievägen</td>\n",
       "      <td>Västra Götalands län</td>\n",
       "      <td>Sweden</td>\n",
       "      <td>Ulricehamn</td>\n",
       "      <td>dWxyaWNlaGFtbnbDpHN0cmEgZ8O2dGFsYW5kcyBsw6Ruc3...</td>\n",
       "      <td>online</td>\n",
       "      <td>['/ip4/213.200.174.169/tcp/59670']</td>\n",
       "      <td>819604.0</td>\n",
       "    </tr>\n",
       "    <tr>\n",
       "      <th>51</th>\n",
       "      <td>10840</td>\n",
       "      <td>2021-02-06T16:00:54.000000Z</td>\n",
       "      <td>0.333328</td>\n",
       "      <td>14a1EcchN6gaqHzSh9u2NMuNCSzqWhxU11TWbsJG8Sn9q9...</td>\n",
       "      <td>1</td>\n",
       "      <td>trendy-coconut-shell</td>\n",
       "      <td>8c08b61536905ff</td>\n",
       "      <td>819495.0</td>\n",
       "      <td>819545</td>\n",
       "      <td>12.0</td>\n",
       "      <td>...</td>\n",
       "      <td>SE</td>\n",
       "      <td>Ulricehamn</td>\n",
       "      <td>Arrehagsvägen</td>\n",
       "      <td>Västra Götalands län</td>\n",
       "      <td>Sweden</td>\n",
       "      <td>Ulricehamn</td>\n",
       "      <td>dWxyaWNlaGFtbnbDpHN0cmEgZ8O2dGFsYW5kcyBsw6Ruc3...</td>\n",
       "      <td>online</td>\n",
       "      <td>['/p2p/11z7V5iN2fm6yj96hvfgUm49VD3ZTq4RFw4MgWo...</td>\n",
       "      <td>819618.0</td>\n",
       "    </tr>\n",
       "    <tr>\n",
       "      <th>56</th>\n",
       "      <td>10999</td>\n",
       "      <td>2021-02-03T18:26:13.000000Z</td>\n",
       "      <td>0.333328</td>\n",
       "      <td>14a1EcchN6gaqHzSh9u2NMuNCSzqWhxU11TWbsJG8Sn9q9...</td>\n",
       "      <td>1</td>\n",
       "      <td>quick-sapphire-liger</td>\n",
       "      <td>8c08b615370adff</td>\n",
       "      <td>819457.0</td>\n",
       "      <td>819633</td>\n",
       "      <td>12.0</td>\n",
       "      <td>...</td>\n",
       "      <td>SE</td>\n",
       "      <td>Ulricehamn SO</td>\n",
       "      <td>Stenmursgatan</td>\n",
       "      <td>Västra Götalands län</td>\n",
       "      <td>Sweden</td>\n",
       "      <td>Ulricehamn SO</td>\n",
       "      <td>dWxyaWNlaGFtbiBzb3bDpHN0cmEgZ8O2dGFsYW5kcyBsw6...</td>\n",
       "      <td>online</td>\n",
       "      <td>['/p2p/11GP9eXcmSbLA6Ggb2aMNvaTkdCwE7iJXDb2cNF...</td>\n",
       "      <td>819618.0</td>\n",
       "    </tr>\n",
       "    <tr>\n",
       "      <th>57</th>\n",
       "      <td>11002</td>\n",
       "      <td>2021-02-03T17:32:41.000000Z</td>\n",
       "      <td>0.333328</td>\n",
       "      <td>14a1EcchN6gaqHzSh9u2NMuNCSzqWhxU11TWbsJG8Sn9q9...</td>\n",
       "      <td>1</td>\n",
       "      <td>hidden-topaz-cougar</td>\n",
       "      <td>8c08b61536695ff</td>\n",
       "      <td>819554.0</td>\n",
       "      <td>819619</td>\n",
       "      <td>12.0</td>\n",
       "      <td>...</td>\n",
       "      <td>SE</td>\n",
       "      <td>Ulricehamn SO</td>\n",
       "      <td>Tåmarksgatan</td>\n",
       "      <td>Västra Götalands län</td>\n",
       "      <td>Sweden</td>\n",
       "      <td>Ulricehamn SO</td>\n",
       "      <td>dWxyaWNlaGFtbiBzb3bDpHN0cmEgZ8O2dGFsYW5kcyBsw6...</td>\n",
       "      <td>online</td>\n",
       "      <td>['/ip4/81.234.116.176/tcp/44158']</td>\n",
       "      <td>819618.0</td>\n",
       "    </tr>\n",
       "    <tr>\n",
       "      <th>58</th>\n",
       "      <td>11008</td>\n",
       "      <td>2021-02-03T15:56:58.000000Z</td>\n",
       "      <td>1.000000</td>\n",
       "      <td>14a1EcchN6gaqHzSh9u2NMuNCSzqWhxU11TWbsJG8Sn9q9...</td>\n",
       "      <td>1</td>\n",
       "      <td>dancing-green-haddock</td>\n",
       "      <td>8c08b602c8707ff</td>\n",
       "      <td>819553.0</td>\n",
       "      <td>819603</td>\n",
       "      <td>12.0</td>\n",
       "      <td>...</td>\n",
       "      <td>SE</td>\n",
       "      <td>Ulricehamn</td>\n",
       "      <td>Riddarebacken</td>\n",
       "      <td>Västra Götalands län</td>\n",
       "      <td>Sweden</td>\n",
       "      <td>Ulricehamn</td>\n",
       "      <td>dWxyaWNlaGFtbnbDpHN0cmEgZ8O2dGFsYW5kcyBsw6Ruc3...</td>\n",
       "      <td>online</td>\n",
       "      <td>['/ip4/81.234.161.191/tcp/44158']</td>\n",
       "      <td>819595.0</td>\n",
       "    </tr>\n",
       "  </tbody>\n",
       "</table>\n",
       "<p>9 rows × 28 columns</p>\n",
       "</div>"
      ],
      "text/plain": [
       "    Unnamed: 0              timestamp_added  reward_scale  \\\n",
       "22        6528  2021-03-15T09:25:34.000000Z      1.000000   \n",
       "32        9052  2021-03-05T16:52:46.000000Z      1.000000   \n",
       "46       10672  2021-02-09T16:12:53.000000Z      1.000000   \n",
       "48       10743  2021-02-08T14:34:42.000000Z      1.000000   \n",
       "50       10746  2021-02-08T13:11:56.000000Z      1.000000   \n",
       "51       10840  2021-02-06T16:00:54.000000Z      0.333328   \n",
       "56       10999  2021-02-03T18:26:13.000000Z      0.333328   \n",
       "57       11002  2021-02-03T17:32:41.000000Z      0.333328   \n",
       "58       11008  2021-02-03T15:56:58.000000Z      1.000000   \n",
       "\n",
       "                                                owner  nonce  \\\n",
       "22  14a1EcchN6gaqHzSh9u2NMuNCSzqWhxU11TWbsJG8Sn9q9...      1   \n",
       "32  14a1EcchN6gaqHzSh9u2NMuNCSzqWhxU11TWbsJG8Sn9q9...      1   \n",
       "46  14a1EcchN6gaqHzSh9u2NMuNCSzqWhxU11TWbsJG8Sn9q9...      1   \n",
       "48  14a1EcchN6gaqHzSh9u2NMuNCSzqWhxU11TWbsJG8Sn9q9...      1   \n",
       "50  14a1EcchN6gaqHzSh9u2NMuNCSzqWhxU11TWbsJG8Sn9q9...      1   \n",
       "51  14a1EcchN6gaqHzSh9u2NMuNCSzqWhxU11TWbsJG8Sn9q9...      1   \n",
       "56  14a1EcchN6gaqHzSh9u2NMuNCSzqWhxU11TWbsJG8Sn9q9...      1   \n",
       "57  14a1EcchN6gaqHzSh9u2NMuNCSzqWhxU11TWbsJG8Sn9q9...      1   \n",
       "58  14a1EcchN6gaqHzSh9u2NMuNCSzqWhxU11TWbsJG8Sn9q9...      1   \n",
       "\n",
       "                          name         location  last_poc_challenge  \\\n",
       "22     overt-cornflower-goblin  8c1f25068a629ff            819571.0   \n",
       "32  proper-wintergreen-halibut  8c1f2506d729bff            819486.0   \n",
       "46        passive-zinc-panther  8c08b615dab2bff            819592.0   \n",
       "48             able-pear-horse  8c08b602cdb4dff            819562.0   \n",
       "50            damp-cloth-tapir  8c08b61526d83ff            819548.0   \n",
       "51        trendy-coconut-shell  8c08b61536905ff            819495.0   \n",
       "56        quick-sapphire-liger  8c08b615370adff            819457.0   \n",
       "57         hidden-topaz-cougar  8c08b61536695ff            819554.0   \n",
       "58       dancing-green-haddock  8c08b602c8707ff            819553.0   \n",
       "\n",
       "    last_change_block  gain  ...  short_country     short_city  \\\n",
       "22             819621  12.0  ...             SE      Guldheden   \n",
       "32             819536  12.0  ...             SE    Johanneberg   \n",
       "46             819592  12.0  ...             SE        Timmele   \n",
       "48             819619  12.0  ...             SE     Ulricehamn   \n",
       "50             819619  12.0  ...             SE     Ulricehamn   \n",
       "51             819545  12.0  ...             SE     Ulricehamn   \n",
       "56             819633  12.0  ...             SE  Ulricehamn SO   \n",
       "57             819619  12.0  ...             SE  Ulricehamn SO   \n",
       "58             819603  12.0  ...             SE     Ulricehamn   \n",
       "\n",
       "            long_street            long_state  long_country      long_city  \\\n",
       "22  Doktor Allards Gata  Västra Götalands län        Sweden      Guldheden   \n",
       "32       Vidblicksgatan  Västra Götalands län        Sweden    Johanneberg   \n",
       "46         Överstegränd  Västra Götalands län        Sweden        Timmele   \n",
       "48          Hasselvägen  Västra Götalands län        Sweden     Ulricehamn   \n",
       "50       Sanatorievägen  Västra Götalands län        Sweden     Ulricehamn   \n",
       "51        Arrehagsvägen  Västra Götalands län        Sweden     Ulricehamn   \n",
       "56        Stenmursgatan  Västra Götalands län        Sweden  Ulricehamn SO   \n",
       "57         Tåmarksgatan  Västra Götalands län        Sweden  Ulricehamn SO   \n",
       "58        Riddarebacken  Västra Götalands län        Sweden     Ulricehamn   \n",
       "\n",
       "                                              city_id  online  \\\n",
       "22  Z3VsZGhlZGVudsOkc3RyYSBnw7Z0YWxhbmRzIGzDpG5zd2...  online   \n",
       "32  am9oYW5uZWJlcmd2w6RzdHJhIGfDtnRhbGFuZHMgbMOkbn...  online   \n",
       "46   dGltbWVsZXbDpHN0cmEgZ8O2dGFsYW5kcyBsw6Ruc3dlZGVu  online   \n",
       "48  dWxyaWNlaGFtbnbDpHN0cmEgZ8O2dGFsYW5kcyBsw6Ruc3...  online   \n",
       "50  dWxyaWNlaGFtbnbDpHN0cmEgZ8O2dGFsYW5kcyBsw6Ruc3...  online   \n",
       "51  dWxyaWNlaGFtbnbDpHN0cmEgZ8O2dGFsYW5kcyBsw6Ruc3...  online   \n",
       "56  dWxyaWNlaGFtbiBzb3bDpHN0cmEgZ8O2dGFsYW5kcyBsw6...  online   \n",
       "57  dWxyaWNlaGFtbiBzb3bDpHN0cmEgZ8O2dGFsYW5kcyBsw6...  online   \n",
       "58  dWxyaWNlaGFtbnbDpHN0cmEgZ8O2dGFsYW5kcyBsw6Ruc3...  online   \n",
       "\n",
       "                                         listen_addrs    height  \n",
       "22                 ['/ip4/188.148.171.178/tcp/44158']  819614.0  \n",
       "32                  ['/ip4/188.149.41.135/tcp/44158']  819615.0  \n",
       "46  ['/p2p/112KW3WwX89B6yP7uqH4vjZ7dhq8EekjpoBNDDr...  819602.0  \n",
       "48  ['/p2p/112bpmtUsVEeqnnra66vRF8r5aBFzL7cGRVRq5N...  819597.0  \n",
       "50                 ['/ip4/213.200.174.169/tcp/59670']  819604.0  \n",
       "51  ['/p2p/11z7V5iN2fm6yj96hvfgUm49VD3ZTq4RFw4MgWo...  819618.0  \n",
       "56  ['/p2p/11GP9eXcmSbLA6Ggb2aMNvaTkdCwE7iJXDb2cNF...  819618.0  \n",
       "57                  ['/ip4/81.234.116.176/tcp/44158']  819618.0  \n",
       "58                  ['/ip4/81.234.161.191/tcp/44158']  819595.0  \n",
       "\n",
       "[9 rows x 28 columns]"
      ]
     },
     "execution_count": 125,
     "metadata": {},
     "output_type": "execute_result"
    }
   ],
   "source": [
    "df4_swe[df4_swe['owner']=='14a1EcchN6gaqHzSh9u2NMuNCSzqWhxU11TWbsJG8Sn9q98bkCL']"
   ]
  },
  {
   "cell_type": "code",
   "execution_count": 126,
   "metadata": {},
   "outputs": [],
   "source": [
    "df4_swe.to_csv('swe_hotspots-april26-2021.csv')"
   ]
  },
  {
   "cell_type": "code",
   "execution_count": 127,
   "metadata": {},
   "outputs": [],
   "source": [
    "import pandas as pd\n",
    "\n",
    "df4_swe = pd.read_csv('swe_hotspots-april26-2021.csv')"
   ]
  },
  {
   "cell_type": "code",
   "execution_count": 71,
   "metadata": {},
   "outputs": [
    {
     "data": {
      "text/plain": [
       "14Rqw67Er4T4mDitRR5hkvDbefXUhVQGiaVV4yzgSF3sVtu6PfU    73\n",
       "13Wwpbanr8rMrGPBYajqDTHsScYJAVuXJwSP2hLD3nQk74Zm55y    22\n",
       "13W2BQ5FxQEV4C3PR9nYEC6kywKfNYFFVmHo38UgpLxusX9buCd    12\n",
       "14a1EcchN6gaqHzSh9u2NMuNCSzqWhxU11TWbsJG8Sn9q98bkCL     9\n",
       "14HzZRyju96jHNPjnk3KZFuz8scmK9q4MTJPr7bYdFEo6WYJEmM     6\n",
       "13NCaCjEqGPCrMgEGkzjLEAX3dfaGDNA9SksARATyRgEyxuJLGg     5\n",
       "13AvzGLk4ormmqzR1UKL7tSMHv5jkEjsikwoaSkFAzhMRt7dcB5     5\n",
       "14BT97xnPZ9YfmeTxmuMhstxB8zHS8FeTUDxqPp38duW7NPHNCg     5\n",
       "14SiXdBfQT15p43yGuHRFwg9ynP3Fx8ELErkbAUH9H326mGtrA4     4\n",
       "13v9kMn5p1a3Y5vqnPxzqfaiEhhrRBaMLYk7SmiN3pJEx1WmBpT     4\n",
       "13H9ykhRaWw8AVEMqf7rV6Fn9fnLXxZ6G98JEdsA1gdcJKYqQYW     4\n",
       "14DXurfTM8ZRek6msvJWNGzpzCV836cu31Xw67zf8QJG9UtfQLV     3\n",
       "13hZcW2J69JUK6vodvzR7PhA5BKNAgEUsi466WBbTw2EhAqVxej     3\n",
       "13rbdSBcshNAkLLJKiBUxzYjRnX3G551AUd1CVGqqe7HExScDc4     3\n",
       "13dHSjJ1judroDkgD158RmRki6U5Ypqpq8ZSmyk56AW5HiYRDWJ     2\n",
       "132rjofoPRZ86KxfvhasuDjNFcej7Lm1oGq8x4oRviJUCkwAuzA     2\n",
       "14inhtM57SDS6QL6KLPVQYYcUSZGD7xjB7hndQm6aq8Z67i5u3e     2\n",
       "13SaBus2Z8sHqrG3SVzneKbXRrqB47KGjHi7zchdXyFLZEdU3gD     2\n",
       "14hgdgqaUAVQVksdY4A9GKMf7iPEVGJLiJnTHLw9BMSwfGcwrSE     2\n",
       "14YXyXiPFCgfbv3eRAoD4rowuNzJsFUp49JiEutR3e32kVDDW9D     2\n",
       "14d7XEZJTsFRytmSuj2Ldtx8WpNnNPwawdEv6yV7C4dLwuV6FYm     2\n",
       "14YrxhGtHr3XxU91v1wA8umqV76ssjGmQMwwghS7YAEmZFgDmhE     1\n",
       "14TMreJAyUEZvLyQiG1sa9R3Q3hLjfH2A5MMrMCTVw4VDizpQgW     1\n",
       "13aQeF2Rrg7KaAcAeU9ukuQ8mioLbo2pRrpNsUB4sMPZf9v13Rc     1\n",
       "13n7s3G59C9jG1Zbe5r9omi9WkTkzq88y2s8vgMaL2ZeNGvijmK     1\n",
       "13Z9tv6rSc8m7vgi1ozypDL9EMQT8DBuxLwSTDsgjBzZwVwNca5     1\n",
       "132F1Ad16kiwoBQ77kw3yMCUdnyTBi3xxgEyC1nXxNsbpRxuZ1K     1\n",
       "13TAPEoQkexPAed2wzi2gKzgCG98L4nxDsoNhpH66CKifqqHFQP     1\n",
       "144PCC1HzNhW7D7HF2G3jemkBeDftb4Zh9CvGicPkyesYXy5iu4     1\n",
       "14jKSEr49tLco8TLFDoe2mKWWPiiZUpTJP7c1sauA6EfSU11bXM     1\n",
       "14KbLYpzdnEtzJPGLZLdJVKJcYUts2nJ8VEE85F4jXhUj6Gx9dG     1\n",
       "132xFucrG2mjiJAwYmvgoXRh4nMGt8oYh2X8sYLcUPfsCniBHs2     1\n",
       "14kPdmw7AgFWTkTgCnqTair7bNKdVf7o2g2oZ9DoqxCfqHmDvf5     1\n",
       "14Tf7kzR3HeSNFQ71tWynVEJ8br2kZMc1YgkhiDfXfNLP2Ccrfi     1\n",
       "132Cxq3DeiaG7L9HpFqw3rmAg57V282qsibidHpHzyCyJX7w2d9     1\n",
       "14XDDqmtD8RCMEL4oxfrrfrg6qbno6TB9CMf5uHAuNtFZRy6H8i     1\n",
       "14f2frf32J57saD6hXxSCCSGmG5CWuPktxbo9ZkExyBumoj1EZf     1\n",
       "14iAq97ypapJwDrZfy9MwEL1kVHtPu19MWJXQWWm53AwAskP3pj     1\n",
       "14n2xVYjsQTLY6N5ANnzLPoALm7H49myx1Vhz2DohivT64Nz7qd     1\n",
       "Name: owner, dtype: int64"
      ]
     },
     "execution_count": 71,
     "metadata": {},
     "output_type": "execute_result"
    }
   ],
   "source": [
    "df4_swe['owner'].value_counts()"
   ]
  },
  {
   "cell_type": "markdown",
   "metadata": {},
   "source": [
    "# Rewards per hotspot and owner"
   ]
  },
  {
   "cell_type": "code",
   "execution_count": 72,
   "metadata": {},
   "outputs": [
    {
     "data": {
      "text/plain": [
       "Index(['14Rqw67Er4T4mDitRR5hkvDbefXUhVQGiaVV4yzgSF3sVtu6PfU',\n",
       "       '13Wwpbanr8rMrGPBYajqDTHsScYJAVuXJwSP2hLD3nQk74Zm55y',\n",
       "       '13W2BQ5FxQEV4C3PR9nYEC6kywKfNYFFVmHo38UgpLxusX9buCd',\n",
       "       '14a1EcchN6gaqHzSh9u2NMuNCSzqWhxU11TWbsJG8Sn9q98bkCL',\n",
       "       '14HzZRyju96jHNPjnk3KZFuz8scmK9q4MTJPr7bYdFEo6WYJEmM',\n",
       "       '13NCaCjEqGPCrMgEGkzjLEAX3dfaGDNA9SksARATyRgEyxuJLGg',\n",
       "       '13AvzGLk4ormmqzR1UKL7tSMHv5jkEjsikwoaSkFAzhMRt7dcB5',\n",
       "       '14BT97xnPZ9YfmeTxmuMhstxB8zHS8FeTUDxqPp38duW7NPHNCg',\n",
       "       '14SiXdBfQT15p43yGuHRFwg9ynP3Fx8ELErkbAUH9H326mGtrA4',\n",
       "       '13v9kMn5p1a3Y5vqnPxzqfaiEhhrRBaMLYk7SmiN3pJEx1WmBpT'],\n",
       "      dtype='object')"
      ]
     },
     "execution_count": 72,
     "metadata": {},
     "output_type": "execute_result"
    }
   ],
   "source": [
    "df4_swe['owner'].value_counts().head(10).index"
   ]
  },
  {
   "cell_type": "code",
   "execution_count": 73,
   "metadata": {},
   "outputs": [
    {
     "data": {
      "text/plain": [
       "10"
      ]
     },
     "execution_count": 73,
     "metadata": {},
     "output_type": "execute_result"
    }
   ],
   "source": [
    "len(list(df4_swe['owner'].value_counts().head(10).index))"
   ]
  },
  {
   "cell_type": "code",
   "execution_count": 74,
   "metadata": {},
   "outputs": [],
   "source": [
    "res = []\n",
    "d5 = {}\n",
    "min = '2020-05-30'\n",
    "max = '2021-06-30'\n",
    "for owner in list(df4_swe['owner'].value_counts().head(10).index):\n",
    "    d5[owner]=req('https://api.helium.io/v1/accounts/{owner}/rewards/sum?min_time={min}&max_time={max}'.format(owner=owner,min=min,max=max))['data']\n",
    "    #d5[owner]=req('https://api.helium.io/v1/accounts/{owner}/rewards/sum?min_time={min}&max_time={max}&bucket=week'.format(owner=owner,min=min,max=max))['data']"
   ]
  },
  {
   "cell_type": "code",
   "execution_count": 75,
   "metadata": {},
   "outputs": [],
   "source": [
    "df_reward = pd.DataFrame.from_dict(d5,orient='index')"
   ]
  },
  {
   "cell_type": "code",
   "execution_count": 76,
   "metadata": {},
   "outputs": [],
   "source": [
    "df_reward.to_csv('reward_per_owner.csv')"
   ]
  },
  {
   "cell_type": "code",
   "execution_count": 77,
   "metadata": {},
   "outputs": [],
   "source": [
    "max_amount = 0\n",
    "for r in req('https://api.helium.io/v1/hotspots/112uMtzhUEfEV3z1SjuTSKLY1PXJY2tHhorFEPR2SeW9aCJgR2dM/rewards?min_time=2021-02-01&max_time=2021-03-01&cursor=eyJlbmRfYmxvY2siOjY5OTY1OSwiYmxvY2siOjc0MTMwMCwiYW5jaG9yX2Jsb2NrIjo3NDEzMDB9')['data']:\n",
    "    if r['amount'] > max_amount:\n",
    "        max_amount = r['amount']"
   ]
  },
  {
   "cell_type": "code",
   "execution_count": 78,
   "metadata": {},
   "outputs": [
    {
     "data": {
      "text/plain": [
       "{'meta': {'min_time': '2021-04-19T11:25:55Z',\n",
       "  'max_time': '2021-04-26T11:25:55Z'},\n",
       " 'data': {'total': 2785.1045832,\n",
       "  'sum': 278510458320,\n",
       "  'stddev': 33.08959157,\n",
       "  'min': 0.588819,\n",
       "  'median': 30.26152864,\n",
       "  'max': 148.56196533,\n",
       "  'avg': 39.22682511549296}}"
      ]
     },
     "execution_count": 78,
     "metadata": {},
     "output_type": "execute_result"
    }
   ],
   "source": [
    "req('https://api.helium.io/v1/accounts/14Rqw67Er4T4mDitRR5hkvDbefXUhVQGiaVV4yzgSF3sVtu6PfU/rewards/sum?min_time=-7%20day')"
   ]
  },
  {
   "cell_type": "code",
   "execution_count": 85,
   "metadata": {},
   "outputs": [
    {
     "data": {
      "text/plain": [
       "{'error': 'Bad Request'}"
      ]
     },
     "execution_count": 85,
     "metadata": {},
     "output_type": "execute_result"
    }
   ],
   "source": [
    "req('https://api.helium.io/v1/accounts/{owner}/rewards/sum?min_time={min}&max_time={max}')"
   ]
  },
  {
   "cell_type": "code",
   "execution_count": 86,
   "metadata": {},
   "outputs": [],
   "source": [
    "res = []\n",
    "d6 = {}\n",
    "min = '-7%20day'\n",
    "for owner in list(df4_swe['owner'].value_counts().head(10).index):\n",
    "    d6[owner]=req('https://api.helium.io/v1/accounts/{}/rewards/sum?min_time=-7%20day'.format(owner))['data']"
   ]
  },
  {
   "cell_type": "code",
   "execution_count": 87,
   "metadata": {},
   "outputs": [
    {
     "data": {
      "text/plain": [
       "Index(['14Rqw67Er4T4mDitRR5hkvDbefXUhVQGiaVV4yzgSF3sVtu6PfU',\n",
       "       '13Wwpbanr8rMrGPBYajqDTHsScYJAVuXJwSP2hLD3nQk74Zm55y',\n",
       "       '13W2BQ5FxQEV4C3PR9nYEC6kywKfNYFFVmHo38UgpLxusX9buCd',\n",
       "       '14a1EcchN6gaqHzSh9u2NMuNCSzqWhxU11TWbsJG8Sn9q98bkCL',\n",
       "       '14HzZRyju96jHNPjnk3KZFuz8scmK9q4MTJPr7bYdFEo6WYJEmM',\n",
       "       '13NCaCjEqGPCrMgEGkzjLEAX3dfaGDNA9SksARATyRgEyxuJLGg',\n",
       "       '13AvzGLk4ormmqzR1UKL7tSMHv5jkEjsikwoaSkFAzhMRt7dcB5',\n",
       "       '14BT97xnPZ9YfmeTxmuMhstxB8zHS8FeTUDxqPp38duW7NPHNCg',\n",
       "       '14SiXdBfQT15p43yGuHRFwg9ynP3Fx8ELErkbAUH9H326mGtrA4',\n",
       "       '13v9kMn5p1a3Y5vqnPxzqfaiEhhrRBaMLYk7SmiN3pJEx1WmBpT'],\n",
       "      dtype='object')"
      ]
     },
     "execution_count": 87,
     "metadata": {},
     "output_type": "execute_result"
    }
   ],
   "source": [
    "df4_swe['owner'].value_counts().head(10).index"
   ]
  },
  {
   "cell_type": "code",
   "execution_count": 88,
   "metadata": {},
   "outputs": [],
   "source": [
    "df_swe_rewards_last_week = pd.DataFrame.from_dict(d6, orient='index').rename({'index':'owners'},axis=1)"
   ]
  },
  {
   "cell_type": "code",
   "execution_count": 89,
   "metadata": {},
   "outputs": [
    {
     "data": {
      "text/html": [
       "<div>\n",
       "<style scoped>\n",
       "    .dataframe tbody tr th:only-of-type {\n",
       "        vertical-align: middle;\n",
       "    }\n",
       "\n",
       "    .dataframe tbody tr th {\n",
       "        vertical-align: top;\n",
       "    }\n",
       "\n",
       "    .dataframe thead th {\n",
       "        text-align: right;\n",
       "    }\n",
       "</style>\n",
       "<table border=\"1\" class=\"dataframe\">\n",
       "  <thead>\n",
       "    <tr style=\"text-align: right;\">\n",
       "      <th></th>\n",
       "      <th>total</th>\n",
       "      <th>sum</th>\n",
       "      <th>stddev</th>\n",
       "      <th>min</th>\n",
       "      <th>median</th>\n",
       "      <th>max</th>\n",
       "      <th>avg</th>\n",
       "    </tr>\n",
       "  </thead>\n",
       "  <tbody>\n",
       "    <tr>\n",
       "      <th>14Rqw67Er4T4mDitRR5hkvDbefXUhVQGiaVV4yzgSF3sVtu6PfU</th>\n",
       "      <td>2785.104583</td>\n",
       "      <td>278510458320</td>\n",
       "      <td>33.089592</td>\n",
       "      <td>0.588819</td>\n",
       "      <td>30.261529</td>\n",
       "      <td>148.561965</td>\n",
       "      <td>39.226825</td>\n",
       "    </tr>\n",
       "    <tr>\n",
       "      <th>13Wwpbanr8rMrGPBYajqDTHsScYJAVuXJwSP2hLD3nQk74Zm55y</th>\n",
       "      <td>753.581229</td>\n",
       "      <td>75358122856</td>\n",
       "      <td>45.033710</td>\n",
       "      <td>1.109836</td>\n",
       "      <td>67.895639</td>\n",
       "      <td>139.696453</td>\n",
       "      <td>53.827231</td>\n",
       "    </tr>\n",
       "    <tr>\n",
       "      <th>13W2BQ5FxQEV4C3PR9nYEC6kywKfNYFFVmHo38UgpLxusX9buCd</th>\n",
       "      <td>534.718375</td>\n",
       "      <td>53471837477</td>\n",
       "      <td>24.040897</td>\n",
       "      <td>13.693284</td>\n",
       "      <td>40.862044</td>\n",
       "      <td>83.772194</td>\n",
       "      <td>44.559865</td>\n",
       "    </tr>\n",
       "    <tr>\n",
       "      <th>14a1EcchN6gaqHzSh9u2NMuNCSzqWhxU11TWbsJG8Sn9q98bkCL</th>\n",
       "      <td>332.440647</td>\n",
       "      <td>33244064732</td>\n",
       "      <td>12.333696</td>\n",
       "      <td>21.248435</td>\n",
       "      <td>34.547820</td>\n",
       "      <td>54.862675</td>\n",
       "      <td>36.937850</td>\n",
       "    </tr>\n",
       "    <tr>\n",
       "      <th>14HzZRyju96jHNPjnk3KZFuz8scmK9q4MTJPr7bYdFEo6WYJEmM</th>\n",
       "      <td>309.280586</td>\n",
       "      <td>30928058621</td>\n",
       "      <td>20.669896</td>\n",
       "      <td>28.813571</td>\n",
       "      <td>46.331969</td>\n",
       "      <td>81.336107</td>\n",
       "      <td>51.546764</td>\n",
       "    </tr>\n",
       "    <tr>\n",
       "      <th>13NCaCjEqGPCrMgEGkzjLEAX3dfaGDNA9SksARATyRgEyxuJLGg</th>\n",
       "      <td>161.167367</td>\n",
       "      <td>16116736684</td>\n",
       "      <td>17.377955</td>\n",
       "      <td>14.931548</td>\n",
       "      <td>33.290683</td>\n",
       "      <td>58.634553</td>\n",
       "      <td>32.233473</td>\n",
       "    </tr>\n",
       "    <tr>\n",
       "      <th>13AvzGLk4ormmqzR1UKL7tSMHv5jkEjsikwoaSkFAzhMRt7dcB5</th>\n",
       "      <td>2362.880353</td>\n",
       "      <td>236288035261</td>\n",
       "      <td>20.534595</td>\n",
       "      <td>0.044067</td>\n",
       "      <td>1.401897</td>\n",
       "      <td>144.164976</td>\n",
       "      <td>11.198485</td>\n",
       "    </tr>\n",
       "    <tr>\n",
       "      <th>14BT97xnPZ9YfmeTxmuMhstxB8zHS8FeTUDxqPp38duW7NPHNCg</th>\n",
       "      <td>424.575938</td>\n",
       "      <td>42457593802</td>\n",
       "      <td>28.276559</td>\n",
       "      <td>51.683722</td>\n",
       "      <td>91.074741</td>\n",
       "      <td>124.140310</td>\n",
       "      <td>84.915188</td>\n",
       "    </tr>\n",
       "    <tr>\n",
       "      <th>14SiXdBfQT15p43yGuHRFwg9ynP3Fx8ELErkbAUH9H326mGtrA4</th>\n",
       "      <td>123.295232</td>\n",
       "      <td>12329523228</td>\n",
       "      <td>21.724939</td>\n",
       "      <td>7.701923</td>\n",
       "      <td>28.169352</td>\n",
       "      <td>59.254606</td>\n",
       "      <td>30.823808</td>\n",
       "    </tr>\n",
       "    <tr>\n",
       "      <th>13v9kMn5p1a3Y5vqnPxzqfaiEhhrRBaMLYk7SmiN3pJEx1WmBpT</th>\n",
       "      <td>203.048695</td>\n",
       "      <td>20304869514</td>\n",
       "      <td>55.240466</td>\n",
       "      <td>11.439385</td>\n",
       "      <td>30.679279</td>\n",
       "      <td>130.250752</td>\n",
       "      <td>50.762174</td>\n",
       "    </tr>\n",
       "  </tbody>\n",
       "</table>\n",
       "</div>"
      ],
      "text/plain": [
       "                                                          total           sum  \\\n",
       "14Rqw67Er4T4mDitRR5hkvDbefXUhVQGiaVV4yzgSF3sVtu...  2785.104583  278510458320   \n",
       "13Wwpbanr8rMrGPBYajqDTHsScYJAVuXJwSP2hLD3nQk74Z...   753.581229   75358122856   \n",
       "13W2BQ5FxQEV4C3PR9nYEC6kywKfNYFFVmHo38UgpLxusX9...   534.718375   53471837477   \n",
       "14a1EcchN6gaqHzSh9u2NMuNCSzqWhxU11TWbsJG8Sn9q98...   332.440647   33244064732   \n",
       "14HzZRyju96jHNPjnk3KZFuz8scmK9q4MTJPr7bYdFEo6WY...   309.280586   30928058621   \n",
       "13NCaCjEqGPCrMgEGkzjLEAX3dfaGDNA9SksARATyRgEyxu...   161.167367   16116736684   \n",
       "13AvzGLk4ormmqzR1UKL7tSMHv5jkEjsikwoaSkFAzhMRt7...  2362.880353  236288035261   \n",
       "14BT97xnPZ9YfmeTxmuMhstxB8zHS8FeTUDxqPp38duW7NP...   424.575938   42457593802   \n",
       "14SiXdBfQT15p43yGuHRFwg9ynP3Fx8ELErkbAUH9H326mG...   123.295232   12329523228   \n",
       "13v9kMn5p1a3Y5vqnPxzqfaiEhhrRBaMLYk7SmiN3pJEx1W...   203.048695   20304869514   \n",
       "\n",
       "                                                       stddev        min  \\\n",
       "14Rqw67Er4T4mDitRR5hkvDbefXUhVQGiaVV4yzgSF3sVtu...  33.089592   0.588819   \n",
       "13Wwpbanr8rMrGPBYajqDTHsScYJAVuXJwSP2hLD3nQk74Z...  45.033710   1.109836   \n",
       "13W2BQ5FxQEV4C3PR9nYEC6kywKfNYFFVmHo38UgpLxusX9...  24.040897  13.693284   \n",
       "14a1EcchN6gaqHzSh9u2NMuNCSzqWhxU11TWbsJG8Sn9q98...  12.333696  21.248435   \n",
       "14HzZRyju96jHNPjnk3KZFuz8scmK9q4MTJPr7bYdFEo6WY...  20.669896  28.813571   \n",
       "13NCaCjEqGPCrMgEGkzjLEAX3dfaGDNA9SksARATyRgEyxu...  17.377955  14.931548   \n",
       "13AvzGLk4ormmqzR1UKL7tSMHv5jkEjsikwoaSkFAzhMRt7...  20.534595   0.044067   \n",
       "14BT97xnPZ9YfmeTxmuMhstxB8zHS8FeTUDxqPp38duW7NP...  28.276559  51.683722   \n",
       "14SiXdBfQT15p43yGuHRFwg9ynP3Fx8ELErkbAUH9H326mG...  21.724939   7.701923   \n",
       "13v9kMn5p1a3Y5vqnPxzqfaiEhhrRBaMLYk7SmiN3pJEx1W...  55.240466  11.439385   \n",
       "\n",
       "                                                       median         max  \\\n",
       "14Rqw67Er4T4mDitRR5hkvDbefXUhVQGiaVV4yzgSF3sVtu...  30.261529  148.561965   \n",
       "13Wwpbanr8rMrGPBYajqDTHsScYJAVuXJwSP2hLD3nQk74Z...  67.895639  139.696453   \n",
       "13W2BQ5FxQEV4C3PR9nYEC6kywKfNYFFVmHo38UgpLxusX9...  40.862044   83.772194   \n",
       "14a1EcchN6gaqHzSh9u2NMuNCSzqWhxU11TWbsJG8Sn9q98...  34.547820   54.862675   \n",
       "14HzZRyju96jHNPjnk3KZFuz8scmK9q4MTJPr7bYdFEo6WY...  46.331969   81.336107   \n",
       "13NCaCjEqGPCrMgEGkzjLEAX3dfaGDNA9SksARATyRgEyxu...  33.290683   58.634553   \n",
       "13AvzGLk4ormmqzR1UKL7tSMHv5jkEjsikwoaSkFAzhMRt7...   1.401897  144.164976   \n",
       "14BT97xnPZ9YfmeTxmuMhstxB8zHS8FeTUDxqPp38duW7NP...  91.074741  124.140310   \n",
       "14SiXdBfQT15p43yGuHRFwg9ynP3Fx8ELErkbAUH9H326mG...  28.169352   59.254606   \n",
       "13v9kMn5p1a3Y5vqnPxzqfaiEhhrRBaMLYk7SmiN3pJEx1W...  30.679279  130.250752   \n",
       "\n",
       "                                                          avg  \n",
       "14Rqw67Er4T4mDitRR5hkvDbefXUhVQGiaVV4yzgSF3sVtu...  39.226825  \n",
       "13Wwpbanr8rMrGPBYajqDTHsScYJAVuXJwSP2hLD3nQk74Z...  53.827231  \n",
       "13W2BQ5FxQEV4C3PR9nYEC6kywKfNYFFVmHo38UgpLxusX9...  44.559865  \n",
       "14a1EcchN6gaqHzSh9u2NMuNCSzqWhxU11TWbsJG8Sn9q98...  36.937850  \n",
       "14HzZRyju96jHNPjnk3KZFuz8scmK9q4MTJPr7bYdFEo6WY...  51.546764  \n",
       "13NCaCjEqGPCrMgEGkzjLEAX3dfaGDNA9SksARATyRgEyxu...  32.233473  \n",
       "13AvzGLk4ormmqzR1UKL7tSMHv5jkEjsikwoaSkFAzhMRt7...  11.198485  \n",
       "14BT97xnPZ9YfmeTxmuMhstxB8zHS8FeTUDxqPp38duW7NP...  84.915188  \n",
       "14SiXdBfQT15p43yGuHRFwg9ynP3Fx8ELErkbAUH9H326mG...  30.823808  \n",
       "13v9kMn5p1a3Y5vqnPxzqfaiEhhrRBaMLYk7SmiN3pJEx1W...  50.762174  "
      ]
     },
     "execution_count": 89,
     "metadata": {},
     "output_type": "execute_result"
    }
   ],
   "source": [
    "df_swe_rewards_last_week"
   ]
  },
  {
   "cell_type": "code",
   "execution_count": 91,
   "metadata": {},
   "outputs": [
    {
     "data": {
      "text/plain": [
       "14Rqw67Er4T4mDitRR5hkvDbefXUhVQGiaVV4yzgSF3sVtu6PfU    73\n",
       "13Wwpbanr8rMrGPBYajqDTHsScYJAVuXJwSP2hLD3nQk74Zm55y    22\n",
       "13W2BQ5FxQEV4C3PR9nYEC6kywKfNYFFVmHo38UgpLxusX9buCd    12\n",
       "14a1EcchN6gaqHzSh9u2NMuNCSzqWhxU11TWbsJG8Sn9q98bkCL     9\n",
       "14HzZRyju96jHNPjnk3KZFuz8scmK9q4MTJPr7bYdFEo6WYJEmM     6\n",
       "13NCaCjEqGPCrMgEGkzjLEAX3dfaGDNA9SksARATyRgEyxuJLGg     5\n",
       "13AvzGLk4ormmqzR1UKL7tSMHv5jkEjsikwoaSkFAzhMRt7dcB5     5\n",
       "14BT97xnPZ9YfmeTxmuMhstxB8zHS8FeTUDxqPp38duW7NPHNCg     5\n",
       "14SiXdBfQT15p43yGuHRFwg9ynP3Fx8ELErkbAUH9H326mGtrA4     4\n",
       "13v9kMn5p1a3Y5vqnPxzqfaiEhhrRBaMLYk7SmiN3pJEx1WmBpT     4\n",
       "Name: owner, dtype: int64"
      ]
     },
     "execution_count": 91,
     "metadata": {},
     "output_type": "execute_result"
    }
   ],
   "source": [
    "df_total_swe = df4_swe['owner'].value_counts().head(10)\n",
    "df_total_swe "
   ]
  },
  {
   "cell_type": "code",
   "execution_count": 92,
   "metadata": {},
   "outputs": [],
   "source": [
    "\n",
    "df_total_swe.columns = ['owners','hotspots']"
   ]
  },
  {
   "cell_type": "code",
   "execution_count": 93,
   "metadata": {},
   "outputs": [],
   "source": [
    "df_weekly_swe = pd.DataFrame(df_total_swe).join(df_swe_rewards_last_week)"
   ]
  },
  {
   "cell_type": "code",
   "execution_count": 94,
   "metadata": {},
   "outputs": [
    {
     "data": {
      "text/html": [
       "<div>\n",
       "<style scoped>\n",
       "    .dataframe tbody tr th:only-of-type {\n",
       "        vertical-align: middle;\n",
       "    }\n",
       "\n",
       "    .dataframe tbody tr th {\n",
       "        vertical-align: top;\n",
       "    }\n",
       "\n",
       "    .dataframe thead th {\n",
       "        text-align: right;\n",
       "    }\n",
       "</style>\n",
       "<table border=\"1\" class=\"dataframe\">\n",
       "  <thead>\n",
       "    <tr style=\"text-align: right;\">\n",
       "      <th></th>\n",
       "      <th>owner</th>\n",
       "      <th>total</th>\n",
       "      <th>sum</th>\n",
       "      <th>stddev</th>\n",
       "      <th>min</th>\n",
       "      <th>median</th>\n",
       "      <th>max</th>\n",
       "      <th>avg</th>\n",
       "    </tr>\n",
       "  </thead>\n",
       "  <tbody>\n",
       "    <tr>\n",
       "      <th>14Rqw67Er4T4mDitRR5hkvDbefXUhVQGiaVV4yzgSF3sVtu6PfU</th>\n",
       "      <td>73</td>\n",
       "      <td>2785.104583</td>\n",
       "      <td>278510458320</td>\n",
       "      <td>33.089592</td>\n",
       "      <td>0.588819</td>\n",
       "      <td>30.261529</td>\n",
       "      <td>148.561965</td>\n",
       "      <td>39.226825</td>\n",
       "    </tr>\n",
       "    <tr>\n",
       "      <th>13Wwpbanr8rMrGPBYajqDTHsScYJAVuXJwSP2hLD3nQk74Zm55y</th>\n",
       "      <td>22</td>\n",
       "      <td>753.581229</td>\n",
       "      <td>75358122856</td>\n",
       "      <td>45.033710</td>\n",
       "      <td>1.109836</td>\n",
       "      <td>67.895639</td>\n",
       "      <td>139.696453</td>\n",
       "      <td>53.827231</td>\n",
       "    </tr>\n",
       "    <tr>\n",
       "      <th>13W2BQ5FxQEV4C3PR9nYEC6kywKfNYFFVmHo38UgpLxusX9buCd</th>\n",
       "      <td>12</td>\n",
       "      <td>534.718375</td>\n",
       "      <td>53471837477</td>\n",
       "      <td>24.040897</td>\n",
       "      <td>13.693284</td>\n",
       "      <td>40.862044</td>\n",
       "      <td>83.772194</td>\n",
       "      <td>44.559865</td>\n",
       "    </tr>\n",
       "    <tr>\n",
       "      <th>14a1EcchN6gaqHzSh9u2NMuNCSzqWhxU11TWbsJG8Sn9q98bkCL</th>\n",
       "      <td>9</td>\n",
       "      <td>332.440647</td>\n",
       "      <td>33244064732</td>\n",
       "      <td>12.333696</td>\n",
       "      <td>21.248435</td>\n",
       "      <td>34.547820</td>\n",
       "      <td>54.862675</td>\n",
       "      <td>36.937850</td>\n",
       "    </tr>\n",
       "    <tr>\n",
       "      <th>14HzZRyju96jHNPjnk3KZFuz8scmK9q4MTJPr7bYdFEo6WYJEmM</th>\n",
       "      <td>6</td>\n",
       "      <td>309.280586</td>\n",
       "      <td>30928058621</td>\n",
       "      <td>20.669896</td>\n",
       "      <td>28.813571</td>\n",
       "      <td>46.331969</td>\n",
       "      <td>81.336107</td>\n",
       "      <td>51.546764</td>\n",
       "    </tr>\n",
       "    <tr>\n",
       "      <th>13NCaCjEqGPCrMgEGkzjLEAX3dfaGDNA9SksARATyRgEyxuJLGg</th>\n",
       "      <td>5</td>\n",
       "      <td>161.167367</td>\n",
       "      <td>16116736684</td>\n",
       "      <td>17.377955</td>\n",
       "      <td>14.931548</td>\n",
       "      <td>33.290683</td>\n",
       "      <td>58.634553</td>\n",
       "      <td>32.233473</td>\n",
       "    </tr>\n",
       "    <tr>\n",
       "      <th>13AvzGLk4ormmqzR1UKL7tSMHv5jkEjsikwoaSkFAzhMRt7dcB5</th>\n",
       "      <td>5</td>\n",
       "      <td>2362.880353</td>\n",
       "      <td>236288035261</td>\n",
       "      <td>20.534595</td>\n",
       "      <td>0.044067</td>\n",
       "      <td>1.401897</td>\n",
       "      <td>144.164976</td>\n",
       "      <td>11.198485</td>\n",
       "    </tr>\n",
       "    <tr>\n",
       "      <th>14BT97xnPZ9YfmeTxmuMhstxB8zHS8FeTUDxqPp38duW7NPHNCg</th>\n",
       "      <td>5</td>\n",
       "      <td>424.575938</td>\n",
       "      <td>42457593802</td>\n",
       "      <td>28.276559</td>\n",
       "      <td>51.683722</td>\n",
       "      <td>91.074741</td>\n",
       "      <td>124.140310</td>\n",
       "      <td>84.915188</td>\n",
       "    </tr>\n",
       "    <tr>\n",
       "      <th>14SiXdBfQT15p43yGuHRFwg9ynP3Fx8ELErkbAUH9H326mGtrA4</th>\n",
       "      <td>4</td>\n",
       "      <td>123.295232</td>\n",
       "      <td>12329523228</td>\n",
       "      <td>21.724939</td>\n",
       "      <td>7.701923</td>\n",
       "      <td>28.169352</td>\n",
       "      <td>59.254606</td>\n",
       "      <td>30.823808</td>\n",
       "    </tr>\n",
       "    <tr>\n",
       "      <th>13v9kMn5p1a3Y5vqnPxzqfaiEhhrRBaMLYk7SmiN3pJEx1WmBpT</th>\n",
       "      <td>4</td>\n",
       "      <td>203.048695</td>\n",
       "      <td>20304869514</td>\n",
       "      <td>55.240466</td>\n",
       "      <td>11.439385</td>\n",
       "      <td>30.679279</td>\n",
       "      <td>130.250752</td>\n",
       "      <td>50.762174</td>\n",
       "    </tr>\n",
       "  </tbody>\n",
       "</table>\n",
       "</div>"
      ],
      "text/plain": [
       "                                                    owner        total  \\\n",
       "14Rqw67Er4T4mDitRR5hkvDbefXUhVQGiaVV4yzgSF3sVtu...     73  2785.104583   \n",
       "13Wwpbanr8rMrGPBYajqDTHsScYJAVuXJwSP2hLD3nQk74Z...     22   753.581229   \n",
       "13W2BQ5FxQEV4C3PR9nYEC6kywKfNYFFVmHo38UgpLxusX9...     12   534.718375   \n",
       "14a1EcchN6gaqHzSh9u2NMuNCSzqWhxU11TWbsJG8Sn9q98...      9   332.440647   \n",
       "14HzZRyju96jHNPjnk3KZFuz8scmK9q4MTJPr7bYdFEo6WY...      6   309.280586   \n",
       "13NCaCjEqGPCrMgEGkzjLEAX3dfaGDNA9SksARATyRgEyxu...      5   161.167367   \n",
       "13AvzGLk4ormmqzR1UKL7tSMHv5jkEjsikwoaSkFAzhMRt7...      5  2362.880353   \n",
       "14BT97xnPZ9YfmeTxmuMhstxB8zHS8FeTUDxqPp38duW7NP...      5   424.575938   \n",
       "14SiXdBfQT15p43yGuHRFwg9ynP3Fx8ELErkbAUH9H326mG...      4   123.295232   \n",
       "13v9kMn5p1a3Y5vqnPxzqfaiEhhrRBaMLYk7SmiN3pJEx1W...      4   203.048695   \n",
       "\n",
       "                                                             sum     stddev  \\\n",
       "14Rqw67Er4T4mDitRR5hkvDbefXUhVQGiaVV4yzgSF3sVtu...  278510458320  33.089592   \n",
       "13Wwpbanr8rMrGPBYajqDTHsScYJAVuXJwSP2hLD3nQk74Z...   75358122856  45.033710   \n",
       "13W2BQ5FxQEV4C3PR9nYEC6kywKfNYFFVmHo38UgpLxusX9...   53471837477  24.040897   \n",
       "14a1EcchN6gaqHzSh9u2NMuNCSzqWhxU11TWbsJG8Sn9q98...   33244064732  12.333696   \n",
       "14HzZRyju96jHNPjnk3KZFuz8scmK9q4MTJPr7bYdFEo6WY...   30928058621  20.669896   \n",
       "13NCaCjEqGPCrMgEGkzjLEAX3dfaGDNA9SksARATyRgEyxu...   16116736684  17.377955   \n",
       "13AvzGLk4ormmqzR1UKL7tSMHv5jkEjsikwoaSkFAzhMRt7...  236288035261  20.534595   \n",
       "14BT97xnPZ9YfmeTxmuMhstxB8zHS8FeTUDxqPp38duW7NP...   42457593802  28.276559   \n",
       "14SiXdBfQT15p43yGuHRFwg9ynP3Fx8ELErkbAUH9H326mG...   12329523228  21.724939   \n",
       "13v9kMn5p1a3Y5vqnPxzqfaiEhhrRBaMLYk7SmiN3pJEx1W...   20304869514  55.240466   \n",
       "\n",
       "                                                          min     median  \\\n",
       "14Rqw67Er4T4mDitRR5hkvDbefXUhVQGiaVV4yzgSF3sVtu...   0.588819  30.261529   \n",
       "13Wwpbanr8rMrGPBYajqDTHsScYJAVuXJwSP2hLD3nQk74Z...   1.109836  67.895639   \n",
       "13W2BQ5FxQEV4C3PR9nYEC6kywKfNYFFVmHo38UgpLxusX9...  13.693284  40.862044   \n",
       "14a1EcchN6gaqHzSh9u2NMuNCSzqWhxU11TWbsJG8Sn9q98...  21.248435  34.547820   \n",
       "14HzZRyju96jHNPjnk3KZFuz8scmK9q4MTJPr7bYdFEo6WY...  28.813571  46.331969   \n",
       "13NCaCjEqGPCrMgEGkzjLEAX3dfaGDNA9SksARATyRgEyxu...  14.931548  33.290683   \n",
       "13AvzGLk4ormmqzR1UKL7tSMHv5jkEjsikwoaSkFAzhMRt7...   0.044067   1.401897   \n",
       "14BT97xnPZ9YfmeTxmuMhstxB8zHS8FeTUDxqPp38duW7NP...  51.683722  91.074741   \n",
       "14SiXdBfQT15p43yGuHRFwg9ynP3Fx8ELErkbAUH9H326mG...   7.701923  28.169352   \n",
       "13v9kMn5p1a3Y5vqnPxzqfaiEhhrRBaMLYk7SmiN3pJEx1W...  11.439385  30.679279   \n",
       "\n",
       "                                                           max        avg  \n",
       "14Rqw67Er4T4mDitRR5hkvDbefXUhVQGiaVV4yzgSF3sVtu...  148.561965  39.226825  \n",
       "13Wwpbanr8rMrGPBYajqDTHsScYJAVuXJwSP2hLD3nQk74Z...  139.696453  53.827231  \n",
       "13W2BQ5FxQEV4C3PR9nYEC6kywKfNYFFVmHo38UgpLxusX9...   83.772194  44.559865  \n",
       "14a1EcchN6gaqHzSh9u2NMuNCSzqWhxU11TWbsJG8Sn9q98...   54.862675  36.937850  \n",
       "14HzZRyju96jHNPjnk3KZFuz8scmK9q4MTJPr7bYdFEo6WY...   81.336107  51.546764  \n",
       "13NCaCjEqGPCrMgEGkzjLEAX3dfaGDNA9SksARATyRgEyxu...   58.634553  32.233473  \n",
       "13AvzGLk4ormmqzR1UKL7tSMHv5jkEjsikwoaSkFAzhMRt7...  144.164976  11.198485  \n",
       "14BT97xnPZ9YfmeTxmuMhstxB8zHS8FeTUDxqPp38duW7NP...  124.140310  84.915188  \n",
       "14SiXdBfQT15p43yGuHRFwg9ynP3Fx8ELErkbAUH9H326mG...   59.254606  30.823808  \n",
       "13v9kMn5p1a3Y5vqnPxzqfaiEhhrRBaMLYk7SmiN3pJEx1W...  130.250752  50.762174  "
      ]
     },
     "execution_count": 94,
     "metadata": {},
     "output_type": "execute_result"
    }
   ],
   "source": [
    "df_weekly_swe"
   ]
  },
  {
   "cell_type": "code",
   "execution_count": 95,
   "metadata": {},
   "outputs": [
    {
     "data": {
      "text/plain": [
       "14Rqw67Er4T4mDitRR5hkvDbefXUhVQGiaVV4yzgSF3sVtu6PfU    2785.104583\n",
       "13Wwpbanr8rMrGPBYajqDTHsScYJAVuXJwSP2hLD3nQk74Zm55y     753.581229\n",
       "13W2BQ5FxQEV4C3PR9nYEC6kywKfNYFFVmHo38UgpLxusX9buCd     534.718375\n",
       "14a1EcchN6gaqHzSh9u2NMuNCSzqWhxU11TWbsJG8Sn9q98bkCL     332.440647\n",
       "14HzZRyju96jHNPjnk3KZFuz8scmK9q4MTJPr7bYdFEo6WYJEmM     309.280586\n",
       "13NCaCjEqGPCrMgEGkzjLEAX3dfaGDNA9SksARATyRgEyxuJLGg     161.167367\n",
       "13AvzGLk4ormmqzR1UKL7tSMHv5jkEjsikwoaSkFAzhMRt7dcB5    2362.880353\n",
       "14BT97xnPZ9YfmeTxmuMhstxB8zHS8FeTUDxqPp38duW7NPHNCg     424.575938\n",
       "14SiXdBfQT15p43yGuHRFwg9ynP3Fx8ELErkbAUH9H326mGtrA4     123.295232\n",
       "13v9kMn5p1a3Y5vqnPxzqfaiEhhrRBaMLYk7SmiN3pJEx1WmBpT     203.048695\n",
       "Name: total, dtype: float64"
      ]
     },
     "execution_count": 95,
     "metadata": {},
     "output_type": "execute_result"
    }
   ],
   "source": [
    "df_weekly_swe['total']"
   ]
  },
  {
   "cell_type": "code",
   "execution_count": 96,
   "metadata": {},
   "outputs": [
    {
     "data": {
      "text/plain": [
       "14Rqw67Er4T4mDitRR5hkvDbefXUhVQGiaVV4yzgSF3sVtu6PfU     38.152118\n",
       "13Wwpbanr8rMrGPBYajqDTHsScYJAVuXJwSP2hLD3nQk74Zm55y     34.253692\n",
       "13W2BQ5FxQEV4C3PR9nYEC6kywKfNYFFVmHo38UgpLxusX9buCd     44.559865\n",
       "14a1EcchN6gaqHzSh9u2NMuNCSzqWhxU11TWbsJG8Sn9q98bkCL     36.937850\n",
       "14HzZRyju96jHNPjnk3KZFuz8scmK9q4MTJPr7bYdFEo6WYJEmM     51.546764\n",
       "13NCaCjEqGPCrMgEGkzjLEAX3dfaGDNA9SksARATyRgEyxuJLGg     32.233473\n",
       "13AvzGLk4ormmqzR1UKL7tSMHv5jkEjsikwoaSkFAzhMRt7dcB5    472.576071\n",
       "14BT97xnPZ9YfmeTxmuMhstxB8zHS8FeTUDxqPp38duW7NPHNCg     84.915188\n",
       "14SiXdBfQT15p43yGuHRFwg9ynP3Fx8ELErkbAUH9H326mGtrA4     30.823808\n",
       "13v9kMn5p1a3Y5vqnPxzqfaiEhhrRBaMLYk7SmiN3pJEx1WmBpT     50.762174\n",
       "dtype: float64"
      ]
     },
     "execution_count": 96,
     "metadata": {},
     "output_type": "execute_result"
    }
   ],
   "source": [
    "df_weekly_swe['total']/df_weekly_swe['owner']"
   ]
  },
  {
   "cell_type": "code",
   "execution_count": 97,
   "metadata": {},
   "outputs": [],
   "source": [
    "df_reward = df_reward.rename({'total':'total_hnt_alltime', 'median':'median_alltime', 'avg':'avg_alltime', 'stddev':'stddev_alltime'},axis=1)"
   ]
  },
  {
   "cell_type": "code",
   "execution_count": 98,
   "metadata": {},
   "outputs": [],
   "source": [
    "df_reward['past_week_hnt'] = df_weekly_swe['total']"
   ]
  },
  {
   "cell_type": "code",
   "execution_count": 99,
   "metadata": {},
   "outputs": [],
   "source": [
    "df_reward['past_week_hnt_per_hotspot'] = df_weekly_swe['total']/df_weekly_swe['owner']"
   ]
  },
  {
   "cell_type": "code",
   "execution_count": 100,
   "metadata": {},
   "outputs": [],
   "source": [
    "df_reward['hotspots_owned'] = df4_swe['owner'].value_counts().head(10)"
   ]
  },
  {
   "cell_type": "code",
   "execution_count": 101,
   "metadata": {},
   "outputs": [],
   "source": [
    "df_reward = df_reward.drop(['sum','min','max'],axis=1)"
   ]
  },
  {
   "cell_type": "code",
   "execution_count": 102,
   "metadata": {},
   "outputs": [
    {
     "data": {
      "text/plain": [
       "Index(['total_hnt_alltime', 'stddev_alltime', 'median_alltime', 'avg_alltime',\n",
       "       'past_week_hnt', 'past_week_hnt_per_hotspot', 'hotspots_owned'],\n",
       "      dtype='object')"
      ]
     },
     "execution_count": 102,
     "metadata": {},
     "output_type": "execute_result"
    }
   ],
   "source": [
    "df_reward.columns"
   ]
  },
  {
   "cell_type": "code",
   "execution_count": 103,
   "metadata": {},
   "outputs": [],
   "source": [
    "df_reward[['hotspots_owned','total_hnt_alltime', 'median_alltime', 'avg_alltime', 'stddev_alltime',\n",
    "       'past_week_hnt', 'past_week_hnt_per_hotspot']].to_csv('reward_per_owner.csv')"
   ]
  },
  {
   "cell_type": "code",
   "execution_count": null,
   "metadata": {},
   "outputs": [],
   "source": []
  }
 ],
 "metadata": {
  "kernelspec": {
   "display_name": "data-x",
   "language": "python",
   "name": "data-x"
  },
  "language_info": {
   "codemirror_mode": {
    "name": "ipython",
    "version": 3
   },
   "file_extension": ".py",
   "mimetype": "text/x-python",
   "name": "python",
   "nbconvert_exporter": "python",
   "pygments_lexer": "ipython3",
   "version": "3.7.4"
  }
 },
 "nbformat": 4,
 "nbformat_minor": 4
}
