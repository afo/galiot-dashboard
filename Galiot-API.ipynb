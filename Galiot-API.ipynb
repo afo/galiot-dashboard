{
 "cells": [
  {
   "cell_type": "code",
   "execution_count": 1,
   "metadata": {},
   "outputs": [],
   "source": [
    "API = 'https://api.helium.io/'"
   ]
  },
  {
   "cell_type": "code",
   "execution_count": 2,
   "metadata": {},
   "outputs": [],
   "source": [
    "import requests"
   ]
  },
  {
   "cell_type": "code",
   "execution_count": 3,
   "metadata": {},
   "outputs": [],
   "source": [
    "r = requests.get('https://api.helium.io/v1/locations/8c08866198e4bff')"
   ]
  },
  {
   "cell_type": "code",
   "execution_count": 4,
   "metadata": {},
   "outputs": [
    {
     "data": {
      "text/plain": [
       "{'data': {'short_street': 'Skeppargatan',\n",
       "  'short_state': 'Stockholms län',\n",
       "  'short_country': 'SE',\n",
       "  'short_city': 'Östermalm',\n",
       "  'long_street': 'Skeppargatan',\n",
       "  'long_state': 'Stockholms län',\n",
       "  'long_country': 'Sweden',\n",
       "  'long_city': 'Östermalm',\n",
       "  'location': '8c08866198e4bff',\n",
       "  'city_id': 'w7ZzdGVybWFsbXN0b2NraG9sbXMgbMOkbnN3ZWRlbg'}}"
      ]
     },
     "execution_count": 4,
     "metadata": {},
     "output_type": "execute_result"
    }
   ],
   "source": [
    "r.json()"
   ]
  },
  {
   "cell_type": "code",
   "execution_count": 5,
   "metadata": {},
   "outputs": [],
   "source": [
    "r = requests.get('https://api.helium.io/v1/stats')"
   ]
  },
  {
   "cell_type": "code",
   "execution_count": 6,
   "metadata": {},
   "outputs": [
    {
     "data": {
      "text/plain": [
       "{'data': {'token_supply': 80652704.16559346,\n",
       "  'state_channel_counts': {'last_week': {'num_packets': 4996651,\n",
       "    'num_dcs': 12754617},\n",
       "   'last_month': {'num_packets': 19248928, 'num_dcs': 50248469},\n",
       "   'last_day': {'num_packets': 773412, 'num_dcs': 1880246}},\n",
       "  'fees': {'last_week': {'transaction': 427380000, 'staking': 4235000000},\n",
       "   'last_month': {'transaction': 1846565000, 'staking': 31349000000},\n",
       "   'last_day': {'transaction': 136540000, 'staking': 1406000000}},\n",
       "  'election_times': {'last_week': {'stddev': 1884.917125891168,\n",
       "    'avg': 2636.8165938864627},\n",
       "   'last_month': {'stddev': 2323.481693816988, 'avg': 2740.5958974358973},\n",
       "   'last_hour': {'stddev': None, 'avg': 2224.0},\n",
       "   'last_day': {'stddev': 942.877839798309, 'avg': 2213.4358974358975}},\n",
       "  'counts': {'transactions': 50361370,\n",
       "   'hotspots': 24804,\n",
       "   'countries': 66,\n",
       "   'consensus_groups': 20326,\n",
       "   'cities': 3566,\n",
       "   'challenges': 18973100,\n",
       "   'blocks': 786040},\n",
       "  'challenge_counts': {'last_day': 53398, 'active': 8846},\n",
       "  'block_times': {'last_week': {'stddev': 49.680639732456626,\n",
       "    'avg': 62.0072798113401},\n",
       "   'last_month': {'stddev': 47.460254619907516, 'avg': 61.8648280322454},\n",
       "   'last_hour': {'stddev': 33.73167633991179, 'avg': 59.06666666666667},\n",
       "   'last_day': {'stddev': 20.283131824426643, 'avg': 57.01056105610561}}}}"
      ]
     },
     "execution_count": 6,
     "metadata": {},
     "output_type": "execute_result"
    }
   ],
   "source": [
    "r.json()"
   ]
  },
  {
   "cell_type": "code",
   "execution_count": 7,
   "metadata": {},
   "outputs": [],
   "source": [
    "r = requests.get('https://api.helium.io/v1/hotspots/name/small-leather-nuthatch')"
   ]
  },
  {
   "cell_type": "code",
   "execution_count": 8,
   "metadata": {},
   "outputs": [
    {
     "data": {
      "text/plain": [
       "{'data': [{'lng': 18.09012557886758,\n",
       "   'lat': 59.34257271627216,\n",
       "   'timestamp_added': '2020-10-02T10:32:05.000000Z',\n",
       "   'status': {'online': 'online',\n",
       "    'listen_addrs': ['/p2p/112n6mw9qyFdD2yLhJJA6ESX85aHP6gnwjHCfSagLCa6yRCBHYJ5/p2p-circuit/p2p/112ZdtYTRoSQrXm3XthtUqQMP7BfmMzpMncKdUZxGxkPLJYCWrfg'],\n",
       "    'height': 786017},\n",
       "   'reward_scale': 0.641021728515625,\n",
       "   'owner': '14Rqw67Er4T4mDitRR5hkvDbefXUhVQGiaVV4yzgSF3sVtu6PfU',\n",
       "   'nonce': 1,\n",
       "   'name': 'small-leather-nuthatch',\n",
       "   'location': '8c08866198e4bff',\n",
       "   'last_poc_challenge': 785832,\n",
       "   'last_change_block': 786033,\n",
       "   'geocode': {'short_street': 'Skeppargatan',\n",
       "    'short_state': 'Stockholms län',\n",
       "    'short_country': 'SE',\n",
       "    'short_city': 'Östermalm',\n",
       "    'long_street': 'Skeppargatan',\n",
       "    'long_state': 'Stockholms län',\n",
       "    'long_country': 'Sweden',\n",
       "    'long_city': 'Östermalm',\n",
       "    'city_id': 'w7ZzdGVybWFsbXN0b2NraG9sbXMgbMOkbnN3ZWRlbg'},\n",
       "   'block_added': 526389,\n",
       "   'block': 786044,\n",
       "   'address': '112ZdtYTRoSQrXm3XthtUqQMP7BfmMzpMncKdUZxGxkPLJYCWrfg'}]}"
      ]
     },
     "execution_count": 8,
     "metadata": {},
     "output_type": "execute_result"
    }
   ],
   "source": [
    "r.json()"
   ]
  },
  {
   "cell_type": "code",
   "execution_count": 9,
   "metadata": {},
   "outputs": [],
   "source": [
    "results = []\n",
    "cursor=''"
   ]
  },
  {
   "cell_type": "code",
   "execution_count": 10,
   "metadata": {},
   "outputs": [
    {
     "ename": "KeyError",
     "evalue": "'cursor'",
     "output_type": "error",
     "traceback": [
      "\u001b[0;31m---------------------------------------------------------------------------\u001b[0m",
      "\u001b[0;31mKeyError\u001b[0m                                  Traceback (most recent call last)",
      "\u001b[0;32m<ipython-input-10-e0612379bd4f>\u001b[0m in \u001b[0;36m<module>\u001b[0;34m\u001b[0m\n\u001b[1;32m      1\u001b[0m \u001b[0;32mwhile\u001b[0m \u001b[0mcursor\u001b[0m \u001b[0;32mis\u001b[0m \u001b[0;32mnot\u001b[0m \u001b[0;32mNone\u001b[0m\u001b[0;34m:\u001b[0m\u001b[0;34m\u001b[0m\u001b[0;34m\u001b[0m\u001b[0m\n\u001b[1;32m      2\u001b[0m     \u001b[0mr\u001b[0m \u001b[0;34m=\u001b[0m \u001b[0mrequests\u001b[0m\u001b[0;34m.\u001b[0m\u001b[0mget\u001b[0m\u001b[0;34m(\u001b[0m\u001b[0;34m'https://api.helium.wtf/v1/cities?cursor={}'\u001b[0m\u001b[0;34m.\u001b[0m\u001b[0mformat\u001b[0m\u001b[0;34m(\u001b[0m\u001b[0mcursor\u001b[0m\u001b[0;34m)\u001b[0m\u001b[0;34m)\u001b[0m\u001b[0;34m\u001b[0m\u001b[0;34m\u001b[0m\u001b[0m\n\u001b[0;32m----> 3\u001b[0;31m     \u001b[0mcursor\u001b[0m \u001b[0;34m=\u001b[0m \u001b[0mr\u001b[0m\u001b[0;34m.\u001b[0m\u001b[0mjson\u001b[0m\u001b[0;34m(\u001b[0m\u001b[0;34m)\u001b[0m\u001b[0;34m[\u001b[0m\u001b[0;34m'cursor'\u001b[0m\u001b[0;34m]\u001b[0m\u001b[0;34m\u001b[0m\u001b[0;34m\u001b[0m\u001b[0m\n\u001b[0m\u001b[1;32m      4\u001b[0m     \u001b[0mresults\u001b[0m\u001b[0;34m.\u001b[0m\u001b[0mappend\u001b[0m\u001b[0;34m(\u001b[0m\u001b[0mr\u001b[0m\u001b[0;34m.\u001b[0m\u001b[0mjson\u001b[0m\u001b[0;34m(\u001b[0m\u001b[0;34m)\u001b[0m\u001b[0;34m)\u001b[0m\u001b[0;34m\u001b[0m\u001b[0;34m\u001b[0m\u001b[0m\n",
      "\u001b[0;31mKeyError\u001b[0m: 'cursor'"
     ]
    }
   ],
   "source": [
    "while cursor is not None:\n",
    "    r = requests.get('https://api.helium.wtf/v1/cities?cursor={}'.format(cursor))\n",
    "    cursor = r.json()['cursor']\n",
    "    results.append(r.json())"
   ]
  },
  {
   "cell_type": "code",
   "execution_count": 11,
   "metadata": {},
   "outputs": [
    {
     "data": {
      "text/plain": [
       "39"
      ]
     },
     "execution_count": 11,
     "metadata": {},
     "output_type": "execute_result"
    }
   ],
   "source": [
    "len(results)"
   ]
  },
  {
   "cell_type": "code",
   "execution_count": 12,
   "metadata": {},
   "outputs": [
    {
     "data": {
      "text/plain": [
       "dict_keys(['short_state', 'short_country', 'short_city', 'online_count', 'offline_count', 'long_state', 'long_country', 'long_city', 'hotspot_count', 'city_id'])"
      ]
     },
     "execution_count": 12,
     "metadata": {},
     "output_type": "execute_result"
    }
   ],
   "source": [
    "results[0]['data'][1].keys()"
   ]
  },
  {
   "cell_type": "code",
   "execution_count": 13,
   "metadata": {},
   "outputs": [],
   "source": [
    "import pandas as pd"
   ]
  },
  {
   "cell_type": "code",
   "execution_count": 14,
   "metadata": {},
   "outputs": [],
   "source": [
    "df = pd.DataFrame(columns=results[0]['data'][1].keys())"
   ]
  },
  {
   "cell_type": "code",
   "execution_count": 15,
   "metadata": {},
   "outputs": [
    {
     "data": {
      "text/html": [
       "<div>\n",
       "<style scoped>\n",
       "    .dataframe tbody tr th:only-of-type {\n",
       "        vertical-align: middle;\n",
       "    }\n",
       "\n",
       "    .dataframe tbody tr th {\n",
       "        vertical-align: top;\n",
       "    }\n",
       "\n",
       "    .dataframe thead th {\n",
       "        text-align: right;\n",
       "    }\n",
       "</style>\n",
       "<table border=\"1\" class=\"dataframe\">\n",
       "  <thead>\n",
       "    <tr style=\"text-align: right;\">\n",
       "      <th></th>\n",
       "      <th>short_state</th>\n",
       "      <th>short_country</th>\n",
       "      <th>short_city</th>\n",
       "      <th>online_count</th>\n",
       "      <th>offline_count</th>\n",
       "      <th>long_state</th>\n",
       "      <th>long_country</th>\n",
       "      <th>long_city</th>\n",
       "      <th>hotspot_count</th>\n",
       "      <th>city_id</th>\n",
       "    </tr>\n",
       "  </thead>\n",
       "  <tbody>\n",
       "  </tbody>\n",
       "</table>\n",
       "</div>"
      ],
      "text/plain": [
       "Empty DataFrame\n",
       "Columns: [short_state, short_country, short_city, online_count, offline_count, long_state, long_country, long_city, hotspot_count, city_id]\n",
       "Index: []"
      ]
     },
     "execution_count": 15,
     "metadata": {},
     "output_type": "execute_result"
    }
   ],
   "source": [
    "df"
   ]
  },
  {
   "cell_type": "code",
   "execution_count": 16,
   "metadata": {},
   "outputs": [],
   "source": [
    "d2 = {}"
   ]
  },
  {
   "cell_type": "code",
   "execution_count": 17,
   "metadata": {},
   "outputs": [],
   "source": [
    "i=0"
   ]
  },
  {
   "cell_type": "code",
   "execution_count": 18,
   "metadata": {},
   "outputs": [],
   "source": [
    "\n",
    "for res in results:\n",
    "    for x in res['data']:\n",
    "        i=i+1\n",
    "        d2[i] = x"
   ]
  },
  {
   "cell_type": "code",
   "execution_count": 19,
   "metadata": {},
   "outputs": [],
   "source": [
    "df = pd.DataFrame.from_dict(d2, orient='index')"
   ]
  },
  {
   "cell_type": "code",
   "execution_count": 20,
   "metadata": {},
   "outputs": [],
   "source": [
    "df.to_csv('hotspot_count_city')"
   ]
  },
  {
   "cell_type": "code",
   "execution_count": 21,
   "metadata": {},
   "outputs": [],
   "source": [
    "import pandas as pd\n",
    "df = pd.read_csv('hotspot_count_city')"
   ]
  },
  {
   "cell_type": "code",
   "execution_count": 22,
   "metadata": {},
   "outputs": [
    {
     "data": {
      "text/plain": [
       "179"
      ]
     },
     "execution_count": 22,
     "metadata": {},
     "output_type": "execute_result"
    }
   ],
   "source": [
    "df[df['short_country']=='SE']['hotspot_count'].sum()"
   ]
  },
  {
   "cell_type": "code",
   "execution_count": 23,
   "metadata": {},
   "outputs": [
    {
     "data": {
      "text/plain": [
       "Stockholms län          25\n",
       "Västra Götalands län    22\n",
       "Uppsala län             12\n",
       "Skåne län                9\n",
       "Kalmar län               3\n",
       "Västerbottens län        2\n",
       "Värmlands län            1\n",
       "Norrbottens län          1\n",
       "Östergötlands län        1\n",
       "Södermanlands län        1\n",
       "Gävleborgs län           1\n",
       "Name: long_state, dtype: int64"
      ]
     },
     "execution_count": 23,
     "metadata": {},
     "output_type": "execute_result"
    }
   ],
   "source": [
    "df[df['short_country']=='SE']['long_state'].value_counts()"
   ]
  },
  {
   "cell_type": "code",
   "execution_count": 24,
   "metadata": {},
   "outputs": [],
   "source": [
    "df_swe = df[df['short_country']=='SE']"
   ]
  },
  {
   "cell_type": "code",
   "execution_count": 25,
   "metadata": {},
   "outputs": [
    {
     "data": {
      "text/plain": [
       "aW5vbSB2YWxsZ3JhdmVudsOkc3RyYSBnw7Z0YWxhbmRzIGzDpG5zd2VkZW4    1\n",
       "bMO2dGVudXBwc2FsYSBsw6Ruc3dlZGVu                               1\n",
       "Z3Jvc3Nnw6RyZGV0c3RvY2tob2xtcyBsw6Ruc3dlZGVu                   1\n",
       "bG9yZW5zYmVyZ3bDpHN0cmEgZ8O2dGFsYW5kcyBsw6Ruc3dlZGVu           1\n",
       "YmFja2F2w6RzdHJhIGfDtnRhbGFuZHMgbMOkbnN3ZWRlbg                 1\n",
       "                                                              ..\n",
       "dWxyaWNlaGFtbnbDpHN0cmEgZ8O2dGFsYW5kcyBsw6Ruc3dlZGVu           1\n",
       "YW5uZWRhbHbDpHN0cmEgZ8O2dGFsYW5kcyBsw6Ruc3dlZGVu               1\n",
       "w7ZzdGVybWFsbXN0b2NraG9sbXMgbMOkbnN3ZWRlbg                     1\n",
       "bG9tbWFza8OlbmUgbMOkbnN3ZWRlbg                                 1\n",
       "YmrDtnJraGFnZW5zdG9ja2hvbG1zIGzDpG5zd2VkZW4                    1\n",
       "Name: city_id, Length: 78, dtype: int64"
      ]
     },
     "execution_count": 25,
     "metadata": {},
     "output_type": "execute_result"
    }
   ],
   "source": [
    "df_swe['city_id'].value_counts()"
   ]
  },
  {
   "cell_type": "code",
   "execution_count": 26,
   "metadata": {},
   "outputs": [
    {
     "data": {
      "text/plain": [
       "[{'lng': 20.293265545068234,\n",
       "  'lat': 63.81450108785943,\n",
       "  'timestamp_added': '2020-10-29T17:21:22.000000Z',\n",
       "  'status': {'online': 'online',\n",
       "   'listen_addrs': ['/ip4/46.236.112.23/tcp/7643'],\n",
       "   'height': 786016},\n",
       "  'reward_scale': 1.0,\n",
       "  'owner': '132rjofoPRZ86KxfvhasuDjNFcej7Lm1oGq8x4oRviJUCkwAuzA',\n",
       "  'nonce': 1,\n",
       "  'name': 'wild-paisley-corgi',\n",
       "  'location': '8c08f62ce99bdff',\n",
       "  'last_poc_challenge': 785912,\n",
       "  'last_change_block': 785912,\n",
       "  'geocode': {'short_street': 'Hoppets gränd',\n",
       "   'short_state': 'Västerbottens län',\n",
       "   'short_country': 'SE',\n",
       "   'short_city': 'Ålidhem',\n",
       "   'long_street': 'Hoppets gränd',\n",
       "   'long_state': 'Västerbottens län',\n",
       "   'long_country': 'Sweden',\n",
       "   'long_city': 'Ålidhem',\n",
       "   'city_id': 'w6VsaWRoZW12w6RzdGVyYm90dGVucyBsw6Ruc3dlZGVu'},\n",
       "  'block_added': 565055,\n",
       "  'block': 786047,\n",
       "  'address': '11phhLEBkrehUWTzJ2F9SNVxTaGLvg9fpwKwAsSs6wBEhZrMjZb'}]"
      ]
     },
     "execution_count": 26,
     "metadata": {},
     "output_type": "execute_result"
    }
   ],
   "source": [
    "r = requests.get('https://api.helium.io/v1/cities/{}/hotspots'.format(df_swe['city_id'].iloc[0]))\n",
    "r.json()['data']"
   ]
  },
  {
   "cell_type": "code",
   "execution_count": 27,
   "metadata": {},
   "outputs": [],
   "source": [
    "for c in pd.unique(df_swe['city_id']):\n",
    "    r = requests.get('https://api.helium.io/v1/cities/{}/hotspots'.format(c))\n",
    "    r.json()['data']"
   ]
  },
  {
   "cell_type": "code",
   "execution_count": null,
   "metadata": {},
   "outputs": [],
   "source": []
  },
  {
   "cell_type": "code",
   "execution_count": null,
   "metadata": {},
   "outputs": [],
   "source": []
  },
  {
   "cell_type": "code",
   "execution_count": null,
   "metadata": {},
   "outputs": [],
   "source": []
  },
  {
   "cell_type": "code",
   "execution_count": 28,
   "metadata": {},
   "outputs": [],
   "source": [
    "r = requests.get('https://api.helium.io/v1/accounts/rich')\n",
    "g=0\n",
    "b=0\n",
    "for idx,i in enumerate(r.json()['data']):\n",
    "    if i['address'] == '14Rqw67Er4T4mDitRR5hkvDbefXUhVQGiaVV4yzgSF3sVtu6PfU':\n",
    "        g=idx\n",
    "        b=i['balance']"
   ]
  },
  {
   "cell_type": "code",
   "execution_count": 29,
   "metadata": {},
   "outputs": [
    {
     "data": {
      "text/plain": [
       "436"
      ]
     },
     "execution_count": 29,
     "metadata": {},
     "output_type": "execute_result"
    }
   ],
   "source": [
    "g"
   ]
  },
  {
   "cell_type": "code",
   "execution_count": 30,
   "metadata": {},
   "outputs": [
    {
     "data": {
      "text/plain": [
       "1362010526955"
      ]
     },
     "execution_count": 30,
     "metadata": {},
     "output_type": "execute_result"
    }
   ],
   "source": [
    "b"
   ]
  },
  {
   "cell_type": "code",
   "execution_count": 31,
   "metadata": {},
   "outputs": [
    {
     "data": {
      "text/plain": [
       "{'data': {'speculative_sec_nonce': 0,\n",
       "  'speculative_nonce': 36,\n",
       "  'sec_nonce': 0,\n",
       "  'sec_balance': 0,\n",
       "  'nonce': 36,\n",
       "  'dc_nonce': 0,\n",
       "  'dc_balance': 0,\n",
       "  'block': 786049,\n",
       "  'balance': 1362010526955,\n",
       "  'address': '14Rqw67Er4T4mDitRR5hkvDbefXUhVQGiaVV4yzgSF3sVtu6PfU'}}"
      ]
     },
     "execution_count": 31,
     "metadata": {},
     "output_type": "execute_result"
    }
   ],
   "source": [
    "r = requests.get('https://api.helium.io/v1/accounts/14Rqw67Er4T4mDitRR5hkvDbefXUhVQGiaVV4yzgSF3sVtu6PfU')\n",
    "r.json()"
   ]
  },
  {
   "cell_type": "code",
   "execution_count": 32,
   "metadata": {},
   "outputs": [],
   "source": [
    "def req(string):\n",
    "    r = requests.get(string)\n",
    "    return r.json()\n",
    "\n",
    "res = req('https://api.helium.io/v1/accounts/14Rqw67Er4T4mDitRR5hkvDbefXUhVQGiaVV4yzgSF3sVtu6PfU/hotspots')"
   ]
  },
  {
   "cell_type": "code",
   "execution_count": 33,
   "metadata": {},
   "outputs": [
    {
     "data": {
      "text/plain": [
       "73"
      ]
     },
     "execution_count": 33,
     "metadata": {},
     "output_type": "execute_result"
    }
   ],
   "source": [
    "len(res['data'])"
   ]
  },
  {
   "cell_type": "code",
   "execution_count": 34,
   "metadata": {},
   "outputs": [
    {
     "data": {
      "text/plain": [
       "{'meta': {'min_time': '2020-05-16T19:05:01Z',\n",
       "  'max_time': '2021-03-16T19:05:01Z'},\n",
       " 'data': {'total': 86410.17565551,\n",
       "  'sum': 8641017565551,\n",
       "  'stddev': 1619.82019474,\n",
       "  'min': 0.07143702,\n",
       "  'median': 590.145778,\n",
       "  'max': 8004.94122185,\n",
       "  'avg': 1183.7010363768493}}"
      ]
     },
     "execution_count": 34,
     "metadata": {},
     "output_type": "execute_result"
    }
   ],
   "source": [
    "req('https://api.helium.io/v1/accounts/14Rqw67Er4T4mDitRR5hkvDbefXUhVQGiaVV4yzgSF3sVtu6PfU/rewards/sum?min_time=2020-05-16T19:05:01Z&max_time=2021-03-16T19:05:01Z')"
   ]
  },
  {
   "cell_type": "code",
   "execution_count": 35,
   "metadata": {},
   "outputs": [],
   "source": [
    "cursor = ''\n",
    "results = []\n",
    "while cursor is not None:\n",
    "    r = req('https://api.helium.io/v1/hotspots?cursor={}'.format(cursor))\n",
    "    results.append(r['data'])\n",
    "    try:\n",
    "        cursor = r['cursor']\n",
    "    except:\n",
    "        break\n"
   ]
  },
  {
   "cell_type": "code",
   "execution_count": 36,
   "metadata": {},
   "outputs": [],
   "source": [
    "results.append(r['data'])"
   ]
  },
  {
   "cell_type": "code",
   "execution_count": 37,
   "metadata": {},
   "outputs": [],
   "source": [
    "d3 = {}\n",
    "res = []\n",
    "for r in results:\n",
    "    res = res + r"
   ]
  },
  {
   "cell_type": "code",
   "execution_count": 38,
   "metadata": {},
   "outputs": [
    {
     "data": {
      "text/plain": [
       "25616"
      ]
     },
     "execution_count": 38,
     "metadata": {},
     "output_type": "execute_result"
    }
   ],
   "source": [
    "len(res)"
   ]
  },
  {
   "cell_type": "code",
   "execution_count": 39,
   "metadata": {},
   "outputs": [],
   "source": [
    "for idx,r in enumerate(res):\n",
    "    d3[idx] = r"
   ]
  },
  {
   "cell_type": "code",
   "execution_count": 40,
   "metadata": {},
   "outputs": [],
   "source": [
    "df3 = pd.DataFrame.from_dict(d3, orient='index')"
   ]
  },
  {
   "cell_type": "code",
   "execution_count": 41,
   "metadata": {},
   "outputs": [],
   "source": [
    "df3_geo = df3['geocode'].apply(pd.Series)"
   ]
  },
  {
   "cell_type": "code",
   "execution_count": 42,
   "metadata": {},
   "outputs": [],
   "source": [
    "df3_status = df3['status'].apply(pd.Series)"
   ]
  },
  {
   "cell_type": "code",
   "execution_count": 43,
   "metadata": {},
   "outputs": [],
   "source": [
    "df4 = df3.join(df3_geo).join(df3_status)"
   ]
  },
  {
   "cell_type": "code",
   "execution_count": 44,
   "metadata": {},
   "outputs": [
    {
     "data": {
      "text/plain": [
       "(25616, 27)"
      ]
     },
     "execution_count": 44,
     "metadata": {},
     "output_type": "execute_result"
    }
   ],
   "source": [
    "df4.shape"
   ]
  },
  {
   "cell_type": "code",
   "execution_count": 45,
   "metadata": {},
   "outputs": [],
   "source": [
    "df4 = df4.drop(['status','geocode'],axis=1)"
   ]
  },
  {
   "cell_type": "code",
   "execution_count": 46,
   "metadata": {},
   "outputs": [
    {
     "data": {
      "text/plain": [
       "Index(['lng', 'lat', 'timestamp_added', 'reward_scale', 'owner', 'nonce',\n",
       "       'name', 'location', 'last_poc_challenge', 'last_change_block',\n",
       "       'block_added', 'block', 'address', 'short_street', 'short_state',\n",
       "       'short_country', 'short_city', 'long_street', 'long_state',\n",
       "       'long_country', 'long_city', 'city_id', 'online', 'listen_addrs',\n",
       "       'height'],\n",
       "      dtype='object')"
      ]
     },
     "execution_count": 46,
     "metadata": {},
     "output_type": "execute_result"
    }
   ],
   "source": [
    "df4.columns"
   ]
  },
  {
   "cell_type": "code",
   "execution_count": 48,
   "metadata": {},
   "outputs": [],
   "source": [
    "df4.to_csv('all_hotspots_april2-2021.csv')"
   ]
  },
  {
   "cell_type": "code",
   "execution_count": 49,
   "metadata": {},
   "outputs": [],
   "source": [
    "df4_swe = df4[df4['short_country']=='SE']"
   ]
  },
  {
   "cell_type": "code",
   "execution_count": 50,
   "metadata": {},
   "outputs": [],
   "source": [
    "import matplotlib.pyplot as plt\n",
    "\n",
    "%matplotlib inline"
   ]
  },
  {
   "cell_type": "code",
   "execution_count": 51,
   "metadata": {},
   "outputs": [
    {
     "data": {
      "text/plain": [
       "179"
      ]
     },
     "execution_count": 51,
     "metadata": {},
     "output_type": "execute_result"
    }
   ],
   "source": [
    "len(df4_swe)"
   ]
  },
  {
   "cell_type": "code",
   "execution_count": 52,
   "metadata": {},
   "outputs": [
    {
     "data": {
      "text/plain": [
       "[<matplotlib.lines.Line2D at 0x126893450>]"
      ]
     },
     "execution_count": 52,
     "metadata": {},
     "output_type": "execute_result"
    },
    {
     "data": {
      "image/png": "[encoded data removed]",
      "text/plain": [
       "<Figure size 432x288 with 1 Axes>"
      ]
     },
     "metadata": {
      "needs_background": "light"
     },
     "output_type": "display_data"
    }
   ],
   "source": [
    "plt.plot(pd.to_datetime(df4_swe['timestamp_added'])[::-1],list(range(1,len(df4_swe)+1)))\n",
    "plt.plot(pd.to_datetime(df4_swe[df4_swe['owner']=='14Rqw67Er4T4mDitRR5hkvDbefXUhVQGiaVV4yzgSF3sVtu6PfU']['timestamp_added'])[::-1],list(range(1,len(df4_swe[df4_swe['owner']=='14Rqw67Er4T4mDitRR5hkvDbefXUhVQGiaVV4yzgSF3sVtu6PfU'])+1)))"
   ]
  },
  {
   "cell_type": "code",
   "execution_count": 53,
   "metadata": {},
   "outputs": [
    {
     "data": {
      "text/plain": [
       "str"
      ]
     },
     "execution_count": 53,
     "metadata": {},
     "output_type": "execute_result"
    }
   ],
   "source": [
    "type(df4_swe['timestamp_added'].iloc[0])"
   ]
  },
  {
   "cell_type": "code",
   "execution_count": null,
   "metadata": {},
   "outputs": [],
   "source": []
  },
  {
   "cell_type": "code",
   "execution_count": 54,
   "metadata": {},
   "outputs": [
    {
     "data": {
      "text/plain": [
       "356      2021-03-31T11:54:09.000000Z\n",
       "572      2021-03-27T18:14:17.000000Z\n",
       "970      2021-03-24T15:01:17.000000Z\n",
       "1221     2021-03-22T09:43:12.000000Z\n",
       "1506     2021-03-19T15:05:25.000000Z\n",
       "                    ...             \n",
       "15797    2020-09-28T18:02:13.000000Z\n",
       "15805    2020-09-28T16:09:41.000000Z\n",
       "15978    2020-09-25T11:16:32.000000Z\n",
       "16126    2020-09-22T19:44:07.000000Z\n",
       "17239    2020-08-31T12:22:36.000000Z\n",
       "Name: timestamp_added, Length: 179, dtype: object"
      ]
     },
     "execution_count": 54,
     "metadata": {},
     "output_type": "execute_result"
    }
   ],
   "source": [
    "df4_swe['timestamp_added']"
   ]
  },
  {
   "cell_type": "code",
   "execution_count": 55,
   "metadata": {},
   "outputs": [
    {
     "data": {
      "text/html": [
       "<div>\n",
       "<style scoped>\n",
       "    .dataframe tbody tr th:only-of-type {\n",
       "        vertical-align: middle;\n",
       "    }\n",
       "\n",
       "    .dataframe tbody tr th {\n",
       "        vertical-align: top;\n",
       "    }\n",
       "\n",
       "    .dataframe thead th {\n",
       "        text-align: right;\n",
       "    }\n",
       "</style>\n",
       "<table border=\"1\" class=\"dataframe\">\n",
       "  <thead>\n",
       "    <tr style=\"text-align: right;\">\n",
       "      <th></th>\n",
       "      <th>lng</th>\n",
       "      <th>lat</th>\n",
       "      <th>timestamp_added</th>\n",
       "      <th>reward_scale</th>\n",
       "      <th>owner</th>\n",
       "      <th>nonce</th>\n",
       "      <th>name</th>\n",
       "      <th>location</th>\n",
       "      <th>last_poc_challenge</th>\n",
       "      <th>last_change_block</th>\n",
       "      <th>...</th>\n",
       "      <th>short_country</th>\n",
       "      <th>short_city</th>\n",
       "      <th>long_street</th>\n",
       "      <th>long_state</th>\n",
       "      <th>long_country</th>\n",
       "      <th>long_city</th>\n",
       "      <th>city_id</th>\n",
       "      <th>online</th>\n",
       "      <th>listen_addrs</th>\n",
       "      <th>height</th>\n",
       "    </tr>\n",
       "  </thead>\n",
       "  <tbody>\n",
       "    <tr>\n",
       "      <th>5721</th>\n",
       "      <td>17.999661</td>\n",
       "      <td>59.329762</td>\n",
       "      <td>2021-03-02T19:11:35.000000Z</td>\n",
       "      <td>1.000000</td>\n",
       "      <td>14Rqw67Er4T4mDitRR5hkvDbefXUhVQGiaVV4yzgSF3sVt...</td>\n",
       "      <td>2</td>\n",
       "      <td>muscular-juniper-mongoose</td>\n",
       "      <td>8c0886602a08dff</td>\n",
       "      <td>785929.0</td>\n",
       "      <td>785929</td>\n",
       "      <td>...</td>\n",
       "      <td>SE</td>\n",
       "      <td>Kungsholmen</td>\n",
       "      <td>Orvar Odds väg</td>\n",
       "      <td>Stockholms län</td>\n",
       "      <td>Sweden</td>\n",
       "      <td>Kungsholmen</td>\n",
       "      <td>a3VuZ3Nob2xtZW5zdG9ja2hvbG1zIGzDpG5zd2VkZW4</td>\n",
       "      <td>online</td>\n",
       "      <td>[/p2p/11zyZhuw4iM2AUsqrbpsfZ5d8FsGFBkyvTGrmvzG...</td>\n",
       "      <td>786022.0</td>\n",
       "    </tr>\n",
       "    <tr>\n",
       "      <th>7033</th>\n",
       "      <td>17.920999</td>\n",
       "      <td>59.526501</td>\n",
       "      <td>2021-02-04T22:55:02.000000Z</td>\n",
       "      <td>1.000000</td>\n",
       "      <td>14Rqw67Er4T4mDitRR5hkvDbefXUhVQGiaVV4yzgSF3sVt...</td>\n",
       "      <td>1</td>\n",
       "      <td>basic-goldenrod-donkey</td>\n",
       "      <td>8c08862b1416dff</td>\n",
       "      <td>785918.0</td>\n",
       "      <td>785918</td>\n",
       "      <td>...</td>\n",
       "      <td>SE</td>\n",
       "      <td>Upplands Väsby Västra</td>\n",
       "      <td>Holmvägen</td>\n",
       "      <td>Stockholms län</td>\n",
       "      <td>Sweden</td>\n",
       "      <td>Upplands Väsby Västra</td>\n",
       "      <td>dXBwbGFuZHMgdsOkc2J5IHbDpHN0cmFzdG9ja2hvbG1zIG...</td>\n",
       "      <td>online</td>\n",
       "      <td>[/ip4/85.228.46.22/tcp/44158]</td>\n",
       "      <td>786013.0</td>\n",
       "    </tr>\n",
       "    <tr>\n",
       "      <th>7132</th>\n",
       "      <td>13.006740</td>\n",
       "      <td>57.729014</td>\n",
       "      <td>2021-02-03T08:31:10.000000Z</td>\n",
       "      <td>1.000000</td>\n",
       "      <td>14Rqw67Er4T4mDitRR5hkvDbefXUhVQGiaVV4yzgSF3sVt...</td>\n",
       "      <td>1</td>\n",
       "      <td>gentle-concrete-swallow</td>\n",
       "      <td>8c08b688ec091ff</td>\n",
       "      <td>785872.0</td>\n",
       "      <td>785872</td>\n",
       "      <td>...</td>\n",
       "      <td>SE</td>\n",
       "      <td>Brämhult</td>\n",
       "      <td>Aspgatan</td>\n",
       "      <td>Västra Götalands län</td>\n",
       "      <td>Sweden</td>\n",
       "      <td>Brämhult</td>\n",
       "      <td>YnLDpG1odWx0dsOkc3RyYSBnw7Z0YWxhbmRzIGzDpG5zd2...</td>\n",
       "      <td>online</td>\n",
       "      <td>[/p2p/11FCf5qFXjjRdN78tvZL1gfTRf6BgzkJSySRCuK5...</td>\n",
       "      <td>786022.0</td>\n",
       "    </tr>\n",
       "    <tr>\n",
       "      <th>7133</th>\n",
       "      <td>12.901988</td>\n",
       "      <td>57.726313</td>\n",
       "      <td>2021-02-03T08:07:22.000000Z</td>\n",
       "      <td>1.000000</td>\n",
       "      <td>14Rqw67Er4T4mDitRR5hkvDbefXUhVQGiaVV4yzgSF3sVt...</td>\n",
       "      <td>1</td>\n",
       "      <td>flat-taffy-squid</td>\n",
       "      <td>8c08b68a300a1ff</td>\n",
       "      <td>785761.0</td>\n",
       "      <td>785761</td>\n",
       "      <td>...</td>\n",
       "      <td>SE</td>\n",
       "      <td>Byttorp</td>\n",
       "      <td>Symfonigatan</td>\n",
       "      <td>Västra Götalands län</td>\n",
       "      <td>Sweden</td>\n",
       "      <td>Byttorp</td>\n",
       "      <td>Ynl0dG9ycHbDpHN0cmEgZ8O2dGFsYW5kcyBsw6Ruc3dlZGVu</td>\n",
       "      <td>online</td>\n",
       "      <td>[/ip4/81.235.20.9/tcp/37465]</td>\n",
       "      <td>786016.0</td>\n",
       "    </tr>\n",
       "    <tr>\n",
       "      <th>7191</th>\n",
       "      <td>18.038143</td>\n",
       "      <td>59.319300</td>\n",
       "      <td>2021-02-02T16:36:16.000000Z</td>\n",
       "      <td>0.320511</td>\n",
       "      <td>14Rqw67Er4T4mDitRR5hkvDbefXUhVQGiaVV4yzgSF3sVt...</td>\n",
       "      <td>1</td>\n",
       "      <td>prehistoric-hazelnut-sheep</td>\n",
       "      <td>8c088661ccd9bff</td>\n",
       "      <td>785767.0</td>\n",
       "      <td>785826</td>\n",
       "      <td>...</td>\n",
       "      <td>SE</td>\n",
       "      <td>Södermalm</td>\n",
       "      <td>Heleneborgsgatan</td>\n",
       "      <td>Stockholms län</td>\n",
       "      <td>Sweden</td>\n",
       "      <td>Södermalm</td>\n",
       "      <td>c8O2ZGVybWFsbXN0b2NraG9sbXMgbMOkbnN3ZWRlbg</td>\n",
       "      <td>online</td>\n",
       "      <td>[/p2p/112SzQRVzjbk2KD5ReLb2c1Jk2wWAhvsJVYCNJrv...</td>\n",
       "      <td>786016.0</td>\n",
       "    </tr>\n",
       "    <tr>\n",
       "      <th>...</th>\n",
       "      <td>...</td>\n",
       "      <td>...</td>\n",
       "      <td>...</td>\n",
       "      <td>...</td>\n",
       "      <td>...</td>\n",
       "      <td>...</td>\n",
       "      <td>...</td>\n",
       "      <td>...</td>\n",
       "      <td>...</td>\n",
       "      <td>...</td>\n",
       "      <td>...</td>\n",
       "      <td>...</td>\n",
       "      <td>...</td>\n",
       "      <td>...</td>\n",
       "      <td>...</td>\n",
       "      <td>...</td>\n",
       "      <td>...</td>\n",
       "      <td>...</td>\n",
       "      <td>...</td>\n",
       "      <td>...</td>\n",
       "      <td>...</td>\n",
       "    </tr>\n",
       "    <tr>\n",
       "      <th>15573</th>\n",
       "      <td>18.029491</td>\n",
       "      <td>59.315812</td>\n",
       "      <td>2020-10-01T18:33:42.000000Z</td>\n",
       "      <td>1.000000</td>\n",
       "      <td>14Rqw67Er4T4mDitRR5hkvDbefXUhVQGiaVV4yzgSF3sVt...</td>\n",
       "      <td>1</td>\n",
       "      <td>deep-orchid-loris</td>\n",
       "      <td>8c088661136d7ff</td>\n",
       "      <td>785873.0</td>\n",
       "      <td>785873</td>\n",
       "      <td>...</td>\n",
       "      <td>SE</td>\n",
       "      <td>Södermalm</td>\n",
       "      <td>Bergsundsgatan</td>\n",
       "      <td>Stockholms län</td>\n",
       "      <td>Sweden</td>\n",
       "      <td>Södermalm</td>\n",
       "      <td>c8O2ZGVybWFsbXN0b2NraG9sbXMgbMOkbnN3ZWRlbg</td>\n",
       "      <td>online</td>\n",
       "      <td>[/ip4/188.151.184.92/tcp/18482]</td>\n",
       "      <td>786009.0</td>\n",
       "    </tr>\n",
       "    <tr>\n",
       "      <th>15576</th>\n",
       "      <td>18.074543</td>\n",
       "      <td>59.317691</td>\n",
       "      <td>2020-10-01T18:05:55.000000Z</td>\n",
       "      <td>0.641022</td>\n",
       "      <td>14Rqw67Er4T4mDitRR5hkvDbefXUhVQGiaVV4yzgSF3sVt...</td>\n",
       "      <td>1</td>\n",
       "      <td>sleepy-mahogany-alligator</td>\n",
       "      <td>8c0886618c9ddff</td>\n",
       "      <td>785934.0</td>\n",
       "      <td>785934</td>\n",
       "      <td>...</td>\n",
       "      <td>SE</td>\n",
       "      <td>Södermalm</td>\n",
       "      <td>Svartensgatan</td>\n",
       "      <td>Stockholms län</td>\n",
       "      <td>Sweden</td>\n",
       "      <td>Södermalm</td>\n",
       "      <td>c8O2ZGVybWFsbXN0b2NraG9sbXMgbMOkbnN3ZWRlbg</td>\n",
       "      <td>online</td>\n",
       "      <td>[/ip4/81.228.198.231/tcp/26014]</td>\n",
       "      <td>786027.0</td>\n",
       "    </tr>\n",
       "    <tr>\n",
       "      <th>15580</th>\n",
       "      <td>18.073241</td>\n",
       "      <td>59.312003</td>\n",
       "      <td>2020-10-01T17:27:33.000000Z</td>\n",
       "      <td>0.320511</td>\n",
       "      <td>14Rqw67Er4T4mDitRR5hkvDbefXUhVQGiaVV4yzgSF3sVt...</td>\n",
       "      <td>1</td>\n",
       "      <td>large-fuzzy-porcupine</td>\n",
       "      <td>8c088661e2165ff</td>\n",
       "      <td>786049.0</td>\n",
       "      <td>786049</td>\n",
       "      <td>...</td>\n",
       "      <td>SE</td>\n",
       "      <td>Södermalm</td>\n",
       "      <td>Vartoftagatan</td>\n",
       "      <td>Stockholms län</td>\n",
       "      <td>Sweden</td>\n",
       "      <td>Södermalm</td>\n",
       "      <td>c8O2ZGVybWFsbXN0b2NraG9sbXMgbMOkbnN3ZWRlbg</td>\n",
       "      <td>online</td>\n",
       "      <td>[/ip4/100.124.96.196/tcp/44158]</td>\n",
       "      <td>786007.0</td>\n",
       "    </tr>\n",
       "    <tr>\n",
       "      <th>16126</th>\n",
       "      <td>18.021367</td>\n",
       "      <td>59.318484</td>\n",
       "      <td>2020-09-22T19:44:07.000000Z</td>\n",
       "      <td>1.000000</td>\n",
       "      <td>14Rqw67Er4T4mDitRR5hkvDbefXUhVQGiaVV4yzgSF3sVt...</td>\n",
       "      <td>1</td>\n",
       "      <td>bubbly-parchment-moth</td>\n",
       "      <td>8c088660269b1ff</td>\n",
       "      <td>785991.0</td>\n",
       "      <td>785991</td>\n",
       "      <td>...</td>\n",
       "      <td>SE</td>\n",
       "      <td>Södermalm</td>\n",
       "      <td>Pokalvägen</td>\n",
       "      <td>Stockholms län</td>\n",
       "      <td>Sweden</td>\n",
       "      <td>Södermalm</td>\n",
       "      <td>c8O2ZGVybWFsbXN0b2NraG9sbXMgbMOkbnN3ZWRlbg</td>\n",
       "      <td>online</td>\n",
       "      <td>[/ip4/13.48.149.139/tcp/44158]</td>\n",
       "      <td>786012.0</td>\n",
       "    </tr>\n",
       "    <tr>\n",
       "      <th>17239</th>\n",
       "      <td>18.067513</td>\n",
       "      <td>59.309383</td>\n",
       "      <td>2020-08-31T12:22:36.000000Z</td>\n",
       "      <td>0.641022</td>\n",
       "      <td>14Rqw67Er4T4mDitRR5hkvDbefXUhVQGiaVV4yzgSF3sVt...</td>\n",
       "      <td>1</td>\n",
       "      <td>itchy-merlot-porcupine</td>\n",
       "      <td>8c088661e0ea5ff</td>\n",
       "      <td>785869.0</td>\n",
       "      <td>785869</td>\n",
       "      <td>...</td>\n",
       "      <td>SE</td>\n",
       "      <td>Södermalm</td>\n",
       "      <td>Blekingegatan</td>\n",
       "      <td>Stockholms län</td>\n",
       "      <td>Sweden</td>\n",
       "      <td>Södermalm</td>\n",
       "      <td>c8O2ZGVybWFsbXN0b2NraG9sbXMgbMOkbnN3ZWRlbg</td>\n",
       "      <td>online</td>\n",
       "      <td>[/ip4/84.216.109.60/tcp/44158, /p2p/11uU3pBSri...</td>\n",
       "      <td>786016.0</td>\n",
       "    </tr>\n",
       "  </tbody>\n",
       "</table>\n",
       "<p>73 rows × 25 columns</p>\n",
       "</div>"
      ],
      "text/plain": [
       "             lng        lat              timestamp_added  reward_scale  \\\n",
       "5721   17.999661  59.329762  2021-03-02T19:11:35.000000Z      1.000000   \n",
       "7033   17.920999  59.526501  2021-02-04T22:55:02.000000Z      1.000000   \n",
       "7132   13.006740  57.729014  2021-02-03T08:31:10.000000Z      1.000000   \n",
       "7133   12.901988  57.726313  2021-02-03T08:07:22.000000Z      1.000000   \n",
       "7191   18.038143  59.319300  2021-02-02T16:36:16.000000Z      0.320511   \n",
       "...          ...        ...                          ...           ...   \n",
       "15573  18.029491  59.315812  2020-10-01T18:33:42.000000Z      1.000000   \n",
       "15576  18.074543  59.317691  2020-10-01T18:05:55.000000Z      0.641022   \n",
       "15580  18.073241  59.312003  2020-10-01T17:27:33.000000Z      0.320511   \n",
       "16126  18.021367  59.318484  2020-09-22T19:44:07.000000Z      1.000000   \n",
       "17239  18.067513  59.309383  2020-08-31T12:22:36.000000Z      0.641022   \n",
       "\n",
       "                                                   owner  nonce  \\\n",
       "5721   14Rqw67Er4T4mDitRR5hkvDbefXUhVQGiaVV4yzgSF3sVt...      2   \n",
       "7033   14Rqw67Er4T4mDitRR5hkvDbefXUhVQGiaVV4yzgSF3sVt...      1   \n",
       "7132   14Rqw67Er4T4mDitRR5hkvDbefXUhVQGiaVV4yzgSF3sVt...      1   \n",
       "7133   14Rqw67Er4T4mDitRR5hkvDbefXUhVQGiaVV4yzgSF3sVt...      1   \n",
       "7191   14Rqw67Er4T4mDitRR5hkvDbefXUhVQGiaVV4yzgSF3sVt...      1   \n",
       "...                                                  ...    ...   \n",
       "15573  14Rqw67Er4T4mDitRR5hkvDbefXUhVQGiaVV4yzgSF3sVt...      1   \n",
       "15576  14Rqw67Er4T4mDitRR5hkvDbefXUhVQGiaVV4yzgSF3sVt...      1   \n",
       "15580  14Rqw67Er4T4mDitRR5hkvDbefXUhVQGiaVV4yzgSF3sVt...      1   \n",
       "16126  14Rqw67Er4T4mDitRR5hkvDbefXUhVQGiaVV4yzgSF3sVt...      1   \n",
       "17239  14Rqw67Er4T4mDitRR5hkvDbefXUhVQGiaVV4yzgSF3sVt...      1   \n",
       "\n",
       "                             name         location  last_poc_challenge  \\\n",
       "5721    muscular-juniper-mongoose  8c0886602a08dff            785929.0   \n",
       "7033       basic-goldenrod-donkey  8c08862b1416dff            785918.0   \n",
       "7132      gentle-concrete-swallow  8c08b688ec091ff            785872.0   \n",
       "7133             flat-taffy-squid  8c08b68a300a1ff            785761.0   \n",
       "7191   prehistoric-hazelnut-sheep  8c088661ccd9bff            785767.0   \n",
       "...                           ...              ...                 ...   \n",
       "15573           deep-orchid-loris  8c088661136d7ff            785873.0   \n",
       "15576   sleepy-mahogany-alligator  8c0886618c9ddff            785934.0   \n",
       "15580       large-fuzzy-porcupine  8c088661e2165ff            786049.0   \n",
       "16126       bubbly-parchment-moth  8c088660269b1ff            785991.0   \n",
       "17239      itchy-merlot-porcupine  8c088661e0ea5ff            785869.0   \n",
       "\n",
       "       last_change_block  ...  short_country             short_city  \\\n",
       "5721              785929  ...             SE            Kungsholmen   \n",
       "7033              785918  ...             SE  Upplands Väsby Västra   \n",
       "7132              785872  ...             SE               Brämhult   \n",
       "7133              785761  ...             SE                Byttorp   \n",
       "7191              785826  ...             SE              Södermalm   \n",
       "...                  ...  ...            ...                    ...   \n",
       "15573             785873  ...             SE              Södermalm   \n",
       "15576             785934  ...             SE              Södermalm   \n",
       "15580             786049  ...             SE              Södermalm   \n",
       "16126             785991  ...             SE              Södermalm   \n",
       "17239             785869  ...             SE              Södermalm   \n",
       "\n",
       "            long_street            long_state long_country  \\\n",
       "5721     Orvar Odds väg        Stockholms län       Sweden   \n",
       "7033          Holmvägen        Stockholms län       Sweden   \n",
       "7132           Aspgatan  Västra Götalands län       Sweden   \n",
       "7133       Symfonigatan  Västra Götalands län       Sweden   \n",
       "7191   Heleneborgsgatan        Stockholms län       Sweden   \n",
       "...                 ...                   ...          ...   \n",
       "15573    Bergsundsgatan        Stockholms län       Sweden   \n",
       "15576     Svartensgatan        Stockholms län       Sweden   \n",
       "15580     Vartoftagatan        Stockholms län       Sweden   \n",
       "16126        Pokalvägen        Stockholms län       Sweden   \n",
       "17239     Blekingegatan        Stockholms län       Sweden   \n",
       "\n",
       "                   long_city  \\\n",
       "5721             Kungsholmen   \n",
       "7033   Upplands Väsby Västra   \n",
       "7132                Brämhult   \n",
       "7133                 Byttorp   \n",
       "7191               Södermalm   \n",
       "...                      ...   \n",
       "15573              Södermalm   \n",
       "15576              Södermalm   \n",
       "15580              Södermalm   \n",
       "16126              Södermalm   \n",
       "17239              Södermalm   \n",
       "\n",
       "                                                 city_id  online  \\\n",
       "5721         a3VuZ3Nob2xtZW5zdG9ja2hvbG1zIGzDpG5zd2VkZW4  online   \n",
       "7033   dXBwbGFuZHMgdsOkc2J5IHbDpHN0cmFzdG9ja2hvbG1zIG...  online   \n",
       "7132   YnLDpG1odWx0dsOkc3RyYSBnw7Z0YWxhbmRzIGzDpG5zd2...  online   \n",
       "7133    Ynl0dG9ycHbDpHN0cmEgZ8O2dGFsYW5kcyBsw6Ruc3dlZGVu  online   \n",
       "7191          c8O2ZGVybWFsbXN0b2NraG9sbXMgbMOkbnN3ZWRlbg  online   \n",
       "...                                                  ...     ...   \n",
       "15573         c8O2ZGVybWFsbXN0b2NraG9sbXMgbMOkbnN3ZWRlbg  online   \n",
       "15576         c8O2ZGVybWFsbXN0b2NraG9sbXMgbMOkbnN3ZWRlbg  online   \n",
       "15580         c8O2ZGVybWFsbXN0b2NraG9sbXMgbMOkbnN3ZWRlbg  online   \n",
       "16126         c8O2ZGVybWFsbXN0b2NraG9sbXMgbMOkbnN3ZWRlbg  online   \n",
       "17239         c8O2ZGVybWFsbXN0b2NraG9sbXMgbMOkbnN3ZWRlbg  online   \n",
       "\n",
       "                                            listen_addrs    height  \n",
       "5721   [/p2p/11zyZhuw4iM2AUsqrbpsfZ5d8FsGFBkyvTGrmvzG...  786022.0  \n",
       "7033                       [/ip4/85.228.46.22/tcp/44158]  786013.0  \n",
       "7132   [/p2p/11FCf5qFXjjRdN78tvZL1gfTRf6BgzkJSySRCuK5...  786022.0  \n",
       "7133                        [/ip4/81.235.20.9/tcp/37465]  786016.0  \n",
       "7191   [/p2p/112SzQRVzjbk2KD5ReLb2c1Jk2wWAhvsJVYCNJrv...  786016.0  \n",
       "...                                                  ...       ...  \n",
       "15573                    [/ip4/188.151.184.92/tcp/18482]  786009.0  \n",
       "15576                    [/ip4/81.228.198.231/tcp/26014]  786027.0  \n",
       "15580                    [/ip4/100.124.96.196/tcp/44158]  786007.0  \n",
       "16126                     [/ip4/13.48.149.139/tcp/44158]  786012.0  \n",
       "17239  [/ip4/84.216.109.60/tcp/44158, /p2p/11uU3pBSri...  786016.0  \n",
       "\n",
       "[73 rows x 25 columns]"
      ]
     },
     "execution_count": 55,
     "metadata": {},
     "output_type": "execute_result"
    }
   ],
   "source": [
    "df4_swe[df4_swe['owner']=='14Rqw67Er4T4mDitRR5hkvDbefXUhVQGiaVV4yzgSF3sVtu6PfU']"
   ]
  },
  {
   "cell_type": "code",
   "execution_count": 56,
   "metadata": {},
   "outputs": [
    {
     "data": {
      "text/html": [
       "<div>\n",
       "<style scoped>\n",
       "    .dataframe tbody tr th:only-of-type {\n",
       "        vertical-align: middle;\n",
       "    }\n",
       "\n",
       "    .dataframe tbody tr th {\n",
       "        vertical-align: top;\n",
       "    }\n",
       "\n",
       "    .dataframe thead th {\n",
       "        text-align: right;\n",
       "    }\n",
       "</style>\n",
       "<table border=\"1\" class=\"dataframe\">\n",
       "  <thead>\n",
       "    <tr style=\"text-align: right;\">\n",
       "      <th></th>\n",
       "      <th>lng</th>\n",
       "      <th>lat</th>\n",
       "      <th>timestamp_added</th>\n",
       "      <th>reward_scale</th>\n",
       "      <th>owner</th>\n",
       "      <th>nonce</th>\n",
       "      <th>name</th>\n",
       "      <th>location</th>\n",
       "      <th>last_poc_challenge</th>\n",
       "      <th>last_change_block</th>\n",
       "      <th>...</th>\n",
       "      <th>short_country</th>\n",
       "      <th>short_city</th>\n",
       "      <th>long_street</th>\n",
       "      <th>long_state</th>\n",
       "      <th>long_country</th>\n",
       "      <th>long_city</th>\n",
       "      <th>city_id</th>\n",
       "      <th>online</th>\n",
       "      <th>listen_addrs</th>\n",
       "      <th>height</th>\n",
       "    </tr>\n",
       "  </thead>\n",
       "  <tbody>\n",
       "    <tr>\n",
       "      <th>2640</th>\n",
       "      <td>11.973905</td>\n",
       "      <td>57.685035</td>\n",
       "      <td>2021-03-15T09:25:34.000000Z</td>\n",
       "      <td>1.000000</td>\n",
       "      <td>14a1EcchN6gaqHzSh9u2NMuNCSzqWhxU11TWbsJG8Sn9q9...</td>\n",
       "      <td>1</td>\n",
       "      <td>overt-cornflower-goblin</td>\n",
       "      <td>8c1f25068a629ff</td>\n",
       "      <td>785943.0</td>\n",
       "      <td>785964</td>\n",
       "      <td>...</td>\n",
       "      <td>SE</td>\n",
       "      <td>Guldheden</td>\n",
       "      <td>Doktor Allards Gata</td>\n",
       "      <td>Västra Götalands län</td>\n",
       "      <td>Sweden</td>\n",
       "      <td>Guldheden</td>\n",
       "      <td>Z3VsZGhlZGVudsOkc3RyYSBnw7Z0YWxhbmRzIGzDpG5zd2...</td>\n",
       "      <td>online</td>\n",
       "      <td>[/ip4/188.148.171.178/tcp/44158]</td>\n",
       "      <td>786025.0</td>\n",
       "    </tr>\n",
       "    <tr>\n",
       "      <th>5164</th>\n",
       "      <td>11.979265</td>\n",
       "      <td>57.692117</td>\n",
       "      <td>2021-03-05T16:52:46.000000Z</td>\n",
       "      <td>1.000000</td>\n",
       "      <td>14a1EcchN6gaqHzSh9u2NMuNCSzqWhxU11TWbsJG8Sn9q9...</td>\n",
       "      <td>1</td>\n",
       "      <td>proper-wintergreen-halibut</td>\n",
       "      <td>8c1f2506d729bff</td>\n",
       "      <td>785958.0</td>\n",
       "      <td>785958</td>\n",
       "      <td>...</td>\n",
       "      <td>SE</td>\n",
       "      <td>Johanneberg</td>\n",
       "      <td>Vidblicksgatan</td>\n",
       "      <td>Västra Götalands län</td>\n",
       "      <td>Sweden</td>\n",
       "      <td>Johanneberg</td>\n",
       "      <td>am9oYW5uZWJlcmd2w6RzdHJhIGfDtnRhbGFuZHMgbMOkbn...</td>\n",
       "      <td>online</td>\n",
       "      <td>[/ip4/188.149.41.135/tcp/44158]</td>\n",
       "      <td>786022.0</td>\n",
       "    </tr>\n",
       "    <tr>\n",
       "      <th>6784</th>\n",
       "      <td>13.428963</td>\n",
       "      <td>57.856105</td>\n",
       "      <td>2021-02-09T16:12:53.000000Z</td>\n",
       "      <td>1.000000</td>\n",
       "      <td>14a1EcchN6gaqHzSh9u2NMuNCSzqWhxU11TWbsJG8Sn9q9...</td>\n",
       "      <td>1</td>\n",
       "      <td>passive-zinc-panther</td>\n",
       "      <td>8c08b615dab2bff</td>\n",
       "      <td>785958.0</td>\n",
       "      <td>785958</td>\n",
       "      <td>...</td>\n",
       "      <td>SE</td>\n",
       "      <td>Timmele</td>\n",
       "      <td>Överstegränd</td>\n",
       "      <td>Västra Götalands län</td>\n",
       "      <td>Sweden</td>\n",
       "      <td>Timmele</td>\n",
       "      <td>dGltbWVsZXbDpHN0cmEgZ8O2dGFsYW5kcyBsw6Ruc3dlZGVu</td>\n",
       "      <td>online</td>\n",
       "      <td>[/p2p/11CDbFUj3CkT2SCnFn7372f9EeNz88hb9deQaomV...</td>\n",
       "      <td>786016.0</td>\n",
       "    </tr>\n",
       "    <tr>\n",
       "      <th>6855</th>\n",
       "      <td>13.420528</td>\n",
       "      <td>57.781582</td>\n",
       "      <td>2021-02-08T14:34:42.000000Z</td>\n",
       "      <td>1.000000</td>\n",
       "      <td>14a1EcchN6gaqHzSh9u2NMuNCSzqWhxU11TWbsJG8Sn9q9...</td>\n",
       "      <td>1</td>\n",
       "      <td>able-pear-horse</td>\n",
       "      <td>8c08b602cdb4dff</td>\n",
       "      <td>786022.0</td>\n",
       "      <td>786022</td>\n",
       "      <td>...</td>\n",
       "      <td>SE</td>\n",
       "      <td>Ulricehamn</td>\n",
       "      <td>Hasselvägen</td>\n",
       "      <td>Västra Götalands län</td>\n",
       "      <td>Sweden</td>\n",
       "      <td>Ulricehamn</td>\n",
       "      <td>dWxyaWNlaGFtbnbDpHN0cmEgZ8O2dGFsYW5kcyBsw6Ruc3...</td>\n",
       "      <td>online</td>\n",
       "      <td>[/p2p/112uWUYuH7JP7jCr8PxAseRyW5ohTTbWNKSCHngQ...</td>\n",
       "      <td>786000.0</td>\n",
       "    </tr>\n",
       "    <tr>\n",
       "      <th>6858</th>\n",
       "      <td>13.419345</td>\n",
       "      <td>57.786512</td>\n",
       "      <td>2021-02-08T13:11:56.000000Z</td>\n",
       "      <td>1.000000</td>\n",
       "      <td>14a1EcchN6gaqHzSh9u2NMuNCSzqWhxU11TWbsJG8Sn9q9...</td>\n",
       "      <td>1</td>\n",
       "      <td>damp-cloth-tapir</td>\n",
       "      <td>8c08b61526d83ff</td>\n",
       "      <td>785874.0</td>\n",
       "      <td>785874</td>\n",
       "      <td>...</td>\n",
       "      <td>SE</td>\n",
       "      <td>Ulricehamn</td>\n",
       "      <td>Sanatorievägen</td>\n",
       "      <td>Västra Götalands län</td>\n",
       "      <td>Sweden</td>\n",
       "      <td>Ulricehamn</td>\n",
       "      <td>dWxyaWNlaGFtbnbDpHN0cmEgZ8O2dGFsYW5kcyBsw6Ruc3...</td>\n",
       "      <td>online</td>\n",
       "      <td>[/ip4/213.200.174.169/tcp/59670]</td>\n",
       "      <td>786016.0</td>\n",
       "    </tr>\n",
       "    <tr>\n",
       "      <th>6952</th>\n",
       "      <td>13.432995</td>\n",
       "      <td>57.799926</td>\n",
       "      <td>2021-02-06T16:00:54.000000Z</td>\n",
       "      <td>0.333328</td>\n",
       "      <td>14a1EcchN6gaqHzSh9u2NMuNCSzqWhxU11TWbsJG8Sn9q9...</td>\n",
       "      <td>1</td>\n",
       "      <td>trendy-coconut-shell</td>\n",
       "      <td>8c08b61536905ff</td>\n",
       "      <td>785856.0</td>\n",
       "      <td>785856</td>\n",
       "      <td>...</td>\n",
       "      <td>SE</td>\n",
       "      <td>Ulricehamn</td>\n",
       "      <td>Arrehagsvägen</td>\n",
       "      <td>Västra Götalands län</td>\n",
       "      <td>Sweden</td>\n",
       "      <td>Ulricehamn</td>\n",
       "      <td>dWxyaWNlaGFtbnbDpHN0cmEgZ8O2dGFsYW5kcyBsw6Ruc3...</td>\n",
       "      <td>online</td>\n",
       "      <td>[/p2p/112m2iYremK9tPUjv1SqNCsZ9BestvbLAy8FbNEh...</td>\n",
       "      <td>786022.0</td>\n",
       "    </tr>\n",
       "    <tr>\n",
       "      <th>7111</th>\n",
       "      <td>13.425698</td>\n",
       "      <td>57.803074</td>\n",
       "      <td>2021-02-03T18:26:13.000000Z</td>\n",
       "      <td>0.333328</td>\n",
       "      <td>14a1EcchN6gaqHzSh9u2NMuNCSzqWhxU11TWbsJG8Sn9q9...</td>\n",
       "      <td>1</td>\n",
       "      <td>quick-sapphire-liger</td>\n",
       "      <td>8c08b615370adff</td>\n",
       "      <td>785826.0</td>\n",
       "      <td>785826</td>\n",
       "      <td>...</td>\n",
       "      <td>SE</td>\n",
       "      <td>Ulricehamn SO</td>\n",
       "      <td>Stenmursgatan</td>\n",
       "      <td>Västra Götalands län</td>\n",
       "      <td>Sweden</td>\n",
       "      <td>Ulricehamn SO</td>\n",
       "      <td>dWxyaWNlaGFtbiBzb3bDpHN0cmEgZ8O2dGFsYW5kcyBsw6...</td>\n",
       "      <td>online</td>\n",
       "      <td>[/p2p/112Xjz2f3cp1DcHqfshBX5WmTKzfuS7dSa9soY43...</td>\n",
       "      <td>785990.0</td>\n",
       "    </tr>\n",
       "    <tr>\n",
       "      <th>7114</th>\n",
       "      <td>13.431993</td>\n",
       "      <td>57.806607</td>\n",
       "      <td>2021-02-03T17:32:41.000000Z</td>\n",
       "      <td>0.333328</td>\n",
       "      <td>14a1EcchN6gaqHzSh9u2NMuNCSzqWhxU11TWbsJG8Sn9q9...</td>\n",
       "      <td>1</td>\n",
       "      <td>hidden-topaz-cougar</td>\n",
       "      <td>8c08b61536695ff</td>\n",
       "      <td>785845.0</td>\n",
       "      <td>785845</td>\n",
       "      <td>...</td>\n",
       "      <td>SE</td>\n",
       "      <td>Ulricehamn SO</td>\n",
       "      <td>Tåmarksgatan</td>\n",
       "      <td>Västra Götalands län</td>\n",
       "      <td>Sweden</td>\n",
       "      <td>Ulricehamn SO</td>\n",
       "      <td>dWxyaWNlaGFtbiBzb3bDpHN0cmEgZ8O2dGFsYW5kcyBsw6...</td>\n",
       "      <td>online</td>\n",
       "      <td>[/ip4/81.234.116.176/tcp/44158]</td>\n",
       "      <td>786017.0</td>\n",
       "    </tr>\n",
       "    <tr>\n",
       "      <th>7120</th>\n",
       "      <td>13.423556</td>\n",
       "      <td>57.793043</td>\n",
       "      <td>2021-02-03T15:56:58.000000Z</td>\n",
       "      <td>1.000000</td>\n",
       "      <td>14a1EcchN6gaqHzSh9u2NMuNCSzqWhxU11TWbsJG8Sn9q9...</td>\n",
       "      <td>1</td>\n",
       "      <td>dancing-green-haddock</td>\n",
       "      <td>8c08b602c8707ff</td>\n",
       "      <td>785874.0</td>\n",
       "      <td>785874</td>\n",
       "      <td>...</td>\n",
       "      <td>SE</td>\n",
       "      <td>Ulricehamn</td>\n",
       "      <td>Riddarebacken</td>\n",
       "      <td>Västra Götalands län</td>\n",
       "      <td>Sweden</td>\n",
       "      <td>Ulricehamn</td>\n",
       "      <td>dWxyaWNlaGFtbnbDpHN0cmEgZ8O2dGFsYW5kcyBsw6Ruc3...</td>\n",
       "      <td>online</td>\n",
       "      <td>[/ip4/81.234.161.191/tcp/44158]</td>\n",
       "      <td>786022.0</td>\n",
       "    </tr>\n",
       "  </tbody>\n",
       "</table>\n",
       "<p>9 rows × 25 columns</p>\n",
       "</div>"
      ],
      "text/plain": [
       "            lng        lat              timestamp_added  reward_scale  \\\n",
       "2640  11.973905  57.685035  2021-03-15T09:25:34.000000Z      1.000000   \n",
       "5164  11.979265  57.692117  2021-03-05T16:52:46.000000Z      1.000000   \n",
       "6784  13.428963  57.856105  2021-02-09T16:12:53.000000Z      1.000000   \n",
       "6855  13.420528  57.781582  2021-02-08T14:34:42.000000Z      1.000000   \n",
       "6858  13.419345  57.786512  2021-02-08T13:11:56.000000Z      1.000000   \n",
       "6952  13.432995  57.799926  2021-02-06T16:00:54.000000Z      0.333328   \n",
       "7111  13.425698  57.803074  2021-02-03T18:26:13.000000Z      0.333328   \n",
       "7114  13.431993  57.806607  2021-02-03T17:32:41.000000Z      0.333328   \n",
       "7120  13.423556  57.793043  2021-02-03T15:56:58.000000Z      1.000000   \n",
       "\n",
       "                                                  owner  nonce  \\\n",
       "2640  14a1EcchN6gaqHzSh9u2NMuNCSzqWhxU11TWbsJG8Sn9q9...      1   \n",
       "5164  14a1EcchN6gaqHzSh9u2NMuNCSzqWhxU11TWbsJG8Sn9q9...      1   \n",
       "6784  14a1EcchN6gaqHzSh9u2NMuNCSzqWhxU11TWbsJG8Sn9q9...      1   \n",
       "6855  14a1EcchN6gaqHzSh9u2NMuNCSzqWhxU11TWbsJG8Sn9q9...      1   \n",
       "6858  14a1EcchN6gaqHzSh9u2NMuNCSzqWhxU11TWbsJG8Sn9q9...      1   \n",
       "6952  14a1EcchN6gaqHzSh9u2NMuNCSzqWhxU11TWbsJG8Sn9q9...      1   \n",
       "7111  14a1EcchN6gaqHzSh9u2NMuNCSzqWhxU11TWbsJG8Sn9q9...      1   \n",
       "7114  14a1EcchN6gaqHzSh9u2NMuNCSzqWhxU11TWbsJG8Sn9q9...      1   \n",
       "7120  14a1EcchN6gaqHzSh9u2NMuNCSzqWhxU11TWbsJG8Sn9q9...      1   \n",
       "\n",
       "                            name         location  last_poc_challenge  \\\n",
       "2640     overt-cornflower-goblin  8c1f25068a629ff            785943.0   \n",
       "5164  proper-wintergreen-halibut  8c1f2506d729bff            785958.0   \n",
       "6784        passive-zinc-panther  8c08b615dab2bff            785958.0   \n",
       "6855             able-pear-horse  8c08b602cdb4dff            786022.0   \n",
       "6858            damp-cloth-tapir  8c08b61526d83ff            785874.0   \n",
       "6952        trendy-coconut-shell  8c08b61536905ff            785856.0   \n",
       "7111        quick-sapphire-liger  8c08b615370adff            785826.0   \n",
       "7114         hidden-topaz-cougar  8c08b61536695ff            785845.0   \n",
       "7120       dancing-green-haddock  8c08b602c8707ff            785874.0   \n",
       "\n",
       "      last_change_block  ...  short_country     short_city  \\\n",
       "2640             785964  ...             SE      Guldheden   \n",
       "5164             785958  ...             SE    Johanneberg   \n",
       "6784             785958  ...             SE        Timmele   \n",
       "6855             786022  ...             SE     Ulricehamn   \n",
       "6858             785874  ...             SE     Ulricehamn   \n",
       "6952             785856  ...             SE     Ulricehamn   \n",
       "7111             785826  ...             SE  Ulricehamn SO   \n",
       "7114             785845  ...             SE  Ulricehamn SO   \n",
       "7120             785874  ...             SE     Ulricehamn   \n",
       "\n",
       "              long_street            long_state long_country      long_city  \\\n",
       "2640  Doktor Allards Gata  Västra Götalands län       Sweden      Guldheden   \n",
       "5164       Vidblicksgatan  Västra Götalands län       Sweden    Johanneberg   \n",
       "6784         Överstegränd  Västra Götalands län       Sweden        Timmele   \n",
       "6855          Hasselvägen  Västra Götalands län       Sweden     Ulricehamn   \n",
       "6858       Sanatorievägen  Västra Götalands län       Sweden     Ulricehamn   \n",
       "6952        Arrehagsvägen  Västra Götalands län       Sweden     Ulricehamn   \n",
       "7111        Stenmursgatan  Västra Götalands län       Sweden  Ulricehamn SO   \n",
       "7114         Tåmarksgatan  Västra Götalands län       Sweden  Ulricehamn SO   \n",
       "7120        Riddarebacken  Västra Götalands län       Sweden     Ulricehamn   \n",
       "\n",
       "                                                city_id  online  \\\n",
       "2640  Z3VsZGhlZGVudsOkc3RyYSBnw7Z0YWxhbmRzIGzDpG5zd2...  online   \n",
       "5164  am9oYW5uZWJlcmd2w6RzdHJhIGfDtnRhbGFuZHMgbMOkbn...  online   \n",
       "6784   dGltbWVsZXbDpHN0cmEgZ8O2dGFsYW5kcyBsw6Ruc3dlZGVu  online   \n",
       "6855  dWxyaWNlaGFtbnbDpHN0cmEgZ8O2dGFsYW5kcyBsw6Ruc3...  online   \n",
       "6858  dWxyaWNlaGFtbnbDpHN0cmEgZ8O2dGFsYW5kcyBsw6Ruc3...  online   \n",
       "6952  dWxyaWNlaGFtbnbDpHN0cmEgZ8O2dGFsYW5kcyBsw6Ruc3...  online   \n",
       "7111  dWxyaWNlaGFtbiBzb3bDpHN0cmEgZ8O2dGFsYW5kcyBsw6...  online   \n",
       "7114  dWxyaWNlaGFtbiBzb3bDpHN0cmEgZ8O2dGFsYW5kcyBsw6...  online   \n",
       "7120  dWxyaWNlaGFtbnbDpHN0cmEgZ8O2dGFsYW5kcyBsw6Ruc3...  online   \n",
       "\n",
       "                                           listen_addrs    height  \n",
       "2640                   [/ip4/188.148.171.178/tcp/44158]  786025.0  \n",
       "5164                    [/ip4/188.149.41.135/tcp/44158]  786022.0  \n",
       "6784  [/p2p/11CDbFUj3CkT2SCnFn7372f9EeNz88hb9deQaomV...  786016.0  \n",
       "6855  [/p2p/112uWUYuH7JP7jCr8PxAseRyW5ohTTbWNKSCHngQ...  786000.0  \n",
       "6858                   [/ip4/213.200.174.169/tcp/59670]  786016.0  \n",
       "6952  [/p2p/112m2iYremK9tPUjv1SqNCsZ9BestvbLAy8FbNEh...  786022.0  \n",
       "7111  [/p2p/112Xjz2f3cp1DcHqfshBX5WmTKzfuS7dSa9soY43...  785990.0  \n",
       "7114                    [/ip4/81.234.116.176/tcp/44158]  786017.0  \n",
       "7120                    [/ip4/81.234.161.191/tcp/44158]  786022.0  \n",
       "\n",
       "[9 rows x 25 columns]"
      ]
     },
     "execution_count": 56,
     "metadata": {},
     "output_type": "execute_result"
    }
   ],
   "source": [
    "df4_swe[df4_swe['owner']=='14a1EcchN6gaqHzSh9u2NMuNCSzqWhxU11TWbsJG8Sn9q98bkCL']"
   ]
  },
  {
   "cell_type": "code",
   "execution_count": 59,
   "metadata": {},
   "outputs": [],
   "source": [
    "df4_swe.to_csv('swe_hotspots-april2-2021.csv')"
   ]
  },
  {
   "cell_type": "code",
   "execution_count": 60,
   "metadata": {},
   "outputs": [],
   "source": [
    "import pandas as pd\n",
    "\n",
    "df4_swe = pd.read_csv('swe_hotspots-april2-2021.csv')"
   ]
  },
  {
   "cell_type": "code",
   "execution_count": 61,
   "metadata": {},
   "outputs": [
    {
     "data": {
      "text/plain": [
       "14Rqw67Er4T4mDitRR5hkvDbefXUhVQGiaVV4yzgSF3sVtu6PfU    73\n",
       "13Wwpbanr8rMrGPBYajqDTHsScYJAVuXJwSP2hLD3nQk74Zm55y    20\n",
       "13W2BQ5FxQEV4C3PR9nYEC6kywKfNYFFVmHo38UgpLxusX9buCd    11\n",
       "14a1EcchN6gaqHzSh9u2NMuNCSzqWhxU11TWbsJG8Sn9q98bkCL     9\n",
       "14HzZRyju96jHNPjnk3KZFuz8scmK9q4MTJPr7bYdFEo6WYJEmM     6\n",
       "13NCaCjEqGPCrMgEGkzjLEAX3dfaGDNA9SksARATyRgEyxuJLGg     5\n",
       "14BT97xnPZ9YfmeTxmuMhstxB8zHS8FeTUDxqPp38duW7NPHNCg     5\n",
       "13v9kMn5p1a3Y5vqnPxzqfaiEhhrRBaMLYk7SmiN3pJEx1WmBpT     4\n",
       "14SiXdBfQT15p43yGuHRFwg9ynP3Fx8ELErkbAUH9H326mGtrA4     4\n",
       "14DXurfTM8ZRek6msvJWNGzpzCV836cu31Xw67zf8QJG9UtfQLV     3\n",
       "13rbdSBcshNAkLLJKiBUxzYjRnX3G551AUd1CVGqqe7HExScDc4     3\n",
       "14d7XEZJTsFRytmSuj2Ldtx8WpNnNPwawdEv6yV7C4dLwuV6FYm     3\n",
       "13hZcW2J69JUK6vodvzR7PhA5BKNAgEUsi466WBbTw2EhAqVxej     3\n",
       "132rjofoPRZ86KxfvhasuDjNFcej7Lm1oGq8x4oRviJUCkwAuzA     3\n",
       "14inhtM57SDS6QL6KLPVQYYcUSZGD7xjB7hndQm6aq8Z67i5u3e     2\n",
       "14YXyXiPFCgfbv3eRAoD4rowuNzJsFUp49JiEutR3e32kVDDW9D     2\n",
       "13dHSjJ1judroDkgD158RmRki6U5Ypqpq8ZSmyk56AW5HiYRDWJ     2\n",
       "141CNsWqw7uaC4NU7ZR6GxYXbwptY5hXBJouNj3wFuVsQ9zMZK4     2\n",
       "14hgdgqaUAVQVksdY4A9GKMf7iPEVGJLiJnTHLw9BMSwfGcwrSE     2\n",
       "14TMreJAyUEZvLyQiG1sa9R3Q3hLjfH2A5MMrMCTVw4VDizpQgW     1\n",
       "13aQeF2Rrg7KaAcAeU9ukuQ8mioLbo2pRrpNsUB4sMPZf9v13Rc     1\n",
       "13n7s3G59C9jG1Zbe5r9omi9WkTkzq88y2s8vgMaL2ZeNGvijmK     1\n",
       "13Z9tv6rSc8m7vgi1ozypDL9EMQT8DBuxLwSTDsgjBzZwVwNca5     1\n",
       "14iAq97ypapJwDrZfy9MwEL1kVHtPu19MWJXQWWm53AwAskP3pj     1\n",
       "144PCC1HzNhW7D7HF2G3jemkBeDftb4Zh9CvGicPkyesYXy5iu4     1\n",
       "132xFucrG2mjiJAwYmvgoXRh4nMGt8oYh2X8sYLcUPfsCniBHs2     1\n",
       "14Tf7kzR3HeSNFQ71tWynVEJ8br2kZMc1YgkhiDfXfNLP2Ccrfi     1\n",
       "14n2xVYjsQTLY6N5ANnzLPoALm7H49myx1Vhz2DohivT64Nz7qd     1\n",
       "13TAPEoQkexPAed2wzi2gKzgCG98L4nxDsoNhpH66CKifqqHFQP     1\n",
       "132Cxq3DeiaG7L9HpFqw3rmAg57V282qsibidHpHzyCyJX7w2d9     1\n",
       "14YrxhGtHr3XxU91v1wA8umqV76ssjGmQMwwghS7YAEmZFgDmhE     1\n",
       "14f2frf32J57saD6hXxSCCSGmG5CWuPktxbo9ZkExyBumoj1EZf     1\n",
       "14jKSEr49tLco8TLFDoe2mKWWPiiZUpTJP7c1sauA6EfSU11bXM     1\n",
       "14kPdmw7AgFWTkTgCnqTair7bNKdVf7o2g2oZ9DoqxCfqHmDvf5     1\n",
       "14XDDqmtD8RCMEL4oxfrrfrg6qbno6TB9CMf5uHAuNtFZRy6H8i     1\n",
       "14KbLYpzdnEtzJPGLZLdJVKJcYUts2nJ8VEE85F4jXhUj6Gx9dG     1\n",
       "Name: owner, dtype: int64"
      ]
     },
     "execution_count": 61,
     "metadata": {},
     "output_type": "execute_result"
    }
   ],
   "source": [
    "df4_swe['owner'].value_counts()"
   ]
  },
  {
   "cell_type": "markdown",
   "metadata": {},
   "source": [
    "# Rewards per hotspot and owner"
   ]
  },
  {
   "cell_type": "code",
   "execution_count": 62,
   "metadata": {},
   "outputs": [
    {
     "data": {
      "text/plain": [
       "Index(['14Rqw67Er4T4mDitRR5hkvDbefXUhVQGiaVV4yzgSF3sVtu6PfU',\n",
       "       '13Wwpbanr8rMrGPBYajqDTHsScYJAVuXJwSP2hLD3nQk74Zm55y',\n",
       "       '13W2BQ5FxQEV4C3PR9nYEC6kywKfNYFFVmHo38UgpLxusX9buCd',\n",
       "       '14a1EcchN6gaqHzSh9u2NMuNCSzqWhxU11TWbsJG8Sn9q98bkCL',\n",
       "       '14HzZRyju96jHNPjnk3KZFuz8scmK9q4MTJPr7bYdFEo6WYJEmM',\n",
       "       '13NCaCjEqGPCrMgEGkzjLEAX3dfaGDNA9SksARATyRgEyxuJLGg',\n",
       "       '14BT97xnPZ9YfmeTxmuMhstxB8zHS8FeTUDxqPp38duW7NPHNCg',\n",
       "       '13v9kMn5p1a3Y5vqnPxzqfaiEhhrRBaMLYk7SmiN3pJEx1WmBpT',\n",
       "       '14SiXdBfQT15p43yGuHRFwg9ynP3Fx8ELErkbAUH9H326mGtrA4',\n",
       "       '14DXurfTM8ZRek6msvJWNGzpzCV836cu31Xw67zf8QJG9UtfQLV'],\n",
       "      dtype='object')"
      ]
     },
     "execution_count": 62,
     "metadata": {},
     "output_type": "execute_result"
    }
   ],
   "source": [
    "df4_swe['owner'].value_counts().head(10).index"
   ]
  },
  {
   "cell_type": "code",
   "execution_count": 63,
   "metadata": {},
   "outputs": [
    {
     "data": {
      "text/plain": [
       "10"
      ]
     },
     "execution_count": 63,
     "metadata": {},
     "output_type": "execute_result"
    }
   ],
   "source": [
    "len(list(df4_swe['owner'].value_counts().head(10).index))"
   ]
  },
  {
   "cell_type": "code",
   "execution_count": 134,
   "metadata": {},
   "outputs": [],
   "source": [
    "res = []\n",
    "d5 = {}\n",
    "min = '2020-05-30'\n",
    "max = '2021-06-30'\n",
    "for owner in list(df4_swe['owner'].value_counts().head(10).index):\n",
    "    d5[owner]=req('https://api.helium.io/v1/accounts/{owner}/rewards/sum?min_time={min}&max_time={max}'.format(owner=owner,min=min,max=max))['data']\n",
    "    #d5[owner]=req('https://api.helium.io/v1/accounts/{owner}/rewards/sum?min_time={min}&max_time={max}&bucket=week'.format(owner=owner,min=min,max=max))['data']"
   ]
  },
  {
   "cell_type": "code",
   "execution_count": 201,
   "metadata": {},
   "outputs": [],
   "source": [
    "df_reward = pd.DataFrame.from_dict(d5,orient='index')"
   ]
  },
  {
   "cell_type": "code",
   "execution_count": 137,
   "metadata": {},
   "outputs": [],
   "source": [
    "df_reward.to_csv('reward_per_owner.csv')"
   ]
  },
  {
   "cell_type": "code",
   "execution_count": 69,
   "metadata": {},
   "outputs": [],
   "source": [
    "max_amount = 0\n",
    "for r in req('https://api.helium.io/v1/hotspots/112uMtzhUEfEV3z1SjuTSKLY1PXJY2tHhorFEPR2SeW9aCJgR2dM/rewards?min_time=2021-02-01&max_time=2021-03-01&cursor=eyJlbmRfYmxvY2siOjY5OTY1OSwiYmxvY2siOjc0MTMwMCwiYW5jaG9yX2Jsb2NrIjo3NDEzMDB9')['data']:\n",
    "    if r['amount'] > max_amount:\n",
    "        max_amount = r['amount']"
   ]
  },
  {
   "cell_type": "code",
   "execution_count": 146,
   "metadata": {},
   "outputs": [
    {
     "data": {
      "text/plain": [
       "{'meta': {'min_time': '2021-03-26T10:09:27Z',\n",
       "  'max_time': '2021-04-02T10:09:27Z'},\n",
       " 'data': {'total': 3212.94099281,\n",
       "  'sum': 321294099281,\n",
       "  'stddev': 39.1720106,\n",
       "  'min': 0.13542581,\n",
       "  'median': 35.16095103,\n",
       "  'max': 189.67629053,\n",
       "  'avg': 44.01289031246576}}"
      ]
     },
     "execution_count": 146,
     "metadata": {},
     "output_type": "execute_result"
    }
   ],
   "source": [
    "req('https://api.helium.io/v1/accounts/14Rqw67Er4T4mDitRR5hkvDbefXUhVQGiaVV4yzgSF3sVtu6PfU/rewards/sum?min_time=-7%20day')"
   ]
  },
  {
   "cell_type": "code",
   "execution_count": null,
   "metadata": {},
   "outputs": [],
   "source": [
    "req('https://api.helium.io/v1/accounts/{owner}/rewards/sum?min_time={min}&max_time={max}'"
   ]
  },
  {
   "cell_type": "code",
   "execution_count": 156,
   "metadata": {},
   "outputs": [],
   "source": [
    "res = []\n",
    "d6 = {}\n",
    "min = '-7%20day'\n",
    "for owner in list(df4_swe['owner'].value_counts().head(10).index):\n",
    "    d6[owner]=req('https://api.helium.io/v1/accounts/{}/rewards/sum?min_time=-7%20day'.format(owner))['data']"
   ]
  },
  {
   "cell_type": "code",
   "execution_count": 166,
   "metadata": {},
   "outputs": [
    {
     "data": {
      "text/plain": [
       "Index(['14Rqw67Er4T4mDitRR5hkvDbefXUhVQGiaVV4yzgSF3sVtu6PfU',\n",
       "       '13Wwpbanr8rMrGPBYajqDTHsScYJAVuXJwSP2hLD3nQk74Zm55y',\n",
       "       '13W2BQ5FxQEV4C3PR9nYEC6kywKfNYFFVmHo38UgpLxusX9buCd',\n",
       "       '14a1EcchN6gaqHzSh9u2NMuNCSzqWhxU11TWbsJG8Sn9q98bkCL',\n",
       "       '14HzZRyju96jHNPjnk3KZFuz8scmK9q4MTJPr7bYdFEo6WYJEmM',\n",
       "       '13NCaCjEqGPCrMgEGkzjLEAX3dfaGDNA9SksARATyRgEyxuJLGg',\n",
       "       '14BT97xnPZ9YfmeTxmuMhstxB8zHS8FeTUDxqPp38duW7NPHNCg',\n",
       "       '13v9kMn5p1a3Y5vqnPxzqfaiEhhrRBaMLYk7SmiN3pJEx1WmBpT',\n",
       "       '14SiXdBfQT15p43yGuHRFwg9ynP3Fx8ELErkbAUH9H326mGtrA4',\n",
       "       '14DXurfTM8ZRek6msvJWNGzpzCV836cu31Xw67zf8QJG9UtfQLV'],\n",
       "      dtype='object')"
      ]
     },
     "execution_count": 166,
     "metadata": {},
     "output_type": "execute_result"
    }
   ],
   "source": [
    "df4_swe['owner'].value_counts().head(10).index"
   ]
  },
  {
   "cell_type": "code",
   "execution_count": 158,
   "metadata": {},
   "outputs": [],
   "source": [
    "df_swe_rewards_last_week = pd.DataFrame.from_dict(d6, orient='index').rename({'index':'owners'},axis=1)"
   ]
  },
  {
   "cell_type": "code",
   "execution_count": 159,
   "metadata": {},
   "outputs": [
    {
     "data": {
      "text/html": [
       "<div>\n",
       "<style scoped>\n",
       "    .dataframe tbody tr th:only-of-type {\n",
       "        vertical-align: middle;\n",
       "    }\n",
       "\n",
       "    .dataframe tbody tr th {\n",
       "        vertical-align: top;\n",
       "    }\n",
       "\n",
       "    .dataframe thead th {\n",
       "        text-align: right;\n",
       "    }\n",
       "</style>\n",
       "<table border=\"1\" class=\"dataframe\">\n",
       "  <thead>\n",
       "    <tr style=\"text-align: right;\">\n",
       "      <th></th>\n",
       "      <th>total</th>\n",
       "      <th>sum</th>\n",
       "      <th>stddev</th>\n",
       "      <th>min</th>\n",
       "      <th>median</th>\n",
       "      <th>max</th>\n",
       "      <th>avg</th>\n",
       "    </tr>\n",
       "  </thead>\n",
       "  <tbody>\n",
       "    <tr>\n",
       "      <th>14Rqw67Er4T4mDitRR5hkvDbefXUhVQGiaVV4yzgSF3sVtu6PfU</th>\n",
       "      <td>3212.940993</td>\n",
       "      <td>321294099281</td>\n",
       "      <td>39.172011</td>\n",
       "      <td>0.135426</td>\n",
       "      <td>35.160951</td>\n",
       "      <td>189.676291</td>\n",
       "      <td>44.012890</td>\n",
       "    </tr>\n",
       "    <tr>\n",
       "      <th>13Wwpbanr8rMrGPBYajqDTHsScYJAVuXJwSP2hLD3nQk74Zm55y</th>\n",
       "      <td>1127.442624</td>\n",
       "      <td>112744262366</td>\n",
       "      <td>60.663276</td>\n",
       "      <td>1.012062</td>\n",
       "      <td>22.587294</td>\n",
       "      <td>174.795945</td>\n",
       "      <td>56.372131</td>\n",
       "    </tr>\n",
       "    <tr>\n",
       "      <th>13W2BQ5FxQEV4C3PR9nYEC6kywKfNYFFVmHo38UgpLxusX9buCd</th>\n",
       "      <td>874.216358</td>\n",
       "      <td>87421635843</td>\n",
       "      <td>33.024082</td>\n",
       "      <td>36.452642</td>\n",
       "      <td>70.093277</td>\n",
       "      <td>132.630026</td>\n",
       "      <td>79.474214</td>\n",
       "    </tr>\n",
       "    <tr>\n",
       "      <th>14a1EcchN6gaqHzSh9u2NMuNCSzqWhxU11TWbsJG8Sn9q98bkCL</th>\n",
       "      <td>659.714626</td>\n",
       "      <td>65971462562</td>\n",
       "      <td>50.333435</td>\n",
       "      <td>5.169560</td>\n",
       "      <td>42.190122</td>\n",
       "      <td>203.529175</td>\n",
       "      <td>54.976219</td>\n",
       "    </tr>\n",
       "    <tr>\n",
       "      <th>14HzZRyju96jHNPjnk3KZFuz8scmK9q4MTJPr7bYdFEo6WYJEmM</th>\n",
       "      <td>294.229866</td>\n",
       "      <td>29422986616</td>\n",
       "      <td>44.205650</td>\n",
       "      <td>7.555256</td>\n",
       "      <td>38.764545</td>\n",
       "      <td>117.009256</td>\n",
       "      <td>49.038311</td>\n",
       "    </tr>\n",
       "    <tr>\n",
       "      <th>13NCaCjEqGPCrMgEGkzjLEAX3dfaGDNA9SksARATyRgEyxuJLGg</th>\n",
       "      <td>325.885627</td>\n",
       "      <td>32588562662</td>\n",
       "      <td>18.651546</td>\n",
       "      <td>43.291217</td>\n",
       "      <td>62.230643</td>\n",
       "      <td>94.674259</td>\n",
       "      <td>65.177125</td>\n",
       "    </tr>\n",
       "    <tr>\n",
       "      <th>14BT97xnPZ9YfmeTxmuMhstxB8zHS8FeTUDxqPp38duW7NPHNCg</th>\n",
       "      <td>70.016414</td>\n",
       "      <td>7001641450</td>\n",
       "      <td>11.340734</td>\n",
       "      <td>4.164592</td>\n",
       "      <td>10.655108</td>\n",
       "      <td>30.714726</td>\n",
       "      <td>14.003283</td>\n",
       "    </tr>\n",
       "    <tr>\n",
       "      <th>13v9kMn5p1a3Y5vqnPxzqfaiEhhrRBaMLYk7SmiN3pJEx1WmBpT</th>\n",
       "      <td>106.917668</td>\n",
       "      <td>10691766818</td>\n",
       "      <td>39.793702</td>\n",
       "      <td>7.402973</td>\n",
       "      <td>18.363488</td>\n",
       "      <td>81.151207</td>\n",
       "      <td>35.639223</td>\n",
       "    </tr>\n",
       "    <tr>\n",
       "      <th>14SiXdBfQT15p43yGuHRFwg9ynP3Fx8ELErkbAUH9H326mGtrA4</th>\n",
       "      <td>105.094645</td>\n",
       "      <td>10509464455</td>\n",
       "      <td>20.795110</td>\n",
       "      <td>0.459214</td>\n",
       "      <td>26.892402</td>\n",
       "      <td>50.850627</td>\n",
       "      <td>26.273661</td>\n",
       "    </tr>\n",
       "    <tr>\n",
       "      <th>14DXurfTM8ZRek6msvJWNGzpzCV836cu31Xw67zf8QJG9UtfQLV</th>\n",
       "      <td>58.393713</td>\n",
       "      <td>5839371303</td>\n",
       "      <td>13.225290</td>\n",
       "      <td>5.425182</td>\n",
       "      <td>21.280425</td>\n",
       "      <td>31.688107</td>\n",
       "      <td>19.464571</td>\n",
       "    </tr>\n",
       "  </tbody>\n",
       "</table>\n",
       "</div>"
      ],
      "text/plain": [
       "                                                          total           sum  \\\n",
       "14Rqw67Er4T4mDitRR5hkvDbefXUhVQGiaVV4yzgSF3sVtu...  3212.940993  321294099281   \n",
       "13Wwpbanr8rMrGPBYajqDTHsScYJAVuXJwSP2hLD3nQk74Z...  1127.442624  112744262366   \n",
       "13W2BQ5FxQEV4C3PR9nYEC6kywKfNYFFVmHo38UgpLxusX9...   874.216358   87421635843   \n",
       "14a1EcchN6gaqHzSh9u2NMuNCSzqWhxU11TWbsJG8Sn9q98...   659.714626   65971462562   \n",
       "14HzZRyju96jHNPjnk3KZFuz8scmK9q4MTJPr7bYdFEo6WY...   294.229866   29422986616   \n",
       "13NCaCjEqGPCrMgEGkzjLEAX3dfaGDNA9SksARATyRgEyxu...   325.885627   32588562662   \n",
       "14BT97xnPZ9YfmeTxmuMhstxB8zHS8FeTUDxqPp38duW7NP...    70.016414    7001641450   \n",
       "13v9kMn5p1a3Y5vqnPxzqfaiEhhrRBaMLYk7SmiN3pJEx1W...   106.917668   10691766818   \n",
       "14SiXdBfQT15p43yGuHRFwg9ynP3Fx8ELErkbAUH9H326mG...   105.094645   10509464455   \n",
       "14DXurfTM8ZRek6msvJWNGzpzCV836cu31Xw67zf8QJG9Ut...    58.393713    5839371303   \n",
       "\n",
       "                                                       stddev        min  \\\n",
       "14Rqw67Er4T4mDitRR5hkvDbefXUhVQGiaVV4yzgSF3sVtu...  39.172011   0.135426   \n",
       "13Wwpbanr8rMrGPBYajqDTHsScYJAVuXJwSP2hLD3nQk74Z...  60.663276   1.012062   \n",
       "13W2BQ5FxQEV4C3PR9nYEC6kywKfNYFFVmHo38UgpLxusX9...  33.024082  36.452642   \n",
       "14a1EcchN6gaqHzSh9u2NMuNCSzqWhxU11TWbsJG8Sn9q98...  50.333435   5.169560   \n",
       "14HzZRyju96jHNPjnk3KZFuz8scmK9q4MTJPr7bYdFEo6WY...  44.205650   7.555256   \n",
       "13NCaCjEqGPCrMgEGkzjLEAX3dfaGDNA9SksARATyRgEyxu...  18.651546  43.291217   \n",
       "14BT97xnPZ9YfmeTxmuMhstxB8zHS8FeTUDxqPp38duW7NP...  11.340734   4.164592   \n",
       "13v9kMn5p1a3Y5vqnPxzqfaiEhhrRBaMLYk7SmiN3pJEx1W...  39.793702   7.402973   \n",
       "14SiXdBfQT15p43yGuHRFwg9ynP3Fx8ELErkbAUH9H326mG...  20.795110   0.459214   \n",
       "14DXurfTM8ZRek6msvJWNGzpzCV836cu31Xw67zf8QJG9Ut...  13.225290   5.425182   \n",
       "\n",
       "                                                       median         max  \\\n",
       "14Rqw67Er4T4mDitRR5hkvDbefXUhVQGiaVV4yzgSF3sVtu...  35.160951  189.676291   \n",
       "13Wwpbanr8rMrGPBYajqDTHsScYJAVuXJwSP2hLD3nQk74Z...  22.587294  174.795945   \n",
       "13W2BQ5FxQEV4C3PR9nYEC6kywKfNYFFVmHo38UgpLxusX9...  70.093277  132.630026   \n",
       "14a1EcchN6gaqHzSh9u2NMuNCSzqWhxU11TWbsJG8Sn9q98...  42.190122  203.529175   \n",
       "14HzZRyju96jHNPjnk3KZFuz8scmK9q4MTJPr7bYdFEo6WY...  38.764545  117.009256   \n",
       "13NCaCjEqGPCrMgEGkzjLEAX3dfaGDNA9SksARATyRgEyxu...  62.230643   94.674259   \n",
       "14BT97xnPZ9YfmeTxmuMhstxB8zHS8FeTUDxqPp38duW7NP...  10.655108   30.714726   \n",
       "13v9kMn5p1a3Y5vqnPxzqfaiEhhrRBaMLYk7SmiN3pJEx1W...  18.363488   81.151207   \n",
       "14SiXdBfQT15p43yGuHRFwg9ynP3Fx8ELErkbAUH9H326mG...  26.892402   50.850627   \n",
       "14DXurfTM8ZRek6msvJWNGzpzCV836cu31Xw67zf8QJG9Ut...  21.280425   31.688107   \n",
       "\n",
       "                                                          avg  \n",
       "14Rqw67Er4T4mDitRR5hkvDbefXUhVQGiaVV4yzgSF3sVtu...  44.012890  \n",
       "13Wwpbanr8rMrGPBYajqDTHsScYJAVuXJwSP2hLD3nQk74Z...  56.372131  \n",
       "13W2BQ5FxQEV4C3PR9nYEC6kywKfNYFFVmHo38UgpLxusX9...  79.474214  \n",
       "14a1EcchN6gaqHzSh9u2NMuNCSzqWhxU11TWbsJG8Sn9q98...  54.976219  \n",
       "14HzZRyju96jHNPjnk3KZFuz8scmK9q4MTJPr7bYdFEo6WY...  49.038311  \n",
       "13NCaCjEqGPCrMgEGkzjLEAX3dfaGDNA9SksARATyRgEyxu...  65.177125  \n",
       "14BT97xnPZ9YfmeTxmuMhstxB8zHS8FeTUDxqPp38duW7NP...  14.003283  \n",
       "13v9kMn5p1a3Y5vqnPxzqfaiEhhrRBaMLYk7SmiN3pJEx1W...  35.639223  \n",
       "14SiXdBfQT15p43yGuHRFwg9ynP3Fx8ELErkbAUH9H326mG...  26.273661  \n",
       "14DXurfTM8ZRek6msvJWNGzpzCV836cu31Xw67zf8QJG9Ut...  19.464571  "
      ]
     },
     "execution_count": 159,
     "metadata": {},
     "output_type": "execute_result"
    }
   ],
   "source": [
    "df_swe_rewards_last_week"
   ]
  },
  {
   "cell_type": "code",
   "execution_count": 165,
   "metadata": {},
   "outputs": [
    {
     "data": {
      "text/plain": [
       "owner\n",
       "14Rqw67Er4T4mDitRR5hkvDbefXUhVQGiaVV4yzgSF3sVtu6PfU    73\n",
       "13Wwpbanr8rMrGPBYajqDTHsScYJAVuXJwSP2hLD3nQk74Zm55y    20\n",
       "13W2BQ5FxQEV4C3PR9nYEC6kywKfNYFFVmHo38UgpLxusX9buCd    11\n",
       "14a1EcchN6gaqHzSh9u2NMuNCSzqWhxU11TWbsJG8Sn9q98bkCL     9\n",
       "14HzZRyju96jHNPjnk3KZFuz8scmK9q4MTJPr7bYdFEo6WYJEmM     6\n",
       "14BT97xnPZ9YfmeTxmuMhstxB8zHS8FeTUDxqPp38duW7NPHNCg     5\n",
       "13NCaCjEqGPCrMgEGkzjLEAX3dfaGDNA9SksARATyRgEyxuJLGg     5\n",
       "13v9kMn5p1a3Y5vqnPxzqfaiEhhrRBaMLYk7SmiN3pJEx1WmBpT     4\n",
       "14SiXdBfQT15p43yGuHRFwg9ynP3Fx8ELErkbAUH9H326mGtrA4     4\n",
       "13hZcW2J69JUK6vodvzR7PhA5BKNAgEUsi466WBbTw2EhAqVxej     3\n",
       "dtype: int64"
      ]
     },
     "execution_count": 165,
     "metadata": {},
     "output_type": "execute_result"
    }
   ],
   "source": [
    "df_total_swe "
   ]
  },
  {
   "cell_type": "code",
   "execution_count": 167,
   "metadata": {},
   "outputs": [],
   "source": [
    "df_total_swe = df4_swe['owner'].value_counts().head(10)\n",
    "df_total_swe.columns = ['owners','hotspots']"
   ]
  },
  {
   "cell_type": "code",
   "execution_count": 168,
   "metadata": {},
   "outputs": [],
   "source": [
    "df_weekly_swe = pd.DataFrame(df_total_swe).join(df_swe_rewards_last_week)"
   ]
  },
  {
   "cell_type": "code",
   "execution_count": 169,
   "metadata": {},
   "outputs": [
    {
     "data": {
      "text/html": [
       "<div>\n",
       "<style scoped>\n",
       "    .dataframe tbody tr th:only-of-type {\n",
       "        vertical-align: middle;\n",
       "    }\n",
       "\n",
       "    .dataframe tbody tr th {\n",
       "        vertical-align: top;\n",
       "    }\n",
       "\n",
       "    .dataframe thead th {\n",
       "        text-align: right;\n",
       "    }\n",
       "</style>\n",
       "<table border=\"1\" class=\"dataframe\">\n",
       "  <thead>\n",
       "    <tr style=\"text-align: right;\">\n",
       "      <th></th>\n",
       "      <th>owner</th>\n",
       "      <th>total</th>\n",
       "      <th>sum</th>\n",
       "      <th>stddev</th>\n",
       "      <th>min</th>\n",
       "      <th>median</th>\n",
       "      <th>max</th>\n",
       "      <th>avg</th>\n",
       "    </tr>\n",
       "  </thead>\n",
       "  <tbody>\n",
       "    <tr>\n",
       "      <th>14Rqw67Er4T4mDitRR5hkvDbefXUhVQGiaVV4yzgSF3sVtu6PfU</th>\n",
       "      <td>73</td>\n",
       "      <td>3212.940993</td>\n",
       "      <td>321294099281</td>\n",
       "      <td>39.172011</td>\n",
       "      <td>0.135426</td>\n",
       "      <td>35.160951</td>\n",
       "      <td>189.676291</td>\n",
       "      <td>44.012890</td>\n",
       "    </tr>\n",
       "    <tr>\n",
       "      <th>13Wwpbanr8rMrGPBYajqDTHsScYJAVuXJwSP2hLD3nQk74Zm55y</th>\n",
       "      <td>20</td>\n",
       "      <td>1127.442624</td>\n",
       "      <td>112744262366</td>\n",
       "      <td>60.663276</td>\n",
       "      <td>1.012062</td>\n",
       "      <td>22.587294</td>\n",
       "      <td>174.795945</td>\n",
       "      <td>56.372131</td>\n",
       "    </tr>\n",
       "    <tr>\n",
       "      <th>13W2BQ5FxQEV4C3PR9nYEC6kywKfNYFFVmHo38UgpLxusX9buCd</th>\n",
       "      <td>11</td>\n",
       "      <td>874.216358</td>\n",
       "      <td>87421635843</td>\n",
       "      <td>33.024082</td>\n",
       "      <td>36.452642</td>\n",
       "      <td>70.093277</td>\n",
       "      <td>132.630026</td>\n",
       "      <td>79.474214</td>\n",
       "    </tr>\n",
       "    <tr>\n",
       "      <th>14a1EcchN6gaqHzSh9u2NMuNCSzqWhxU11TWbsJG8Sn9q98bkCL</th>\n",
       "      <td>9</td>\n",
       "      <td>659.714626</td>\n",
       "      <td>65971462562</td>\n",
       "      <td>50.333435</td>\n",
       "      <td>5.169560</td>\n",
       "      <td>42.190122</td>\n",
       "      <td>203.529175</td>\n",
       "      <td>54.976219</td>\n",
       "    </tr>\n",
       "    <tr>\n",
       "      <th>14HzZRyju96jHNPjnk3KZFuz8scmK9q4MTJPr7bYdFEo6WYJEmM</th>\n",
       "      <td>6</td>\n",
       "      <td>294.229866</td>\n",
       "      <td>29422986616</td>\n",
       "      <td>44.205650</td>\n",
       "      <td>7.555256</td>\n",
       "      <td>38.764545</td>\n",
       "      <td>117.009256</td>\n",
       "      <td>49.038311</td>\n",
       "    </tr>\n",
       "    <tr>\n",
       "      <th>13NCaCjEqGPCrMgEGkzjLEAX3dfaGDNA9SksARATyRgEyxuJLGg</th>\n",
       "      <td>5</td>\n",
       "      <td>325.885627</td>\n",
       "      <td>32588562662</td>\n",
       "      <td>18.651546</td>\n",
       "      <td>43.291217</td>\n",
       "      <td>62.230643</td>\n",
       "      <td>94.674259</td>\n",
       "      <td>65.177125</td>\n",
       "    </tr>\n",
       "    <tr>\n",
       "      <th>14BT97xnPZ9YfmeTxmuMhstxB8zHS8FeTUDxqPp38duW7NPHNCg</th>\n",
       "      <td>5</td>\n",
       "      <td>70.016414</td>\n",
       "      <td>7001641450</td>\n",
       "      <td>11.340734</td>\n",
       "      <td>4.164592</td>\n",
       "      <td>10.655108</td>\n",
       "      <td>30.714726</td>\n",
       "      <td>14.003283</td>\n",
       "    </tr>\n",
       "    <tr>\n",
       "      <th>13v9kMn5p1a3Y5vqnPxzqfaiEhhrRBaMLYk7SmiN3pJEx1WmBpT</th>\n",
       "      <td>4</td>\n",
       "      <td>106.917668</td>\n",
       "      <td>10691766818</td>\n",
       "      <td>39.793702</td>\n",
       "      <td>7.402973</td>\n",
       "      <td>18.363488</td>\n",
       "      <td>81.151207</td>\n",
       "      <td>35.639223</td>\n",
       "    </tr>\n",
       "    <tr>\n",
       "      <th>14SiXdBfQT15p43yGuHRFwg9ynP3Fx8ELErkbAUH9H326mGtrA4</th>\n",
       "      <td>4</td>\n",
       "      <td>105.094645</td>\n",
       "      <td>10509464455</td>\n",
       "      <td>20.795110</td>\n",
       "      <td>0.459214</td>\n",
       "      <td>26.892402</td>\n",
       "      <td>50.850627</td>\n",
       "      <td>26.273661</td>\n",
       "    </tr>\n",
       "    <tr>\n",
       "      <th>14DXurfTM8ZRek6msvJWNGzpzCV836cu31Xw67zf8QJG9UtfQLV</th>\n",
       "      <td>3</td>\n",
       "      <td>58.393713</td>\n",
       "      <td>5839371303</td>\n",
       "      <td>13.225290</td>\n",
       "      <td>5.425182</td>\n",
       "      <td>21.280425</td>\n",
       "      <td>31.688107</td>\n",
       "      <td>19.464571</td>\n",
       "    </tr>\n",
       "  </tbody>\n",
       "</table>\n",
       "</div>"
      ],
      "text/plain": [
       "                                                    owner        total  \\\n",
       "14Rqw67Er4T4mDitRR5hkvDbefXUhVQGiaVV4yzgSF3sVtu...     73  3212.940993   \n",
       "13Wwpbanr8rMrGPBYajqDTHsScYJAVuXJwSP2hLD3nQk74Z...     20  1127.442624   \n",
       "13W2BQ5FxQEV4C3PR9nYEC6kywKfNYFFVmHo38UgpLxusX9...     11   874.216358   \n",
       "14a1EcchN6gaqHzSh9u2NMuNCSzqWhxU11TWbsJG8Sn9q98...      9   659.714626   \n",
       "14HzZRyju96jHNPjnk3KZFuz8scmK9q4MTJPr7bYdFEo6WY...      6   294.229866   \n",
       "13NCaCjEqGPCrMgEGkzjLEAX3dfaGDNA9SksARATyRgEyxu...      5   325.885627   \n",
       "14BT97xnPZ9YfmeTxmuMhstxB8zHS8FeTUDxqPp38duW7NP...      5    70.016414   \n",
       "13v9kMn5p1a3Y5vqnPxzqfaiEhhrRBaMLYk7SmiN3pJEx1W...      4   106.917668   \n",
       "14SiXdBfQT15p43yGuHRFwg9ynP3Fx8ELErkbAUH9H326mG...      4   105.094645   \n",
       "14DXurfTM8ZRek6msvJWNGzpzCV836cu31Xw67zf8QJG9Ut...      3    58.393713   \n",
       "\n",
       "                                                             sum     stddev  \\\n",
       "14Rqw67Er4T4mDitRR5hkvDbefXUhVQGiaVV4yzgSF3sVtu...  321294099281  39.172011   \n",
       "13Wwpbanr8rMrGPBYajqDTHsScYJAVuXJwSP2hLD3nQk74Z...  112744262366  60.663276   \n",
       "13W2BQ5FxQEV4C3PR9nYEC6kywKfNYFFVmHo38UgpLxusX9...   87421635843  33.024082   \n",
       "14a1EcchN6gaqHzSh9u2NMuNCSzqWhxU11TWbsJG8Sn9q98...   65971462562  50.333435   \n",
       "14HzZRyju96jHNPjnk3KZFuz8scmK9q4MTJPr7bYdFEo6WY...   29422986616  44.205650   \n",
       "13NCaCjEqGPCrMgEGkzjLEAX3dfaGDNA9SksARATyRgEyxu...   32588562662  18.651546   \n",
       "14BT97xnPZ9YfmeTxmuMhstxB8zHS8FeTUDxqPp38duW7NP...    7001641450  11.340734   \n",
       "13v9kMn5p1a3Y5vqnPxzqfaiEhhrRBaMLYk7SmiN3pJEx1W...   10691766818  39.793702   \n",
       "14SiXdBfQT15p43yGuHRFwg9ynP3Fx8ELErkbAUH9H326mG...   10509464455  20.795110   \n",
       "14DXurfTM8ZRek6msvJWNGzpzCV836cu31Xw67zf8QJG9Ut...    5839371303  13.225290   \n",
       "\n",
       "                                                          min     median  \\\n",
       "14Rqw67Er4T4mDitRR5hkvDbefXUhVQGiaVV4yzgSF3sVtu...   0.135426  35.160951   \n",
       "13Wwpbanr8rMrGPBYajqDTHsScYJAVuXJwSP2hLD3nQk74Z...   1.012062  22.587294   \n",
       "13W2BQ5FxQEV4C3PR9nYEC6kywKfNYFFVmHo38UgpLxusX9...  36.452642  70.093277   \n",
       "14a1EcchN6gaqHzSh9u2NMuNCSzqWhxU11TWbsJG8Sn9q98...   5.169560  42.190122   \n",
       "14HzZRyju96jHNPjnk3KZFuz8scmK9q4MTJPr7bYdFEo6WY...   7.555256  38.764545   \n",
       "13NCaCjEqGPCrMgEGkzjLEAX3dfaGDNA9SksARATyRgEyxu...  43.291217  62.230643   \n",
       "14BT97xnPZ9YfmeTxmuMhstxB8zHS8FeTUDxqPp38duW7NP...   4.164592  10.655108   \n",
       "13v9kMn5p1a3Y5vqnPxzqfaiEhhrRBaMLYk7SmiN3pJEx1W...   7.402973  18.363488   \n",
       "14SiXdBfQT15p43yGuHRFwg9ynP3Fx8ELErkbAUH9H326mG...   0.459214  26.892402   \n",
       "14DXurfTM8ZRek6msvJWNGzpzCV836cu31Xw67zf8QJG9Ut...   5.425182  21.280425   \n",
       "\n",
       "                                                           max        avg  \n",
       "14Rqw67Er4T4mDitRR5hkvDbefXUhVQGiaVV4yzgSF3sVtu...  189.676291  44.012890  \n",
       "13Wwpbanr8rMrGPBYajqDTHsScYJAVuXJwSP2hLD3nQk74Z...  174.795945  56.372131  \n",
       "13W2BQ5FxQEV4C3PR9nYEC6kywKfNYFFVmHo38UgpLxusX9...  132.630026  79.474214  \n",
       "14a1EcchN6gaqHzSh9u2NMuNCSzqWhxU11TWbsJG8Sn9q98...  203.529175  54.976219  \n",
       "14HzZRyju96jHNPjnk3KZFuz8scmK9q4MTJPr7bYdFEo6WY...  117.009256  49.038311  \n",
       "13NCaCjEqGPCrMgEGkzjLEAX3dfaGDNA9SksARATyRgEyxu...   94.674259  65.177125  \n",
       "14BT97xnPZ9YfmeTxmuMhstxB8zHS8FeTUDxqPp38duW7NP...   30.714726  14.003283  \n",
       "13v9kMn5p1a3Y5vqnPxzqfaiEhhrRBaMLYk7SmiN3pJEx1W...   81.151207  35.639223  \n",
       "14SiXdBfQT15p43yGuHRFwg9ynP3Fx8ELErkbAUH9H326mG...   50.850627  26.273661  \n",
       "14DXurfTM8ZRek6msvJWNGzpzCV836cu31Xw67zf8QJG9Ut...   31.688107  19.464571  "
      ]
     },
     "execution_count": 169,
     "metadata": {},
     "output_type": "execute_result"
    }
   ],
   "source": [
    "df_weekly_swe"
   ]
  },
  {
   "cell_type": "code",
   "execution_count": 178,
   "metadata": {},
   "outputs": [
    {
     "data": {
      "text/plain": [
       "14Rqw67Er4T4mDitRR5hkvDbefXUhVQGiaVV4yzgSF3sVtu6PfU    3212.940993\n",
       "13Wwpbanr8rMrGPBYajqDTHsScYJAVuXJwSP2hLD3nQk74Zm55y    1127.442624\n",
       "13W2BQ5FxQEV4C3PR9nYEC6kywKfNYFFVmHo38UgpLxusX9buCd     874.216358\n",
       "14a1EcchN6gaqHzSh9u2NMuNCSzqWhxU11TWbsJG8Sn9q98bkCL     659.714626\n",
       "14HzZRyju96jHNPjnk3KZFuz8scmK9q4MTJPr7bYdFEo6WYJEmM     294.229866\n",
       "13NCaCjEqGPCrMgEGkzjLEAX3dfaGDNA9SksARATyRgEyxuJLGg     325.885627\n",
       "14BT97xnPZ9YfmeTxmuMhstxB8zHS8FeTUDxqPp38duW7NPHNCg      70.016414\n",
       "13v9kMn5p1a3Y5vqnPxzqfaiEhhrRBaMLYk7SmiN3pJEx1WmBpT     106.917668\n",
       "14SiXdBfQT15p43yGuHRFwg9ynP3Fx8ELErkbAUH9H326mGtrA4     105.094645\n",
       "14DXurfTM8ZRek6msvJWNGzpzCV836cu31Xw67zf8QJG9UtfQLV      58.393713\n",
       "Name: total, dtype: float64"
      ]
     },
     "execution_count": 178,
     "metadata": {},
     "output_type": "execute_result"
    }
   ],
   "source": [
    "df_weekly_swe['total']"
   ]
  },
  {
   "cell_type": "code",
   "execution_count": 171,
   "metadata": {},
   "outputs": [
    {
     "data": {
      "text/plain": [
       "14Rqw67Er4T4mDitRR5hkvDbefXUhVQGiaVV4yzgSF3sVtu6PfU    44.012890\n",
       "13Wwpbanr8rMrGPBYajqDTHsScYJAVuXJwSP2hLD3nQk74Zm55y    56.372131\n",
       "13W2BQ5FxQEV4C3PR9nYEC6kywKfNYFFVmHo38UgpLxusX9buCd    79.474214\n",
       "14a1EcchN6gaqHzSh9u2NMuNCSzqWhxU11TWbsJG8Sn9q98bkCL    73.301625\n",
       "14HzZRyju96jHNPjnk3KZFuz8scmK9q4MTJPr7bYdFEo6WYJEmM    49.038311\n",
       "13NCaCjEqGPCrMgEGkzjLEAX3dfaGDNA9SksARATyRgEyxuJLGg    65.177125\n",
       "14BT97xnPZ9YfmeTxmuMhstxB8zHS8FeTUDxqPp38duW7NPHNCg    14.003283\n",
       "13v9kMn5p1a3Y5vqnPxzqfaiEhhrRBaMLYk7SmiN3pJEx1WmBpT    26.729417\n",
       "14SiXdBfQT15p43yGuHRFwg9ynP3Fx8ELErkbAUH9H326mGtrA4    26.273661\n",
       "14DXurfTM8ZRek6msvJWNGzpzCV836cu31Xw67zf8QJG9UtfQLV    19.464571\n",
       "dtype: float64"
      ]
     },
     "execution_count": 171,
     "metadata": {},
     "output_type": "execute_result"
    }
   ],
   "source": [
    "df_weekly_swe['total']/df_weekly_swe['owner']"
   ]
  },
  {
   "cell_type": "code",
   "execution_count": 203,
   "metadata": {},
   "outputs": [],
   "source": [
    "df_reward = df_reward.rename({'total':'total_hnt_alltime', 'median':'median_alltime', 'avg':'avg_alltime', 'stddev':'stddev_alltime'},axis=1)"
   ]
  },
  {
   "cell_type": "code",
   "execution_count": 204,
   "metadata": {},
   "outputs": [],
   "source": [
    "df_reward['past_week_hnt'] = df_weekly_swe['total']"
   ]
  },
  {
   "cell_type": "code",
   "execution_count": 205,
   "metadata": {},
   "outputs": [],
   "source": [
    "df_reward['past_week_hnt_per_hotspot'] = df_weekly_swe['total']/df_weekly_swe['owner']"
   ]
  },
  {
   "cell_type": "code",
   "execution_count": 207,
   "metadata": {},
   "outputs": [],
   "source": [
    "df_reward['hotspots_owned'] = df4_swe['owner'].value_counts().head(10)"
   ]
  },
  {
   "cell_type": "code",
   "execution_count": 208,
   "metadata": {},
   "outputs": [],
   "source": [
    "df_reward = df_reward.drop(['sum','min','max'],axis=1)"
   ]
  },
  {
   "cell_type": "code",
   "execution_count": 209,
   "metadata": {},
   "outputs": [
    {
     "data": {
      "text/plain": [
       "Index(['total_hnt_alltime', 'stddev_alltime', 'median_alltime', 'avg_alltime',\n",
       "       'past_week_hnt', 'past_week_hnt_per_hotspot', 'hotspots_owned'],\n",
       "      dtype='object')"
      ]
     },
     "execution_count": 209,
     "metadata": {},
     "output_type": "execute_result"
    }
   ],
   "source": [
    "df_reward.columns"
   ]
  },
  {
   "cell_type": "code",
   "execution_count": 212,
   "metadata": {},
   "outputs": [],
   "source": [
    "df_reward[['hotspots_owned','total_hnt_alltime', 'median_alltime', 'avg_alltime', 'stddev_alltime',\n",
    "       'past_week_hnt', 'past_week_hnt_per_hotspot']].to_csv('reward_per_owner.csv')"
   ]
  },
  {
   "cell_type": "code",
   "execution_count": null,
   "metadata": {},
   "outputs": [],
   "source": []
  }
 ],
 "metadata": {
  "kernelspec": {
   "display_name": "data-x",
   "language": "python",
   "name": "data-x"
  },
  "language_info": {
   "codemirror_mode": {
    "name": "ipython",
    "version": 3
   },
   "file_extension": ".py",
   "mimetype": "text/x-python",
   "name": "python",
   "nbconvert_exporter": "python",
   "pygments_lexer": "ipython3",
   "version": "3.7.4"
  }
 },
 "nbformat": 4,
 "nbformat_minor": 4
}
