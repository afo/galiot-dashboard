{
 "cells": [
  {
   "cell_type": "code",
   "execution_count": 1,
   "metadata": {},
   "outputs": [],
   "source": [
    "API = 'https://api.helium.io/'"
   ]
  },
  {
   "cell_type": "code",
   "execution_count": 2,
   "metadata": {},
   "outputs": [],
   "source": [
    "import requests"
   ]
  },
  {
   "cell_type": "code",
   "execution_count": 3,
   "metadata": {},
   "outputs": [],
   "source": [
    "r = requests.get('https://api.helium.io/v1/locations/8c08866198e4bff')"
   ]
  },
  {
   "cell_type": "code",
   "execution_count": 4,
   "metadata": {},
   "outputs": [
    {
     "data": {
      "text/plain": [
       "{'data': {'short_street': 'Skeppargatan',\n",
       "  'short_state': 'Stockholms län',\n",
       "  'short_country': 'SE',\n",
       "  'short_city': 'Östermalm',\n",
       "  'long_street': 'Skeppargatan',\n",
       "  'long_state': 'Stockholms län',\n",
       "  'long_country': 'Sweden',\n",
       "  'long_city': 'Östermalm',\n",
       "  'location': '8c08866198e4bff',\n",
       "  'city_id': 'w7ZzdGVybWFsbXN0b2NraG9sbXMgbMOkbnN3ZWRlbg'}}"
      ]
     },
     "execution_count": 4,
     "metadata": {},
     "output_type": "execute_result"
    }
   ],
   "source": [
    "r.json()"
   ]
  },
  {
   "cell_type": "code",
   "execution_count": 5,
   "metadata": {},
   "outputs": [],
   "source": [
    "r = requests.get('https://api.helium.io/v1/stats')"
   ]
  },
  {
   "cell_type": "code",
   "execution_count": 6,
   "metadata": {},
   "outputs": [
    {
     "data": {
      "text/plain": [
       "{'data': {'token_supply': 86234792.88596836,\n",
       "  'state_channel_counts': {'last_week': {'num_packets': 3986732,\n",
       "    'num_dcs': 5326468},\n",
       "   'last_month': {'num_packets': 24026055, 'num_dcs': 40172488},\n",
       "   'last_day': {'num_packets': 596918, 'num_dcs': 698932}},\n",
       "  'fees': {'last_week': {'transaction': 810965000, 'staking': 18372000000},\n",
       "   'last_month': {'transaction': 2495430000, 'staking': 45647000000},\n",
       "   'last_day': {'transaction': 87865000, 'staking': 1313000000}},\n",
       "  'election_times': {'last_week': {'stddev': 3103.940709605085,\n",
       "    'avg': 3022.03},\n",
       "   'last_month': {'stddev': 2279.879201177918, 'avg': 2859.734513274336},\n",
       "   'last_hour': {'stddev': None, 'avg': None},\n",
       "   'last_day': {'stddev': 1684.183757364804, 'avg': 2914.0}},\n",
       "  'counts': {'transactions': 57009456,\n",
       "   'hotspots': 34617,\n",
       "   'countries': 70,\n",
       "   'consensus_groups': 21512,\n",
       "   'cities': 4477,\n",
       "   'challenges': 21231818,\n",
       "   'blocks': 838830},\n",
       "  'challenge_counts': {'last_day': 65041, 'active': 0},\n",
       "  'block_times': {'last_week': {'stddev': 53.021965127723,\n",
       "    'avg': 62.82668329177057},\n",
       "   'last_month': {'stddev': 42.02465492024509, 'avg': 63.25673630772235},\n",
       "   'last_hour': {'stddev': 46.4635033424853, 'avg': 82.14285714285714},\n",
       "   'last_day': {'stddev': 22.997573426492984, 'avg': 59.93815149409312}}}}"
      ]
     },
     "execution_count": 6,
     "metadata": {},
     "output_type": "execute_result"
    }
   ],
   "source": [
    "r.json()"
   ]
  },
  {
   "cell_type": "code",
   "execution_count": 7,
   "metadata": {},
   "outputs": [],
   "source": [
    "r = requests.get('https://api.helium.io/v1/hotspots/name/small-leather-nuthatch')"
   ]
  },
  {
   "cell_type": "code",
   "execution_count": 8,
   "metadata": {},
   "outputs": [
    {
     "data": {
      "text/plain": [
       "{'data': [{'lng': 18.09012557886758,\n",
       "   'lat': 59.34257271627216,\n",
       "   'timestamp_added': '2020-10-02T10:32:05.000000Z',\n",
       "   'status': {'online': 'online',\n",
       "    'listen_addrs': ['/p2p/112qNM4h9iwaFD74i4NT4Qs4f1fGKtoEE7vSrpNYCUUUJyktT8V8/p2p-circuit/p2p/112ZdtYTRoSQrXm3XthtUqQMP7BfmMzpMncKdUZxGxkPLJYCWrfg'],\n",
       "    'height': 838692},\n",
       "   'reward_scale': 0.18115234375,\n",
       "   'owner': '14Rqw67Er4T4mDitRR5hkvDbefXUhVQGiaVV4yzgSF3sVtu6PfU',\n",
       "   'nonce': 1,\n",
       "   'name': 'small-leather-nuthatch',\n",
       "   'location': '8c08866198e4bff',\n",
       "   'last_poc_challenge': 838602,\n",
       "   'last_change_block': 838738,\n",
       "   'geocode': {'short_street': 'Skeppargatan',\n",
       "    'short_state': 'Stockholms län',\n",
       "    'short_country': 'SE',\n",
       "    'short_city': 'Östermalm',\n",
       "    'long_street': 'Skeppargatan',\n",
       "    'long_state': 'Stockholms län',\n",
       "    'long_country': 'Sweden',\n",
       "    'long_city': 'Östermalm',\n",
       "    'city_id': 'w7ZzdGVybWFsbXN0b2NraG9sbXMgbMOkbnN3ZWRlbg'},\n",
       "   'gain': 12,\n",
       "   'elevation': 0,\n",
       "   'block_added': 526389,\n",
       "   'block': 838834,\n",
       "   'address': '112ZdtYTRoSQrXm3XthtUqQMP7BfmMzpMncKdUZxGxkPLJYCWrfg'}]}"
      ]
     },
     "execution_count": 8,
     "metadata": {},
     "output_type": "execute_result"
    }
   ],
   "source": [
    "r.json()"
   ]
  },
  {
   "cell_type": "code",
   "execution_count": 9,
   "metadata": {},
   "outputs": [],
   "source": [
    "results = []\n",
    "cursor=''"
   ]
  },
  {
   "cell_type": "code",
   "execution_count": 10,
   "metadata": {},
   "outputs": [
    {
     "ename": "KeyError",
     "evalue": "'cursor'",
     "output_type": "error",
     "traceback": [
      "\u001b[0;31m---------------------------------------------------------------------------\u001b[0m",
      "\u001b[0;31mKeyError\u001b[0m                                  Traceback (most recent call last)",
      "\u001b[0;32m<ipython-input-10-e0612379bd4f>\u001b[0m in \u001b[0;36m<module>\u001b[0;34m\u001b[0m\n\u001b[1;32m      1\u001b[0m \u001b[0;32mwhile\u001b[0m \u001b[0mcursor\u001b[0m \u001b[0;32mis\u001b[0m \u001b[0;32mnot\u001b[0m \u001b[0;32mNone\u001b[0m\u001b[0;34m:\u001b[0m\u001b[0;34m\u001b[0m\u001b[0;34m\u001b[0m\u001b[0m\n\u001b[1;32m      2\u001b[0m     \u001b[0mr\u001b[0m \u001b[0;34m=\u001b[0m \u001b[0mrequests\u001b[0m\u001b[0;34m.\u001b[0m\u001b[0mget\u001b[0m\u001b[0;34m(\u001b[0m\u001b[0;34m'https://api.helium.wtf/v1/cities?cursor={}'\u001b[0m\u001b[0;34m.\u001b[0m\u001b[0mformat\u001b[0m\u001b[0;34m(\u001b[0m\u001b[0mcursor\u001b[0m\u001b[0;34m)\u001b[0m\u001b[0;34m)\u001b[0m\u001b[0;34m\u001b[0m\u001b[0;34m\u001b[0m\u001b[0m\n\u001b[0;32m----> 3\u001b[0;31m     \u001b[0mcursor\u001b[0m \u001b[0;34m=\u001b[0m \u001b[0mr\u001b[0m\u001b[0;34m.\u001b[0m\u001b[0mjson\u001b[0m\u001b[0;34m(\u001b[0m\u001b[0;34m)\u001b[0m\u001b[0;34m[\u001b[0m\u001b[0;34m'cursor'\u001b[0m\u001b[0;34m]\u001b[0m\u001b[0;34m\u001b[0m\u001b[0;34m\u001b[0m\u001b[0m\n\u001b[0m\u001b[1;32m      4\u001b[0m     \u001b[0mresults\u001b[0m\u001b[0;34m.\u001b[0m\u001b[0mappend\u001b[0m\u001b[0;34m(\u001b[0m\u001b[0mr\u001b[0m\u001b[0;34m.\u001b[0m\u001b[0mjson\u001b[0m\u001b[0;34m(\u001b[0m\u001b[0;34m)\u001b[0m\u001b[0;34m)\u001b[0m\u001b[0;34m\u001b[0m\u001b[0;34m\u001b[0m\u001b[0m\n",
      "\u001b[0;31mKeyError\u001b[0m: 'cursor'"
     ]
    }
   ],
   "source": [
    "while cursor is not None:\n",
    "    if cursor:\n",
    "        r = requests.get('https://api.helium.wtf/v1/cities?cursor={}'.format(cursor))\n",
    "        cursor = r.json()['cursor']\n",
    "        results.append(r.json())\n",
    "    else:\n",
    "        break"
   ]
  },
  {
   "cell_type": "code",
   "execution_count": 12,
   "metadata": {},
   "outputs": [
    {
     "data": {
      "text/plain": [
       "49"
      ]
     },
     "execution_count": 12,
     "metadata": {},
     "output_type": "execute_result"
    }
   ],
   "source": [
    "len(results)"
   ]
  },
  {
   "cell_type": "code",
   "execution_count": 13,
   "metadata": {},
   "outputs": [
    {
     "data": {
      "text/plain": [
       "dict_keys(['short_state', 'short_country', 'short_city', 'online_count', 'offline_count', 'long_state', 'long_country', 'long_city', 'hotspot_count', 'city_id'])"
      ]
     },
     "execution_count": 13,
     "metadata": {},
     "output_type": "execute_result"
    }
   ],
   "source": [
    "results[0]['data'][1].keys()"
   ]
  },
  {
   "cell_type": "code",
   "execution_count": 14,
   "metadata": {},
   "outputs": [],
   "source": [
    "import pandas as pd"
   ]
  },
  {
   "cell_type": "code",
   "execution_count": 15,
   "metadata": {},
   "outputs": [],
   "source": [
    "df = pd.DataFrame(columns=results[0]['data'][1].keys())"
   ]
  },
  {
   "cell_type": "code",
   "execution_count": 16,
   "metadata": {},
   "outputs": [
    {
     "data": {
      "text/html": [
       "<div>\n",
       "<style scoped>\n",
       "    .dataframe tbody tr th:only-of-type {\n",
       "        vertical-align: middle;\n",
       "    }\n",
       "\n",
       "    .dataframe tbody tr th {\n",
       "        vertical-align: top;\n",
       "    }\n",
       "\n",
       "    .dataframe thead th {\n",
       "        text-align: right;\n",
       "    }\n",
       "</style>\n",
       "<table border=\"1\" class=\"dataframe\">\n",
       "  <thead>\n",
       "    <tr style=\"text-align: right;\">\n",
       "      <th></th>\n",
       "      <th>short_state</th>\n",
       "      <th>short_country</th>\n",
       "      <th>short_city</th>\n",
       "      <th>online_count</th>\n",
       "      <th>offline_count</th>\n",
       "      <th>long_state</th>\n",
       "      <th>long_country</th>\n",
       "      <th>long_city</th>\n",
       "      <th>hotspot_count</th>\n",
       "      <th>city_id</th>\n",
       "    </tr>\n",
       "  </thead>\n",
       "  <tbody>\n",
       "  </tbody>\n",
       "</table>\n",
       "</div>"
      ],
      "text/plain": [
       "Empty DataFrame\n",
       "Columns: [short_state, short_country, short_city, online_count, offline_count, long_state, long_country, long_city, hotspot_count, city_id]\n",
       "Index: []"
      ]
     },
     "execution_count": 16,
     "metadata": {},
     "output_type": "execute_result"
    }
   ],
   "source": [
    "df"
   ]
  },
  {
   "cell_type": "code",
   "execution_count": 17,
   "metadata": {},
   "outputs": [],
   "source": [
    "d2 = {}"
   ]
  },
  {
   "cell_type": "code",
   "execution_count": 18,
   "metadata": {},
   "outputs": [],
   "source": [
    "i=0"
   ]
  },
  {
   "cell_type": "code",
   "execution_count": 19,
   "metadata": {},
   "outputs": [],
   "source": [
    "\n",
    "for res in results:\n",
    "    for x in res['data']:\n",
    "        i=i+1\n",
    "        d2[i] = x"
   ]
  },
  {
   "cell_type": "code",
   "execution_count": 20,
   "metadata": {},
   "outputs": [],
   "source": [
    "df = pd.DataFrame.from_dict(d2, orient='index')"
   ]
  },
  {
   "cell_type": "code",
   "execution_count": 21,
   "metadata": {},
   "outputs": [],
   "source": [
    "df.to_csv('hotspot_count_city')"
   ]
  },
  {
   "cell_type": "code",
   "execution_count": 22,
   "metadata": {},
   "outputs": [],
   "source": [
    "import pandas as pd\n",
    "df = pd.read_csv('hotspot_count_city')"
   ]
  },
  {
   "cell_type": "code",
   "execution_count": 23,
   "metadata": {},
   "outputs": [
    {
     "data": {
      "text/plain": [
       "292"
      ]
     },
     "execution_count": 23,
     "metadata": {},
     "output_type": "execute_result"
    }
   ],
   "source": [
    "df[df['short_country']=='SE']['hotspot_count'].sum()"
   ]
  },
  {
   "cell_type": "code",
   "execution_count": 24,
   "metadata": {},
   "outputs": [
    {
     "data": {
      "text/plain": [
       "Västra Götalands län    34\n",
       "Stockholms län          31\n",
       "Uppsala län             15\n",
       "Skåne län               12\n",
       "Östergötlands län        5\n",
       "Västmanlands län         5\n",
       "Kalmar län               3\n",
       "Västerbottens län        2\n",
       "Södermanlands län        1\n",
       "Norrbottens län          1\n",
       "Värmlands län            1\n",
       "Gävleborgs län           1\n",
       "Name: long_state, dtype: int64"
      ]
     },
     "execution_count": 24,
     "metadata": {},
     "output_type": "execute_result"
    }
   ],
   "source": [
    "df[df['short_country']=='SE']['long_state'].value_counts()"
   ]
  },
  {
   "cell_type": "code",
   "execution_count": 25,
   "metadata": {},
   "outputs": [],
   "source": [
    "df_swe = df[df['short_country']=='SE']"
   ]
  },
  {
   "cell_type": "code",
   "execution_count": 26,
   "metadata": {},
   "outputs": [
    {
     "data": {
      "text/plain": [
       "ZmxvZ3N0YXVwcHNhbGEgbMOkbnN3ZWRlbg                              1\n",
       "YmVzdG9ycC1hbm5lYm9yZ3bDpHN0cmEgZ8O2dGFsYW5kcyBsw6Ruc3dlZGVu    1\n",
       "dHJhbmRhcmVkdsOkc3RyYSBnw7Z0YWxhbmRzIGzDpG5zd2VkZW4             1\n",
       "ZG90b3JwLXJhbnRlbnbDpHN0cmEgZ8O2dGFsYW5kcyBsw6Ruc3dlZGVu        1\n",
       "bm9ycm1hbG1zdG9ja2hvbG1zIGzDpG5zd2VkZW4                         1\n",
       "                                                               ..\n",
       "am9oYW5uZWJlcmd2w6RzdHJhIGfDtnRhbGFuZHMgbMOkbnN3ZWRlbg          1\n",
       "YnLDpG1hcmVnw6VyZGVudsOkc3RyYSBnw7Z0YWxhbmRzIGzDpG5zd2VkZW4     1\n",
       "dsOkcm5oZW1za8OlbmUgbMOkbnN3ZWRlbg                              1\n",
       "a3ZpbGxlYsOkY2tlbnbDpHN0cmEgZ8O2dGFsYW5kcyBsw6Ruc3dlZGVu        1\n",
       "ZsOlbGhhZ2VudXBwc2FsYSBsw6Ruc3dlZGVu                            1\n",
       "Name: city_id, Length: 111, dtype: int64"
      ]
     },
     "execution_count": 26,
     "metadata": {},
     "output_type": "execute_result"
    }
   ],
   "source": [
    "df_swe['city_id'].value_counts()"
   ]
  },
  {
   "cell_type": "code",
   "execution_count": 27,
   "metadata": {},
   "outputs": [
    {
     "data": {
      "text/plain": [
       "[{'lng': 20.301440653255145,\n",
       "  'lat': 63.81434706697964,\n",
       "  'timestamp_added': '2020-10-30T07:29:20.000000Z',\n",
       "  'status': {'online': 'online',\n",
       "   'listen_addrs': ['/ip4/87.96.151.71/tcp/56801'],\n",
       "   'height': 838770},\n",
       "  'reward_scale': 0.5,\n",
       "  'owner': '132F1Ad16kiwoBQ77kw3yMCUdnyTBi3xxgEyC1nXxNsbpRxuZ1K',\n",
       "  'nonce': 4,\n",
       "  'name': 'mysterious-iron-crab',\n",
       "  'location': '8c08f62cec497ff',\n",
       "  'last_poc_challenge': 838605,\n",
       "  'last_change_block': 838655,\n",
       "  'geocode': {'short_street': 'Klintvägen',\n",
       "   'short_state': 'Västerbottens län',\n",
       "   'short_country': 'SE',\n",
       "   'short_city': 'Ålidhem',\n",
       "   'long_street': 'Klintvägen',\n",
       "   'long_state': 'Västerbottens län',\n",
       "   'long_country': 'Sweden',\n",
       "   'long_city': 'Ålidhem',\n",
       "   'city_id': 'w6VsaWRoZW12w6RzdGVyYm90dGVucyBsw6Ruc3dlZGVu'},\n",
       "  'gain': 70,\n",
       "  'elevation': 20,\n",
       "  'block_added': 565975,\n",
       "  'block': 838835,\n",
       "  'address': '11B3w7ixQEEPdyhuJDLtceEXg4qUzcJCLv5PVzBSQJUkn3Y7hjH'},\n",
       " {'lng': 20.29318563492533,\n",
       "  'lat': 63.81382365638192,\n",
       "  'timestamp_added': '2020-10-29T17:21:22.000000Z',\n",
       "  'status': {'online': 'online',\n",
       "   'listen_addrs': ['/p2p/11gTLn4BHucTbJ8NvcdpmkeK9fQmpJiP7kDyCQExykqc3AhNfpL/p2p-circuit/p2p/11phhLEBkrehUWTzJ2F9SNVxTaGLvg9fpwKwAsSs6wBEhZrMjZb'],\n",
       "   'height': 838692},\n",
       "  'reward_scale': 0.5,\n",
       "  'owner': '132rjofoPRZ86KxfvhasuDjNFcej7Lm1oGq8x4oRviJUCkwAuzA',\n",
       "  'nonce': 2,\n",
       "  'name': 'wild-paisley-corgi',\n",
       "  'location': '8c08f62ced6d7ff',\n",
       "  'last_poc_challenge': 838620,\n",
       "  'last_change_block': 838698,\n",
       "  'geocode': {'short_street': 'Hoppets gränd',\n",
       "   'short_state': 'Västerbottens län',\n",
       "   'short_country': 'SE',\n",
       "   'short_city': 'Ålidhem',\n",
       "   'long_street': 'Hoppets gränd',\n",
       "   'long_state': 'Västerbottens län',\n",
       "   'long_country': 'Sweden',\n",
       "   'long_city': 'Ålidhem',\n",
       "   'city_id': 'w6VsaWRoZW12w6RzdGVyYm90dGVucyBsw6Ruc3dlZGVu'},\n",
       "  'gain': 12,\n",
       "  'elevation': 0,\n",
       "  'block_added': 565055,\n",
       "  'block': 838835,\n",
       "  'address': '11phhLEBkrehUWTzJ2F9SNVxTaGLvg9fpwKwAsSs6wBEhZrMjZb'}]"
      ]
     },
     "execution_count": 27,
     "metadata": {},
     "output_type": "execute_result"
    }
   ],
   "source": [
    "r = requests.get('https://api.helium.io/v1/cities/{}/hotspots'.format(df_swe['city_id'].iloc[0]))\n",
    "r.json()['data']"
   ]
  },
  {
   "cell_type": "code",
   "execution_count": 28,
   "metadata": {},
   "outputs": [],
   "source": [
    "for c in pd.unique(df_swe['city_id']):\n",
    "    r = requests.get('https://api.helium.io/v1/cities/{}/hotspots'.format(c))\n",
    "    r.json()['data']"
   ]
  },
  {
   "cell_type": "code",
   "execution_count": null,
   "metadata": {},
   "outputs": [],
   "source": []
  },
  {
   "cell_type": "code",
   "execution_count": null,
   "metadata": {},
   "outputs": [],
   "source": []
  },
  {
   "cell_type": "code",
   "execution_count": null,
   "metadata": {},
   "outputs": [],
   "source": []
  },
  {
   "cell_type": "code",
   "execution_count": 29,
   "metadata": {},
   "outputs": [],
   "source": [
    "r = requests.get('https://api.helium.io/v1/accounts/rich')\n",
    "g=0\n",
    "b=0\n",
    "for idx,i in enumerate(r.json()['data']):\n",
    "    if i['address'] == '14Rqw67Er4T4mDitRR5hkvDbefXUhVQGiaVV4yzgSF3sVtu6PfU':\n",
    "        g=idx\n",
    "        b=i['balance']"
   ]
  },
  {
   "cell_type": "code",
   "execution_count": 30,
   "metadata": {},
   "outputs": [
    {
     "data": {
      "text/plain": [
       "0"
      ]
     },
     "execution_count": 30,
     "metadata": {},
     "output_type": "execute_result"
    }
   ],
   "source": [
    "g"
   ]
  },
  {
   "cell_type": "code",
   "execution_count": 31,
   "metadata": {},
   "outputs": [
    {
     "data": {
      "text/plain": [
       "0"
      ]
     },
     "execution_count": 31,
     "metadata": {},
     "output_type": "execute_result"
    }
   ],
   "source": [
    "b"
   ]
  },
  {
   "cell_type": "code",
   "execution_count": 32,
   "metadata": {},
   "outputs": [
    {
     "data": {
      "text/plain": [
       "{'data': {'speculative_sec_nonce': 0,\n",
       "  'speculative_nonce': 42,\n",
       "  'sec_nonce': 0,\n",
       "  'sec_balance': 0,\n",
       "  'nonce': 42,\n",
       "  'dc_nonce': 0,\n",
       "  'dc_balance': 0,\n",
       "  'block': 838837,\n",
       "  'balance': 1756680752997,\n",
       "  'address': '14Rqw67Er4T4mDitRR5hkvDbefXUhVQGiaVV4yzgSF3sVtu6PfU'}}"
      ]
     },
     "execution_count": 32,
     "metadata": {},
     "output_type": "execute_result"
    }
   ],
   "source": [
    "r = requests.get('https://api.helium.io/v1/accounts/14Rqw67Er4T4mDitRR5hkvDbefXUhVQGiaVV4yzgSF3sVtu6PfU')\n",
    "r.json()"
   ]
  },
  {
   "cell_type": "code",
   "execution_count": 33,
   "metadata": {},
   "outputs": [],
   "source": [
    "def req(string):\n",
    "    r = requests.get(string)\n",
    "    return r.json()\n",
    "\n",
    "res = req('https://api.helium.io/v1/accounts/14Rqw67Er4T4mDitRR5hkvDbefXUhVQGiaVV4yzgSF3sVtu6PfU/hotspots')"
   ]
  },
  {
   "cell_type": "code",
   "execution_count": 34,
   "metadata": {},
   "outputs": [
    {
     "data": {
      "text/plain": [
       "73"
      ]
     },
     "execution_count": 34,
     "metadata": {},
     "output_type": "execute_result"
    }
   ],
   "source": [
    "len(res['data'])"
   ]
  },
  {
   "cell_type": "code",
   "execution_count": 35,
   "metadata": {},
   "outputs": [
    {
     "data": {
      "text/plain": [
       "'muscular-juniper-mongoose'"
      ]
     },
     "execution_count": 35,
     "metadata": {},
     "output_type": "execute_result"
    }
   ],
   "source": [
    "res['data'][0]['name']"
   ]
  },
  {
   "cell_type": "code",
   "execution_count": null,
   "metadata": {},
   "outputs": [],
   "source": []
  },
  {
   "cell_type": "code",
   "execution_count": 36,
   "metadata": {},
   "outputs": [],
   "source": [
    "relay = [res['data'][x]['status']['listen_addrs'] for x in range(len(res['data']))]"
   ]
  },
  {
   "cell_type": "code",
   "execution_count": 37,
   "metadata": {},
   "outputs": [],
   "source": [
    "l = []\n",
    "for r in res['data']:\n",
    "    if r['status']['listen_addrs']:\n",
    "        if 'p2p' in r['status']['listen_addrs'][0]:\n",
    "            l.append(r['name'])"
   ]
  },
  {
   "cell_type": "code",
   "execution_count": 38,
   "metadata": {},
   "outputs": [],
   "source": [
    "pd.DataFrame(l).to_csv('relayed.csv')"
   ]
  },
  {
   "cell_type": "code",
   "execution_count": 39,
   "metadata": {},
   "outputs": [
    {
     "data": {
      "text/plain": [
       "['muscular-juniper-mongoose',\n",
       " 'gentle-concrete-swallow',\n",
       " 'flat-taffy-squid',\n",
       " 'prehistoric-hazelnut-sheep',\n",
       " 'nutty-steel-sealion',\n",
       " 'micro-carob-narwhal',\n",
       " 'little-paisley-badger',\n",
       " 'hot-malachite-hawk',\n",
       " 'quick-zinc-seagull',\n",
       " 'expert-ultraviolet-huskie',\n",
       " 'round-lavender-millipede',\n",
       " 'dandy-maroon-moose',\n",
       " 'small-leather-nuthatch',\n",
       " 'plain-fuchsia-alligator']"
      ]
     },
     "execution_count": 39,
     "metadata": {},
     "output_type": "execute_result"
    }
   ],
   "source": [
    "l"
   ]
  },
  {
   "cell_type": "code",
   "execution_count": 40,
   "metadata": {},
   "outputs": [
    {
     "data": {
      "text/plain": [
       "['/p2p/11AKdVtGj4ng8XkKD5aCMLKa33mm5myGL6wrdagnPspCfhu4Hhn/p2p-circuit/p2p/112uMtzhUEfEV3z1SjuTSKLY1PXJY2tHhorFEPR2SeW9aCJgR2dM']"
      ]
     },
     "execution_count": 40,
     "metadata": {},
     "output_type": "execute_result"
    }
   ],
   "source": [
    "relay[2]"
   ]
  },
  {
   "cell_type": "code",
   "execution_count": 41,
   "metadata": {},
   "outputs": [],
   "source": [
    "i=0\n",
    "for r in relay:\n",
    "    if r:\n",
    "        if 'p2p' in r[0]:\n",
    "            i=i+1"
   ]
  },
  {
   "cell_type": "code",
   "execution_count": 42,
   "metadata": {},
   "outputs": [
    {
     "data": {
      "text/plain": [
       "14"
      ]
     },
     "execution_count": 42,
     "metadata": {},
     "output_type": "execute_result"
    }
   ],
   "source": [
    "i"
   ]
  },
  {
   "cell_type": "code",
   "execution_count": null,
   "metadata": {},
   "outputs": [],
   "source": []
  },
  {
   "cell_type": "code",
   "execution_count": 43,
   "metadata": {},
   "outputs": [
    {
     "data": {
      "text/plain": [
       "{'meta': {'min_time': '2020-05-16T19:05:01Z',\n",
       "  'max_time': '2021-03-16T19:05:01Z'},\n",
       " 'data': {'total': 86410.17565551,\n",
       "  'sum': 8641017565551,\n",
       "  'stddev': 1619.82019474,\n",
       "  'min': 0.07143702,\n",
       "  'median': 590.145778,\n",
       "  'max': 8004.94122185,\n",
       "  'avg': 1183.7010363768493}}"
      ]
     },
     "execution_count": 43,
     "metadata": {},
     "output_type": "execute_result"
    }
   ],
   "source": [
    "req('https://api.helium.io/v1/accounts/14Rqw67Er4T4mDitRR5hkvDbefXUhVQGiaVV4yzgSF3sVtu6PfU/rewards/sum?min_time=2020-05-16T19:05:01Z&max_time=2021-03-16T19:05:01Z')"
   ]
  },
  {
   "cell_type": "code",
   "execution_count": 44,
   "metadata": {},
   "outputs": [],
   "source": [
    "cursor = ''\n",
    "results = []\n",
    "while cursor is not None:\n",
    "    r = req('https://api.helium.io/v1/hotspots?cursor={}'.format(cursor))\n",
    "    results.append(r['data'])\n",
    "    try:\n",
    "        cursor = r['cursor']\n",
    "    except:\n",
    "        break\n"
   ]
  },
  {
   "cell_type": "code",
   "execution_count": 45,
   "metadata": {},
   "outputs": [],
   "source": [
    "results.append(r['data'])"
   ]
  },
  {
   "cell_type": "code",
   "execution_count": 46,
   "metadata": {},
   "outputs": [],
   "source": [
    "d3 = {}\n",
    "res = []\n",
    "for r in results:\n",
    "    res = res + r"
   ]
  },
  {
   "cell_type": "code",
   "execution_count": 47,
   "metadata": {},
   "outputs": [
    {
     "data": {
      "text/plain": [
       "35252"
      ]
     },
     "execution_count": 47,
     "metadata": {},
     "output_type": "execute_result"
    }
   ],
   "source": [
    "len(res)"
   ]
  },
  {
   "cell_type": "code",
   "execution_count": 48,
   "metadata": {},
   "outputs": [],
   "source": [
    "for idx,r in enumerate(res):\n",
    "    d3[idx] = r"
   ]
  },
  {
   "cell_type": "code",
   "execution_count": 49,
   "metadata": {},
   "outputs": [],
   "source": [
    "df3 = pd.DataFrame.from_dict(d3, orient='index')"
   ]
  },
  {
   "cell_type": "code",
   "execution_count": 50,
   "metadata": {},
   "outputs": [],
   "source": [
    "df3_geo = df3['geocode'].apply(pd.Series)"
   ]
  },
  {
   "cell_type": "code",
   "execution_count": 51,
   "metadata": {},
   "outputs": [],
   "source": [
    "df3_status = df3['status'].apply(pd.Series)"
   ]
  },
  {
   "cell_type": "code",
   "execution_count": 52,
   "metadata": {},
   "outputs": [],
   "source": [
    "df4 = df3.join(df3_geo).join(df3_status)"
   ]
  },
  {
   "cell_type": "code",
   "execution_count": 53,
   "metadata": {},
   "outputs": [
    {
     "data": {
      "text/plain": [
       "(35252, 29)"
      ]
     },
     "execution_count": 53,
     "metadata": {},
     "output_type": "execute_result"
    }
   ],
   "source": [
    "df4.shape"
   ]
  },
  {
   "cell_type": "code",
   "execution_count": 54,
   "metadata": {},
   "outputs": [],
   "source": [
    "df4 = df4.drop(['status','geocode'],axis=1)"
   ]
  },
  {
   "cell_type": "code",
   "execution_count": 55,
   "metadata": {},
   "outputs": [
    {
     "data": {
      "text/plain": [
       "Index(['lng', 'lat', 'timestamp_added', 'reward_scale', 'owner', 'nonce',\n",
       "       'name', 'location', 'last_poc_challenge', 'last_change_block', 'gain',\n",
       "       'elevation', 'block_added', 'block', 'address', 'short_street',\n",
       "       'short_state', 'short_country', 'short_city', 'long_street',\n",
       "       'long_state', 'long_country', 'long_city', 'city_id', 'online',\n",
       "       'listen_addrs', 'height'],\n",
       "      dtype='object')"
      ]
     },
     "execution_count": 55,
     "metadata": {},
     "output_type": "execute_result"
    }
   ],
   "source": [
    "df4.columns"
   ]
  },
  {
   "cell_type": "code",
   "execution_count": 56,
   "metadata": {},
   "outputs": [],
   "source": [
    "df4.to_csv('all_hotspots_may10-2021.csv')"
   ]
  },
  {
   "cell_type": "code",
   "execution_count": 57,
   "metadata": {},
   "outputs": [],
   "source": [
    "df4_swe = df4[df4['short_country']=='SE']"
   ]
  },
  {
   "cell_type": "code",
   "execution_count": 58,
   "metadata": {},
   "outputs": [],
   "source": [
    "import matplotlib.pyplot as plt\n",
    "\n",
    "%matplotlib inline"
   ]
  },
  {
   "cell_type": "code",
   "execution_count": 59,
   "metadata": {},
   "outputs": [
    {
     "data": {
      "text/plain": [
       "292"
      ]
     },
     "execution_count": 59,
     "metadata": {},
     "output_type": "execute_result"
    }
   ],
   "source": [
    "len(df4_swe)"
   ]
  },
  {
   "cell_type": "code",
   "execution_count": 60,
   "metadata": {},
   "outputs": [
    {
     "data": {
      "text/plain": [
       "27057    2020-08-31T12:22:36.000000Z\n",
       "25944    2020-09-22T19:44:07.000000Z\n",
       "25398    2020-10-01T17:27:33.000000Z\n",
       "25394    2020-10-01T18:05:55.000000Z\n",
       "25391    2020-10-01T18:33:42.000000Z\n",
       "                    ...             \n",
       "17009    2021-02-02T16:36:16.000000Z\n",
       "16951    2021-02-03T08:07:22.000000Z\n",
       "16950    2021-02-03T08:31:10.000000Z\n",
       "16851    2021-02-04T22:55:02.000000Z\n",
       "15539    2021-03-02T19:11:35.000000Z\n",
       "Name: timestamp_added, Length: 73, dtype: object"
      ]
     },
     "execution_count": 60,
     "metadata": {},
     "output_type": "execute_result"
    }
   ],
   "source": [
    "df4_swe[df4_swe['owner']=='14Rqw67Er4T4mDitRR5hkvDbefXUhVQGiaVV4yzgSF3sVtu6PfU']['timestamp_added'][::-1]"
   ]
  },
  {
   "cell_type": "code",
   "execution_count": 74,
   "metadata": {},
   "outputs": [
    {
     "data": {
      "text/plain": [
       "27057   2020-08-31 12:22:36+00:00\n",
       "25944   2020-09-22 19:44:07+00:00\n",
       "25398   2020-10-01 17:27:33+00:00\n",
       "25394   2020-10-01 18:05:55+00:00\n",
       "25391   2020-10-01 18:33:42+00:00\n",
       "                   ...           \n",
       "17009   2021-02-02 16:36:16+00:00\n",
       "16951   2021-02-03 08:07:22+00:00\n",
       "16950   2021-02-03 08:31:10+00:00\n",
       "16851   2021-02-04 22:55:02+00:00\n",
       "15539   2021-03-02 19:11:35+00:00\n",
       "Name: timestamp_added, Length: 73, dtype: datetime64[ns, UTC]"
      ]
     },
     "execution_count": 74,
     "metadata": {},
     "output_type": "execute_result"
    }
   ],
   "source": [
    "dates_galiot"
   ]
  },
  {
   "cell_type": "code",
   "execution_count": 61,
   "metadata": {},
   "outputs": [],
   "source": [
    "dates_full = pd.to_datetime(df4_swe['timestamp_added'])[::-1]"
   ]
  },
  {
   "cell_type": "code",
   "execution_count": 62,
   "metadata": {},
   "outputs": [],
   "source": [
    "dates_galiot = pd.to_datetime(df4_swe[df4_swe['owner']=='14Rqw67Er4T4mDitRR5hkvDbefXUhVQGiaVV4yzgSF3sVtu6PfU']['timestamp_added'])[::-1]"
   ]
  },
  {
   "cell_type": "code",
   "execution_count": 79,
   "metadata": {},
   "outputs": [],
   "source": [
    "values_galiot = list(range(1,len(df4_swe[df4_swe['owner']=='14Rqw67Er4T4mDitRR5hkvDbefXUhVQGiaVV4yzgSF3sVtu6PfU'])+1))"
   ]
  },
  {
   "cell_type": "code",
   "execution_count": 80,
   "metadata": {},
   "outputs": [],
   "source": [
    "values_galiot.append(values_galiot[-1])"
   ]
  },
  {
   "cell_type": "code",
   "execution_count": 81,
   "metadata": {},
   "outputs": [
    {
     "ename": "ValueError",
     "evalue": "x and y must have same first dimension, but have shapes (73,) and (74,)",
     "output_type": "error",
     "traceback": [
      "\u001b[0;31m---------------------------------------------------------------------------\u001b[0m",
      "\u001b[0;31mValueError\u001b[0m                                Traceback (most recent call last)",
      "\u001b[0;32m<ipython-input-81-f7397f868b25>\u001b[0m in \u001b[0;36m<module>\u001b[0;34m\u001b[0m\n\u001b[1;32m      1\u001b[0m \u001b[0mplt\u001b[0m\u001b[0;34m.\u001b[0m\u001b[0mplot\u001b[0m\u001b[0;34m(\u001b[0m\u001b[0mpd\u001b[0m\u001b[0;34m.\u001b[0m\u001b[0mto_datetime\u001b[0m\u001b[0;34m(\u001b[0m\u001b[0mdf4_swe\u001b[0m\u001b[0;34m[\u001b[0m\u001b[0;34m'timestamp_added'\u001b[0m\u001b[0;34m]\u001b[0m\u001b[0;34m)\u001b[0m\u001b[0;34m[\u001b[0m\u001b[0;34m:\u001b[0m\u001b[0;34m:\u001b[0m\u001b[0;34m-\u001b[0m\u001b[0;36m1\u001b[0m\u001b[0;34m]\u001b[0m\u001b[0;34m,\u001b[0m\u001b[0mlist\u001b[0m\u001b[0;34m(\u001b[0m\u001b[0mrange\u001b[0m\u001b[0;34m(\u001b[0m\u001b[0;36m1\u001b[0m\u001b[0;34m,\u001b[0m\u001b[0mlen\u001b[0m\u001b[0;34m(\u001b[0m\u001b[0mdf4_swe\u001b[0m\u001b[0;34m)\u001b[0m\u001b[0;34m+\u001b[0m\u001b[0;36m1\u001b[0m\u001b[0;34m)\u001b[0m\u001b[0;34m)\u001b[0m\u001b[0;34m)\u001b[0m\u001b[0;34m\u001b[0m\u001b[0;34m\u001b[0m\u001b[0m\n\u001b[0;32m----> 2\u001b[0;31m \u001b[0mplt\u001b[0m\u001b[0;34m.\u001b[0m\u001b[0mplot\u001b[0m\u001b[0;34m(\u001b[0m\u001b[0mdates_galiot\u001b[0m\u001b[0;34m,\u001b[0m\u001b[0mvalues_galiot\u001b[0m\u001b[0;34m)\u001b[0m\u001b[0;34m\u001b[0m\u001b[0;34m\u001b[0m\u001b[0m\n\u001b[0m",
      "\u001b[0;32m~/.pyenv/versions/data-x/lib/python3.7/site-packages/matplotlib/pyplot.py\u001b[0m in \u001b[0;36mplot\u001b[0;34m(scalex, scaley, data, *args, **kwargs)\u001b[0m\n\u001b[1;32m   2840\u001b[0m     return gca().plot(\n\u001b[1;32m   2841\u001b[0m         \u001b[0;34m*\u001b[0m\u001b[0margs\u001b[0m\u001b[0;34m,\u001b[0m \u001b[0mscalex\u001b[0m\u001b[0;34m=\u001b[0m\u001b[0mscalex\u001b[0m\u001b[0;34m,\u001b[0m \u001b[0mscaley\u001b[0m\u001b[0;34m=\u001b[0m\u001b[0mscaley\u001b[0m\u001b[0;34m,\u001b[0m\u001b[0;34m\u001b[0m\u001b[0;34m\u001b[0m\u001b[0m\n\u001b[0;32m-> 2842\u001b[0;31m         **({\"data\": data} if data is not None else {}), **kwargs)\n\u001b[0m\u001b[1;32m   2843\u001b[0m \u001b[0;34m\u001b[0m\u001b[0m\n\u001b[1;32m   2844\u001b[0m \u001b[0;34m\u001b[0m\u001b[0m\n",
      "\u001b[0;32m~/.pyenv/versions/data-x/lib/python3.7/site-packages/matplotlib/axes/_axes.py\u001b[0m in \u001b[0;36mplot\u001b[0;34m(self, scalex, scaley, data, *args, **kwargs)\u001b[0m\n\u001b[1;32m   1741\u001b[0m         \"\"\"\n\u001b[1;32m   1742\u001b[0m         \u001b[0mkwargs\u001b[0m \u001b[0;34m=\u001b[0m \u001b[0mcbook\u001b[0m\u001b[0;34m.\u001b[0m\u001b[0mnormalize_kwargs\u001b[0m\u001b[0;34m(\u001b[0m\u001b[0mkwargs\u001b[0m\u001b[0;34m,\u001b[0m \u001b[0mmlines\u001b[0m\u001b[0;34m.\u001b[0m\u001b[0mLine2D\u001b[0m\u001b[0;34m)\u001b[0m\u001b[0;34m\u001b[0m\u001b[0;34m\u001b[0m\u001b[0m\n\u001b[0;32m-> 1743\u001b[0;31m         \u001b[0mlines\u001b[0m \u001b[0;34m=\u001b[0m \u001b[0;34m[\u001b[0m\u001b[0;34m*\u001b[0m\u001b[0mself\u001b[0m\u001b[0;34m.\u001b[0m\u001b[0m_get_lines\u001b[0m\u001b[0;34m(\u001b[0m\u001b[0;34m*\u001b[0m\u001b[0margs\u001b[0m\u001b[0;34m,\u001b[0m \u001b[0mdata\u001b[0m\u001b[0;34m=\u001b[0m\u001b[0mdata\u001b[0m\u001b[0;34m,\u001b[0m \u001b[0;34m**\u001b[0m\u001b[0mkwargs\u001b[0m\u001b[0;34m)\u001b[0m\u001b[0;34m]\u001b[0m\u001b[0;34m\u001b[0m\u001b[0;34m\u001b[0m\u001b[0m\n\u001b[0m\u001b[1;32m   1744\u001b[0m         \u001b[0;32mfor\u001b[0m \u001b[0mline\u001b[0m \u001b[0;32min\u001b[0m \u001b[0mlines\u001b[0m\u001b[0;34m:\u001b[0m\u001b[0;34m\u001b[0m\u001b[0;34m\u001b[0m\u001b[0m\n\u001b[1;32m   1745\u001b[0m             \u001b[0mself\u001b[0m\u001b[0;34m.\u001b[0m\u001b[0madd_line\u001b[0m\u001b[0;34m(\u001b[0m\u001b[0mline\u001b[0m\u001b[0;34m)\u001b[0m\u001b[0;34m\u001b[0m\u001b[0;34m\u001b[0m\u001b[0m\n",
      "\u001b[0;32m~/.pyenv/versions/data-x/lib/python3.7/site-packages/matplotlib/axes/_base.py\u001b[0m in \u001b[0;36m__call__\u001b[0;34m(self, data, *args, **kwargs)\u001b[0m\n\u001b[1;32m    271\u001b[0m                 \u001b[0mthis\u001b[0m \u001b[0;34m+=\u001b[0m \u001b[0margs\u001b[0m\u001b[0;34m[\u001b[0m\u001b[0;36m0\u001b[0m\u001b[0;34m]\u001b[0m\u001b[0;34m,\u001b[0m\u001b[0;34m\u001b[0m\u001b[0;34m\u001b[0m\u001b[0m\n\u001b[1;32m    272\u001b[0m                 \u001b[0margs\u001b[0m \u001b[0;34m=\u001b[0m \u001b[0margs\u001b[0m\u001b[0;34m[\u001b[0m\u001b[0;36m1\u001b[0m\u001b[0;34m:\u001b[0m\u001b[0;34m]\u001b[0m\u001b[0;34m\u001b[0m\u001b[0;34m\u001b[0m\u001b[0m\n\u001b[0;32m--> 273\u001b[0;31m             \u001b[0;32myield\u001b[0m \u001b[0;32mfrom\u001b[0m \u001b[0mself\u001b[0m\u001b[0;34m.\u001b[0m\u001b[0m_plot_args\u001b[0m\u001b[0;34m(\u001b[0m\u001b[0mthis\u001b[0m\u001b[0;34m,\u001b[0m \u001b[0mkwargs\u001b[0m\u001b[0;34m)\u001b[0m\u001b[0;34m\u001b[0m\u001b[0;34m\u001b[0m\u001b[0m\n\u001b[0m\u001b[1;32m    274\u001b[0m \u001b[0;34m\u001b[0m\u001b[0m\n\u001b[1;32m    275\u001b[0m     \u001b[0;32mdef\u001b[0m \u001b[0mget_next_color\u001b[0m\u001b[0;34m(\u001b[0m\u001b[0mself\u001b[0m\u001b[0;34m)\u001b[0m\u001b[0;34m:\u001b[0m\u001b[0;34m\u001b[0m\u001b[0;34m\u001b[0m\u001b[0m\n",
      "\u001b[0;32m~/.pyenv/versions/data-x/lib/python3.7/site-packages/matplotlib/axes/_base.py\u001b[0m in \u001b[0;36m_plot_args\u001b[0;34m(self, tup, kwargs)\u001b[0m\n\u001b[1;32m    397\u001b[0m \u001b[0;34m\u001b[0m\u001b[0m\n\u001b[1;32m    398\u001b[0m         \u001b[0;32mif\u001b[0m \u001b[0mx\u001b[0m\u001b[0;34m.\u001b[0m\u001b[0mshape\u001b[0m\u001b[0;34m[\u001b[0m\u001b[0;36m0\u001b[0m\u001b[0;34m]\u001b[0m \u001b[0;34m!=\u001b[0m \u001b[0my\u001b[0m\u001b[0;34m.\u001b[0m\u001b[0mshape\u001b[0m\u001b[0;34m[\u001b[0m\u001b[0;36m0\u001b[0m\u001b[0;34m]\u001b[0m\u001b[0;34m:\u001b[0m\u001b[0;34m\u001b[0m\u001b[0;34m\u001b[0m\u001b[0m\n\u001b[0;32m--> 399\u001b[0;31m             raise ValueError(f\"x and y must have same first dimension, but \"\n\u001b[0m\u001b[1;32m    400\u001b[0m                              f\"have shapes {x.shape} and {y.shape}\")\n\u001b[1;32m    401\u001b[0m         \u001b[0;32mif\u001b[0m \u001b[0mx\u001b[0m\u001b[0;34m.\u001b[0m\u001b[0mndim\u001b[0m \u001b[0;34m>\u001b[0m \u001b[0;36m2\u001b[0m \u001b[0;32mor\u001b[0m \u001b[0my\u001b[0m\u001b[0;34m.\u001b[0m\u001b[0mndim\u001b[0m \u001b[0;34m>\u001b[0m \u001b[0;36m2\u001b[0m\u001b[0;34m:\u001b[0m\u001b[0;34m\u001b[0m\u001b[0;34m\u001b[0m\u001b[0m\n",
      "\u001b[0;31mValueError\u001b[0m: x and y must have same first dimension, but have shapes (73,) and (74,)"
     ]
    },
    {
     "data": {
      "image/png": "[encoded data removed]",
      "text/plain": [
       "<Figure size 432x288 with 1 Axes>"
      ]
     },
     "metadata": {
      "needs_background": "light"
     },
     "output_type": "display_data"
    }
   ],
   "source": [
    "plt.plot(pd.to_datetime(df4_swe['timestamp_added'])[::-1],list(range(1,len(df4_swe)+1)))\n",
    "plt.plot(dates_galiot,values_galiot)"
   ]
  },
  {
   "cell_type": "code",
   "execution_count": 82,
   "metadata": {},
   "outputs": [
    {
     "data": {
      "text/plain": [
       "str"
      ]
     },
     "execution_count": 82,
     "metadata": {},
     "output_type": "execute_result"
    }
   ],
   "source": [
    "type(df4_swe['timestamp_added'].iloc[0])"
   ]
  },
  {
   "cell_type": "code",
   "execution_count": null,
   "metadata": {},
   "outputs": [],
   "source": []
  },
  {
   "cell_type": "code",
   "execution_count": 83,
   "metadata": {},
   "outputs": [
    {
     "data": {
      "text/plain": [
       "111      2021-05-10T07:04:45.000000Z\n",
       "300      2021-05-09T08:27:19.000000Z\n",
       "435      2021-05-08T17:22:45.000000Z\n",
       "461      2021-05-08T16:03:55.000000Z\n",
       "1103     2021-05-07T15:55:10.000000Z\n",
       "                    ...             \n",
       "25615    2020-09-28T18:02:13.000000Z\n",
       "25623    2020-09-28T16:09:41.000000Z\n",
       "25796    2020-09-25T11:16:32.000000Z\n",
       "25944    2020-09-22T19:44:07.000000Z\n",
       "27057    2020-08-31T12:22:36.000000Z\n",
       "Name: timestamp_added, Length: 292, dtype: object"
      ]
     },
     "execution_count": 83,
     "metadata": {},
     "output_type": "execute_result"
    }
   ],
   "source": [
    "df4_swe['timestamp_added']"
   ]
  },
  {
   "cell_type": "code",
   "execution_count": 84,
   "metadata": {},
   "outputs": [
    {
     "data": {
      "text/html": [
       "<div>\n",
       "<style scoped>\n",
       "    .dataframe tbody tr th:only-of-type {\n",
       "        vertical-align: middle;\n",
       "    }\n",
       "\n",
       "    .dataframe tbody tr th {\n",
       "        vertical-align: top;\n",
       "    }\n",
       "\n",
       "    .dataframe thead th {\n",
       "        text-align: right;\n",
       "    }\n",
       "</style>\n",
       "<table border=\"1\" class=\"dataframe\">\n",
       "  <thead>\n",
       "    <tr style=\"text-align: right;\">\n",
       "      <th></th>\n",
       "      <th>lng</th>\n",
       "      <th>lat</th>\n",
       "      <th>timestamp_added</th>\n",
       "      <th>reward_scale</th>\n",
       "      <th>owner</th>\n",
       "      <th>nonce</th>\n",
       "      <th>name</th>\n",
       "      <th>location</th>\n",
       "      <th>last_poc_challenge</th>\n",
       "      <th>last_change_block</th>\n",
       "      <th>...</th>\n",
       "      <th>short_country</th>\n",
       "      <th>short_city</th>\n",
       "      <th>long_street</th>\n",
       "      <th>long_state</th>\n",
       "      <th>long_country</th>\n",
       "      <th>long_city</th>\n",
       "      <th>city_id</th>\n",
       "      <th>online</th>\n",
       "      <th>listen_addrs</th>\n",
       "      <th>height</th>\n",
       "    </tr>\n",
       "  </thead>\n",
       "  <tbody>\n",
       "    <tr>\n",
       "      <th>15539</th>\n",
       "      <td>17.999661</td>\n",
       "      <td>59.329762</td>\n",
       "      <td>2021-03-02T19:11:35.000000Z</td>\n",
       "      <td>1.000000</td>\n",
       "      <td>14Rqw67Er4T4mDitRR5hkvDbefXUhVQGiaVV4yzgSF3sVt...</td>\n",
       "      <td>2</td>\n",
       "      <td>muscular-juniper-mongoose</td>\n",
       "      <td>8c0886602a08dff</td>\n",
       "      <td>838786.0</td>\n",
       "      <td>838836</td>\n",
       "      <td>...</td>\n",
       "      <td>SE</td>\n",
       "      <td>Kungsholmen</td>\n",
       "      <td>Orvar Odds väg</td>\n",
       "      <td>Stockholms län</td>\n",
       "      <td>Sweden</td>\n",
       "      <td>Kungsholmen</td>\n",
       "      <td>a3VuZ3Nob2xtZW5zdG9ja2hvbG1zIGzDpG5zd2VkZW4</td>\n",
       "      <td>online</td>\n",
       "      <td>[/p2p/112EkKU17MbgKtuCwcKQF1HoYAn1ExHbSAJXRgZX...</td>\n",
       "      <td>838716.0</td>\n",
       "    </tr>\n",
       "    <tr>\n",
       "      <th>16851</th>\n",
       "      <td>17.920999</td>\n",
       "      <td>59.526501</td>\n",
       "      <td>2021-02-04T22:55:02.000000Z</td>\n",
       "      <td>1.000000</td>\n",
       "      <td>14Rqw67Er4T4mDitRR5hkvDbefXUhVQGiaVV4yzgSF3sVt...</td>\n",
       "      <td>1</td>\n",
       "      <td>basic-goldenrod-donkey</td>\n",
       "      <td>8c08862b1416dff</td>\n",
       "      <td>838580.0</td>\n",
       "      <td>838664</td>\n",
       "      <td>...</td>\n",
       "      <td>SE</td>\n",
       "      <td>Upplands Väsby Västra</td>\n",
       "      <td>Holmvägen</td>\n",
       "      <td>Stockholms län</td>\n",
       "      <td>Sweden</td>\n",
       "      <td>Upplands Väsby Västra</td>\n",
       "      <td>dXBwbGFuZHMgdsOkc2J5IHbDpHN0cmFzdG9ja2hvbG1zIG...</td>\n",
       "      <td>online</td>\n",
       "      <td>[/ip4/84.216.109.60/tcp/41865]</td>\n",
       "      <td>838656.0</td>\n",
       "    </tr>\n",
       "    <tr>\n",
       "      <th>16950</th>\n",
       "      <td>13.006740</td>\n",
       "      <td>57.729014</td>\n",
       "      <td>2021-02-03T08:31:10.000000Z</td>\n",
       "      <td>0.500000</td>\n",
       "      <td>14Rqw67Er4T4mDitRR5hkvDbefXUhVQGiaVV4yzgSF3sVt...</td>\n",
       "      <td>1</td>\n",
       "      <td>gentle-concrete-swallow</td>\n",
       "      <td>8c08b688ec091ff</td>\n",
       "      <td>838727.0</td>\n",
       "      <td>838777</td>\n",
       "      <td>...</td>\n",
       "      <td>SE</td>\n",
       "      <td>Brämhult</td>\n",
       "      <td>Aspgatan</td>\n",
       "      <td>Västra Götalands län</td>\n",
       "      <td>Sweden</td>\n",
       "      <td>Brämhult</td>\n",
       "      <td>YnLDpG1odWx0dsOkc3RyYSBnw7Z0YWxhbmRzIGzDpG5zd2...</td>\n",
       "      <td>online</td>\n",
       "      <td>[/p2p/11AKdVtGj4ng8XkKD5aCMLKa33mm5myGL6wrdagn...</td>\n",
       "      <td>838771.0</td>\n",
       "    </tr>\n",
       "    <tr>\n",
       "      <th>16951</th>\n",
       "      <td>18.048405</td>\n",
       "      <td>59.333291</td>\n",
       "      <td>2021-02-03T08:07:22.000000Z</td>\n",
       "      <td>0.543472</td>\n",
       "      <td>14Rqw67Er4T4mDitRR5hkvDbefXUhVQGiaVV4yzgSF3sVt...</td>\n",
       "      <td>2</td>\n",
       "      <td>flat-taffy-squid</td>\n",
       "      <td>8c088661dd8d5ff</td>\n",
       "      <td>838807.0</td>\n",
       "      <td>838825</td>\n",
       "      <td>...</td>\n",
       "      <td>SE</td>\n",
       "      <td>Kungsholmen</td>\n",
       "      <td>Pipersgatan</td>\n",
       "      <td>Stockholms län</td>\n",
       "      <td>Sweden</td>\n",
       "      <td>Kungsholmen</td>\n",
       "      <td>a3VuZ3Nob2xtZW5zdG9ja2hvbG1zIGzDpG5zd2VkZW4</td>\n",
       "      <td>online</td>\n",
       "      <td>[/p2p/112u2b57bx6wJiUCMnYReFQw7vDgiVxUB51Kw5mE...</td>\n",
       "      <td>838663.0</td>\n",
       "    </tr>\n",
       "    <tr>\n",
       "      <th>17009</th>\n",
       "      <td>18.082757</td>\n",
       "      <td>59.317869</td>\n",
       "      <td>2021-02-02T16:36:16.000000Z</td>\n",
       "      <td>0.543472</td>\n",
       "      <td>14Rqw67Er4T4mDitRR5hkvDbefXUhVQGiaVV4yzgSF3sVt...</td>\n",
       "      <td>2</td>\n",
       "      <td>prehistoric-hazelnut-sheep</td>\n",
       "      <td>8c0886618422dff</td>\n",
       "      <td>838662.0</td>\n",
       "      <td>838793</td>\n",
       "      <td>...</td>\n",
       "      <td>SE</td>\n",
       "      <td>Södermalm</td>\n",
       "      <td>Renstiernas gata</td>\n",
       "      <td>Stockholms län</td>\n",
       "      <td>Sweden</td>\n",
       "      <td>Södermalm</td>\n",
       "      <td>c8O2ZGVybWFsbXN0b2NraG9sbXMgbMOkbnN3ZWRlbg</td>\n",
       "      <td>online</td>\n",
       "      <td>[/p2p/112YLHfVhCrA8PC52bYMkmrYAZsMF4vDY3DZcH3p...</td>\n",
       "      <td>838723.0</td>\n",
       "    </tr>\n",
       "    <tr>\n",
       "      <th>...</th>\n",
       "      <td>...</td>\n",
       "      <td>...</td>\n",
       "      <td>...</td>\n",
       "      <td>...</td>\n",
       "      <td>...</td>\n",
       "      <td>...</td>\n",
       "      <td>...</td>\n",
       "      <td>...</td>\n",
       "      <td>...</td>\n",
       "      <td>...</td>\n",
       "      <td>...</td>\n",
       "      <td>...</td>\n",
       "      <td>...</td>\n",
       "      <td>...</td>\n",
       "      <td>...</td>\n",
       "      <td>...</td>\n",
       "      <td>...</td>\n",
       "      <td>...</td>\n",
       "      <td>...</td>\n",
       "      <td>...</td>\n",
       "      <td>...</td>\n",
       "    </tr>\n",
       "    <tr>\n",
       "      <th>25391</th>\n",
       "      <td>18.029491</td>\n",
       "      <td>59.315812</td>\n",
       "      <td>2020-10-01T18:33:42.000000Z</td>\n",
       "      <td>1.000000</td>\n",
       "      <td>14Rqw67Er4T4mDitRR5hkvDbefXUhVQGiaVV4yzgSF3sVt...</td>\n",
       "      <td>1</td>\n",
       "      <td>deep-orchid-loris</td>\n",
       "      <td>8c088661136d7ff</td>\n",
       "      <td>838615.0</td>\n",
       "      <td>838793</td>\n",
       "      <td>...</td>\n",
       "      <td>SE</td>\n",
       "      <td>Södermalm</td>\n",
       "      <td>Bergsundsgatan</td>\n",
       "      <td>Stockholms län</td>\n",
       "      <td>Sweden</td>\n",
       "      <td>Södermalm</td>\n",
       "      <td>c8O2ZGVybWFsbXN0b2NraG9sbXMgbMOkbnN3ZWRlbg</td>\n",
       "      <td>online</td>\n",
       "      <td>[/ip4/188.151.184.92/tcp/18482]</td>\n",
       "      <td>838726.0</td>\n",
       "    </tr>\n",
       "    <tr>\n",
       "      <th>25394</th>\n",
       "      <td>18.074543</td>\n",
       "      <td>59.317691</td>\n",
       "      <td>2020-10-01T18:05:55.000000Z</td>\n",
       "      <td>0.543472</td>\n",
       "      <td>14Rqw67Er4T4mDitRR5hkvDbefXUhVQGiaVV4yzgSF3sVt...</td>\n",
       "      <td>1</td>\n",
       "      <td>sleepy-mahogany-alligator</td>\n",
       "      <td>8c0886618c9ddff</td>\n",
       "      <td>838737.0</td>\n",
       "      <td>838791</td>\n",
       "      <td>...</td>\n",
       "      <td>SE</td>\n",
       "      <td>Södermalm</td>\n",
       "      <td>Svartensgatan</td>\n",
       "      <td>Stockholms län</td>\n",
       "      <td>Sweden</td>\n",
       "      <td>Södermalm</td>\n",
       "      <td>c8O2ZGVybWFsbXN0b2NraG9sbXMgbMOkbnN3ZWRlbg</td>\n",
       "      <td>online</td>\n",
       "      <td>[/ip4/81.228.198.231/tcp/26014]</td>\n",
       "      <td>838774.0</td>\n",
       "    </tr>\n",
       "    <tr>\n",
       "      <th>25398</th>\n",
       "      <td>18.094980</td>\n",
       "      <td>59.315906</td>\n",
       "      <td>2020-10-01T17:27:33.000000Z</td>\n",
       "      <td>0.543472</td>\n",
       "      <td>14Rqw67Er4T4mDitRR5hkvDbefXUhVQGiaVV4yzgSF3sVt...</td>\n",
       "      <td>2</td>\n",
       "      <td>large-fuzzy-porcupine</td>\n",
       "      <td>8c088661ab1d5ff</td>\n",
       "      <td>838674.0</td>\n",
       "      <td>838788</td>\n",
       "      <td>...</td>\n",
       "      <td>SE</td>\n",
       "      <td>Södermalm</td>\n",
       "      <td>Londonviadukten</td>\n",
       "      <td>Stockholms län</td>\n",
       "      <td>Sweden</td>\n",
       "      <td>Södermalm</td>\n",
       "      <td>c8O2ZGVybWFsbXN0b2NraG9sbXMgbMOkbnN3ZWRlbg</td>\n",
       "      <td>online</td>\n",
       "      <td>[/ip4/151.177.68.117/tcp/44158]</td>\n",
       "      <td>838780.0</td>\n",
       "    </tr>\n",
       "    <tr>\n",
       "      <th>25944</th>\n",
       "      <td>18.021367</td>\n",
       "      <td>59.318484</td>\n",
       "      <td>2020-09-22T19:44:07.000000Z</td>\n",
       "      <td>1.000000</td>\n",
       "      <td>14Rqw67Er4T4mDitRR5hkvDbefXUhVQGiaVV4yzgSF3sVt...</td>\n",
       "      <td>1</td>\n",
       "      <td>bubbly-parchment-moth</td>\n",
       "      <td>8c088660269b1ff</td>\n",
       "      <td>838673.0</td>\n",
       "      <td>838787</td>\n",
       "      <td>...</td>\n",
       "      <td>SE</td>\n",
       "      <td>Södermalm</td>\n",
       "      <td>Pokalvägen</td>\n",
       "      <td>Stockholms län</td>\n",
       "      <td>Sweden</td>\n",
       "      <td>Södermalm</td>\n",
       "      <td>c8O2ZGVybWFsbXN0b2NraG9sbXMgbMOkbnN3ZWRlbg</td>\n",
       "      <td>online</td>\n",
       "      <td>[/ip4/13.48.149.139/tcp/44158]</td>\n",
       "      <td>838787.0</td>\n",
       "    </tr>\n",
       "    <tr>\n",
       "      <th>27057</th>\n",
       "      <td>18.067513</td>\n",
       "      <td>59.309383</td>\n",
       "      <td>2020-08-31T12:22:36.000000Z</td>\n",
       "      <td>0.543472</td>\n",
       "      <td>14Rqw67Er4T4mDitRR5hkvDbefXUhVQGiaVV4yzgSF3sVt...</td>\n",
       "      <td>1</td>\n",
       "      <td>itchy-merlot-porcupine</td>\n",
       "      <td>8c088661e0ea5ff</td>\n",
       "      <td>838667.0</td>\n",
       "      <td>838717</td>\n",
       "      <td>...</td>\n",
       "      <td>SE</td>\n",
       "      <td>Södermalm</td>\n",
       "      <td>Blekingegatan</td>\n",
       "      <td>Stockholms län</td>\n",
       "      <td>Sweden</td>\n",
       "      <td>Södermalm</td>\n",
       "      <td>c8O2ZGVybWFsbXN0b2NraG9sbXMgbMOkbnN3ZWRlbg</td>\n",
       "      <td>online</td>\n",
       "      <td>[/ip4/84.216.109.60/tcp/44158, /p2p/11suXMN9DA...</td>\n",
       "      <td>838714.0</td>\n",
       "    </tr>\n",
       "  </tbody>\n",
       "</table>\n",
       "<p>73 rows × 27 columns</p>\n",
       "</div>"
      ],
      "text/plain": [
       "             lng        lat              timestamp_added  reward_scale  \\\n",
       "15539  17.999661  59.329762  2021-03-02T19:11:35.000000Z      1.000000   \n",
       "16851  17.920999  59.526501  2021-02-04T22:55:02.000000Z      1.000000   \n",
       "16950  13.006740  57.729014  2021-02-03T08:31:10.000000Z      0.500000   \n",
       "16951  18.048405  59.333291  2021-02-03T08:07:22.000000Z      0.543472   \n",
       "17009  18.082757  59.317869  2021-02-02T16:36:16.000000Z      0.543472   \n",
       "...          ...        ...                          ...           ...   \n",
       "25391  18.029491  59.315812  2020-10-01T18:33:42.000000Z      1.000000   \n",
       "25394  18.074543  59.317691  2020-10-01T18:05:55.000000Z      0.543472   \n",
       "25398  18.094980  59.315906  2020-10-01T17:27:33.000000Z      0.543472   \n",
       "25944  18.021367  59.318484  2020-09-22T19:44:07.000000Z      1.000000   \n",
       "27057  18.067513  59.309383  2020-08-31T12:22:36.000000Z      0.543472   \n",
       "\n",
       "                                                   owner  nonce  \\\n",
       "15539  14Rqw67Er4T4mDitRR5hkvDbefXUhVQGiaVV4yzgSF3sVt...      2   \n",
       "16851  14Rqw67Er4T4mDitRR5hkvDbefXUhVQGiaVV4yzgSF3sVt...      1   \n",
       "16950  14Rqw67Er4T4mDitRR5hkvDbefXUhVQGiaVV4yzgSF3sVt...      1   \n",
       "16951  14Rqw67Er4T4mDitRR5hkvDbefXUhVQGiaVV4yzgSF3sVt...      2   \n",
       "17009  14Rqw67Er4T4mDitRR5hkvDbefXUhVQGiaVV4yzgSF3sVt...      2   \n",
       "...                                                  ...    ...   \n",
       "25391  14Rqw67Er4T4mDitRR5hkvDbefXUhVQGiaVV4yzgSF3sVt...      1   \n",
       "25394  14Rqw67Er4T4mDitRR5hkvDbefXUhVQGiaVV4yzgSF3sVt...      1   \n",
       "25398  14Rqw67Er4T4mDitRR5hkvDbefXUhVQGiaVV4yzgSF3sVt...      2   \n",
       "25944  14Rqw67Er4T4mDitRR5hkvDbefXUhVQGiaVV4yzgSF3sVt...      1   \n",
       "27057  14Rqw67Er4T4mDitRR5hkvDbefXUhVQGiaVV4yzgSF3sVt...      1   \n",
       "\n",
       "                             name         location  last_poc_challenge  \\\n",
       "15539   muscular-juniper-mongoose  8c0886602a08dff            838786.0   \n",
       "16851      basic-goldenrod-donkey  8c08862b1416dff            838580.0   \n",
       "16950     gentle-concrete-swallow  8c08b688ec091ff            838727.0   \n",
       "16951            flat-taffy-squid  8c088661dd8d5ff            838807.0   \n",
       "17009  prehistoric-hazelnut-sheep  8c0886618422dff            838662.0   \n",
       "...                           ...              ...                 ...   \n",
       "25391           deep-orchid-loris  8c088661136d7ff            838615.0   \n",
       "25394   sleepy-mahogany-alligator  8c0886618c9ddff            838737.0   \n",
       "25398       large-fuzzy-porcupine  8c088661ab1d5ff            838674.0   \n",
       "25944       bubbly-parchment-moth  8c088660269b1ff            838673.0   \n",
       "27057      itchy-merlot-porcupine  8c088661e0ea5ff            838667.0   \n",
       "\n",
       "       last_change_block  ...  short_country             short_city  \\\n",
       "15539             838836  ...             SE            Kungsholmen   \n",
       "16851             838664  ...             SE  Upplands Väsby Västra   \n",
       "16950             838777  ...             SE               Brämhult   \n",
       "16951             838825  ...             SE            Kungsholmen   \n",
       "17009             838793  ...             SE              Södermalm   \n",
       "...                  ...  ...            ...                    ...   \n",
       "25391             838793  ...             SE              Södermalm   \n",
       "25394             838791  ...             SE              Södermalm   \n",
       "25398             838788  ...             SE              Södermalm   \n",
       "25944             838787  ...             SE              Södermalm   \n",
       "27057             838717  ...             SE              Södermalm   \n",
       "\n",
       "            long_street            long_state long_country  \\\n",
       "15539    Orvar Odds väg        Stockholms län       Sweden   \n",
       "16851         Holmvägen        Stockholms län       Sweden   \n",
       "16950          Aspgatan  Västra Götalands län       Sweden   \n",
       "16951       Pipersgatan        Stockholms län       Sweden   \n",
       "17009  Renstiernas gata        Stockholms län       Sweden   \n",
       "...                 ...                   ...          ...   \n",
       "25391    Bergsundsgatan        Stockholms län       Sweden   \n",
       "25394     Svartensgatan        Stockholms län       Sweden   \n",
       "25398   Londonviadukten        Stockholms län       Sweden   \n",
       "25944        Pokalvägen        Stockholms län       Sweden   \n",
       "27057     Blekingegatan        Stockholms län       Sweden   \n",
       "\n",
       "                   long_city  \\\n",
       "15539            Kungsholmen   \n",
       "16851  Upplands Väsby Västra   \n",
       "16950               Brämhult   \n",
       "16951            Kungsholmen   \n",
       "17009              Södermalm   \n",
       "...                      ...   \n",
       "25391              Södermalm   \n",
       "25394              Södermalm   \n",
       "25398              Södermalm   \n",
       "25944              Södermalm   \n",
       "27057              Södermalm   \n",
       "\n",
       "                                                 city_id  online  \\\n",
       "15539        a3VuZ3Nob2xtZW5zdG9ja2hvbG1zIGzDpG5zd2VkZW4  online   \n",
       "16851  dXBwbGFuZHMgdsOkc2J5IHbDpHN0cmFzdG9ja2hvbG1zIG...  online   \n",
       "16950  YnLDpG1odWx0dsOkc3RyYSBnw7Z0YWxhbmRzIGzDpG5zd2...  online   \n",
       "16951        a3VuZ3Nob2xtZW5zdG9ja2hvbG1zIGzDpG5zd2VkZW4  online   \n",
       "17009         c8O2ZGVybWFsbXN0b2NraG9sbXMgbMOkbnN3ZWRlbg  online   \n",
       "...                                                  ...     ...   \n",
       "25391         c8O2ZGVybWFsbXN0b2NraG9sbXMgbMOkbnN3ZWRlbg  online   \n",
       "25394         c8O2ZGVybWFsbXN0b2NraG9sbXMgbMOkbnN3ZWRlbg  online   \n",
       "25398         c8O2ZGVybWFsbXN0b2NraG9sbXMgbMOkbnN3ZWRlbg  online   \n",
       "25944         c8O2ZGVybWFsbXN0b2NraG9sbXMgbMOkbnN3ZWRlbg  online   \n",
       "27057         c8O2ZGVybWFsbXN0b2NraG9sbXMgbMOkbnN3ZWRlbg  online   \n",
       "\n",
       "                                            listen_addrs    height  \n",
       "15539  [/p2p/112EkKU17MbgKtuCwcKQF1HoYAn1ExHbSAJXRgZX...  838716.0  \n",
       "16851                     [/ip4/84.216.109.60/tcp/41865]  838656.0  \n",
       "16950  [/p2p/11AKdVtGj4ng8XkKD5aCMLKa33mm5myGL6wrdagn...  838771.0  \n",
       "16951  [/p2p/112u2b57bx6wJiUCMnYReFQw7vDgiVxUB51Kw5mE...  838663.0  \n",
       "17009  [/p2p/112YLHfVhCrA8PC52bYMkmrYAZsMF4vDY3DZcH3p...  838723.0  \n",
       "...                                                  ...       ...  \n",
       "25391                    [/ip4/188.151.184.92/tcp/18482]  838726.0  \n",
       "25394                    [/ip4/81.228.198.231/tcp/26014]  838774.0  \n",
       "25398                    [/ip4/151.177.68.117/tcp/44158]  838780.0  \n",
       "25944                     [/ip4/13.48.149.139/tcp/44158]  838787.0  \n",
       "27057  [/ip4/84.216.109.60/tcp/44158, /p2p/11suXMN9DA...  838714.0  \n",
       "\n",
       "[73 rows x 27 columns]"
      ]
     },
     "execution_count": 84,
     "metadata": {},
     "output_type": "execute_result"
    }
   ],
   "source": [
    "df4_swe[df4_swe['owner']=='14Rqw67Er4T4mDitRR5hkvDbefXUhVQGiaVV4yzgSF3sVtu6PfU']"
   ]
  },
  {
   "cell_type": "code",
   "execution_count": 85,
   "metadata": {},
   "outputs": [
    {
     "data": {
      "text/html": [
       "<div>\n",
       "<style scoped>\n",
       "    .dataframe tbody tr th:only-of-type {\n",
       "        vertical-align: middle;\n",
       "    }\n",
       "\n",
       "    .dataframe tbody tr th {\n",
       "        vertical-align: top;\n",
       "    }\n",
       "\n",
       "    .dataframe thead th {\n",
       "        text-align: right;\n",
       "    }\n",
       "</style>\n",
       "<table border=\"1\" class=\"dataframe\">\n",
       "  <thead>\n",
       "    <tr style=\"text-align: right;\">\n",
       "      <th></th>\n",
       "      <th>lng</th>\n",
       "      <th>lat</th>\n",
       "      <th>timestamp_added</th>\n",
       "      <th>reward_scale</th>\n",
       "      <th>owner</th>\n",
       "      <th>nonce</th>\n",
       "      <th>name</th>\n",
       "      <th>location</th>\n",
       "      <th>last_poc_challenge</th>\n",
       "      <th>last_change_block</th>\n",
       "      <th>...</th>\n",
       "      <th>short_country</th>\n",
       "      <th>short_city</th>\n",
       "      <th>long_street</th>\n",
       "      <th>long_state</th>\n",
       "      <th>long_country</th>\n",
       "      <th>long_city</th>\n",
       "      <th>city_id</th>\n",
       "      <th>online</th>\n",
       "      <th>listen_addrs</th>\n",
       "      <th>height</th>\n",
       "    </tr>\n",
       "  </thead>\n",
       "  <tbody>\n",
       "    <tr>\n",
       "      <th>2581</th>\n",
       "      <td>13.374315</td>\n",
       "      <td>57.814623</td>\n",
       "      <td>2021-05-05T09:00:52.000000Z</td>\n",
       "      <td>1.000000</td>\n",
       "      <td>14a1EcchN6gaqHzSh9u2NMuNCSzqWhxU11TWbsJG8Sn9q9...</td>\n",
       "      <td>1</td>\n",
       "      <td>formal-amethyst-cottonmouth</td>\n",
       "      <td>8c08b61556f29ff</td>\n",
       "      <td>838603.0</td>\n",
       "      <td>838653</td>\n",
       "      <td>...</td>\n",
       "      <td>SE</td>\n",
       "      <td>Ulricehamn</td>\n",
       "      <td>Gälavägen</td>\n",
       "      <td>Västra Götalands län</td>\n",
       "      <td>Sweden</td>\n",
       "      <td>Ulricehamn</td>\n",
       "      <td>dWxyaWNlaGFtbnbDpHN0cmEgZ8O2dGFsYW5kcyBsw6Ruc3...</td>\n",
       "      <td>online</td>\n",
       "      <td>[/ip4/46.194.150.126/tcp/44158]</td>\n",
       "      <td>838777.0</td>\n",
       "    </tr>\n",
       "    <tr>\n",
       "      <th>2584</th>\n",
       "      <td>12.952321</td>\n",
       "      <td>57.738563</td>\n",
       "      <td>2021-05-05T08:55:02.000000Z</td>\n",
       "      <td>1.000000</td>\n",
       "      <td>14a1EcchN6gaqHzSh9u2NMuNCSzqWhxU11TWbsJG8Sn9q9...</td>\n",
       "      <td>1</td>\n",
       "      <td>sharp-bone-bird</td>\n",
       "      <td>8c08b68aa5203ff</td>\n",
       "      <td>838720.0</td>\n",
       "      <td>838825</td>\n",
       "      <td>...</td>\n",
       "      <td>SE</td>\n",
       "      <td>Norrmalm</td>\n",
       "      <td>Margaretagatan</td>\n",
       "      <td>Västra Götalands län</td>\n",
       "      <td>Sweden</td>\n",
       "      <td>Norrmalm</td>\n",
       "      <td>bm9ycm1hbG12w6RzdHJhIGfDtnRhbGFuZHMgbMOkbnN3ZW...</td>\n",
       "      <td>online</td>\n",
       "      <td>[/ip4/46.194.61.51/tcp/44158]</td>\n",
       "      <td>838783.0</td>\n",
       "    </tr>\n",
       "    <tr>\n",
       "      <th>2590</th>\n",
       "      <td>12.947781</td>\n",
       "      <td>57.751909</td>\n",
       "      <td>2021-05-05T08:52:32.000000Z</td>\n",
       "      <td>1.000000</td>\n",
       "      <td>14a1EcchN6gaqHzSh9u2NMuNCSzqWhxU11TWbsJG8Sn9q9...</td>\n",
       "      <td>1</td>\n",
       "      <td>proud-rosewood-tortoise</td>\n",
       "      <td>8c08b68aab0cdff</td>\n",
       "      <td>838775.0</td>\n",
       "      <td>838825</td>\n",
       "      <td>...</td>\n",
       "      <td>SE</td>\n",
       "      <td>Sjöbo</td>\n",
       "      <td>Björksätersgatan</td>\n",
       "      <td>Västra Götalands län</td>\n",
       "      <td>Sweden</td>\n",
       "      <td>Sjöbo</td>\n",
       "      <td>c2rDtmJvdsOkc3RyYSBnw7Z0YWxhbmRzIGzDpG5zd2VkZW4</td>\n",
       "      <td>online</td>\n",
       "      <td>[/p2p/119yyu2syTFR5vucvnq25kkZKxiEbZpMGZjSgcai...</td>\n",
       "      <td>838783.0</td>\n",
       "    </tr>\n",
       "    <tr>\n",
       "      <th>2596</th>\n",
       "      <td>13.413670</td>\n",
       "      <td>57.795443</td>\n",
       "      <td>2021-05-05T08:39:11.000000Z</td>\n",
       "      <td>NaN</td>\n",
       "      <td>14a1EcchN6gaqHzSh9u2NMuNCSzqWhxU11TWbsJG8Sn9q9...</td>\n",
       "      <td>1</td>\n",
       "      <td>generous-golden-nightingale</td>\n",
       "      <td>8c08b61535a69ff</td>\n",
       "      <td>NaN</td>\n",
       "      <td>838833</td>\n",
       "      <td>...</td>\n",
       "      <td>SE</td>\n",
       "      <td>Ulricehamn</td>\n",
       "      <td>Boråsvägen</td>\n",
       "      <td>Västra Götalands län</td>\n",
       "      <td>Sweden</td>\n",
       "      <td>Ulricehamn</td>\n",
       "      <td>dWxyaWNlaGFtbnbDpHN0cmEgZ8O2dGFsYW5kcyBsw6Ruc3...</td>\n",
       "      <td>offline</td>\n",
       "      <td>None</td>\n",
       "      <td>830259.0</td>\n",
       "    </tr>\n",
       "    <tr>\n",
       "      <th>2598</th>\n",
       "      <td>12.931668</td>\n",
       "      <td>57.717069</td>\n",
       "      <td>2021-05-05T08:31:14.000000Z</td>\n",
       "      <td>1.000000</td>\n",
       "      <td>14a1EcchN6gaqHzSh9u2NMuNCSzqWhxU11TWbsJG8Sn9q9...</td>\n",
       "      <td>1</td>\n",
       "      <td>spicy-chartreuse-alpaca</td>\n",
       "      <td>8c08b6884201bff</td>\n",
       "      <td>838714.0</td>\n",
       "      <td>838764</td>\n",
       "      <td>...</td>\n",
       "      <td>SE</td>\n",
       "      <td>Göta</td>\n",
       "      <td>Varbergsvägen</td>\n",
       "      <td>Västra Götalands län</td>\n",
       "      <td>Sweden</td>\n",
       "      <td>Göta</td>\n",
       "      <td>Z8O2dGF2w6RzdHJhIGfDtnRhbGFuZHMgbMOkbnN3ZWRlbg</td>\n",
       "      <td>online</td>\n",
       "      <td>[/p2p/11BW5rWzvcXT9JoVJCVBB8h43aPvRdpMz5UGb3nU...</td>\n",
       "      <td>838771.0</td>\n",
       "    </tr>\n",
       "    <tr>\n",
       "      <th>3398</th>\n",
       "      <td>12.900837</td>\n",
       "      <td>57.719216</td>\n",
       "      <td>2021-05-03T17:09:02.000000Z</td>\n",
       "      <td>0.333328</td>\n",
       "      <td>14a1EcchN6gaqHzSh9u2NMuNCSzqWhxU11TWbsJG8Sn9q9...</td>\n",
       "      <td>1</td>\n",
       "      <td>skinny-taupe-ostrich</td>\n",
       "      <td>8c08b68a34269ff</td>\n",
       "      <td>838683.0</td>\n",
       "      <td>838825</td>\n",
       "      <td>...</td>\n",
       "      <td>SE</td>\n",
       "      <td>Byttorp</td>\n",
       "      <td>Fjällgatan</td>\n",
       "      <td>Västra Götalands län</td>\n",
       "      <td>Sweden</td>\n",
       "      <td>Byttorp</td>\n",
       "      <td>Ynl0dG9ycHbDpHN0cmEgZ8O2dGFsYW5kcyBsw6Ruc3dlZGVu</td>\n",
       "      <td>online</td>\n",
       "      <td>[/ip4/46.194.161.24/tcp/44158]</td>\n",
       "      <td>838712.0</td>\n",
       "    </tr>\n",
       "    <tr>\n",
       "      <th>3461</th>\n",
       "      <td>12.979766</td>\n",
       "      <td>57.721687</td>\n",
       "      <td>2021-05-03T15:21:12.000000Z</td>\n",
       "      <td>1.000000</td>\n",
       "      <td>14a1EcchN6gaqHzSh9u2NMuNCSzqWhxU11TWbsJG8Sn9q9...</td>\n",
       "      <td>1</td>\n",
       "      <td>vast-blonde-kitten</td>\n",
       "      <td>8c08b6881598bff</td>\n",
       "      <td>838784.0</td>\n",
       "      <td>838834</td>\n",
       "      <td>...</td>\n",
       "      <td>SE</td>\n",
       "      <td>Hulta</td>\n",
       "      <td>Hulta</td>\n",
       "      <td>Västra Götalands län</td>\n",
       "      <td>Sweden</td>\n",
       "      <td>Hulta</td>\n",
       "      <td>aHVsdGF2w6RzdHJhIGfDtnRhbGFuZHMgbMOkbnN3ZWRlbg</td>\n",
       "      <td>online</td>\n",
       "      <td>[/ip4/46.194.62.126/tcp/44158]</td>\n",
       "      <td>838806.0</td>\n",
       "    </tr>\n",
       "    <tr>\n",
       "      <th>3537</th>\n",
       "      <td>12.949123</td>\n",
       "      <td>57.756581</td>\n",
       "      <td>2021-05-03T13:37:32.000000Z</td>\n",
       "      <td>0.500000</td>\n",
       "      <td>14a1EcchN6gaqHzSh9u2NMuNCSzqWhxU11TWbsJG8Sn9q9...</td>\n",
       "      <td>1</td>\n",
       "      <td>late-fiery-swallow</td>\n",
       "      <td>8c08b68a878b1ff</td>\n",
       "      <td>838730.0</td>\n",
       "      <td>838780</td>\n",
       "      <td>...</td>\n",
       "      <td>SE</td>\n",
       "      <td>Sjöbo</td>\n",
       "      <td>Ekängsgatan</td>\n",
       "      <td>Västra Götalands län</td>\n",
       "      <td>Sweden</td>\n",
       "      <td>Sjöbo</td>\n",
       "      <td>c2rDtmJvdsOkc3RyYSBnw7Z0YWxhbmRzIGzDpG5zd2VkZW4</td>\n",
       "      <td>online</td>\n",
       "      <td>[/p2p/112WzFvZFktJH9CPAiPAgXDa7ayvWtAgZvN4NStS...</td>\n",
       "      <td>838706.0</td>\n",
       "    </tr>\n",
       "    <tr>\n",
       "      <th>3567</th>\n",
       "      <td>12.943463</td>\n",
       "      <td>57.714136</td>\n",
       "      <td>2021-05-03T11:39:01.000000Z</td>\n",
       "      <td>1.000000</td>\n",
       "      <td>14a1EcchN6gaqHzSh9u2NMuNCSzqWhxU11TWbsJG8Sn9q9...</td>\n",
       "      <td>1</td>\n",
       "      <td>immense-amber-bat</td>\n",
       "      <td>8c08b68808361ff</td>\n",
       "      <td>838803.0</td>\n",
       "      <td>838820</td>\n",
       "      <td>...</td>\n",
       "      <td>SE</td>\n",
       "      <td>Göta</td>\n",
       "      <td>Kellgrensgatan</td>\n",
       "      <td>Västra Götalands län</td>\n",
       "      <td>Sweden</td>\n",
       "      <td>Göta</td>\n",
       "      <td>Z8O2dGF2w6RzdHJhIGfDtnRhbGFuZHMgbMOkbnN3ZWRlbg</td>\n",
       "      <td>online</td>\n",
       "      <td>[/ip4/46.194.185.58/tcp/44158]</td>\n",
       "      <td>838663.0</td>\n",
       "    </tr>\n",
       "    <tr>\n",
       "      <th>3582</th>\n",
       "      <td>12.928046</td>\n",
       "      <td>57.724004</td>\n",
       "      <td>2021-05-03T10:36:34.000000Z</td>\n",
       "      <td>0.833328</td>\n",
       "      <td>14a1EcchN6gaqHzSh9u2NMuNCSzqWhxU11TWbsJG8Sn9q9...</td>\n",
       "      <td>1</td>\n",
       "      <td>future-maroon-lynx</td>\n",
       "      <td>8c08b6885c2bdff</td>\n",
       "      <td>838644.0</td>\n",
       "      <td>838694</td>\n",
       "      <td>...</td>\n",
       "      <td>SE</td>\n",
       "      <td>Norrby</td>\n",
       "      <td>Alingsåsvägen</td>\n",
       "      <td>Västra Götalands län</td>\n",
       "      <td>Sweden</td>\n",
       "      <td>Norrby</td>\n",
       "      <td>bm9ycmJ5dsOkc3RyYSBnw7Z0YWxhbmRzIGzDpG5zd2VkZW4</td>\n",
       "      <td>online</td>\n",
       "      <td>[/ip4/46.194.182.239/tcp/44158]</td>\n",
       "      <td>838697.0</td>\n",
       "    </tr>\n",
       "    <tr>\n",
       "      <th>4502</th>\n",
       "      <td>12.973529</td>\n",
       "      <td>57.730021</td>\n",
       "      <td>2021-04-29T17:52:25.000000Z</td>\n",
       "      <td>1.000000</td>\n",
       "      <td>14a1EcchN6gaqHzSh9u2NMuNCSzqWhxU11TWbsJG8Sn9q9...</td>\n",
       "      <td>1</td>\n",
       "      <td>active-vinyl-raccoon</td>\n",
       "      <td>8c08b68811185ff</td>\n",
       "      <td>838726.0</td>\n",
       "      <td>838778</td>\n",
       "      <td>...</td>\n",
       "      <td>SE</td>\n",
       "      <td>Centrum</td>\n",
       "      <td>Kapplandsgatan</td>\n",
       "      <td>Västra Götalands län</td>\n",
       "      <td>Sweden</td>\n",
       "      <td>Centrum</td>\n",
       "      <td>Y2VudHJ1bXbDpHN0cmEgZ8O2dGFsYW5kcyBsw6Ruc3dlZGVu</td>\n",
       "      <td>online</td>\n",
       "      <td>[/p2p/11yUvCUMN8NpQBfh8A85zVMt8Fv5vrAbp4aDK7X4...</td>\n",
       "      <td>838735.0</td>\n",
       "    </tr>\n",
       "    <tr>\n",
       "      <th>4531</th>\n",
       "      <td>12.978194</td>\n",
       "      <td>57.715895</td>\n",
       "      <td>2021-04-29T17:02:00.000000Z</td>\n",
       "      <td>1.000000</td>\n",
       "      <td>14a1EcchN6gaqHzSh9u2NMuNCSzqWhxU11TWbsJG8Sn9q9...</td>\n",
       "      <td>1</td>\n",
       "      <td>icy-khaki-capybara</td>\n",
       "      <td>8c08b6883916dff</td>\n",
       "      <td>838806.0</td>\n",
       "      <td>838820</td>\n",
       "      <td>...</td>\n",
       "      <td>SE</td>\n",
       "      <td>Hulta</td>\n",
       "      <td>Vallängsgatan</td>\n",
       "      <td>Västra Götalands län</td>\n",
       "      <td>Sweden</td>\n",
       "      <td>Hulta</td>\n",
       "      <td>aHVsdGF2w6RzdHJhIGfDtnRhbGFuZHMgbMOkbnN3ZWRlbg</td>\n",
       "      <td>online</td>\n",
       "      <td>[/ip4/46.194.168.184/tcp/44158]</td>\n",
       "      <td>838777.0</td>\n",
       "    </tr>\n",
       "    <tr>\n",
       "      <th>4572</th>\n",
       "      <td>12.935468</td>\n",
       "      <td>57.707205</td>\n",
       "      <td>2021-04-29T15:53:21.000000Z</td>\n",
       "      <td>1.000000</td>\n",
       "      <td>14a1EcchN6gaqHzSh9u2NMuNCSzqWhxU11TWbsJG8Sn9q9...</td>\n",
       "      <td>1</td>\n",
       "      <td>furry-shamrock-nightingale</td>\n",
       "      <td>8c08b68846b41ff</td>\n",
       "      <td>838758.0</td>\n",
       "      <td>838825</td>\n",
       "      <td>...</td>\n",
       "      <td>SE</td>\n",
       "      <td>Göta</td>\n",
       "      <td>Fredriksborgsbacken</td>\n",
       "      <td>Västra Götalands län</td>\n",
       "      <td>Sweden</td>\n",
       "      <td>Göta</td>\n",
       "      <td>Z8O2dGF2w6RzdHJhIGfDtnRhbGFuZHMgbMOkbnN3ZWRlbg</td>\n",
       "      <td>online</td>\n",
       "      <td>[/p2p/112epEzTyfycUNuZnbaVnWC5CvhzaXRRnyU4GKR5...</td>\n",
       "      <td>838676.0</td>\n",
       "    </tr>\n",
       "    <tr>\n",
       "      <th>4640</th>\n",
       "      <td>12.929216</td>\n",
       "      <td>57.726419</td>\n",
       "      <td>2021-04-29T14:03:37.000000Z</td>\n",
       "      <td>0.833328</td>\n",
       "      <td>14a1EcchN6gaqHzSh9u2NMuNCSzqWhxU11TWbsJG8Sn9q9...</td>\n",
       "      <td>1</td>\n",
       "      <td>colossal-watermelon-finch</td>\n",
       "      <td>8c08b6885c6c1ff</td>\n",
       "      <td>838579.0</td>\n",
       "      <td>838788</td>\n",
       "      <td>...</td>\n",
       "      <td>SE</td>\n",
       "      <td>Norrby</td>\n",
       "      <td>Dalbogatan</td>\n",
       "      <td>Västra Götalands län</td>\n",
       "      <td>Sweden</td>\n",
       "      <td>Norrby</td>\n",
       "      <td>bm9ycmJ5dsOkc3RyYSBnw7Z0YWxhbmRzIGzDpG5zd2VkZW4</td>\n",
       "      <td>online</td>\n",
       "      <td>[/ip4/46.194.56.24/tcp/44158]</td>\n",
       "      <td>838672.0</td>\n",
       "    </tr>\n",
       "    <tr>\n",
       "      <th>4660</th>\n",
       "      <td>12.942417</td>\n",
       "      <td>57.721830</td>\n",
       "      <td>2021-04-29T13:10:47.000000Z</td>\n",
       "      <td>0.833328</td>\n",
       "      <td>14a1EcchN6gaqHzSh9u2NMuNCSzqWhxU11TWbsJG8Sn9q9...</td>\n",
       "      <td>1</td>\n",
       "      <td>obedient-caramel-beetle</td>\n",
       "      <td>8c08b68854039ff</td>\n",
       "      <td>838594.0</td>\n",
       "      <td>838825</td>\n",
       "      <td>...</td>\n",
       "      <td>SE</td>\n",
       "      <td>Centrum</td>\n",
       "      <td>Torggatan</td>\n",
       "      <td>Västra Götalands län</td>\n",
       "      <td>Sweden</td>\n",
       "      <td>Centrum</td>\n",
       "      <td>Y2VudHJ1bXbDpHN0cmEgZ8O2dGFsYW5kcyBsw6Ruc3dlZGVu</td>\n",
       "      <td>online</td>\n",
       "      <td>[/p2p/11Av3LPNUJrBtNohL7xxDoFxb2npHY3ftEzgcKXZ...</td>\n",
       "      <td>838693.0</td>\n",
       "    </tr>\n",
       "    <tr>\n",
       "      <th>12458</th>\n",
       "      <td>11.973905</td>\n",
       "      <td>57.685035</td>\n",
       "      <td>2021-03-15T09:25:34.000000Z</td>\n",
       "      <td>1.000000</td>\n",
       "      <td>14a1EcchN6gaqHzSh9u2NMuNCSzqWhxU11TWbsJG8Sn9q9...</td>\n",
       "      <td>1</td>\n",
       "      <td>overt-cornflower-goblin</td>\n",
       "      <td>8c1f25068a629ff</td>\n",
       "      <td>838647.0</td>\n",
       "      <td>838697</td>\n",
       "      <td>...</td>\n",
       "      <td>SE</td>\n",
       "      <td>Guldheden</td>\n",
       "      <td>Doktor Allards Gata</td>\n",
       "      <td>Västra Götalands län</td>\n",
       "      <td>Sweden</td>\n",
       "      <td>Guldheden</td>\n",
       "      <td>Z3VsZGhlZGVudsOkc3RyYSBnw7Z0YWxhbmRzIGzDpG5zd2...</td>\n",
       "      <td>online</td>\n",
       "      <td>[/ip4/188.148.171.178/tcp/44158]</td>\n",
       "      <td>838785.0</td>\n",
       "    </tr>\n",
       "    <tr>\n",
       "      <th>14982</th>\n",
       "      <td>11.979265</td>\n",
       "      <td>57.692117</td>\n",
       "      <td>2021-03-05T16:52:46.000000Z</td>\n",
       "      <td>0.714279</td>\n",
       "      <td>14a1EcchN6gaqHzSh9u2NMuNCSzqWhxU11TWbsJG8Sn9q9...</td>\n",
       "      <td>1</td>\n",
       "      <td>proper-wintergreen-halibut</td>\n",
       "      <td>8c1f2506d729bff</td>\n",
       "      <td>838688.0</td>\n",
       "      <td>838738</td>\n",
       "      <td>...</td>\n",
       "      <td>SE</td>\n",
       "      <td>Johanneberg</td>\n",
       "      <td>Vidblicksgatan</td>\n",
       "      <td>Västra Götalands län</td>\n",
       "      <td>Sweden</td>\n",
       "      <td>Johanneberg</td>\n",
       "      <td>am9oYW5uZWJlcmd2w6RzdHJhIGfDtnRhbGFuZHMgbMOkbn...</td>\n",
       "      <td>online</td>\n",
       "      <td>[/ip4/188.149.41.135/tcp/44158]</td>\n",
       "      <td>838782.0</td>\n",
       "    </tr>\n",
       "    <tr>\n",
       "      <th>16602</th>\n",
       "      <td>13.428963</td>\n",
       "      <td>57.856105</td>\n",
       "      <td>2021-02-09T16:12:53.000000Z</td>\n",
       "      <td>1.000000</td>\n",
       "      <td>14a1EcchN6gaqHzSh9u2NMuNCSzqWhxU11TWbsJG8Sn9q9...</td>\n",
       "      <td>1</td>\n",
       "      <td>passive-zinc-panther</td>\n",
       "      <td>8c08b615dab2bff</td>\n",
       "      <td>838697.0</td>\n",
       "      <td>838747</td>\n",
       "      <td>...</td>\n",
       "      <td>SE</td>\n",
       "      <td>Timmele</td>\n",
       "      <td>Överstegränd</td>\n",
       "      <td>Västra Götalands län</td>\n",
       "      <td>Sweden</td>\n",
       "      <td>Timmele</td>\n",
       "      <td>dGltbWVsZXbDpHN0cmEgZ8O2dGFsYW5kcyBsw6Ruc3dlZGVu</td>\n",
       "      <td>online</td>\n",
       "      <td>[/p2p/11dMWAXq84xbDtCWBJYvz2K4LHh86DbtTephj3J3...</td>\n",
       "      <td>838693.0</td>\n",
       "    </tr>\n",
       "    <tr>\n",
       "      <th>16673</th>\n",
       "      <td>13.420528</td>\n",
       "      <td>57.781582</td>\n",
       "      <td>2021-02-08T14:34:42.000000Z</td>\n",
       "      <td>1.000000</td>\n",
       "      <td>14a1EcchN6gaqHzSh9u2NMuNCSzqWhxU11TWbsJG8Sn9q9...</td>\n",
       "      <td>1</td>\n",
       "      <td>able-pear-horse</td>\n",
       "      <td>8c08b602cdb4dff</td>\n",
       "      <td>838605.0</td>\n",
       "      <td>838655</td>\n",
       "      <td>...</td>\n",
       "      <td>SE</td>\n",
       "      <td>Ulricehamn</td>\n",
       "      <td>Hasselvägen</td>\n",
       "      <td>Västra Götalands län</td>\n",
       "      <td>Sweden</td>\n",
       "      <td>Ulricehamn</td>\n",
       "      <td>dWxyaWNlaGFtbnbDpHN0cmEgZ8O2dGFsYW5kcyBsw6Ruc3...</td>\n",
       "      <td>online</td>\n",
       "      <td>[/p2p/112mR7mPh8FYvVSpxCFNUmHme2Ep9bzE3oRim2MG...</td>\n",
       "      <td>838728.0</td>\n",
       "    </tr>\n",
       "    <tr>\n",
       "      <th>16676</th>\n",
       "      <td>13.419345</td>\n",
       "      <td>57.786512</td>\n",
       "      <td>2021-02-08T13:11:56.000000Z</td>\n",
       "      <td>1.000000</td>\n",
       "      <td>14a1EcchN6gaqHzSh9u2NMuNCSzqWhxU11TWbsJG8Sn9q9...</td>\n",
       "      <td>1</td>\n",
       "      <td>damp-cloth-tapir</td>\n",
       "      <td>8c08b61526d83ff</td>\n",
       "      <td>838791.0</td>\n",
       "      <td>838791</td>\n",
       "      <td>...</td>\n",
       "      <td>SE</td>\n",
       "      <td>Ulricehamn</td>\n",
       "      <td>Sanatorievägen</td>\n",
       "      <td>Västra Götalands län</td>\n",
       "      <td>Sweden</td>\n",
       "      <td>Ulricehamn</td>\n",
       "      <td>dWxyaWNlaGFtbnbDpHN0cmEgZ8O2dGFsYW5kcyBsw6Ruc3...</td>\n",
       "      <td>online</td>\n",
       "      <td>[/ip4/213.200.174.169/tcp/59670]</td>\n",
       "      <td>838739.0</td>\n",
       "    </tr>\n",
       "    <tr>\n",
       "      <th>16770</th>\n",
       "      <td>13.432995</td>\n",
       "      <td>57.799926</td>\n",
       "      <td>2021-02-06T16:00:54.000000Z</td>\n",
       "      <td>0.333328</td>\n",
       "      <td>14a1EcchN6gaqHzSh9u2NMuNCSzqWhxU11TWbsJG8Sn9q9...</td>\n",
       "      <td>1</td>\n",
       "      <td>trendy-coconut-shell</td>\n",
       "      <td>8c08b61536905ff</td>\n",
       "      <td>838604.0</td>\n",
       "      <td>838832</td>\n",
       "      <td>...</td>\n",
       "      <td>SE</td>\n",
       "      <td>Ulricehamn</td>\n",
       "      <td>Arrehagsvägen</td>\n",
       "      <td>Västra Götalands län</td>\n",
       "      <td>Sweden</td>\n",
       "      <td>Ulricehamn</td>\n",
       "      <td>dWxyaWNlaGFtbnbDpHN0cmEgZ8O2dGFsYW5kcyBsw6Ruc3...</td>\n",
       "      <td>online</td>\n",
       "      <td>[/p2p/112e9ixVEkc4Qn7fnozboQTzrG8LyaEYaUDJa1sU...</td>\n",
       "      <td>838693.0</td>\n",
       "    </tr>\n",
       "    <tr>\n",
       "      <th>16929</th>\n",
       "      <td>13.425698</td>\n",
       "      <td>57.803074</td>\n",
       "      <td>2021-02-03T18:26:13.000000Z</td>\n",
       "      <td>0.333328</td>\n",
       "      <td>14a1EcchN6gaqHzSh9u2NMuNCSzqWhxU11TWbsJG8Sn9q9...</td>\n",
       "      <td>1</td>\n",
       "      <td>quick-sapphire-liger</td>\n",
       "      <td>8c08b615370adff</td>\n",
       "      <td>838537.0</td>\n",
       "      <td>838819</td>\n",
       "      <td>...</td>\n",
       "      <td>SE</td>\n",
       "      <td>Ulricehamn SO</td>\n",
       "      <td>Stenmursgatan</td>\n",
       "      <td>Västra Götalands län</td>\n",
       "      <td>Sweden</td>\n",
       "      <td>Ulricehamn SO</td>\n",
       "      <td>dWxyaWNlaGFtbiBzb3bDpHN0cmEgZ8O2dGFsYW5kcyBsw6...</td>\n",
       "      <td>online</td>\n",
       "      <td>[/p2p/11qY6TpgoBoCaUWSJT6z6fFMtkh471GGHRKeHKYt...</td>\n",
       "      <td>838733.0</td>\n",
       "    </tr>\n",
       "    <tr>\n",
       "      <th>16932</th>\n",
       "      <td>13.431993</td>\n",
       "      <td>57.806607</td>\n",
       "      <td>2021-02-03T17:32:41.000000Z</td>\n",
       "      <td>0.333328</td>\n",
       "      <td>14a1EcchN6gaqHzSh9u2NMuNCSzqWhxU11TWbsJG8Sn9q9...</td>\n",
       "      <td>1</td>\n",
       "      <td>hidden-topaz-cougar</td>\n",
       "      <td>8c08b61536695ff</td>\n",
       "      <td>838648.0</td>\n",
       "      <td>838778</td>\n",
       "      <td>...</td>\n",
       "      <td>SE</td>\n",
       "      <td>Ulricehamn SO</td>\n",
       "      <td>Tåmarksgatan</td>\n",
       "      <td>Västra Götalands län</td>\n",
       "      <td>Sweden</td>\n",
       "      <td>Ulricehamn SO</td>\n",
       "      <td>dWxyaWNlaGFtbiBzb3bDpHN0cmEgZ8O2dGFsYW5kcyBsw6...</td>\n",
       "      <td>online</td>\n",
       "      <td>[/ip4/81.234.116.176/tcp/44158]</td>\n",
       "      <td>838704.0</td>\n",
       "    </tr>\n",
       "    <tr>\n",
       "      <th>16938</th>\n",
       "      <td>13.423556</td>\n",
       "      <td>57.793043</td>\n",
       "      <td>2021-02-03T15:56:58.000000Z</td>\n",
       "      <td>1.000000</td>\n",
       "      <td>14a1EcchN6gaqHzSh9u2NMuNCSzqWhxU11TWbsJG8Sn9q9...</td>\n",
       "      <td>1</td>\n",
       "      <td>dancing-green-haddock</td>\n",
       "      <td>8c08b602c8707ff</td>\n",
       "      <td>832157.0</td>\n",
       "      <td>832233</td>\n",
       "      <td>...</td>\n",
       "      <td>SE</td>\n",
       "      <td>Ulricehamn</td>\n",
       "      <td>Riddarebacken</td>\n",
       "      <td>Västra Götalands län</td>\n",
       "      <td>Sweden</td>\n",
       "      <td>Ulricehamn</td>\n",
       "      <td>dWxyaWNlaGFtbnbDpHN0cmEgZ8O2dGFsYW5kcyBsw6Ruc3...</td>\n",
       "      <td>offline</td>\n",
       "      <td>None</td>\n",
       "      <td>832242.0</td>\n",
       "    </tr>\n",
       "  </tbody>\n",
       "</table>\n",
       "<p>24 rows × 27 columns</p>\n",
       "</div>"
      ],
      "text/plain": [
       "             lng        lat              timestamp_added  reward_scale  \\\n",
       "2581   13.374315  57.814623  2021-05-05T09:00:52.000000Z      1.000000   \n",
       "2584   12.952321  57.738563  2021-05-05T08:55:02.000000Z      1.000000   \n",
       "2590   12.947781  57.751909  2021-05-05T08:52:32.000000Z      1.000000   \n",
       "2596   13.413670  57.795443  2021-05-05T08:39:11.000000Z           NaN   \n",
       "2598   12.931668  57.717069  2021-05-05T08:31:14.000000Z      1.000000   \n",
       "3398   12.900837  57.719216  2021-05-03T17:09:02.000000Z      0.333328   \n",
       "3461   12.979766  57.721687  2021-05-03T15:21:12.000000Z      1.000000   \n",
       "3537   12.949123  57.756581  2021-05-03T13:37:32.000000Z      0.500000   \n",
       "3567   12.943463  57.714136  2021-05-03T11:39:01.000000Z      1.000000   \n",
       "3582   12.928046  57.724004  2021-05-03T10:36:34.000000Z      0.833328   \n",
       "4502   12.973529  57.730021  2021-04-29T17:52:25.000000Z      1.000000   \n",
       "4531   12.978194  57.715895  2021-04-29T17:02:00.000000Z      1.000000   \n",
       "4572   12.935468  57.707205  2021-04-29T15:53:21.000000Z      1.000000   \n",
       "4640   12.929216  57.726419  2021-04-29T14:03:37.000000Z      0.833328   \n",
       "4660   12.942417  57.721830  2021-04-29T13:10:47.000000Z      0.833328   \n",
       "12458  11.973905  57.685035  2021-03-15T09:25:34.000000Z      1.000000   \n",
       "14982  11.979265  57.692117  2021-03-05T16:52:46.000000Z      0.714279   \n",
       "16602  13.428963  57.856105  2021-02-09T16:12:53.000000Z      1.000000   \n",
       "16673  13.420528  57.781582  2021-02-08T14:34:42.000000Z      1.000000   \n",
       "16676  13.419345  57.786512  2021-02-08T13:11:56.000000Z      1.000000   \n",
       "16770  13.432995  57.799926  2021-02-06T16:00:54.000000Z      0.333328   \n",
       "16929  13.425698  57.803074  2021-02-03T18:26:13.000000Z      0.333328   \n",
       "16932  13.431993  57.806607  2021-02-03T17:32:41.000000Z      0.333328   \n",
       "16938  13.423556  57.793043  2021-02-03T15:56:58.000000Z      1.000000   \n",
       "\n",
       "                                                   owner  nonce  \\\n",
       "2581   14a1EcchN6gaqHzSh9u2NMuNCSzqWhxU11TWbsJG8Sn9q9...      1   \n",
       "2584   14a1EcchN6gaqHzSh9u2NMuNCSzqWhxU11TWbsJG8Sn9q9...      1   \n",
       "2590   14a1EcchN6gaqHzSh9u2NMuNCSzqWhxU11TWbsJG8Sn9q9...      1   \n",
       "2596   14a1EcchN6gaqHzSh9u2NMuNCSzqWhxU11TWbsJG8Sn9q9...      1   \n",
       "2598   14a1EcchN6gaqHzSh9u2NMuNCSzqWhxU11TWbsJG8Sn9q9...      1   \n",
       "3398   14a1EcchN6gaqHzSh9u2NMuNCSzqWhxU11TWbsJG8Sn9q9...      1   \n",
       "3461   14a1EcchN6gaqHzSh9u2NMuNCSzqWhxU11TWbsJG8Sn9q9...      1   \n",
       "3537   14a1EcchN6gaqHzSh9u2NMuNCSzqWhxU11TWbsJG8Sn9q9...      1   \n",
       "3567   14a1EcchN6gaqHzSh9u2NMuNCSzqWhxU11TWbsJG8Sn9q9...      1   \n",
       "3582   14a1EcchN6gaqHzSh9u2NMuNCSzqWhxU11TWbsJG8Sn9q9...      1   \n",
       "4502   14a1EcchN6gaqHzSh9u2NMuNCSzqWhxU11TWbsJG8Sn9q9...      1   \n",
       "4531   14a1EcchN6gaqHzSh9u2NMuNCSzqWhxU11TWbsJG8Sn9q9...      1   \n",
       "4572   14a1EcchN6gaqHzSh9u2NMuNCSzqWhxU11TWbsJG8Sn9q9...      1   \n",
       "4640   14a1EcchN6gaqHzSh9u2NMuNCSzqWhxU11TWbsJG8Sn9q9...      1   \n",
       "4660   14a1EcchN6gaqHzSh9u2NMuNCSzqWhxU11TWbsJG8Sn9q9...      1   \n",
       "12458  14a1EcchN6gaqHzSh9u2NMuNCSzqWhxU11TWbsJG8Sn9q9...      1   \n",
       "14982  14a1EcchN6gaqHzSh9u2NMuNCSzqWhxU11TWbsJG8Sn9q9...      1   \n",
       "16602  14a1EcchN6gaqHzSh9u2NMuNCSzqWhxU11TWbsJG8Sn9q9...      1   \n",
       "16673  14a1EcchN6gaqHzSh9u2NMuNCSzqWhxU11TWbsJG8Sn9q9...      1   \n",
       "16676  14a1EcchN6gaqHzSh9u2NMuNCSzqWhxU11TWbsJG8Sn9q9...      1   \n",
       "16770  14a1EcchN6gaqHzSh9u2NMuNCSzqWhxU11TWbsJG8Sn9q9...      1   \n",
       "16929  14a1EcchN6gaqHzSh9u2NMuNCSzqWhxU11TWbsJG8Sn9q9...      1   \n",
       "16932  14a1EcchN6gaqHzSh9u2NMuNCSzqWhxU11TWbsJG8Sn9q9...      1   \n",
       "16938  14a1EcchN6gaqHzSh9u2NMuNCSzqWhxU11TWbsJG8Sn9q9...      1   \n",
       "\n",
       "                              name         location  last_poc_challenge  \\\n",
       "2581   formal-amethyst-cottonmouth  8c08b61556f29ff            838603.0   \n",
       "2584               sharp-bone-bird  8c08b68aa5203ff            838720.0   \n",
       "2590       proud-rosewood-tortoise  8c08b68aab0cdff            838775.0   \n",
       "2596   generous-golden-nightingale  8c08b61535a69ff                 NaN   \n",
       "2598       spicy-chartreuse-alpaca  8c08b6884201bff            838714.0   \n",
       "3398          skinny-taupe-ostrich  8c08b68a34269ff            838683.0   \n",
       "3461            vast-blonde-kitten  8c08b6881598bff            838784.0   \n",
       "3537            late-fiery-swallow  8c08b68a878b1ff            838730.0   \n",
       "3567             immense-amber-bat  8c08b68808361ff            838803.0   \n",
       "3582            future-maroon-lynx  8c08b6885c2bdff            838644.0   \n",
       "4502          active-vinyl-raccoon  8c08b68811185ff            838726.0   \n",
       "4531            icy-khaki-capybara  8c08b6883916dff            838806.0   \n",
       "4572    furry-shamrock-nightingale  8c08b68846b41ff            838758.0   \n",
       "4640     colossal-watermelon-finch  8c08b6885c6c1ff            838579.0   \n",
       "4660       obedient-caramel-beetle  8c08b68854039ff            838594.0   \n",
       "12458      overt-cornflower-goblin  8c1f25068a629ff            838647.0   \n",
       "14982   proper-wintergreen-halibut  8c1f2506d729bff            838688.0   \n",
       "16602         passive-zinc-panther  8c08b615dab2bff            838697.0   \n",
       "16673              able-pear-horse  8c08b602cdb4dff            838605.0   \n",
       "16676             damp-cloth-tapir  8c08b61526d83ff            838791.0   \n",
       "16770         trendy-coconut-shell  8c08b61536905ff            838604.0   \n",
       "16929         quick-sapphire-liger  8c08b615370adff            838537.0   \n",
       "16932          hidden-topaz-cougar  8c08b61536695ff            838648.0   \n",
       "16938        dancing-green-haddock  8c08b602c8707ff            832157.0   \n",
       "\n",
       "       last_change_block  ...  short_country     short_city  \\\n",
       "2581              838653  ...             SE     Ulricehamn   \n",
       "2584              838825  ...             SE       Norrmalm   \n",
       "2590              838825  ...             SE          Sjöbo   \n",
       "2596              838833  ...             SE     Ulricehamn   \n",
       "2598              838764  ...             SE           Göta   \n",
       "3398              838825  ...             SE        Byttorp   \n",
       "3461              838834  ...             SE          Hulta   \n",
       "3537              838780  ...             SE          Sjöbo   \n",
       "3567              838820  ...             SE           Göta   \n",
       "3582              838694  ...             SE         Norrby   \n",
       "4502              838778  ...             SE        Centrum   \n",
       "4531              838820  ...             SE          Hulta   \n",
       "4572              838825  ...             SE           Göta   \n",
       "4640              838788  ...             SE         Norrby   \n",
       "4660              838825  ...             SE        Centrum   \n",
       "12458             838697  ...             SE      Guldheden   \n",
       "14982             838738  ...             SE    Johanneberg   \n",
       "16602             838747  ...             SE        Timmele   \n",
       "16673             838655  ...             SE     Ulricehamn   \n",
       "16676             838791  ...             SE     Ulricehamn   \n",
       "16770             838832  ...             SE     Ulricehamn   \n",
       "16929             838819  ...             SE  Ulricehamn SO   \n",
       "16932             838778  ...             SE  Ulricehamn SO   \n",
       "16938             832233  ...             SE     Ulricehamn   \n",
       "\n",
       "               long_street            long_state long_country      long_city  \\\n",
       "2581             Gälavägen  Västra Götalands län       Sweden     Ulricehamn   \n",
       "2584        Margaretagatan  Västra Götalands län       Sweden       Norrmalm   \n",
       "2590      Björksätersgatan  Västra Götalands län       Sweden          Sjöbo   \n",
       "2596            Boråsvägen  Västra Götalands län       Sweden     Ulricehamn   \n",
       "2598         Varbergsvägen  Västra Götalands län       Sweden           Göta   \n",
       "3398            Fjällgatan  Västra Götalands län       Sweden        Byttorp   \n",
       "3461                 Hulta  Västra Götalands län       Sweden          Hulta   \n",
       "3537           Ekängsgatan  Västra Götalands län       Sweden          Sjöbo   \n",
       "3567        Kellgrensgatan  Västra Götalands län       Sweden           Göta   \n",
       "3582         Alingsåsvägen  Västra Götalands län       Sweden         Norrby   \n",
       "4502        Kapplandsgatan  Västra Götalands län       Sweden        Centrum   \n",
       "4531         Vallängsgatan  Västra Götalands län       Sweden          Hulta   \n",
       "4572   Fredriksborgsbacken  Västra Götalands län       Sweden           Göta   \n",
       "4640            Dalbogatan  Västra Götalands län       Sweden         Norrby   \n",
       "4660             Torggatan  Västra Götalands län       Sweden        Centrum   \n",
       "12458  Doktor Allards Gata  Västra Götalands län       Sweden      Guldheden   \n",
       "14982       Vidblicksgatan  Västra Götalands län       Sweden    Johanneberg   \n",
       "16602         Överstegränd  Västra Götalands län       Sweden        Timmele   \n",
       "16673          Hasselvägen  Västra Götalands län       Sweden     Ulricehamn   \n",
       "16676       Sanatorievägen  Västra Götalands län       Sweden     Ulricehamn   \n",
       "16770        Arrehagsvägen  Västra Götalands län       Sweden     Ulricehamn   \n",
       "16929        Stenmursgatan  Västra Götalands län       Sweden  Ulricehamn SO   \n",
       "16932         Tåmarksgatan  Västra Götalands län       Sweden  Ulricehamn SO   \n",
       "16938        Riddarebacken  Västra Götalands län       Sweden     Ulricehamn   \n",
       "\n",
       "                                                 city_id   online  \\\n",
       "2581   dWxyaWNlaGFtbnbDpHN0cmEgZ8O2dGFsYW5kcyBsw6Ruc3...   online   \n",
       "2584   bm9ycm1hbG12w6RzdHJhIGfDtnRhbGFuZHMgbMOkbnN3ZW...   online   \n",
       "2590     c2rDtmJvdsOkc3RyYSBnw7Z0YWxhbmRzIGzDpG5zd2VkZW4   online   \n",
       "2596   dWxyaWNlaGFtbnbDpHN0cmEgZ8O2dGFsYW5kcyBsw6Ruc3...  offline   \n",
       "2598      Z8O2dGF2w6RzdHJhIGfDtnRhbGFuZHMgbMOkbnN3ZWRlbg   online   \n",
       "3398    Ynl0dG9ycHbDpHN0cmEgZ8O2dGFsYW5kcyBsw6Ruc3dlZGVu   online   \n",
       "3461      aHVsdGF2w6RzdHJhIGfDtnRhbGFuZHMgbMOkbnN3ZWRlbg   online   \n",
       "3537     c2rDtmJvdsOkc3RyYSBnw7Z0YWxhbmRzIGzDpG5zd2VkZW4   online   \n",
       "3567      Z8O2dGF2w6RzdHJhIGfDtnRhbGFuZHMgbMOkbnN3ZWRlbg   online   \n",
       "3582     bm9ycmJ5dsOkc3RyYSBnw7Z0YWxhbmRzIGzDpG5zd2VkZW4   online   \n",
       "4502    Y2VudHJ1bXbDpHN0cmEgZ8O2dGFsYW5kcyBsw6Ruc3dlZGVu   online   \n",
       "4531      aHVsdGF2w6RzdHJhIGfDtnRhbGFuZHMgbMOkbnN3ZWRlbg   online   \n",
       "4572      Z8O2dGF2w6RzdHJhIGfDtnRhbGFuZHMgbMOkbnN3ZWRlbg   online   \n",
       "4640     bm9ycmJ5dsOkc3RyYSBnw7Z0YWxhbmRzIGzDpG5zd2VkZW4   online   \n",
       "4660    Y2VudHJ1bXbDpHN0cmEgZ8O2dGFsYW5kcyBsw6Ruc3dlZGVu   online   \n",
       "12458  Z3VsZGhlZGVudsOkc3RyYSBnw7Z0YWxhbmRzIGzDpG5zd2...   online   \n",
       "14982  am9oYW5uZWJlcmd2w6RzdHJhIGfDtnRhbGFuZHMgbMOkbn...   online   \n",
       "16602   dGltbWVsZXbDpHN0cmEgZ8O2dGFsYW5kcyBsw6Ruc3dlZGVu   online   \n",
       "16673  dWxyaWNlaGFtbnbDpHN0cmEgZ8O2dGFsYW5kcyBsw6Ruc3...   online   \n",
       "16676  dWxyaWNlaGFtbnbDpHN0cmEgZ8O2dGFsYW5kcyBsw6Ruc3...   online   \n",
       "16770  dWxyaWNlaGFtbnbDpHN0cmEgZ8O2dGFsYW5kcyBsw6Ruc3...   online   \n",
       "16929  dWxyaWNlaGFtbiBzb3bDpHN0cmEgZ8O2dGFsYW5kcyBsw6...   online   \n",
       "16932  dWxyaWNlaGFtbiBzb3bDpHN0cmEgZ8O2dGFsYW5kcyBsw6...   online   \n",
       "16938  dWxyaWNlaGFtbnbDpHN0cmEgZ8O2dGFsYW5kcyBsw6Ruc3...  offline   \n",
       "\n",
       "                                            listen_addrs    height  \n",
       "2581                     [/ip4/46.194.150.126/tcp/44158]  838777.0  \n",
       "2584                       [/ip4/46.194.61.51/tcp/44158]  838783.0  \n",
       "2590   [/p2p/119yyu2syTFR5vucvnq25kkZKxiEbZpMGZjSgcai...  838783.0  \n",
       "2596                                                None  830259.0  \n",
       "2598   [/p2p/11BW5rWzvcXT9JoVJCVBB8h43aPvRdpMz5UGb3nU...  838771.0  \n",
       "3398                      [/ip4/46.194.161.24/tcp/44158]  838712.0  \n",
       "3461                      [/ip4/46.194.62.126/tcp/44158]  838806.0  \n",
       "3537   [/p2p/112WzFvZFktJH9CPAiPAgXDa7ayvWtAgZvN4NStS...  838706.0  \n",
       "3567                      [/ip4/46.194.185.58/tcp/44158]  838663.0  \n",
       "3582                     [/ip4/46.194.182.239/tcp/44158]  838697.0  \n",
       "4502   [/p2p/11yUvCUMN8NpQBfh8A85zVMt8Fv5vrAbp4aDK7X4...  838735.0  \n",
       "4531                     [/ip4/46.194.168.184/tcp/44158]  838777.0  \n",
       "4572   [/p2p/112epEzTyfycUNuZnbaVnWC5CvhzaXRRnyU4GKR5...  838676.0  \n",
       "4640                       [/ip4/46.194.56.24/tcp/44158]  838672.0  \n",
       "4660   [/p2p/11Av3LPNUJrBtNohL7xxDoFxb2npHY3ftEzgcKXZ...  838693.0  \n",
       "12458                   [/ip4/188.148.171.178/tcp/44158]  838785.0  \n",
       "14982                    [/ip4/188.149.41.135/tcp/44158]  838782.0  \n",
       "16602  [/p2p/11dMWAXq84xbDtCWBJYvz2K4LHh86DbtTephj3J3...  838693.0  \n",
       "16673  [/p2p/112mR7mPh8FYvVSpxCFNUmHme2Ep9bzE3oRim2MG...  838728.0  \n",
       "16676                   [/ip4/213.200.174.169/tcp/59670]  838739.0  \n",
       "16770  [/p2p/112e9ixVEkc4Qn7fnozboQTzrG8LyaEYaUDJa1sU...  838693.0  \n",
       "16929  [/p2p/11qY6TpgoBoCaUWSJT6z6fFMtkh471GGHRKeHKYt...  838733.0  \n",
       "16932                    [/ip4/81.234.116.176/tcp/44158]  838704.0  \n",
       "16938                                               None  832242.0  \n",
       "\n",
       "[24 rows x 27 columns]"
      ]
     },
     "execution_count": 85,
     "metadata": {},
     "output_type": "execute_result"
    }
   ],
   "source": [
    "df4_swe[df4_swe['owner']=='14a1EcchN6gaqHzSh9u2NMuNCSzqWhxU11TWbsJG8Sn9q98bkCL']"
   ]
  },
  {
   "cell_type": "code",
   "execution_count": 86,
   "metadata": {},
   "outputs": [],
   "source": [
    "df4_swe.to_csv('swe_hotspots-may10-2021.csv')"
   ]
  },
  {
   "cell_type": "code",
   "execution_count": 87,
   "metadata": {},
   "outputs": [],
   "source": [
    "import pandas as pd\n",
    "\n",
    "df4_swe = pd.read_csv('swe_hotspots-may10-2021.csv')"
   ]
  },
  {
   "cell_type": "code",
   "execution_count": 88,
   "metadata": {},
   "outputs": [
    {
     "data": {
      "text/plain": [
       "14Rqw67Er4T4mDitRR5hkvDbefXUhVQGiaVV4yzgSF3sVtu6PfU    73\n",
       "13Wwpbanr8rMrGPBYajqDTHsScYJAVuXJwSP2hLD3nQk74Zm55y    26\n",
       "14a1EcchN6gaqHzSh9u2NMuNCSzqWhxU11TWbsJG8Sn9q98bkCL    24\n",
       "14HzZRyju96jHNPjnk3KZFuz8scmK9q4MTJPr7bYdFEo6WYJEmM    21\n",
       "13H9ykhRaWw8AVEMqf7rV6Fn9fnLXxZ6G98JEdsA1gdcJKYqQYW    21\n",
       "13W2BQ5FxQEV4C3PR9nYEC6kywKfNYFFVmHo38UgpLxusX9buCd    12\n",
       "13tz7DnGnantw8znr5341HB2Z3AJjQsXBbGi7YQc2D3BCLAUMDf     9\n",
       "14d7XEZJTsFRytmSuj2Ldtx8WpNnNPwawdEv6yV7C4dLwuV6FYm     8\n",
       "13rbdSBcshNAkLLJKiBUxzYjRnX3G551AUd1CVGqqe7HExScDc4     6\n",
       "13AvzGLk4ormmqzR1UKL7tSMHv5jkEjsikwoaSkFAzhMRt7dcB5     5\n",
       "14BT97xnPZ9YfmeTxmuMhstxB8zHS8FeTUDxqPp38duW7NPHNCg     5\n",
       "13NCaCjEqGPCrMgEGkzjLEAX3dfaGDNA9SksARATyRgEyxuJLGg     5\n",
       "14SiXdBfQT15p43yGuHRFwg9ynP3Fx8ELErkbAUH9H326mGtrA4     4\n",
       "14inhtM57SDS6QL6KLPVQYYcUSZGD7xjB7hndQm6aq8Z67i5u3e     4\n",
       "1458s75hMn2ANzhRLAnyZeQ1YpKHt7Tak7XG5rwbHK3E5TJnY5F     4\n",
       "13v9kMn5p1a3Y5vqnPxzqfaiEhhrRBaMLYk7SmiN3pJEx1WmBpT     4\n",
       "14CuUDZ3rXf8W7VBFJc7eB8VBWZ7cAAEDLgAEDkMGpW7U2uMLMk     3\n",
       "14DXurfTM8ZRek6msvJWNGzpzCV836cu31Xw67zf8QJG9UtfQLV     3\n",
       "13hZcW2J69JUK6vodvzR7PhA5BKNAgEUsi466WBbTw2EhAqVxej     3\n",
       "132rjofoPRZ86KxfvhasuDjNFcej7Lm1oGq8x4oRviJUCkwAuzA     2\n",
       "143cvz6nVMq6yuLXTiRnuYj2cmyUbE1mZ2VGV92i2PKxf3hARGC     2\n",
       "13X9AWvhJJtCgjjw1dsL3uu24MN3jsdVMnzqsUaBoQ1M2uFkbjM     2\n",
       "14YXyXiPFCgfbv3eRAoD4rowuNzJsFUp49JiEutR3e32kVDDW9D     2\n",
       "13TAPEoQkexPAed2wzi2gKzgCG98L4nxDsoNhpH66CKifqqHFQP     2\n",
       "14RkpPD2eA8tpRzDQeF5VS4X3G856mrv2BnVeu86H5A8d5a7moZ     2\n",
       "14b1zEfW5TvjoyySk39Wcw4zvHkppyHFajcFNZX9UFtJoTyvEsR     2\n",
       "14hgdgqaUAVQVksdY4A9GKMf7iPEVGJLiJnTHLw9BMSwfGcwrSE     2\n",
       "14M4QsTZdUpwPrGKDKUwVCM5sVPCxcjdUyp94QBfccP2mb2gjaD     2\n",
       "13dHSjJ1judroDkgD158RmRki6U5Ypqpq8ZSmyk56AW5HiYRDWJ     2\n",
       "13SaBus2Z8sHqrG3SVzneKbXRrqB47KGjHi7zchdXyFLZEdU3gD     2\n",
       "14jKSEr49tLco8TLFDoe2mKWWPiiZUpTJP7c1sauA6EfSU11bXM     1\n",
       "132F1Ad16kiwoBQ77kw3yMCUdnyTBi3xxgEyC1nXxNsbpRxuZ1K     1\n",
       "14KbLYpzdnEtzJPGLZLdJVKJcYUts2nJ8VEE85F4jXhUj6Gx9dG     1\n",
       "14XDDqmtD8RCMEL4oxfrrfrg6qbno6TB9CMf5uHAuNtFZRy6H8i     1\n",
       "132Cxq3DeiaG7L9HpFqw3rmAg57V282qsibidHpHzyCyJX7w2d9     1\n",
       "14f2frf32J57saD6hXxSCCSGmG5CWuPktxbo9ZkExyBumoj1EZf     1\n",
       "14n2xVYjsQTLY6N5ANnzLPoALm7H49myx1Vhz2DohivT64Nz7qd     1\n",
       "13n7s3G59C9jG1Zbe5r9omi9WkTkzq88y2s8vgMaL2ZeNGvijmK     1\n",
       "144PCC1HzNhW7D7HF2G3jemkBeDftb4Zh9CvGicPkyesYXy5iu4     1\n",
       "13Z9XyC3uE46wrcGiFCKfFXCwo5s76HPYG8PXsCjLfEDdq4akYE     1\n",
       "13sTg1Zk4Cwvhak7Bw91n5XryHYoxstDNZVXZU7d6iBo6YEVzGX     1\n",
       "14YrxhGtHr3XxU91v1wA8umqV76ssjGmQMwwghS7YAEmZFgDmhE     1\n",
       "14TMreJAyUEZvLyQiG1sa9R3Q3hLjfH2A5MMrMCTVw4VDizpQgW     1\n",
       "144bWZT59kLQ5vQfnSYazYMjAeSQEUfU1AX2kj7FmZWiqNwsS3A     1\n",
       "14pXvC5c8sMu3zonoqtmA1XJ32TmyFSY6u16a7yZ1JEKaASRFb4     1\n",
       "14Tf7kzR3HeSNFQ71tWynVEJ8br2kZMc1YgkhiDfXfNLP2Ccrfi     1\n",
       "132xFucrG2mjiJAwYmvgoXRh4nMGt8oYh2X8sYLcUPfsCniBHs2     1\n",
       "13Z9tv6rSc8m7vgi1ozypDL9EMQT8DBuxLwSTDsgjBzZwVwNca5     1\n",
       "14dEpxfVrd6EreHuS9HGufFojuFfbvd8EC2nVskL4ZdiArJ6QSf     1\n",
       "136dFekNEGyE4gdwAHbS7tfRUR7V6ta3ZiJefKyHaQf2yG8e3VN     1\n",
       "13HNkrPuDDxy9gPKXxF43QMELGESVNFN3XHKwV7GZoi2AZ3JFNQ     1\n",
       "13aQeF2Rrg7KaAcAeU9ukuQ8mioLbo2pRrpNsUB4sMPZf9v13Rc     1\n",
       "13UjZWBbEKUM4SJzc5zLZzBJmwbxEuX9YGePJwWSsARGV1DHMLM     1\n",
       "13fG45B68YGfMPYKaxEfPTyecqh8imPJjk6vfV52D5M7opWo3ff     1\n",
       "144ZANuhj76jCdtYjxx24sooxfhBvvqQV4H9F3qHsWH81ES6B1k     1\n",
       "14kPdmw7AgFWTkTgCnqTair7bNKdVf7o2g2oZ9DoqxCfqHmDvf5     1\n",
       "14iAq97ypapJwDrZfy9MwEL1kVHtPu19MWJXQWWm53AwAskP3pj     1\n",
       "148htPMSaQ2X6rfeTCmtnmDmAQ3u3jgTmjYBg6zRvGfgkLuHAtw     1\n",
       "13FXVoT4zCJ7MJxU1jcYZ6S6PKjY1QtgLcWSdxTbghwtFJaLqTK     1\n",
       "13yzKj3CVFGaPp81E6T1qyRoKWrxV38XKsjzRBnnS8yXs73XFdT     1\n",
       "Name: owner, dtype: int64"
      ]
     },
     "execution_count": 88,
     "metadata": {},
     "output_type": "execute_result"
    }
   ],
   "source": [
    "df4_swe['owner'].value_counts()"
   ]
  },
  {
   "cell_type": "markdown",
   "metadata": {},
   "source": [
    "# Rewards per hotspot and owner"
   ]
  },
  {
   "cell_type": "code",
   "execution_count": 89,
   "metadata": {},
   "outputs": [
    {
     "data": {
      "text/plain": [
       "Index(['14Rqw67Er4T4mDitRR5hkvDbefXUhVQGiaVV4yzgSF3sVtu6PfU',\n",
       "       '13Wwpbanr8rMrGPBYajqDTHsScYJAVuXJwSP2hLD3nQk74Zm55y',\n",
       "       '14a1EcchN6gaqHzSh9u2NMuNCSzqWhxU11TWbsJG8Sn9q98bkCL',\n",
       "       '14HzZRyju96jHNPjnk3KZFuz8scmK9q4MTJPr7bYdFEo6WYJEmM',\n",
       "       '13H9ykhRaWw8AVEMqf7rV6Fn9fnLXxZ6G98JEdsA1gdcJKYqQYW',\n",
       "       '13W2BQ5FxQEV4C3PR9nYEC6kywKfNYFFVmHo38UgpLxusX9buCd',\n",
       "       '13tz7DnGnantw8znr5341HB2Z3AJjQsXBbGi7YQc2D3BCLAUMDf',\n",
       "       '14d7XEZJTsFRytmSuj2Ldtx8WpNnNPwawdEv6yV7C4dLwuV6FYm',\n",
       "       '13rbdSBcshNAkLLJKiBUxzYjRnX3G551AUd1CVGqqe7HExScDc4',\n",
       "       '13AvzGLk4ormmqzR1UKL7tSMHv5jkEjsikwoaSkFAzhMRt7dcB5'],\n",
       "      dtype='object')"
      ]
     },
     "execution_count": 89,
     "metadata": {},
     "output_type": "execute_result"
    }
   ],
   "source": [
    "df4_swe['owner'].value_counts().head(10).index"
   ]
  },
  {
   "cell_type": "code",
   "execution_count": 90,
   "metadata": {},
   "outputs": [
    {
     "data": {
      "text/plain": [
       "10"
      ]
     },
     "execution_count": 90,
     "metadata": {},
     "output_type": "execute_result"
    }
   ],
   "source": [
    "len(list(df4_swe['owner'].value_counts().head(10).index))"
   ]
  },
  {
   "cell_type": "code",
   "execution_count": 91,
   "metadata": {},
   "outputs": [],
   "source": [
    "res = []\n",
    "d5 = {}\n",
    "min = '2020-05-30'\n",
    "max = '2021-06-30'\n",
    "for owner in list(df4_swe['owner'].value_counts().head(10).index):\n",
    "    d5[owner]=req('https://api.helium.io/v1/accounts/{owner}/rewards/sum?min_time={min}&max_time={max}'.format(owner=owner,min=min,max=max))['data']\n",
    "    #d5[owner]=req('https://api.helium.io/v1/accounts/{owner}/rewards/sum?min_time={min}&max_time={max}&bucket=week'.format(owner=owner,min=min,max=max))['data']"
   ]
  },
  {
   "cell_type": "code",
   "execution_count": 92,
   "metadata": {},
   "outputs": [],
   "source": [
    "df_reward = pd.DataFrame.from_dict(d5,orient='index')"
   ]
  },
  {
   "cell_type": "code",
   "execution_count": 93,
   "metadata": {},
   "outputs": [],
   "source": [
    "df_reward.to_csv('reward_per_owner.csv')"
   ]
  },
  {
   "cell_type": "code",
   "execution_count": 94,
   "metadata": {},
   "outputs": [],
   "source": [
    "max_amount = 0\n",
    "for r in req('https://api.helium.io/v1/hotspots/112uMtzhUEfEV3z1SjuTSKLY1PXJY2tHhorFEPR2SeW9aCJgR2dM/rewards?min_time=2021-02-01&max_time=2021-03-01&cursor=eyJlbmRfYmxvY2siOjY5OTY1OSwiYmxvY2siOjc0MTMwMCwiYW5jaG9yX2Jsb2NrIjo3NDEzMDB9')['data']:\n",
    "    if r['amount'] > max_amount:\n",
    "        max_amount = r['amount']"
   ]
  },
  {
   "cell_type": "code",
   "execution_count": 95,
   "metadata": {},
   "outputs": [
    {
     "data": {
      "text/plain": [
       "{'meta': {'min_time': '2021-05-03T12:53:21Z',\n",
       "  'max_time': '2021-05-10T12:53:21Z'},\n",
       " 'data': {'total': 2565.12819363,\n",
       "  'sum': 256512819363,\n",
       "  'stddev': 28.83643931,\n",
       "  'min': 0.87742471,\n",
       "  'median': 24.25832619,\n",
       "  'max': 125.32628533,\n",
       "  'avg': 35.626780467083336}}"
      ]
     },
     "execution_count": 95,
     "metadata": {},
     "output_type": "execute_result"
    }
   ],
   "source": [
    "req('https://api.helium.io/v1/accounts/14Rqw67Er4T4mDitRR5hkvDbefXUhVQGiaVV4yzgSF3sVtu6PfU/rewards/sum?min_time=-7%20day')"
   ]
  },
  {
   "cell_type": "code",
   "execution_count": 96,
   "metadata": {},
   "outputs": [
    {
     "data": {
      "text/plain": [
       "{'error': 'Bad Request'}"
      ]
     },
     "execution_count": 96,
     "metadata": {},
     "output_type": "execute_result"
    }
   ],
   "source": [
    "req('https://api.helium.io/v1/accounts/{owner}/rewards/sum?min_time={min}&max_time={max}')"
   ]
  },
  {
   "cell_type": "code",
   "execution_count": 97,
   "metadata": {},
   "outputs": [],
   "source": [
    "res = []\n",
    "d6 = {}\n",
    "min = '-7%20day'\n",
    "for owner in list(df4_swe['owner'].value_counts().head(10).index):\n",
    "    d6[owner]=req('https://api.helium.io/v1/accounts/{}/rewards/sum?min_time=-7%20day'.format(owner))['data']"
   ]
  },
  {
   "cell_type": "code",
   "execution_count": 98,
   "metadata": {},
   "outputs": [
    {
     "data": {
      "text/plain": [
       "Index(['14Rqw67Er4T4mDitRR5hkvDbefXUhVQGiaVV4yzgSF3sVtu6PfU',\n",
       "       '13Wwpbanr8rMrGPBYajqDTHsScYJAVuXJwSP2hLD3nQk74Zm55y',\n",
       "       '14a1EcchN6gaqHzSh9u2NMuNCSzqWhxU11TWbsJG8Sn9q98bkCL',\n",
       "       '14HzZRyju96jHNPjnk3KZFuz8scmK9q4MTJPr7bYdFEo6WYJEmM',\n",
       "       '13H9ykhRaWw8AVEMqf7rV6Fn9fnLXxZ6G98JEdsA1gdcJKYqQYW',\n",
       "       '13W2BQ5FxQEV4C3PR9nYEC6kywKfNYFFVmHo38UgpLxusX9buCd',\n",
       "       '13tz7DnGnantw8znr5341HB2Z3AJjQsXBbGi7YQc2D3BCLAUMDf',\n",
       "       '14d7XEZJTsFRytmSuj2Ldtx8WpNnNPwawdEv6yV7C4dLwuV6FYm',\n",
       "       '13rbdSBcshNAkLLJKiBUxzYjRnX3G551AUd1CVGqqe7HExScDc4',\n",
       "       '13AvzGLk4ormmqzR1UKL7tSMHv5jkEjsikwoaSkFAzhMRt7dcB5'],\n",
       "      dtype='object')"
      ]
     },
     "execution_count": 98,
     "metadata": {},
     "output_type": "execute_result"
    }
   ],
   "source": [
    "df4_swe['owner'].value_counts().head(10).index"
   ]
  },
  {
   "cell_type": "code",
   "execution_count": 99,
   "metadata": {},
   "outputs": [],
   "source": [
    "df_swe_rewards_last_week = pd.DataFrame.from_dict(d6, orient='index').rename({'index':'owners'},axis=1)"
   ]
  },
  {
   "cell_type": "code",
   "execution_count": 100,
   "metadata": {},
   "outputs": [
    {
     "data": {
      "text/html": [
       "<div>\n",
       "<style scoped>\n",
       "    .dataframe tbody tr th:only-of-type {\n",
       "        vertical-align: middle;\n",
       "    }\n",
       "\n",
       "    .dataframe tbody tr th {\n",
       "        vertical-align: top;\n",
       "    }\n",
       "\n",
       "    .dataframe thead th {\n",
       "        text-align: right;\n",
       "    }\n",
       "</style>\n",
       "<table border=\"1\" class=\"dataframe\">\n",
       "  <thead>\n",
       "    <tr style=\"text-align: right;\">\n",
       "      <th></th>\n",
       "      <th>total</th>\n",
       "      <th>sum</th>\n",
       "      <th>stddev</th>\n",
       "      <th>min</th>\n",
       "      <th>median</th>\n",
       "      <th>max</th>\n",
       "      <th>avg</th>\n",
       "    </tr>\n",
       "  </thead>\n",
       "  <tbody>\n",
       "    <tr>\n",
       "      <th>14Rqw67Er4T4mDitRR5hkvDbefXUhVQGiaVV4yzgSF3sVtu6PfU</th>\n",
       "      <td>2565.128194</td>\n",
       "      <td>256512819363</td>\n",
       "      <td>28.836439</td>\n",
       "      <td>0.877425</td>\n",
       "      <td>24.258326</td>\n",
       "      <td>125.326285</td>\n",
       "      <td>35.626780</td>\n",
       "    </tr>\n",
       "    <tr>\n",
       "      <th>13Wwpbanr8rMrGPBYajqDTHsScYJAVuXJwSP2hLD3nQk74Zm55y</th>\n",
       "      <td>655.580376</td>\n",
       "      <td>65558037649</td>\n",
       "      <td>37.676381</td>\n",
       "      <td>0.138614</td>\n",
       "      <td>7.894181</td>\n",
       "      <td>125.088050</td>\n",
       "      <td>31.218113</td>\n",
       "    </tr>\n",
       "    <tr>\n",
       "      <th>14a1EcchN6gaqHzSh9u2NMuNCSzqWhxU11TWbsJG8Sn9q98bkCL</th>\n",
       "      <td>576.797963</td>\n",
       "      <td>57679796291</td>\n",
       "      <td>13.740113</td>\n",
       "      <td>0.458356</td>\n",
       "      <td>22.743719</td>\n",
       "      <td>52.904742</td>\n",
       "      <td>23.071919</td>\n",
       "    </tr>\n",
       "    <tr>\n",
       "      <th>14HzZRyju96jHNPjnk3KZFuz8scmK9q4MTJPr7bYdFEo6WYJEmM</th>\n",
       "      <td>572.321832</td>\n",
       "      <td>57232183218</td>\n",
       "      <td>32.279918</td>\n",
       "      <td>1.145031</td>\n",
       "      <td>20.336670</td>\n",
       "      <td>123.411916</td>\n",
       "      <td>31.795657</td>\n",
       "    </tr>\n",
       "    <tr>\n",
       "      <th>13H9ykhRaWw8AVEMqf7rV6Fn9fnLXxZ6G98JEdsA1gdcJKYqQYW</th>\n",
       "      <td>4334.444504</td>\n",
       "      <td>433444450402</td>\n",
       "      <td>20.925802</td>\n",
       "      <td>0.042068</td>\n",
       "      <td>4.025210</td>\n",
       "      <td>253.004474</td>\n",
       "      <td>10.917996</td>\n",
       "    </tr>\n",
       "    <tr>\n",
       "      <th>13W2BQ5FxQEV4C3PR9nYEC6kywKfNYFFVmHo38UgpLxusX9buCd</th>\n",
       "      <td>499.213319</td>\n",
       "      <td>49921331863</td>\n",
       "      <td>23.968543</td>\n",
       "      <td>0.167214</td>\n",
       "      <td>41.596052</td>\n",
       "      <td>74.032443</td>\n",
       "      <td>41.601110</td>\n",
       "    </tr>\n",
       "    <tr>\n",
       "      <th>13tz7DnGnantw8znr5341HB2Z3AJjQsXBbGi7YQc2D3BCLAUMDf</th>\n",
       "      <td>367.420732</td>\n",
       "      <td>36742073199</td>\n",
       "      <td>21.588944</td>\n",
       "      <td>1.712244</td>\n",
       "      <td>49.158812</td>\n",
       "      <td>71.502414</td>\n",
       "      <td>40.824526</td>\n",
       "    </tr>\n",
       "    <tr>\n",
       "      <th>14d7XEZJTsFRytmSuj2Ldtx8WpNnNPwawdEv6yV7C4dLwuV6FYm</th>\n",
       "      <td>160.466197</td>\n",
       "      <td>16046619687</td>\n",
       "      <td>27.172668</td>\n",
       "      <td>0.037010</td>\n",
       "      <td>30.595228</td>\n",
       "      <td>70.037491</td>\n",
       "      <td>32.093239</td>\n",
       "    </tr>\n",
       "    <tr>\n",
       "      <th>13rbdSBcshNAkLLJKiBUxzYjRnX3G551AUd1CVGqqe7HExScDc4</th>\n",
       "      <td>266.310457</td>\n",
       "      <td>26631045711</td>\n",
       "      <td>37.397219</td>\n",
       "      <td>5.172055</td>\n",
       "      <td>38.508036</td>\n",
       "      <td>99.896502</td>\n",
       "      <td>44.385076</td>\n",
       "    </tr>\n",
       "    <tr>\n",
       "      <th>13AvzGLk4ormmqzR1UKL7tSMHv5jkEjsikwoaSkFAzhMRt7dcB5</th>\n",
       "      <td>3643.035898</td>\n",
       "      <td>364303589794</td>\n",
       "      <td>18.282360</td>\n",
       "      <td>0.042692</td>\n",
       "      <td>2.058265</td>\n",
       "      <td>115.671429</td>\n",
       "      <td>11.905346</td>\n",
       "    </tr>\n",
       "  </tbody>\n",
       "</table>\n",
       "</div>"
      ],
      "text/plain": [
       "                                                          total           sum  \\\n",
       "14Rqw67Er4T4mDitRR5hkvDbefXUhVQGiaVV4yzgSF3sVtu...  2565.128194  256512819363   \n",
       "13Wwpbanr8rMrGPBYajqDTHsScYJAVuXJwSP2hLD3nQk74Z...   655.580376   65558037649   \n",
       "14a1EcchN6gaqHzSh9u2NMuNCSzqWhxU11TWbsJG8Sn9q98...   576.797963   57679796291   \n",
       "14HzZRyju96jHNPjnk3KZFuz8scmK9q4MTJPr7bYdFEo6WY...   572.321832   57232183218   \n",
       "13H9ykhRaWw8AVEMqf7rV6Fn9fnLXxZ6G98JEdsA1gdcJKY...  4334.444504  433444450402   \n",
       "13W2BQ5FxQEV4C3PR9nYEC6kywKfNYFFVmHo38UgpLxusX9...   499.213319   49921331863   \n",
       "13tz7DnGnantw8znr5341HB2Z3AJjQsXBbGi7YQc2D3BCLA...   367.420732   36742073199   \n",
       "14d7XEZJTsFRytmSuj2Ldtx8WpNnNPwawdEv6yV7C4dLwuV...   160.466197   16046619687   \n",
       "13rbdSBcshNAkLLJKiBUxzYjRnX3G551AUd1CVGqqe7HExS...   266.310457   26631045711   \n",
       "13AvzGLk4ormmqzR1UKL7tSMHv5jkEjsikwoaSkFAzhMRt7...  3643.035898  364303589794   \n",
       "\n",
       "                                                       stddev       min  \\\n",
       "14Rqw67Er4T4mDitRR5hkvDbefXUhVQGiaVV4yzgSF3sVtu...  28.836439  0.877425   \n",
       "13Wwpbanr8rMrGPBYajqDTHsScYJAVuXJwSP2hLD3nQk74Z...  37.676381  0.138614   \n",
       "14a1EcchN6gaqHzSh9u2NMuNCSzqWhxU11TWbsJG8Sn9q98...  13.740113  0.458356   \n",
       "14HzZRyju96jHNPjnk3KZFuz8scmK9q4MTJPr7bYdFEo6WY...  32.279918  1.145031   \n",
       "13H9ykhRaWw8AVEMqf7rV6Fn9fnLXxZ6G98JEdsA1gdcJKY...  20.925802  0.042068   \n",
       "13W2BQ5FxQEV4C3PR9nYEC6kywKfNYFFVmHo38UgpLxusX9...  23.968543  0.167214   \n",
       "13tz7DnGnantw8znr5341HB2Z3AJjQsXBbGi7YQc2D3BCLA...  21.588944  1.712244   \n",
       "14d7XEZJTsFRytmSuj2Ldtx8WpNnNPwawdEv6yV7C4dLwuV...  27.172668  0.037010   \n",
       "13rbdSBcshNAkLLJKiBUxzYjRnX3G551AUd1CVGqqe7HExS...  37.397219  5.172055   \n",
       "13AvzGLk4ormmqzR1UKL7tSMHv5jkEjsikwoaSkFAzhMRt7...  18.282360  0.042692   \n",
       "\n",
       "                                                       median         max  \\\n",
       "14Rqw67Er4T4mDitRR5hkvDbefXUhVQGiaVV4yzgSF3sVtu...  24.258326  125.326285   \n",
       "13Wwpbanr8rMrGPBYajqDTHsScYJAVuXJwSP2hLD3nQk74Z...   7.894181  125.088050   \n",
       "14a1EcchN6gaqHzSh9u2NMuNCSzqWhxU11TWbsJG8Sn9q98...  22.743719   52.904742   \n",
       "14HzZRyju96jHNPjnk3KZFuz8scmK9q4MTJPr7bYdFEo6WY...  20.336670  123.411916   \n",
       "13H9ykhRaWw8AVEMqf7rV6Fn9fnLXxZ6G98JEdsA1gdcJKY...   4.025210  253.004474   \n",
       "13W2BQ5FxQEV4C3PR9nYEC6kywKfNYFFVmHo38UgpLxusX9...  41.596052   74.032443   \n",
       "13tz7DnGnantw8znr5341HB2Z3AJjQsXBbGi7YQc2D3BCLA...  49.158812   71.502414   \n",
       "14d7XEZJTsFRytmSuj2Ldtx8WpNnNPwawdEv6yV7C4dLwuV...  30.595228   70.037491   \n",
       "13rbdSBcshNAkLLJKiBUxzYjRnX3G551AUd1CVGqqe7HExS...  38.508036   99.896502   \n",
       "13AvzGLk4ormmqzR1UKL7tSMHv5jkEjsikwoaSkFAzhMRt7...   2.058265  115.671429   \n",
       "\n",
       "                                                          avg  \n",
       "14Rqw67Er4T4mDitRR5hkvDbefXUhVQGiaVV4yzgSF3sVtu...  35.626780  \n",
       "13Wwpbanr8rMrGPBYajqDTHsScYJAVuXJwSP2hLD3nQk74Z...  31.218113  \n",
       "14a1EcchN6gaqHzSh9u2NMuNCSzqWhxU11TWbsJG8Sn9q98...  23.071919  \n",
       "14HzZRyju96jHNPjnk3KZFuz8scmK9q4MTJPr7bYdFEo6WY...  31.795657  \n",
       "13H9ykhRaWw8AVEMqf7rV6Fn9fnLXxZ6G98JEdsA1gdcJKY...  10.917996  \n",
       "13W2BQ5FxQEV4C3PR9nYEC6kywKfNYFFVmHo38UgpLxusX9...  41.601110  \n",
       "13tz7DnGnantw8znr5341HB2Z3AJjQsXBbGi7YQc2D3BCLA...  40.824526  \n",
       "14d7XEZJTsFRytmSuj2Ldtx8WpNnNPwawdEv6yV7C4dLwuV...  32.093239  \n",
       "13rbdSBcshNAkLLJKiBUxzYjRnX3G551AUd1CVGqqe7HExS...  44.385076  \n",
       "13AvzGLk4ormmqzR1UKL7tSMHv5jkEjsikwoaSkFAzhMRt7...  11.905346  "
      ]
     },
     "execution_count": 100,
     "metadata": {},
     "output_type": "execute_result"
    }
   ],
   "source": [
    "df_swe_rewards_last_week"
   ]
  },
  {
   "cell_type": "code",
   "execution_count": 101,
   "metadata": {},
   "outputs": [
    {
     "data": {
      "text/plain": [
       "14Rqw67Er4T4mDitRR5hkvDbefXUhVQGiaVV4yzgSF3sVtu6PfU    73\n",
       "13Wwpbanr8rMrGPBYajqDTHsScYJAVuXJwSP2hLD3nQk74Zm55y    26\n",
       "14a1EcchN6gaqHzSh9u2NMuNCSzqWhxU11TWbsJG8Sn9q98bkCL    24\n",
       "14HzZRyju96jHNPjnk3KZFuz8scmK9q4MTJPr7bYdFEo6WYJEmM    21\n",
       "13H9ykhRaWw8AVEMqf7rV6Fn9fnLXxZ6G98JEdsA1gdcJKYqQYW    21\n",
       "13W2BQ5FxQEV4C3PR9nYEC6kywKfNYFFVmHo38UgpLxusX9buCd    12\n",
       "13tz7DnGnantw8znr5341HB2Z3AJjQsXBbGi7YQc2D3BCLAUMDf     9\n",
       "14d7XEZJTsFRytmSuj2Ldtx8WpNnNPwawdEv6yV7C4dLwuV6FYm     8\n",
       "13rbdSBcshNAkLLJKiBUxzYjRnX3G551AUd1CVGqqe7HExScDc4     6\n",
       "13AvzGLk4ormmqzR1UKL7tSMHv5jkEjsikwoaSkFAzhMRt7dcB5     5\n",
       "Name: owner, dtype: int64"
      ]
     },
     "execution_count": 101,
     "metadata": {},
     "output_type": "execute_result"
    }
   ],
   "source": [
    "df_total_swe = df4_swe['owner'].value_counts().head(10)\n",
    "df_total_swe "
   ]
  },
  {
   "cell_type": "code",
   "execution_count": 102,
   "metadata": {},
   "outputs": [],
   "source": [
    "\n",
    "df_total_swe.columns = ['owners','hotspots']"
   ]
  },
  {
   "cell_type": "code",
   "execution_count": 103,
   "metadata": {},
   "outputs": [],
   "source": [
    "df_weekly_swe = pd.DataFrame(df_total_swe).join(df_swe_rewards_last_week)"
   ]
  },
  {
   "cell_type": "code",
   "execution_count": 104,
   "metadata": {},
   "outputs": [
    {
     "data": {
      "text/html": [
       "<div>\n",
       "<style scoped>\n",
       "    .dataframe tbody tr th:only-of-type {\n",
       "        vertical-align: middle;\n",
       "    }\n",
       "\n",
       "    .dataframe tbody tr th {\n",
       "        vertical-align: top;\n",
       "    }\n",
       "\n",
       "    .dataframe thead th {\n",
       "        text-align: right;\n",
       "    }\n",
       "</style>\n",
       "<table border=\"1\" class=\"dataframe\">\n",
       "  <thead>\n",
       "    <tr style=\"text-align: right;\">\n",
       "      <th></th>\n",
       "      <th>owner</th>\n",
       "      <th>total</th>\n",
       "      <th>sum</th>\n",
       "      <th>stddev</th>\n",
       "      <th>min</th>\n",
       "      <th>median</th>\n",
       "      <th>max</th>\n",
       "      <th>avg</th>\n",
       "    </tr>\n",
       "  </thead>\n",
       "  <tbody>\n",
       "    <tr>\n",
       "      <th>14Rqw67Er4T4mDitRR5hkvDbefXUhVQGiaVV4yzgSF3sVtu6PfU</th>\n",
       "      <td>73</td>\n",
       "      <td>2565.128194</td>\n",
       "      <td>256512819363</td>\n",
       "      <td>28.836439</td>\n",
       "      <td>0.877425</td>\n",
       "      <td>24.258326</td>\n",
       "      <td>125.326285</td>\n",
       "      <td>35.626780</td>\n",
       "    </tr>\n",
       "    <tr>\n",
       "      <th>13Wwpbanr8rMrGPBYajqDTHsScYJAVuXJwSP2hLD3nQk74Zm55y</th>\n",
       "      <td>26</td>\n",
       "      <td>655.580376</td>\n",
       "      <td>65558037649</td>\n",
       "      <td>37.676381</td>\n",
       "      <td>0.138614</td>\n",
       "      <td>7.894181</td>\n",
       "      <td>125.088050</td>\n",
       "      <td>31.218113</td>\n",
       "    </tr>\n",
       "    <tr>\n",
       "      <th>14a1EcchN6gaqHzSh9u2NMuNCSzqWhxU11TWbsJG8Sn9q98bkCL</th>\n",
       "      <td>24</td>\n",
       "      <td>576.797963</td>\n",
       "      <td>57679796291</td>\n",
       "      <td>13.740113</td>\n",
       "      <td>0.458356</td>\n",
       "      <td>22.743719</td>\n",
       "      <td>52.904742</td>\n",
       "      <td>23.071919</td>\n",
       "    </tr>\n",
       "    <tr>\n",
       "      <th>14HzZRyju96jHNPjnk3KZFuz8scmK9q4MTJPr7bYdFEo6WYJEmM</th>\n",
       "      <td>21</td>\n",
       "      <td>572.321832</td>\n",
       "      <td>57232183218</td>\n",
       "      <td>32.279918</td>\n",
       "      <td>1.145031</td>\n",
       "      <td>20.336670</td>\n",
       "      <td>123.411916</td>\n",
       "      <td>31.795657</td>\n",
       "    </tr>\n",
       "    <tr>\n",
       "      <th>13H9ykhRaWw8AVEMqf7rV6Fn9fnLXxZ6G98JEdsA1gdcJKYqQYW</th>\n",
       "      <td>21</td>\n",
       "      <td>4334.444504</td>\n",
       "      <td>433444450402</td>\n",
       "      <td>20.925802</td>\n",
       "      <td>0.042068</td>\n",
       "      <td>4.025210</td>\n",
       "      <td>253.004474</td>\n",
       "      <td>10.917996</td>\n",
       "    </tr>\n",
       "    <tr>\n",
       "      <th>13W2BQ5FxQEV4C3PR9nYEC6kywKfNYFFVmHo38UgpLxusX9buCd</th>\n",
       "      <td>12</td>\n",
       "      <td>499.213319</td>\n",
       "      <td>49921331863</td>\n",
       "      <td>23.968543</td>\n",
       "      <td>0.167214</td>\n",
       "      <td>41.596052</td>\n",
       "      <td>74.032443</td>\n",
       "      <td>41.601110</td>\n",
       "    </tr>\n",
       "    <tr>\n",
       "      <th>13tz7DnGnantw8znr5341HB2Z3AJjQsXBbGi7YQc2D3BCLAUMDf</th>\n",
       "      <td>9</td>\n",
       "      <td>367.420732</td>\n",
       "      <td>36742073199</td>\n",
       "      <td>21.588944</td>\n",
       "      <td>1.712244</td>\n",
       "      <td>49.158812</td>\n",
       "      <td>71.502414</td>\n",
       "      <td>40.824526</td>\n",
       "    </tr>\n",
       "    <tr>\n",
       "      <th>14d7XEZJTsFRytmSuj2Ldtx8WpNnNPwawdEv6yV7C4dLwuV6FYm</th>\n",
       "      <td>8</td>\n",
       "      <td>160.466197</td>\n",
       "      <td>16046619687</td>\n",
       "      <td>27.172668</td>\n",
       "      <td>0.037010</td>\n",
       "      <td>30.595228</td>\n",
       "      <td>70.037491</td>\n",
       "      <td>32.093239</td>\n",
       "    </tr>\n",
       "    <tr>\n",
       "      <th>13rbdSBcshNAkLLJKiBUxzYjRnX3G551AUd1CVGqqe7HExScDc4</th>\n",
       "      <td>6</td>\n",
       "      <td>266.310457</td>\n",
       "      <td>26631045711</td>\n",
       "      <td>37.397219</td>\n",
       "      <td>5.172055</td>\n",
       "      <td>38.508036</td>\n",
       "      <td>99.896502</td>\n",
       "      <td>44.385076</td>\n",
       "    </tr>\n",
       "    <tr>\n",
       "      <th>13AvzGLk4ormmqzR1UKL7tSMHv5jkEjsikwoaSkFAzhMRt7dcB5</th>\n",
       "      <td>5</td>\n",
       "      <td>3643.035898</td>\n",
       "      <td>364303589794</td>\n",
       "      <td>18.282360</td>\n",
       "      <td>0.042692</td>\n",
       "      <td>2.058265</td>\n",
       "      <td>115.671429</td>\n",
       "      <td>11.905346</td>\n",
       "    </tr>\n",
       "  </tbody>\n",
       "</table>\n",
       "</div>"
      ],
      "text/plain": [
       "                                                    owner        total  \\\n",
       "14Rqw67Er4T4mDitRR5hkvDbefXUhVQGiaVV4yzgSF3sVtu...     73  2565.128194   \n",
       "13Wwpbanr8rMrGPBYajqDTHsScYJAVuXJwSP2hLD3nQk74Z...     26   655.580376   \n",
       "14a1EcchN6gaqHzSh9u2NMuNCSzqWhxU11TWbsJG8Sn9q98...     24   576.797963   \n",
       "14HzZRyju96jHNPjnk3KZFuz8scmK9q4MTJPr7bYdFEo6WY...     21   572.321832   \n",
       "13H9ykhRaWw8AVEMqf7rV6Fn9fnLXxZ6G98JEdsA1gdcJKY...     21  4334.444504   \n",
       "13W2BQ5FxQEV4C3PR9nYEC6kywKfNYFFVmHo38UgpLxusX9...     12   499.213319   \n",
       "13tz7DnGnantw8znr5341HB2Z3AJjQsXBbGi7YQc2D3BCLA...      9   367.420732   \n",
       "14d7XEZJTsFRytmSuj2Ldtx8WpNnNPwawdEv6yV7C4dLwuV...      8   160.466197   \n",
       "13rbdSBcshNAkLLJKiBUxzYjRnX3G551AUd1CVGqqe7HExS...      6   266.310457   \n",
       "13AvzGLk4ormmqzR1UKL7tSMHv5jkEjsikwoaSkFAzhMRt7...      5  3643.035898   \n",
       "\n",
       "                                                             sum     stddev  \\\n",
       "14Rqw67Er4T4mDitRR5hkvDbefXUhVQGiaVV4yzgSF3sVtu...  256512819363  28.836439   \n",
       "13Wwpbanr8rMrGPBYajqDTHsScYJAVuXJwSP2hLD3nQk74Z...   65558037649  37.676381   \n",
       "14a1EcchN6gaqHzSh9u2NMuNCSzqWhxU11TWbsJG8Sn9q98...   57679796291  13.740113   \n",
       "14HzZRyju96jHNPjnk3KZFuz8scmK9q4MTJPr7bYdFEo6WY...   57232183218  32.279918   \n",
       "13H9ykhRaWw8AVEMqf7rV6Fn9fnLXxZ6G98JEdsA1gdcJKY...  433444450402  20.925802   \n",
       "13W2BQ5FxQEV4C3PR9nYEC6kywKfNYFFVmHo38UgpLxusX9...   49921331863  23.968543   \n",
       "13tz7DnGnantw8znr5341HB2Z3AJjQsXBbGi7YQc2D3BCLA...   36742073199  21.588944   \n",
       "14d7XEZJTsFRytmSuj2Ldtx8WpNnNPwawdEv6yV7C4dLwuV...   16046619687  27.172668   \n",
       "13rbdSBcshNAkLLJKiBUxzYjRnX3G551AUd1CVGqqe7HExS...   26631045711  37.397219   \n",
       "13AvzGLk4ormmqzR1UKL7tSMHv5jkEjsikwoaSkFAzhMRt7...  364303589794  18.282360   \n",
       "\n",
       "                                                         min     median  \\\n",
       "14Rqw67Er4T4mDitRR5hkvDbefXUhVQGiaVV4yzgSF3sVtu...  0.877425  24.258326   \n",
       "13Wwpbanr8rMrGPBYajqDTHsScYJAVuXJwSP2hLD3nQk74Z...  0.138614   7.894181   \n",
       "14a1EcchN6gaqHzSh9u2NMuNCSzqWhxU11TWbsJG8Sn9q98...  0.458356  22.743719   \n",
       "14HzZRyju96jHNPjnk3KZFuz8scmK9q4MTJPr7bYdFEo6WY...  1.145031  20.336670   \n",
       "13H9ykhRaWw8AVEMqf7rV6Fn9fnLXxZ6G98JEdsA1gdcJKY...  0.042068   4.025210   \n",
       "13W2BQ5FxQEV4C3PR9nYEC6kywKfNYFFVmHo38UgpLxusX9...  0.167214  41.596052   \n",
       "13tz7DnGnantw8znr5341HB2Z3AJjQsXBbGi7YQc2D3BCLA...  1.712244  49.158812   \n",
       "14d7XEZJTsFRytmSuj2Ldtx8WpNnNPwawdEv6yV7C4dLwuV...  0.037010  30.595228   \n",
       "13rbdSBcshNAkLLJKiBUxzYjRnX3G551AUd1CVGqqe7HExS...  5.172055  38.508036   \n",
       "13AvzGLk4ormmqzR1UKL7tSMHv5jkEjsikwoaSkFAzhMRt7...  0.042692   2.058265   \n",
       "\n",
       "                                                           max        avg  \n",
       "14Rqw67Er4T4mDitRR5hkvDbefXUhVQGiaVV4yzgSF3sVtu...  125.326285  35.626780  \n",
       "13Wwpbanr8rMrGPBYajqDTHsScYJAVuXJwSP2hLD3nQk74Z...  125.088050  31.218113  \n",
       "14a1EcchN6gaqHzSh9u2NMuNCSzqWhxU11TWbsJG8Sn9q98...   52.904742  23.071919  \n",
       "14HzZRyju96jHNPjnk3KZFuz8scmK9q4MTJPr7bYdFEo6WY...  123.411916  31.795657  \n",
       "13H9ykhRaWw8AVEMqf7rV6Fn9fnLXxZ6G98JEdsA1gdcJKY...  253.004474  10.917996  \n",
       "13W2BQ5FxQEV4C3PR9nYEC6kywKfNYFFVmHo38UgpLxusX9...   74.032443  41.601110  \n",
       "13tz7DnGnantw8znr5341HB2Z3AJjQsXBbGi7YQc2D3BCLA...   71.502414  40.824526  \n",
       "14d7XEZJTsFRytmSuj2Ldtx8WpNnNPwawdEv6yV7C4dLwuV...   70.037491  32.093239  \n",
       "13rbdSBcshNAkLLJKiBUxzYjRnX3G551AUd1CVGqqe7HExS...   99.896502  44.385076  \n",
       "13AvzGLk4ormmqzR1UKL7tSMHv5jkEjsikwoaSkFAzhMRt7...  115.671429  11.905346  "
      ]
     },
     "execution_count": 104,
     "metadata": {},
     "output_type": "execute_result"
    }
   ],
   "source": [
    "df_weekly_swe"
   ]
  },
  {
   "cell_type": "code",
   "execution_count": 105,
   "metadata": {},
   "outputs": [
    {
     "data": {
      "text/plain": [
       "14Rqw67Er4T4mDitRR5hkvDbefXUhVQGiaVV4yzgSF3sVtu6PfU    2565.128194\n",
       "13Wwpbanr8rMrGPBYajqDTHsScYJAVuXJwSP2hLD3nQk74Zm55y     655.580376\n",
       "14a1EcchN6gaqHzSh9u2NMuNCSzqWhxU11TWbsJG8Sn9q98bkCL     576.797963\n",
       "14HzZRyju96jHNPjnk3KZFuz8scmK9q4MTJPr7bYdFEo6WYJEmM     572.321832\n",
       "13H9ykhRaWw8AVEMqf7rV6Fn9fnLXxZ6G98JEdsA1gdcJKYqQYW    4334.444504\n",
       "13W2BQ5FxQEV4C3PR9nYEC6kywKfNYFFVmHo38UgpLxusX9buCd     499.213319\n",
       "13tz7DnGnantw8znr5341HB2Z3AJjQsXBbGi7YQc2D3BCLAUMDf     367.420732\n",
       "14d7XEZJTsFRytmSuj2Ldtx8WpNnNPwawdEv6yV7C4dLwuV6FYm     160.466197\n",
       "13rbdSBcshNAkLLJKiBUxzYjRnX3G551AUd1CVGqqe7HExScDc4     266.310457\n",
       "13AvzGLk4ormmqzR1UKL7tSMHv5jkEjsikwoaSkFAzhMRt7dcB5    3643.035898\n",
       "Name: total, dtype: float64"
      ]
     },
     "execution_count": 105,
     "metadata": {},
     "output_type": "execute_result"
    }
   ],
   "source": [
    "df_weekly_swe['total']"
   ]
  },
  {
   "cell_type": "code",
   "execution_count": 106,
   "metadata": {},
   "outputs": [
    {
     "data": {
      "text/plain": [
       "14Rqw67Er4T4mDitRR5hkvDbefXUhVQGiaVV4yzgSF3sVtu6PfU     35.138742\n",
       "13Wwpbanr8rMrGPBYajqDTHsScYJAVuXJwSP2hLD3nQk74Zm55y     25.214630\n",
       "14a1EcchN6gaqHzSh9u2NMuNCSzqWhxU11TWbsJG8Sn9q98bkCL     24.033248\n",
       "14HzZRyju96jHNPjnk3KZFuz8scmK9q4MTJPr7bYdFEo6WYJEmM     27.253421\n",
       "13H9ykhRaWw8AVEMqf7rV6Fn9fnLXxZ6G98JEdsA1gdcJKYqQYW    206.402119\n",
       "13W2BQ5FxQEV4C3PR9nYEC6kywKfNYFFVmHo38UgpLxusX9buCd     41.601110\n",
       "13tz7DnGnantw8znr5341HB2Z3AJjQsXBbGi7YQc2D3BCLAUMDf     40.824526\n",
       "14d7XEZJTsFRytmSuj2Ldtx8WpNnNPwawdEv6yV7C4dLwuV6FYm     20.058275\n",
       "13rbdSBcshNAkLLJKiBUxzYjRnX3G551AUd1CVGqqe7HExScDc4     44.385076\n",
       "13AvzGLk4ormmqzR1UKL7tSMHv5jkEjsikwoaSkFAzhMRt7dcB5    728.607180\n",
       "dtype: float64"
      ]
     },
     "execution_count": 106,
     "metadata": {},
     "output_type": "execute_result"
    }
   ],
   "source": [
    "df_weekly_swe['total']/df_weekly_swe['owner']"
   ]
  },
  {
   "cell_type": "code",
   "execution_count": 107,
   "metadata": {},
   "outputs": [],
   "source": [
    "df_reward = df_reward.rename({'total':'total_hnt_alltime', 'median':'median_alltime', 'avg':'avg_alltime', 'stddev':'stddev_alltime'},axis=1)"
   ]
  },
  {
   "cell_type": "code",
   "execution_count": 108,
   "metadata": {},
   "outputs": [],
   "source": [
    "df_reward['past_week_hnt'] = df_weekly_swe['total']"
   ]
  },
  {
   "cell_type": "code",
   "execution_count": 109,
   "metadata": {},
   "outputs": [],
   "source": [
    "df_reward['past_week_hnt_per_hotspot'] = df_weekly_swe['total']/df_weekly_swe['owner']"
   ]
  },
  {
   "cell_type": "code",
   "execution_count": 110,
   "metadata": {},
   "outputs": [],
   "source": [
    "df_reward['hotspots_owned'] = df4_swe['owner'].value_counts().head(10)"
   ]
  },
  {
   "cell_type": "code",
   "execution_count": 111,
   "metadata": {},
   "outputs": [],
   "source": [
    "df_reward = df_reward.drop(['sum','min','max'],axis=1)"
   ]
  },
  {
   "cell_type": "code",
   "execution_count": 112,
   "metadata": {},
   "outputs": [
    {
     "data": {
      "text/plain": [
       "Index(['total_hnt_alltime', 'stddev_alltime', 'median_alltime', 'avg_alltime',\n",
       "       'past_week_hnt', 'past_week_hnt_per_hotspot', 'hotspots_owned'],\n",
       "      dtype='object')"
      ]
     },
     "execution_count": 112,
     "metadata": {},
     "output_type": "execute_result"
    }
   ],
   "source": [
    "df_reward.columns"
   ]
  },
  {
   "cell_type": "code",
   "execution_count": 113,
   "metadata": {},
   "outputs": [],
   "source": [
    "df_reward[['hotspots_owned','total_hnt_alltime', 'median_alltime', 'avg_alltime', 'stddev_alltime',\n",
    "       'past_week_hnt', 'past_week_hnt_per_hotspot']].to_csv('reward_per_owner.csv')"
   ]
  },
  {
   "cell_type": "code",
   "execution_count": null,
   "metadata": {},
   "outputs": [],
   "source": []
  },
  {
   "cell_type": "code",
   "execution_count": null,
   "metadata": {},
   "outputs": [],
   "source": []
  },
  {
   "cell_type": "code",
   "execution_count": null,
   "metadata": {},
   "outputs": [],
   "source": []
  }
 ],
 "metadata": {
  "kernelspec": {
   "display_name": "data-x",
   "language": "python",
   "name": "data-x"
  },
  "language_info": {
   "codemirror_mode": {
    "name": "ipython",
    "version": 3
   },
   "file_extension": ".py",
   "mimetype": "text/x-python",
   "name": "python",
   "nbconvert_exporter": "python",
   "pygments_lexer": "ipython3",
   "version": "3.7.4"
  }
 },
 "nbformat": 4,
 "nbformat_minor": 4
}
